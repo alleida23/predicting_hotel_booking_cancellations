{
 "cells": [
  {
   "cell_type": "markdown",
   "id": "905fcfae",
   "metadata": {},
   "source": [
    "# Predicting Hotel Booking Cancellations\n",
    "### Cleaning data and Exploratory Data Analysis (EDA)\n",
    "This kernel places a strong emphasis on foundational data preparation steps, ensuring dataset quality and readiness for analysis. It involves addressing missing data, optimizing data types, engineering new features, and resolving inconsistencies. These efforts set the stage for a comprehensive exploratory analysis (EDA) to uncover trends and insights related to confirmed bookings, making use of various new visualization techniques, including choropleth maps.\n",
    "\n",
    "In the following kernel, **2. Data Preprocessing and Predictive Modeling with Classification Algorithms**, we will progress to data preprocessing and predictive modeling. In this phase, we will employ a range of classification algorithms to forecast booking cancellations, ultimately selecting the most accurate model through rigorous evaluation."
   ]
  },
  {
   "cell_type": "code",
   "execution_count": 1,
   "id": "7b72779b",
   "metadata": {},
   "outputs": [],
   "source": [
    "# Import necessary libraries\n",
    "import pandas as pd\n",
    "import numpy as np\n",
    "import seaborn as sns\n",
    "import matplotlib.pyplot as plt\n",
    "from IPython.display import Markdown, display"
   ]
  },
  {
   "cell_type": "markdown",
   "id": "9dd09446",
   "metadata": {},
   "source": [
    "### 1. Import data"
   ]
  },
  {
   "cell_type": "code",
   "execution_count": 2,
   "id": "aab824e2",
   "metadata": {},
   "outputs": [
    {
     "data": {
      "text/html": [
       "<div>\n",
       "<style scoped>\n",
       "    .dataframe tbody tr th:only-of-type {\n",
       "        vertical-align: middle;\n",
       "    }\n",
       "\n",
       "    .dataframe tbody tr th {\n",
       "        vertical-align: top;\n",
       "    }\n",
       "\n",
       "    .dataframe thead th {\n",
       "        text-align: right;\n",
       "    }\n",
       "</style>\n",
       "<table border=\"1\" class=\"dataframe\">\n",
       "  <thead>\n",
       "    <tr style=\"text-align: right;\">\n",
       "      <th></th>\n",
       "      <th>hotel</th>\n",
       "      <th>is_canceled</th>\n",
       "      <th>lead_time</th>\n",
       "      <th>arrival_date_year</th>\n",
       "      <th>arrival_date_month</th>\n",
       "      <th>arrival_date_week_number</th>\n",
       "      <th>arrival_date_day_of_month</th>\n",
       "      <th>stays_in_weekend_nights</th>\n",
       "      <th>stays_in_week_nights</th>\n",
       "      <th>adults</th>\n",
       "      <th>children</th>\n",
       "      <th>babies</th>\n",
       "      <th>meal</th>\n",
       "      <th>country</th>\n",
       "      <th>market_segment</th>\n",
       "      <th>distribution_channel</th>\n",
       "      <th>is_repeated_guest</th>\n",
       "      <th>previous_cancellations</th>\n",
       "      <th>previous_bookings_not_canceled</th>\n",
       "      <th>reserved_room_type</th>\n",
       "      <th>assigned_room_type</th>\n",
       "      <th>booking_changes</th>\n",
       "      <th>deposit_type</th>\n",
       "      <th>agent</th>\n",
       "      <th>company</th>\n",
       "      <th>days_in_waiting_list</th>\n",
       "      <th>customer_type</th>\n",
       "      <th>adr</th>\n",
       "      <th>required_car_parking_spaces</th>\n",
       "      <th>total_of_special_requests</th>\n",
       "      <th>reservation_status</th>\n",
       "      <th>reservation_status_date</th>\n",
       "    </tr>\n",
       "  </thead>\n",
       "  <tbody>\n",
       "    <tr>\n",
       "      <th>0</th>\n",
       "      <td>Resort Hotel</td>\n",
       "      <td>0</td>\n",
       "      <td>342</td>\n",
       "      <td>2015</td>\n",
       "      <td>July</td>\n",
       "      <td>27</td>\n",
       "      <td>1</td>\n",
       "      <td>0</td>\n",
       "      <td>0</td>\n",
       "      <td>2</td>\n",
       "      <td>0.0</td>\n",
       "      <td>0</td>\n",
       "      <td>BB</td>\n",
       "      <td>PRT</td>\n",
       "      <td>Direct</td>\n",
       "      <td>Direct</td>\n",
       "      <td>0</td>\n",
       "      <td>0</td>\n",
       "      <td>0</td>\n",
       "      <td>C</td>\n",
       "      <td>C</td>\n",
       "      <td>3</td>\n",
       "      <td>No Deposit</td>\n",
       "      <td>NaN</td>\n",
       "      <td>NaN</td>\n",
       "      <td>0</td>\n",
       "      <td>Transient</td>\n",
       "      <td>0.0</td>\n",
       "      <td>0</td>\n",
       "      <td>0</td>\n",
       "      <td>Check-Out</td>\n",
       "      <td>7/1/2015</td>\n",
       "    </tr>\n",
       "    <tr>\n",
       "      <th>1</th>\n",
       "      <td>Resort Hotel</td>\n",
       "      <td>0</td>\n",
       "      <td>737</td>\n",
       "      <td>2015</td>\n",
       "      <td>July</td>\n",
       "      <td>27</td>\n",
       "      <td>1</td>\n",
       "      <td>0</td>\n",
       "      <td>0</td>\n",
       "      <td>2</td>\n",
       "      <td>0.0</td>\n",
       "      <td>0</td>\n",
       "      <td>BB</td>\n",
       "      <td>PRT</td>\n",
       "      <td>Direct</td>\n",
       "      <td>Direct</td>\n",
       "      <td>0</td>\n",
       "      <td>0</td>\n",
       "      <td>0</td>\n",
       "      <td>C</td>\n",
       "      <td>C</td>\n",
       "      <td>4</td>\n",
       "      <td>No Deposit</td>\n",
       "      <td>NaN</td>\n",
       "      <td>NaN</td>\n",
       "      <td>0</td>\n",
       "      <td>Transient</td>\n",
       "      <td>0.0</td>\n",
       "      <td>0</td>\n",
       "      <td>0</td>\n",
       "      <td>Check-Out</td>\n",
       "      <td>7/1/2015</td>\n",
       "    </tr>\n",
       "    <tr>\n",
       "      <th>2</th>\n",
       "      <td>Resort Hotel</td>\n",
       "      <td>0</td>\n",
       "      <td>7</td>\n",
       "      <td>2015</td>\n",
       "      <td>July</td>\n",
       "      <td>27</td>\n",
       "      <td>1</td>\n",
       "      <td>0</td>\n",
       "      <td>1</td>\n",
       "      <td>1</td>\n",
       "      <td>0.0</td>\n",
       "      <td>0</td>\n",
       "      <td>BB</td>\n",
       "      <td>GBR</td>\n",
       "      <td>Direct</td>\n",
       "      <td>Direct</td>\n",
       "      <td>0</td>\n",
       "      <td>0</td>\n",
       "      <td>0</td>\n",
       "      <td>A</td>\n",
       "      <td>C</td>\n",
       "      <td>0</td>\n",
       "      <td>No Deposit</td>\n",
       "      <td>NaN</td>\n",
       "      <td>NaN</td>\n",
       "      <td>0</td>\n",
       "      <td>Transient</td>\n",
       "      <td>75.0</td>\n",
       "      <td>0</td>\n",
       "      <td>0</td>\n",
       "      <td>Check-Out</td>\n",
       "      <td>7/2/2015</td>\n",
       "    </tr>\n",
       "    <tr>\n",
       "      <th>3</th>\n",
       "      <td>Resort Hotel</td>\n",
       "      <td>0</td>\n",
       "      <td>13</td>\n",
       "      <td>2015</td>\n",
       "      <td>July</td>\n",
       "      <td>27</td>\n",
       "      <td>1</td>\n",
       "      <td>0</td>\n",
       "      <td>1</td>\n",
       "      <td>1</td>\n",
       "      <td>0.0</td>\n",
       "      <td>0</td>\n",
       "      <td>BB</td>\n",
       "      <td>GBR</td>\n",
       "      <td>Corporate</td>\n",
       "      <td>Corporate</td>\n",
       "      <td>0</td>\n",
       "      <td>0</td>\n",
       "      <td>0</td>\n",
       "      <td>A</td>\n",
       "      <td>A</td>\n",
       "      <td>0</td>\n",
       "      <td>No Deposit</td>\n",
       "      <td>304.0</td>\n",
       "      <td>NaN</td>\n",
       "      <td>0</td>\n",
       "      <td>Transient</td>\n",
       "      <td>75.0</td>\n",
       "      <td>0</td>\n",
       "      <td>0</td>\n",
       "      <td>Check-Out</td>\n",
       "      <td>7/2/2015</td>\n",
       "    </tr>\n",
       "    <tr>\n",
       "      <th>4</th>\n",
       "      <td>Resort Hotel</td>\n",
       "      <td>0</td>\n",
       "      <td>14</td>\n",
       "      <td>2015</td>\n",
       "      <td>July</td>\n",
       "      <td>27</td>\n",
       "      <td>1</td>\n",
       "      <td>0</td>\n",
       "      <td>2</td>\n",
       "      <td>2</td>\n",
       "      <td>0.0</td>\n",
       "      <td>0</td>\n",
       "      <td>BB</td>\n",
       "      <td>GBR</td>\n",
       "      <td>Online TA</td>\n",
       "      <td>TA/TO</td>\n",
       "      <td>0</td>\n",
       "      <td>0</td>\n",
       "      <td>0</td>\n",
       "      <td>A</td>\n",
       "      <td>A</td>\n",
       "      <td>0</td>\n",
       "      <td>No Deposit</td>\n",
       "      <td>240.0</td>\n",
       "      <td>NaN</td>\n",
       "      <td>0</td>\n",
       "      <td>Transient</td>\n",
       "      <td>98.0</td>\n",
       "      <td>0</td>\n",
       "      <td>1</td>\n",
       "      <td>Check-Out</td>\n",
       "      <td>7/3/2015</td>\n",
       "    </tr>\n",
       "  </tbody>\n",
       "</table>\n",
       "</div>"
      ],
      "text/plain": [
       "          hotel  is_canceled  lead_time  arrival_date_year arrival_date_month  \\\n",
       "0  Resort Hotel            0        342               2015               July   \n",
       "1  Resort Hotel            0        737               2015               July   \n",
       "2  Resort Hotel            0          7               2015               July   \n",
       "3  Resort Hotel            0         13               2015               July   \n",
       "4  Resort Hotel            0         14               2015               July   \n",
       "\n",
       "   arrival_date_week_number  arrival_date_day_of_month  \\\n",
       "0                        27                          1   \n",
       "1                        27                          1   \n",
       "2                        27                          1   \n",
       "3                        27                          1   \n",
       "4                        27                          1   \n",
       "\n",
       "   stays_in_weekend_nights  stays_in_week_nights  adults  children  babies  \\\n",
       "0                        0                     0       2       0.0       0   \n",
       "1                        0                     0       2       0.0       0   \n",
       "2                        0                     1       1       0.0       0   \n",
       "3                        0                     1       1       0.0       0   \n",
       "4                        0                     2       2       0.0       0   \n",
       "\n",
       "  meal country market_segment distribution_channel  is_repeated_guest  \\\n",
       "0   BB     PRT         Direct               Direct                  0   \n",
       "1   BB     PRT         Direct               Direct                  0   \n",
       "2   BB     GBR         Direct               Direct                  0   \n",
       "3   BB     GBR      Corporate            Corporate                  0   \n",
       "4   BB     GBR      Online TA                TA/TO                  0   \n",
       "\n",
       "   previous_cancellations  previous_bookings_not_canceled reserved_room_type  \\\n",
       "0                       0                               0                  C   \n",
       "1                       0                               0                  C   \n",
       "2                       0                               0                  A   \n",
       "3                       0                               0                  A   \n",
       "4                       0                               0                  A   \n",
       "\n",
       "  assigned_room_type  booking_changes deposit_type  agent  company  \\\n",
       "0                  C                3   No Deposit    NaN      NaN   \n",
       "1                  C                4   No Deposit    NaN      NaN   \n",
       "2                  C                0   No Deposit    NaN      NaN   \n",
       "3                  A                0   No Deposit  304.0      NaN   \n",
       "4                  A                0   No Deposit  240.0      NaN   \n",
       "\n",
       "   days_in_waiting_list customer_type   adr  required_car_parking_spaces  \\\n",
       "0                     0     Transient   0.0                            0   \n",
       "1                     0     Transient   0.0                            0   \n",
       "2                     0     Transient  75.0                            0   \n",
       "3                     0     Transient  75.0                            0   \n",
       "4                     0     Transient  98.0                            0   \n",
       "\n",
       "   total_of_special_requests reservation_status reservation_status_date  \n",
       "0                          0          Check-Out                7/1/2015  \n",
       "1                          0          Check-Out                7/1/2015  \n",
       "2                          0          Check-Out                7/2/2015  \n",
       "3                          0          Check-Out                7/2/2015  \n",
       "4                          1          Check-Out                7/3/2015  "
      ]
     },
     "metadata": {},
     "output_type": "display_data"
    },
    {
     "data": {
      "text/plain": [
       "(119390, 32)"
      ]
     },
     "metadata": {},
     "output_type": "display_data"
    },
    {
     "data": {
      "text/plain": [
       "Index(['hotel', 'is_canceled', 'lead_time', 'arrival_date_year',\n",
       "       'arrival_date_month', 'arrival_date_week_number',\n",
       "       'arrival_date_day_of_month', 'stays_in_weekend_nights',\n",
       "       'stays_in_week_nights', 'adults', 'children', 'babies', 'meal',\n",
       "       'country', 'market_segment', 'distribution_channel',\n",
       "       'is_repeated_guest', 'previous_cancellations',\n",
       "       'previous_bookings_not_canceled', 'reserved_room_type',\n",
       "       'assigned_room_type', 'booking_changes', 'deposit_type', 'agent',\n",
       "       'company', 'days_in_waiting_list', 'customer_type', 'adr',\n",
       "       'required_car_parking_spaces', 'total_of_special_requests',\n",
       "       'reservation_status', 'reservation_status_date'],\n",
       "      dtype='object')"
      ]
     },
     "metadata": {},
     "output_type": "display_data"
    }
   ],
   "source": [
    "# Import data from csv file\n",
    "df = pd.read_csv(\"./Datasets/hotel_bookings.csv\")\n",
    "\n",
    "# Set the maximum number of columns to display to None\n",
    "pd.options.display.max_columns = None\n",
    "\n",
    "display(df.head(), df.shape, df.columns)"
   ]
  },
  {
   "cell_type": "markdown",
   "id": "a406a301",
   "metadata": {},
   "source": [
    "### 2. Data Cleaning & Wrangling"
   ]
  },
  {
   "cell_type": "markdown",
   "id": "f12add19",
   "metadata": {},
   "source": [
    "In the upcoming section, we will focus on ensuring the dataset's quality and readiness for analysis. This includes handling missing data, converting data types for better analysis, and engineering new features. We'll address inconsistencies in booking information and zero 'ADR' values for confirmed bookings. Additionally, we'll introduce a new feature, 'weekend_or_weekday,' and reorganize columns for improved readability. The final cleaned dataset will be prepared for further exploratory analysis and modeling."
   ]
  },
  {
   "cell_type": "markdown",
   "id": "8acf80b4",
   "metadata": {},
   "source": [
    "#### Handling Missing or Null Data"
   ]
  },
  {
   "cell_type": "code",
   "execution_count": 3,
   "id": "aa94bda9",
   "metadata": {},
   "outputs": [
    {
     "data": {
      "text/plain": [
       "hotel                                  0\n",
       "is_canceled                            0\n",
       "lead_time                              0\n",
       "arrival_date_year                      0\n",
       "arrival_date_month                     0\n",
       "arrival_date_week_number               0\n",
       "arrival_date_day_of_month              0\n",
       "stays_in_weekend_nights                0\n",
       "stays_in_week_nights                   0\n",
       "adults                                 0\n",
       "children                               4\n",
       "babies                                 0\n",
       "meal                                   0\n",
       "country                              488\n",
       "market_segment                         0\n",
       "distribution_channel                   0\n",
       "is_repeated_guest                      0\n",
       "previous_cancellations                 0\n",
       "previous_bookings_not_canceled         0\n",
       "reserved_room_type                     0\n",
       "assigned_room_type                     0\n",
       "booking_changes                        0\n",
       "deposit_type                           0\n",
       "agent                              16340\n",
       "company                           112593\n",
       "days_in_waiting_list                   0\n",
       "customer_type                          0\n",
       "adr                                    0\n",
       "required_car_parking_spaces            0\n",
       "total_of_special_requests              0\n",
       "reservation_status                     0\n",
       "reservation_status_date                0\n",
       "dtype: int64"
      ]
     },
     "execution_count": 3,
     "metadata": {},
     "output_type": "execute_result"
    }
   ],
   "source": [
    "# Check for missing values in the DataFrame\n",
    "df.isnull().sum()"
   ]
  },
  {
   "cell_type": "code",
   "execution_count": 4,
   "id": "03f10edf",
   "metadata": {},
   "outputs": [
    {
     "data": {
      "text/plain": [
       "Index(['children', 'country', 'agent', 'company'], dtype='object')"
      ]
     },
     "execution_count": 4,
     "metadata": {},
     "output_type": "execute_result"
    }
   ],
   "source": [
    "# Select columns with presence of null values\n",
    "cols_with_nulls = df.columns[df.isnull().sum() != 0]\n",
    "cols_with_nulls"
   ]
  },
  {
   "cell_type": "markdown",
   "id": "af33073c",
   "metadata": {},
   "source": [
    "In this section, we will address the issue of missing values using three distinct approaches:\n",
    "\n",
    "    - Removing the 'agent' and 'company' columns: These columns will be dropped from the dataset due to the high number of NaN values they contain.\n",
    "\n",
    "    - Imputing missing values in the 'children' column: We will replace the four missing values in the 'children' column with the most frequent value found in that variable.\n",
    "\n",
    "    - Utilizing a Random Forest Classifier for predicting and filling the 488 null entries in the 'country' column."
   ]
  },
  {
   "cell_type": "markdown",
   "id": "1097cd4b",
   "metadata": {},
   "source": [
    "##### Agent & Company"
   ]
  },
  {
   "cell_type": "code",
   "execution_count": 5,
   "id": "ce706668",
   "metadata": {},
   "outputs": [],
   "source": [
    "# Drop 'agent' and 'company' columns due to high NaN counts\n",
    "df.drop(['agent', 'company'], axis=1,inplace=True)"
   ]
  },
  {
   "cell_type": "markdown",
   "id": "8ccdff87",
   "metadata": {},
   "source": [
    "##### Children"
   ]
  },
  {
   "cell_type": "code",
   "execution_count": 6,
   "id": "e4f72957",
   "metadata": {},
   "outputs": [
    {
     "data": {
      "text/markdown": [
       "Value counts of 'children' column:"
      ],
      "text/plain": [
       "<IPython.core.display.Markdown object>"
      ]
     },
     "metadata": {},
     "output_type": "display_data"
    },
    {
     "data": {
      "text/plain": [
       "0.0     110796\n",
       "1.0       4861\n",
       "2.0       3652\n",
       "3.0         76\n",
       "10.0         1\n",
       "Name: children, dtype: int64"
      ]
     },
     "metadata": {},
     "output_type": "display_data"
    },
    {
     "data": {
      "text/markdown": [
       "\n",
       "Most frequent value for 'children' is: 0.0"
      ],
      "text/plain": [
       "<IPython.core.display.Markdown object>"
      ]
     },
     "metadata": {},
     "output_type": "display_data"
    }
   ],
   "source": [
    "# Display value counts of 'children' column\n",
    "display(Markdown(\"Value counts of 'children' column:\"))\n",
    "display(df['children'].value_counts())\n",
    "\n",
    "# Find and display the most frequent value in the 'children' column\n",
    "most_frequent_value = df['children'].value_counts().index[0]\n",
    "display(Markdown(f\"\\nMost frequent value for 'children' is: {most_frequent_value}\"))\n",
    "\n",
    "# Fill NaN values in 'children' column with the most frequent value\n",
    "df['children'].fillna(most_frequent_value, inplace=True)"
   ]
  },
  {
   "cell_type": "markdown",
   "id": "c83db0e3",
   "metadata": {},
   "source": [
    "##### Country"
   ]
  },
  {
   "cell_type": "code",
   "execution_count": 7,
   "id": "186b5589",
   "metadata": {},
   "outputs": [
    {
     "data": {
      "text/plain": [
       "PRT    48590\n",
       "GBR    12129\n",
       "FRA    10415\n",
       "ESP     8568\n",
       "DEU     7287\n",
       "       ...  \n",
       "DJI        1\n",
       "BWA        1\n",
       "HND        1\n",
       "VGB        1\n",
       "NAM        1\n",
       "Name: country, Length: 177, dtype: int64"
      ]
     },
     "execution_count": 7,
     "metadata": {},
     "output_type": "execute_result"
    }
   ],
   "source": [
    "# Value counts for 'country' variable\n",
    "df['country'].value_counts()"
   ]
  },
  {
   "cell_type": "code",
   "execution_count": 8,
   "id": "e3146453",
   "metadata": {},
   "outputs": [],
   "source": [
    "# Import required libraries to label categorical columns, train and prepare the predicting model\n",
    "from sklearn.preprocessing import LabelEncoder\n",
    "from sklearn.model_selection import train_test_split\n",
    "from sklearn.ensemble import RandomForestClassifier"
   ]
  },
  {
   "cell_type": "code",
   "execution_count": 9,
   "id": "cc3c0430",
   "metadata": {},
   "outputs": [],
   "source": [
    "# Create a copy of the original DataFrame 'df' to preserve the original data\n",
    "df_encoded = df.copy()"
   ]
  },
  {
   "cell_type": "code",
   "execution_count": 10,
   "id": "ff11f8fc",
   "metadata": {},
   "outputs": [],
   "source": [
    "# Initialize a LabelEncoder to encode categorical columns\n",
    "label_encoder = LabelEncoder()"
   ]
  },
  {
   "cell_type": "code",
   "execution_count": 11,
   "id": "2dde1f7d",
   "metadata": {},
   "outputs": [],
   "source": [
    "# Define a lambda function to identify categorical columns\n",
    "is_categorical = lambda col: df_encoded[col].dtype == 'object'\n",
    "\n",
    "# Use the lambda function to filter and generate a list of categorical columns\n",
    "categorical_columns = [col for col in df_encoded.columns if is_categorical(col)]"
   ]
  },
  {
   "cell_type": "code",
   "execution_count": 12,
   "id": "a7f2a477",
   "metadata": {},
   "outputs": [],
   "source": [
    "# Remove 'country' variable from the list of categorical columns to prevent label encoding\n",
    "categorical_columns.remove('country')\n",
    "\n",
    "# Apply label encoding to each categorical column in the DataFrame\n",
    "for col in categorical_columns:\n",
    "    # Initialize and fit LabelEncoder for the current column\n",
    "    label_encoder.fit(df_encoded[col])\n",
    "    \n",
    "    # Transform and replace the column with encoded values\n",
    "    df_encoded[col] = label_encoder.transform(df_encoded[col])"
   ]
  },
  {
   "cell_type": "code",
   "execution_count": 13,
   "id": "600c6e2b",
   "metadata": {},
   "outputs": [
    {
     "data": {
      "text/plain": [
       "hotel                               0\n",
       "is_canceled                         0\n",
       "lead_time                           0\n",
       "arrival_date_year                   0\n",
       "arrival_date_month                  0\n",
       "arrival_date_week_number            0\n",
       "arrival_date_day_of_month           0\n",
       "stays_in_weekend_nights             0\n",
       "stays_in_week_nights                0\n",
       "adults                              0\n",
       "children                            0\n",
       "babies                              0\n",
       "meal                                0\n",
       "country                           488\n",
       "market_segment                      0\n",
       "distribution_channel                0\n",
       "is_repeated_guest                   0\n",
       "previous_cancellations              0\n",
       "previous_bookings_not_canceled      0\n",
       "reserved_room_type                  0\n",
       "assigned_room_type                  0\n",
       "booking_changes                     0\n",
       "deposit_type                        0\n",
       "days_in_waiting_list                0\n",
       "customer_type                       0\n",
       "adr                                 0\n",
       "required_car_parking_spaces         0\n",
       "total_of_special_requests           0\n",
       "reservation_status                  0\n",
       "reservation_status_date             0\n",
       "dtype: int64"
      ]
     },
     "execution_count": 13,
     "metadata": {},
     "output_type": "execute_result"
    }
   ],
   "source": [
    "# Check for missing values in the encoded DataFrame\n",
    "df_encoded.isnull().sum()"
   ]
  },
  {
   "cell_type": "code",
   "execution_count": 14,
   "id": "140fe2bc",
   "metadata": {},
   "outputs": [],
   "source": [
    "# Divide the dataset into two subsets: one with known 'country' values\n",
    "# and the other with missing or NaN 'country' values.\n",
    "known_country_data = df_encoded[df_encoded['country'].notnull()]\n",
    "unknown_country_data = df_encoded[df_encoded['country'].isnull()]"
   ]
  },
  {
   "cell_type": "code",
   "execution_count": 15,
   "id": "b3b83faf",
   "metadata": {},
   "outputs": [],
   "source": [
    "# Split the dataset with known 'country' values into features (X) and the target variable (y)\n",
    "X = known_country_data.drop('country', axis=1)\n",
    "y = known_country_data['country']"
   ]
  },
  {
   "cell_type": "code",
   "execution_count": 16,
   "id": "ffacd8c2",
   "metadata": {},
   "outputs": [],
   "source": [
    "# Split data into training and validation sets\n",
    "X_train, X_val, y_train, y_val = train_test_split(X, y, test_size=0.2, random_state=42)"
   ]
  },
  {
   "cell_type": "code",
   "execution_count": 17,
   "id": "6db96dbb",
   "metadata": {},
   "outputs": [],
   "source": [
    "# Initialize the RandomForestClassifier\n",
    "model = RandomForestClassifier()\n",
    "\n",
    "# Train the model on the known 'country' data\n",
    "model.fit(X_train, y_train)\n",
    "\n",
    "# Predict the missing 'country' values for the data with NaN values\n",
    "predicted_countries = model.predict(unknown_country_data.drop('country', axis=1))"
   ]
  },
  {
   "cell_type": "code",
   "execution_count": 18,
   "id": "54934c37",
   "metadata": {},
   "outputs": [
    {
     "name": "stdout",
     "output_type": "stream",
     "text": [
      "Country CHN: 1\n",
      "Country ESP: 6\n",
      "Country FRA: 1\n",
      "Country GBR: 9\n",
      "Country GEO: 1\n",
      "Country IRL: 3\n",
      "Country PRT: 466\n",
      "Country RUS: 1\n"
     ]
    }
   ],
   "source": [
    "# Calculate the unique predicted 'country' values and their counts\n",
    "unique_values, counts = np.unique(predicted_countries, return_counts=True)\n",
    "\n",
    "# Print the unique predicted 'country' values and their counts\n",
    "for value, count in zip(unique_values, counts):\n",
    "    print(f\"Country {value}: {count}\")"
   ]
  },
  {
   "cell_type": "code",
   "execution_count": 19,
   "id": "055e0db7",
   "metadata": {},
   "outputs": [
    {
     "data": {
      "text/plain": [
       "True"
      ]
     },
     "execution_count": 19,
     "metadata": {},
     "output_type": "execute_result"
    }
   ],
   "source": [
    "# Check if the total count of predicted countries matches the count of null values in df['country']\n",
    "df['country'].isnull().sum() == counts.sum()"
   ]
  },
  {
   "cell_type": "code",
   "execution_count": 20,
   "id": "b767a39e",
   "metadata": {},
   "outputs": [],
   "source": [
    "# Fill the missing 'country' values in original DataFrame using the predicted countries from the model\n",
    "df.loc[df['country'].isnull(), 'country'] = predicted_countries"
   ]
  },
  {
   "cell_type": "code",
   "execution_count": 21,
   "id": "f2058b6b",
   "metadata": {},
   "outputs": [
    {
     "data": {
      "text/markdown": [
       "Missing values in the dataframe: 0"
      ],
      "text/plain": [
       "<IPython.core.display.Markdown object>"
      ]
     },
     "metadata": {},
     "output_type": "display_data"
    }
   ],
   "source": [
    "# Check if there are any remaining NaN values\n",
    "display(Markdown('Missing values in the dataframe: {}'.format(df.isnull().sum().sum())))"
   ]
  },
  {
   "cell_type": "markdown",
   "id": "cd43efc9",
   "metadata": {},
   "source": [
    "#### Inconsistent Data (I)\n",
    "In the context of hotel bookings, it's imperative to maintain data consistency. Reservations should always involve at least one guest, whether it be an adult, child, or baby. Therefore, any entries where the total count of 'Adults,' 'Children,' and 'Babies' sums to zero will be considered inconsistent and removed from the dataset to ensure data quality."
   ]
  },
  {
   "cell_type": "code",
   "execution_count": 22,
   "id": "eaee2607",
   "metadata": {},
   "outputs": [
    {
     "data": {
      "text/html": [
       "<div>\n",
       "<style scoped>\n",
       "    .dataframe tbody tr th:only-of-type {\n",
       "        vertical-align: middle;\n",
       "    }\n",
       "\n",
       "    .dataframe tbody tr th {\n",
       "        vertical-align: top;\n",
       "    }\n",
       "\n",
       "    .dataframe thead th {\n",
       "        text-align: right;\n",
       "    }\n",
       "</style>\n",
       "<table border=\"1\" class=\"dataframe\">\n",
       "  <thead>\n",
       "    <tr style=\"text-align: right;\">\n",
       "      <th></th>\n",
       "      <th>hotel</th>\n",
       "      <th>adults</th>\n",
       "      <th>children</th>\n",
       "      <th>babies</th>\n",
       "    </tr>\n",
       "  </thead>\n",
       "  <tbody>\n",
       "    <tr>\n",
       "      <th>2224</th>\n",
       "      <td>Resort Hotel</td>\n",
       "      <td>0</td>\n",
       "      <td>0.0</td>\n",
       "      <td>0</td>\n",
       "    </tr>\n",
       "    <tr>\n",
       "      <th>2409</th>\n",
       "      <td>Resort Hotel</td>\n",
       "      <td>0</td>\n",
       "      <td>0.0</td>\n",
       "      <td>0</td>\n",
       "    </tr>\n",
       "    <tr>\n",
       "      <th>3181</th>\n",
       "      <td>Resort Hotel</td>\n",
       "      <td>0</td>\n",
       "      <td>0.0</td>\n",
       "      <td>0</td>\n",
       "    </tr>\n",
       "    <tr>\n",
       "      <th>3684</th>\n",
       "      <td>Resort Hotel</td>\n",
       "      <td>0</td>\n",
       "      <td>0.0</td>\n",
       "      <td>0</td>\n",
       "    </tr>\n",
       "    <tr>\n",
       "      <th>3708</th>\n",
       "      <td>Resort Hotel</td>\n",
       "      <td>0</td>\n",
       "      <td>0.0</td>\n",
       "      <td>0</td>\n",
       "    </tr>\n",
       "  </tbody>\n",
       "</table>\n",
       "</div>"
      ],
      "text/plain": [
       "             hotel  adults  children  babies\n",
       "2224  Resort Hotel       0       0.0       0\n",
       "2409  Resort Hotel       0       0.0       0\n",
       "3181  Resort Hotel       0       0.0       0\n",
       "3684  Resort Hotel       0       0.0       0\n",
       "3708  Resort Hotel       0       0.0       0"
      ]
     },
     "metadata": {},
     "output_type": "display_data"
    },
    {
     "data": {
      "text/plain": [
       "(180, 30)"
      ]
     },
     "metadata": {},
     "output_type": "display_data"
    }
   ],
   "source": [
    "# Define filter criteria\n",
    "filter1 = (df['children']==0) & (df['adults']==0) & (df['babies']==0)\n",
    "\n",
    "# # Display relevant columns for filtered rows\n",
    "display(df[['hotel', 'adults','children','babies']][filter1].head(), df[filter1].shape)"
   ]
  },
  {
   "cell_type": "code",
   "execution_count": 23,
   "id": "60847296",
   "metadata": {},
   "outputs": [
    {
     "name": "stdout",
     "output_type": "stream",
     "text": [
      "Data shape after dropping rows with zero total guests: (119210, 30)\n"
     ]
    }
   ],
   "source": [
    "# Drop rows where the total number of customers is zero\n",
    "df = df[~filter1]\n",
    "\n",
    "# Display the updated data shape\n",
    "print('Data shape after dropping rows with zero total guests:', df.shape)"
   ]
  },
  {
   "cell_type": "markdown",
   "id": "85e66964",
   "metadata": {},
   "source": [
    "#### Column types"
   ]
  },
  {
   "cell_type": "code",
   "execution_count": 24,
   "id": "f1b96128",
   "metadata": {},
   "outputs": [
    {
     "data": {
      "text/plain": [
       "hotel                              object\n",
       "is_canceled                         int64\n",
       "lead_time                           int64\n",
       "arrival_date_year                   int64\n",
       "arrival_date_month                 object\n",
       "arrival_date_week_number            int64\n",
       "arrival_date_day_of_month           int64\n",
       "stays_in_weekend_nights             int64\n",
       "stays_in_week_nights                int64\n",
       "adults                              int64\n",
       "children                          float64\n",
       "babies                              int64\n",
       "meal                               object\n",
       "country                            object\n",
       "market_segment                     object\n",
       "distribution_channel               object\n",
       "is_repeated_guest                   int64\n",
       "previous_cancellations              int64\n",
       "previous_bookings_not_canceled      int64\n",
       "reserved_room_type                 object\n",
       "assigned_room_type                 object\n",
       "booking_changes                     int64\n",
       "deposit_type                       object\n",
       "days_in_waiting_list                int64\n",
       "customer_type                      object\n",
       "adr                               float64\n",
       "required_car_parking_spaces         int64\n",
       "total_of_special_requests           int64\n",
       "reservation_status                 object\n",
       "reservation_status_date            object\n",
       "dtype: object"
      ]
     },
     "execution_count": 24,
     "metadata": {},
     "output_type": "execute_result"
    }
   ],
   "source": [
    "# Check the data types of each column in the DataFrame\n",
    "df.dtypes"
   ]
  },
  {
   "cell_type": "markdown",
   "id": "3d89bcb3",
   "metadata": {},
   "source": [
    "##### Is canceled\n",
    "To enhance visualization during exploratory data analysis, we will now convert the 'is_canceled' column into categorical values, specifically 'No' and 'Yes.'"
   ]
  },
  {
   "cell_type": "code",
   "execution_count": 25,
   "id": "2a08dc96",
   "metadata": {},
   "outputs": [
    {
     "data": {
      "text/markdown": [
       "Updated 'is_canceled' column:"
      ],
      "text/plain": [
       "<IPython.core.display.Markdown object>"
      ]
     },
     "metadata": {},
     "output_type": "display_data"
    },
    {
     "data": {
      "text/plain": [
       "0    No\n",
       "1    No\n",
       "2    No\n",
       "3    No\n",
       "4    No\n",
       "Name: is_canceled, dtype: object"
      ]
     },
     "metadata": {},
     "output_type": "display_data"
    },
    {
     "data": {
      "text/plain": [
       "dtype('O')"
      ]
     },
     "metadata": {},
     "output_type": "display_data"
    }
   ],
   "source": [
    "# Define a mapping dictionary: Map 0 to 'No' and 1 to 'Yes' \n",
    "is_canceled_mapping = {0: 'No', 1: 'Yes'}\n",
    "\n",
    "# Replace values in the 'is_canceled' column using the defined mapping\n",
    "df['is_canceled'] = df['is_canceled'].map(is_canceled_mapping)\n",
    "\n",
    "# Display the first few rows of the 'is_canceled' column and its data type\n",
    "display(Markdown(\"Updated 'is_canceled' column:\"))\n",
    "display(df['is_canceled'].head(), df['is_canceled'].dtype)"
   ]
  },
  {
   "cell_type": "markdown",
   "id": "df0bef6b",
   "metadata": {},
   "source": [
    "##### Children"
   ]
  },
  {
   "cell_type": "code",
   "execution_count": 26,
   "id": "cf18a87e",
   "metadata": {},
   "outputs": [
    {
     "data": {
      "text/plain": [
       "dtype('int64')"
      ]
     },
     "execution_count": 26,
     "metadata": {},
     "output_type": "execute_result"
    }
   ],
   "source": [
    "# Change data type of 'children' column to integer\n",
    "df['children'] = df['children'].astype(int)\n",
    "\n",
    "# Check the updated data type of the 'children' column\n",
    "df['children'].dtypes"
   ]
  },
  {
   "cell_type": "markdown",
   "id": "f2b27863",
   "metadata": {},
   "source": [
    "##### Reservation Status Date"
   ]
  },
  {
   "cell_type": "code",
   "execution_count": 27,
   "id": "ae3bf52b",
   "metadata": {},
   "outputs": [
    {
     "data": {
      "text/plain": [
       "dtype('<M8[ns]')"
      ]
     },
     "execution_count": 27,
     "metadata": {},
     "output_type": "execute_result"
    }
   ],
   "source": [
    "# Convert 'reservation_status_date' to datetime format\n",
    "df['reservation_status_date'] = pd.to_datetime(df['reservation_status_date'], format='%m/%d/%Y')\n",
    "\n",
    "# Check the updated data type of the 'reservation_status_date' column\n",
    "df['reservation_status_date'].dtypes"
   ]
  },
  {
   "cell_type": "markdown",
   "id": "c79343ee",
   "metadata": {},
   "source": [
    "#### New columns: 'Arrival Date Month Num', 'Check-in date', 'Total Guests' and 'Total Nights'\n",
    "To expand our dataset, we're introducing additional columns that provide extra insights beyond the original dataframe."
   ]
  },
  {
   "cell_type": "markdown",
   "id": "2b565d7d",
   "metadata": {},
   "source": [
    "##### Arrival Date Month Num"
   ]
  },
  {
   "cell_type": "code",
   "execution_count": 28,
   "id": "32888237",
   "metadata": {},
   "outputs": [],
   "source": [
    "# Define the mapping from month names to numbers\n",
    "month_mapping = {\n",
    "    'January': 1, 'February': 2, 'March': 3, 'April': 4, 'May': 5, 'June': 6,\n",
    "    'July': 7, 'August': 8, 'September': 9, 'October': 10, 'November': 11, 'December': 12\n",
    "}\n",
    "\n",
    "# Replace values in the 'arrival_date_month' column with corresponding numeric values\n",
    "df['arrival_date_month_num'] = df['arrival_date_month'].map(month_mapping)"
   ]
  },
  {
   "cell_type": "markdown",
   "id": "8f5a88d6",
   "metadata": {},
   "source": [
    "##### Check-in Date"
   ]
  },
  {
   "cell_type": "code",
   "execution_count": 29,
   "id": "80024efe",
   "metadata": {},
   "outputs": [],
   "source": [
    "# Concatenate the date components (year, month, and day) into a single string column\n",
    "date_components = df['arrival_date_year'].astype(str) + '-' + df['arrival_date_month_num'].astype(str) + '-' + df['arrival_date_day_of_month'].astype(str)\n",
    "\n",
    "# Convert the concatenated column to datetime format\n",
    "df['check_in_date'] = pd.to_datetime(date_components, format='%Y-%m-%d')\n",
    "\n",
    "# Optionally, you can convert 'check_in_date' to a different datetime format if needed\n",
    "# df['check_in_date'] = df['check_in_date'].dt.strftime('%m/%d/%Y')"
   ]
  },
  {
   "cell_type": "markdown",
   "id": "e8505e48",
   "metadata": {},
   "source": [
    "##### Total Guests"
   ]
  },
  {
   "cell_type": "code",
   "execution_count": 30,
   "id": "ae65d2df",
   "metadata": {},
   "outputs": [],
   "source": [
    "# Create a new column 'total_guests' by summing up the number of adults, children, and babies\n",
    "df['total_guests'] = df['adults'] + df['children'] + df['babies']"
   ]
  },
  {
   "cell_type": "markdown",
   "id": "855e85b2",
   "metadata": {},
   "source": [
    "##### Total Nights"
   ]
  },
  {
   "cell_type": "code",
   "execution_count": 31,
   "id": "41937dbb",
   "metadata": {},
   "outputs": [],
   "source": [
    "# Create a new column 'total_nights' to represent the length of stay for each booking\n",
    "total_nights_list = []\n",
    "\n",
    "# Iterate through each booking in the DataFrame\n",
    "for index, row in df.iterrows():\n",
    "    # If the booking was canceled or marked as a no-show, assign 0 for the total nights\n",
    "    if (row['reservation_status'] == 'Canceled') or (row['reservation_status'] == 'No-Show'):\n",
    "        total_nights_list.append(0)\n",
    "    else:\n",
    "        # If not, calculate the number of nights stayed by subtracting the check-in date from the reservation status date\n",
    "        total_nights_list.append((row['reservation_status_date'] - row['check_in_date']).days)\n",
    "\n",
    "# Assign the list as a new column 'total_nights' in the DataFrame\n",
    "df['total_nights'] = total_nights_list"
   ]
  },
  {
   "cell_type": "code",
   "execution_count": 32,
   "id": "a0fb9f7a",
   "metadata": {},
   "outputs": [
    {
     "data": {
      "text/html": [
       "<div>\n",
       "<style scoped>\n",
       "    .dataframe tbody tr th:only-of-type {\n",
       "        vertical-align: middle;\n",
       "    }\n",
       "\n",
       "    .dataframe tbody tr th {\n",
       "        vertical-align: top;\n",
       "    }\n",
       "\n",
       "    .dataframe thead th {\n",
       "        text-align: right;\n",
       "    }\n",
       "</style>\n",
       "<table border=\"1\" class=\"dataframe\">\n",
       "  <thead>\n",
       "    <tr style=\"text-align: right;\">\n",
       "      <th></th>\n",
       "      <th>arrival_date_month_num</th>\n",
       "      <th>check_in_date</th>\n",
       "      <th>total_guests</th>\n",
       "      <th>total_nights</th>\n",
       "    </tr>\n",
       "  </thead>\n",
       "  <tbody>\n",
       "    <tr>\n",
       "      <th>0</th>\n",
       "      <td>7</td>\n",
       "      <td>2015-07-01</td>\n",
       "      <td>2</td>\n",
       "      <td>0</td>\n",
       "    </tr>\n",
       "    <tr>\n",
       "      <th>1</th>\n",
       "      <td>7</td>\n",
       "      <td>2015-07-01</td>\n",
       "      <td>2</td>\n",
       "      <td>0</td>\n",
       "    </tr>\n",
       "    <tr>\n",
       "      <th>2</th>\n",
       "      <td>7</td>\n",
       "      <td>2015-07-01</td>\n",
       "      <td>1</td>\n",
       "      <td>1</td>\n",
       "    </tr>\n",
       "    <tr>\n",
       "      <th>3</th>\n",
       "      <td>7</td>\n",
       "      <td>2015-07-01</td>\n",
       "      <td>1</td>\n",
       "      <td>1</td>\n",
       "    </tr>\n",
       "    <tr>\n",
       "      <th>4</th>\n",
       "      <td>7</td>\n",
       "      <td>2015-07-01</td>\n",
       "      <td>2</td>\n",
       "      <td>2</td>\n",
       "    </tr>\n",
       "  </tbody>\n",
       "</table>\n",
       "</div>"
      ],
      "text/plain": [
       "   arrival_date_month_num check_in_date  total_guests  total_nights\n",
       "0                       7    2015-07-01             2             0\n",
       "1                       7    2015-07-01             2             0\n",
       "2                       7    2015-07-01             1             1\n",
       "3                       7    2015-07-01             1             1\n",
       "4                       7    2015-07-01             2             2"
      ]
     },
     "execution_count": 32,
     "metadata": {},
     "output_type": "execute_result"
    }
   ],
   "source": [
    "# # Display the first few rows of the new columns: 'arrival_date_month_num', 'check_in_date', 'total_guests', and 'total_nights'\n",
    "df[['arrival_date_month_num', 'check_in_date', 'total_guests', 'total_nights']].head()"
   ]
  },
  {
   "cell_type": "markdown",
   "id": "fbd4ed56",
   "metadata": {},
   "source": [
    "#### Inconsistent Data (II):\n",
    "\n",
    "In this section, we address cases where bookings are marked as 'not canceled' ('is_canceled' = 'No'), but inconsistencies arise. There are two scenarios:\n",
    "\n",
    "1. In 627 cases, bookings lack values for both 'stays_in_(week/weekend)_nights' and 'total_nights,' despite having 'reservation_status' marked as 'Check-Out'.\n",
    "    - In these scenarios, we will adjust the 'is_canceled' value to 'Yes' and change 'reservation_status' to 'Canceled.'\n",
    "\n",
    "2. In 20 cases, 'stays_in_(week/weekend)_nights' holds a value other than 0, while 'total_nights' remains 0. This discrepancy occurs when 'reservation_status_date' (the check-out date) matches 'check_in_date'.\n",
    "    - For these cases, we will sum the 'stays_in_(week/weekend)_nights' values, subtract that count from the 'check_in_date,' and update 'total_nights' accordingly.\n",
    "\n",
    "This approach aims to rectify the inconsistencies in the data, ensuring accurate information for analysis.\n"
   ]
  },
  {
   "cell_type": "code",
   "execution_count": 33,
   "id": "a3469d3a",
   "metadata": {},
   "outputs": [
    {
     "data": {
      "text/html": [
       "<div>\n",
       "<style scoped>\n",
       "    .dataframe tbody tr th:only-of-type {\n",
       "        vertical-align: middle;\n",
       "    }\n",
       "\n",
       "    .dataframe tbody tr th {\n",
       "        vertical-align: top;\n",
       "    }\n",
       "\n",
       "    .dataframe thead th {\n",
       "        text-align: right;\n",
       "    }\n",
       "</style>\n",
       "<table border=\"1\" class=\"dataframe\">\n",
       "  <thead>\n",
       "    <tr style=\"text-align: right;\">\n",
       "      <th></th>\n",
       "      <th>is_canceled</th>\n",
       "      <th>stays_in_weekend_nights</th>\n",
       "      <th>stays_in_week_nights</th>\n",
       "      <th>reservation_status</th>\n",
       "      <th>reservation_status_date</th>\n",
       "      <th>total_nights</th>\n",
       "    </tr>\n",
       "  </thead>\n",
       "  <tbody>\n",
       "    <tr>\n",
       "      <th>0</th>\n",
       "      <td>No</td>\n",
       "      <td>0</td>\n",
       "      <td>0</td>\n",
       "      <td>Check-Out</td>\n",
       "      <td>2015-07-01</td>\n",
       "      <td>0</td>\n",
       "    </tr>\n",
       "    <tr>\n",
       "      <th>1</th>\n",
       "      <td>No</td>\n",
       "      <td>0</td>\n",
       "      <td>0</td>\n",
       "      <td>Check-Out</td>\n",
       "      <td>2015-07-01</td>\n",
       "      <td>0</td>\n",
       "    </tr>\n",
       "    <tr>\n",
       "      <th>24</th>\n",
       "      <td>No</td>\n",
       "      <td>2</td>\n",
       "      <td>5</td>\n",
       "      <td>Check-Out</td>\n",
       "      <td>2015-07-01</td>\n",
       "      <td>0</td>\n",
       "    </tr>\n",
       "    <tr>\n",
       "      <th>167</th>\n",
       "      <td>No</td>\n",
       "      <td>0</td>\n",
       "      <td>0</td>\n",
       "      <td>Check-Out</td>\n",
       "      <td>2015-07-06</td>\n",
       "      <td>0</td>\n",
       "    </tr>\n",
       "    <tr>\n",
       "      <th>168</th>\n",
       "      <td>No</td>\n",
       "      <td>0</td>\n",
       "      <td>0</td>\n",
       "      <td>Check-Out</td>\n",
       "      <td>2015-07-06</td>\n",
       "      <td>0</td>\n",
       "    </tr>\n",
       "  </tbody>\n",
       "</table>\n",
       "</div>"
      ],
      "text/plain": [
       "    is_canceled  stays_in_weekend_nights  stays_in_week_nights  \\\n",
       "0            No                        0                     0   \n",
       "1            No                        0                     0   \n",
       "24           No                        2                     5   \n",
       "167          No                        0                     0   \n",
       "168          No                        0                     0   \n",
       "\n",
       "    reservation_status reservation_status_date  total_nights  \n",
       "0            Check-Out              2015-07-01             0  \n",
       "1            Check-Out              2015-07-01             0  \n",
       "24           Check-Out              2015-07-01             0  \n",
       "167          Check-Out              2015-07-06             0  \n",
       "168          Check-Out              2015-07-06             0  "
      ]
     },
     "metadata": {},
     "output_type": "display_data"
    },
    {
     "data": {
      "text/plain": [
       "(647, 34)"
      ]
     },
     "metadata": {},
     "output_type": "display_data"
    }
   ],
   "source": [
    "# Filter for first type of cases\n",
    "cancelled_mask = (df['is_canceled'] == 'No') & (df['reservation_status'] == 'Check-Out') & (df['total_nights'] == 0)\n",
    "filtered_df = df[cancelled_mask]\n",
    "\n",
    "# Display the filtered data along with its shape\n",
    "display(filtered_df[['is_canceled', 'stays_in_weekend_nights', 'stays_in_week_nights', 'reservation_status','reservation_status_date','total_nights']].head(5),\n",
    "        filtered_df.shape)"
   ]
  },
  {
   "cell_type": "code",
   "execution_count": 34,
   "id": "ba47d469",
   "metadata": {},
   "outputs": [
    {
     "data": {
      "text/html": [
       "<div>\n",
       "<style scoped>\n",
       "    .dataframe tbody tr th:only-of-type {\n",
       "        vertical-align: middle;\n",
       "    }\n",
       "\n",
       "    .dataframe tbody tr th {\n",
       "        vertical-align: top;\n",
       "    }\n",
       "\n",
       "    .dataframe thead th {\n",
       "        text-align: right;\n",
       "    }\n",
       "</style>\n",
       "<table border=\"1\" class=\"dataframe\">\n",
       "  <thead>\n",
       "    <tr style=\"text-align: right;\">\n",
       "      <th></th>\n",
       "      <th>is_canceled</th>\n",
       "      <th>stays_in_weekend_nights</th>\n",
       "      <th>stays_in_week_nights</th>\n",
       "      <th>reservation_status</th>\n",
       "      <th>reservation_status_date</th>\n",
       "      <th>check_in_date</th>\n",
       "      <th>total_nights</th>\n",
       "    </tr>\n",
       "  </thead>\n",
       "  <tbody>\n",
       "    <tr>\n",
       "      <th>24</th>\n",
       "      <td>No</td>\n",
       "      <td>2</td>\n",
       "      <td>5</td>\n",
       "      <td>Check-Out</td>\n",
       "      <td>2015-07-01</td>\n",
       "      <td>2015-07-01</td>\n",
       "      <td>0</td>\n",
       "    </tr>\n",
       "    <tr>\n",
       "      <th>313</th>\n",
       "      <td>No</td>\n",
       "      <td>2</td>\n",
       "      <td>5</td>\n",
       "      <td>Check-Out</td>\n",
       "      <td>2015-07-12</td>\n",
       "      <td>2015-07-12</td>\n",
       "      <td>0</td>\n",
       "    </tr>\n",
       "    <tr>\n",
       "      <th>1657</th>\n",
       "      <td>No</td>\n",
       "      <td>3</td>\n",
       "      <td>7</td>\n",
       "      <td>Check-Out</td>\n",
       "      <td>2015-09-07</td>\n",
       "      <td>2015-09-07</td>\n",
       "      <td>0</td>\n",
       "    </tr>\n",
       "    <tr>\n",
       "      <th>2345</th>\n",
       "      <td>No</td>\n",
       "      <td>2</td>\n",
       "      <td>5</td>\n",
       "      <td>Check-Out</td>\n",
       "      <td>2015-10-09</td>\n",
       "      <td>2015-10-09</td>\n",
       "      <td>0</td>\n",
       "    </tr>\n",
       "    <tr>\n",
       "      <th>2407</th>\n",
       "      <td>No</td>\n",
       "      <td>4</td>\n",
       "      <td>5</td>\n",
       "      <td>Check-Out</td>\n",
       "      <td>2015-10-11</td>\n",
       "      <td>2015-10-11</td>\n",
       "      <td>0</td>\n",
       "    </tr>\n",
       "  </tbody>\n",
       "</table>\n",
       "</div>"
      ],
      "text/plain": [
       "     is_canceled  stays_in_weekend_nights  stays_in_week_nights  \\\n",
       "24            No                        2                     5   \n",
       "313           No                        2                     5   \n",
       "1657          No                        3                     7   \n",
       "2345          No                        2                     5   \n",
       "2407          No                        4                     5   \n",
       "\n",
       "     reservation_status reservation_status_date check_in_date  total_nights  \n",
       "24            Check-Out              2015-07-01    2015-07-01             0  \n",
       "313           Check-Out              2015-07-12    2015-07-12             0  \n",
       "1657          Check-Out              2015-09-07    2015-09-07             0  \n",
       "2345          Check-Out              2015-10-09    2015-10-09             0  \n",
       "2407          Check-Out              2015-10-11    2015-10-11             0  "
      ]
     },
     "metadata": {},
     "output_type": "display_data"
    },
    {
     "data": {
      "text/plain": [
       "(None, 20)"
      ]
     },
     "execution_count": 34,
     "metadata": {},
     "output_type": "execute_result"
    }
   ],
   "source": [
    "# Filter for the second kind of cases\n",
    "weekend_nights_mask = (filtered_df['stays_in_weekend_nights'] != 0) | (filtered_df['stays_in_weekend_nights'] != 0)\n",
    "filtered_weekend_df = filtered_df[weekend_nights_mask]\n",
    "\n",
    "# Display the filtered data along with its length\n",
    "display(filtered_weekend_df[['is_canceled', 'stays_in_weekend_nights', 'stays_in_week_nights', 'reservation_status','reservation_status_date','check_in_date','total_nights']].head(5)), len(filtered_weekend_df)"
   ]
  },
  {
   "cell_type": "code",
   "execution_count": 35,
   "id": "2a6569ae",
   "metadata": {},
   "outputs": [
    {
     "data": {
      "text/plain": [
       "24       True\n",
       "313      True\n",
       "1657     True\n",
       "2345     True\n",
       "2407     True\n",
       "2420     True\n",
       "5957     True\n",
       "6755     True\n",
       "6756     True\n",
       "6800     True\n",
       "6833     True\n",
       "6835     True\n",
       "7865     True\n",
       "7877     True\n",
       "7886     True\n",
       "7923     True\n",
       "7929     True\n",
       "7932     True\n",
       "8148     True\n",
       "40294    True\n",
       "dtype: bool"
      ]
     },
     "execution_count": 35,
     "metadata": {},
     "output_type": "execute_result"
    }
   ],
   "source": [
    "# Check if all dates of 'reservation_status_date' and 'check_in_date' are equal\n",
    "filtered_weekend_df['reservation_status_date'] == filtered_weekend_df['check_in_date']"
   ]
  },
  {
   "cell_type": "markdown",
   "id": "447b6eaf",
   "metadata": {},
   "source": [
    "##### Second type cases"
   ]
  },
  {
   "cell_type": "code",
   "execution_count": 36,
   "id": "b2e8d882",
   "metadata": {},
   "outputs": [],
   "source": [
    "# Iterate through each row in the df\n",
    "for index, row in df.iterrows():\n",
    "    # Check if the index is present in the filtered_weekend_df index\n",
    "    if index in filtered_weekend_df.index:\n",
    "        # Calculate the total nights that include weekends\n",
    "        weekend_nights = row['stays_in_weekend_nights'] + row['stays_in_week_nights']\n",
    "        \n",
    "        # Subtract the weekend nights from the original check-in date\n",
    "        updated_check_in_date = row['check_in_date'] - pd.Timedelta(days=weekend_nights)\n",
    "        \n",
    "        # Update the total nights and check-in date in the df\n",
    "        df.at[index, 'total_nights'] += weekend_nights\n",
    "        df.at[index, 'check_in_date'] = pd.to_datetime(updated_check_in_date, format='%Y-%m-%d')"
   ]
  },
  {
   "cell_type": "code",
   "execution_count": 37,
   "id": "1bc1f5db",
   "metadata": {},
   "outputs": [
    {
     "data": {
      "text/plain": [
       "is_canceled                                 No\n",
       "stays_in_weekend_nights                      2\n",
       "stays_in_week_nights                         5\n",
       "reservation_status                   Check-Out\n",
       "reservation_status_date    2015-07-01 00:00:00\n",
       "check_in_date              2015-06-24 00:00:00\n",
       "total_nights                                 7\n",
       "Name: 24, dtype: object"
      ]
     },
     "execution_count": 37,
     "metadata": {},
     "output_type": "execute_result"
    }
   ],
   "source": [
    "# Review changes for a specific row (Row 24)\n",
    "df.loc[24,['is_canceled', 'stays_in_weekend_nights',\n",
    "           'stays_in_week_nights', 'reservation_status',\n",
    "           'reservation_status_date','check_in_date','total_nights']]"
   ]
  },
  {
   "cell_type": "markdown",
   "id": "9db82047",
   "metadata": {},
   "source": [
    "##### First type cases"
   ]
  },
  {
   "cell_type": "code",
   "execution_count": 38,
   "id": "e7b5cc96",
   "metadata": {},
   "outputs": [
    {
     "data": {
      "text/html": [
       "<div>\n",
       "<style scoped>\n",
       "    .dataframe tbody tr th:only-of-type {\n",
       "        vertical-align: middle;\n",
       "    }\n",
       "\n",
       "    .dataframe tbody tr th {\n",
       "        vertical-align: top;\n",
       "    }\n",
       "\n",
       "    .dataframe thead th {\n",
       "        text-align: right;\n",
       "    }\n",
       "</style>\n",
       "<table border=\"1\" class=\"dataframe\">\n",
       "  <thead>\n",
       "    <tr style=\"text-align: right;\">\n",
       "      <th></th>\n",
       "      <th>is_canceled</th>\n",
       "      <th>stays_in_weekend_nights</th>\n",
       "      <th>stays_in_week_nights</th>\n",
       "      <th>reservation_status</th>\n",
       "      <th>reservation_status_date</th>\n",
       "      <th>total_nights</th>\n",
       "    </tr>\n",
       "  </thead>\n",
       "  <tbody>\n",
       "    <tr>\n",
       "      <th>0</th>\n",
       "      <td>No</td>\n",
       "      <td>0</td>\n",
       "      <td>0</td>\n",
       "      <td>Check-Out</td>\n",
       "      <td>2015-07-01</td>\n",
       "      <td>0</td>\n",
       "    </tr>\n",
       "    <tr>\n",
       "      <th>1</th>\n",
       "      <td>No</td>\n",
       "      <td>0</td>\n",
       "      <td>0</td>\n",
       "      <td>Check-Out</td>\n",
       "      <td>2015-07-01</td>\n",
       "      <td>0</td>\n",
       "    </tr>\n",
       "    <tr>\n",
       "      <th>167</th>\n",
       "      <td>No</td>\n",
       "      <td>0</td>\n",
       "      <td>0</td>\n",
       "      <td>Check-Out</td>\n",
       "      <td>2015-07-06</td>\n",
       "      <td>0</td>\n",
       "    </tr>\n",
       "    <tr>\n",
       "      <th>168</th>\n",
       "      <td>No</td>\n",
       "      <td>0</td>\n",
       "      <td>0</td>\n",
       "      <td>Check-Out</td>\n",
       "      <td>2015-07-06</td>\n",
       "      <td>0</td>\n",
       "    </tr>\n",
       "    <tr>\n",
       "      <th>196</th>\n",
       "      <td>No</td>\n",
       "      <td>0</td>\n",
       "      <td>0</td>\n",
       "      <td>Check-Out</td>\n",
       "      <td>2015-07-07</td>\n",
       "      <td>0</td>\n",
       "    </tr>\n",
       "  </tbody>\n",
       "</table>\n",
       "</div>"
      ],
      "text/plain": [
       "    is_canceled  stays_in_weekend_nights  stays_in_week_nights  \\\n",
       "0            No                        0                     0   \n",
       "1            No                        0                     0   \n",
       "167          No                        0                     0   \n",
       "168          No                        0                     0   \n",
       "196          No                        0                     0   \n",
       "\n",
       "    reservation_status reservation_status_date  total_nights  \n",
       "0            Check-Out              2015-07-01             0  \n",
       "1            Check-Out              2015-07-01             0  \n",
       "167          Check-Out              2015-07-06             0  \n",
       "168          Check-Out              2015-07-06             0  \n",
       "196          Check-Out              2015-07-07             0  "
      ]
     },
     "metadata": {},
     "output_type": "display_data"
    },
    {
     "data": {
      "text/plain": [
       "'New Length: '"
      ]
     },
     "metadata": {},
     "output_type": "display_data"
    },
    {
     "data": {
      "text/plain": [
       "(627, 34)"
      ]
     },
     "metadata": {},
     "output_type": "display_data"
    }
   ],
   "source": [
    "# Refreshing the filter to identify bookings with inconsistencies (627)\n",
    "# These are cases where reservations are marked as 'Check-Out' but have a total nights count of 0,\n",
    "# and the 'is_canceled' status is 'No.'\n",
    "cancelled_mask = (df['is_canceled'] == 'No') & (df['reservation_status'] == 'Check-Out') & (df['total_nights'] == 0)\n",
    "\n",
    "# Apply the refreshed filter\n",
    "filtered_df = df[cancelled_mask]\n",
    "\n",
    "# Display the filtered DataFrame\n",
    "display(filtered_df[['is_canceled', 'stays_in_weekend_nights', 'stays_in_week_nights', 'reservation_status','reservation_status_date','total_nights']].head(5),\n",
    "        'New Length: ', filtered_df.shape)"
   ]
  },
  {
   "cell_type": "code",
   "execution_count": 39,
   "id": "7b31fefa",
   "metadata": {},
   "outputs": [],
   "source": [
    "# Iterate through each row in the df\n",
    "for index, row in df.iterrows():\n",
    "    # Check if the index is present in the filtered_df index\n",
    "    if index in filtered_df.index:\n",
    "        # Update the 'is_canceled' and 'reservation_status' values to 'Yes' and 'Canceled,' respectively\n",
    "        df.at[index, 'is_canceled'] = 'Yes'\n",
    "        df.at[index, 'reservation_status'] = 'Canceled'"
   ]
  },
  {
   "cell_type": "code",
   "execution_count": 40,
   "id": "69deffc8",
   "metadata": {},
   "outputs": [
    {
     "data": {
      "text/html": [
       "<div>\n",
       "<style scoped>\n",
       "    .dataframe tbody tr th:only-of-type {\n",
       "        vertical-align: middle;\n",
       "    }\n",
       "\n",
       "    .dataframe tbody tr th {\n",
       "        vertical-align: top;\n",
       "    }\n",
       "\n",
       "    .dataframe thead th {\n",
       "        text-align: right;\n",
       "    }\n",
       "</style>\n",
       "<table border=\"1\" class=\"dataframe\">\n",
       "  <thead>\n",
       "    <tr style=\"text-align: right;\">\n",
       "      <th></th>\n",
       "      <th>is_canceled</th>\n",
       "      <th>stays_in_weekend_nights</th>\n",
       "      <th>stays_in_week_nights</th>\n",
       "      <th>reservation_status</th>\n",
       "      <th>reservation_status_date</th>\n",
       "      <th>total_nights</th>\n",
       "    </tr>\n",
       "  </thead>\n",
       "  <tbody>\n",
       "  </tbody>\n",
       "</table>\n",
       "</div>"
      ],
      "text/plain": [
       "Empty DataFrame\n",
       "Columns: [is_canceled, stays_in_weekend_nights, stays_in_week_nights, reservation_status, reservation_status_date, total_nights]\n",
       "Index: []"
      ]
     },
     "metadata": {},
     "output_type": "display_data"
    },
    {
     "data": {
      "text/plain": [
       "'New Length: '"
      ]
     },
     "metadata": {},
     "output_type": "display_data"
    },
    {
     "data": {
      "text/plain": [
       "(0, 34)"
      ]
     },
     "metadata": {},
     "output_type": "display_data"
    }
   ],
   "source": [
    "# Check again if all changes were properly done\n",
    "cancelled_mask = (df['is_canceled'] == 'No') & (df['reservation_status'] == 'Check-Out') & (df['total_nights'] == 0)\n",
    "filtered_df = df[cancelled_mask]\n",
    "\n",
    "display(filtered_df[['is_canceled', 'stays_in_weekend_nights', 'stays_in_week_nights', 'reservation_status','reservation_status_date','total_nights']].head(5),\n",
    "        'New Length: ', filtered_df.shape)"
   ]
  },
  {
   "cell_type": "markdown",
   "id": "9b36fb01",
   "metadata": {},
   "source": [
    "#### Categorizing Night Stays: Creating a New Feature\n",
    "We will develop a function to classify night stays as either occurring during weekdays, weekends, or both. The outcomes will be saved in a new 'weekend_or_weekday' column."
   ]
  },
  {
   "cell_type": "code",
   "execution_count": 41,
   "id": "03c497ec",
   "metadata": {},
   "outputs": [
    {
     "data": {
      "text/html": [
       "<div>\n",
       "<style scoped>\n",
       "    .dataframe tbody tr th:only-of-type {\n",
       "        vertical-align: middle;\n",
       "    }\n",
       "\n",
       "    .dataframe tbody tr th {\n",
       "        vertical-align: top;\n",
       "    }\n",
       "\n",
       "    .dataframe thead th {\n",
       "        text-align: right;\n",
       "    }\n",
       "</style>\n",
       "<table border=\"1\" class=\"dataframe\">\n",
       "  <thead>\n",
       "    <tr style=\"text-align: right;\">\n",
       "      <th></th>\n",
       "      <th>stays_in_weekend_nights</th>\n",
       "      <th>stays_in_week_nights</th>\n",
       "      <th>total_nights</th>\n",
       "    </tr>\n",
       "  </thead>\n",
       "  <tbody>\n",
       "    <tr>\n",
       "      <th>0</th>\n",
       "      <td>0</td>\n",
       "      <td>0</td>\n",
       "      <td>0</td>\n",
       "    </tr>\n",
       "    <tr>\n",
       "      <th>1</th>\n",
       "      <td>0</td>\n",
       "      <td>0</td>\n",
       "      <td>0</td>\n",
       "    </tr>\n",
       "    <tr>\n",
       "      <th>2</th>\n",
       "      <td>0</td>\n",
       "      <td>1</td>\n",
       "      <td>1</td>\n",
       "    </tr>\n",
       "    <tr>\n",
       "      <th>3</th>\n",
       "      <td>0</td>\n",
       "      <td>1</td>\n",
       "      <td>1</td>\n",
       "    </tr>\n",
       "    <tr>\n",
       "      <th>4</th>\n",
       "      <td>0</td>\n",
       "      <td>2</td>\n",
       "      <td>2</td>\n",
       "    </tr>\n",
       "  </tbody>\n",
       "</table>\n",
       "</div>"
      ],
      "text/plain": [
       "   stays_in_weekend_nights  stays_in_week_nights  total_nights\n",
       "0                        0                     0             0\n",
       "1                        0                     0             0\n",
       "2                        0                     1             1\n",
       "3                        0                     1             1\n",
       "4                        0                     2             2"
      ]
     },
     "execution_count": 41,
     "metadata": {},
     "output_type": "execute_result"
    }
   ],
   "source": [
    "# Display the first few rows of the selected columns\n",
    "df[['stays_in_weekend_nights','stays_in_week_nights', 'total_nights']].head()"
   ]
  },
  {
   "cell_type": "code",
   "execution_count": 42,
   "id": "ded7ffd9",
   "metadata": {},
   "outputs": [],
   "source": [
    "# Create a function to determine the type of stay (weekdays, weekends, or both)\n",
    "# and assign values to a new column.\n",
    "\n",
    "def week_function(row):\n",
    "    \n",
    "    \"\"\"Function to create values for a new column to determine whether the booking\n",
    "    includes week nights, weekend nights, or both types.\"\"\"\n",
    "    \n",
    "    # Define the features/columns to be used\n",
    "    feature1 = 'stays_in_weekend_nights'\n",
    "    feature2 = 'stays_in_week_nights'\n",
    "    \n",
    "    # Check if the stay includes only weekend nights\n",
    "    if row[feature2] == 0 and row[feature1] > 0:\n",
    "        return 'stay_just_weekend'\n",
    "    \n",
    "    # Check if the stay includes only weekdays\n",
    "    elif row[feature2] > 0 and row[feature1] == 0:\n",
    "        return 'stay_just_weekdays'\n",
    "    \n",
    "    # Check if the stay includes both weekdays and weekend nights\n",
    "    elif row[feature2] > 0 and row[feature1] > 0:\n",
    "        return 'stay_both_weekdays_weekends'\n",
    "        \n",
    "    # Handle cases with undefined data\n",
    "    else:\n",
    "        return 'undefined_data'\n"
   ]
  },
  {
   "cell_type": "code",
   "execution_count": 43,
   "id": "4b6c211d",
   "metadata": {},
   "outputs": [],
   "source": [
    "# Call the function\n",
    "df['weekend_or_weekday']=df.apply(week_function, axis=1)"
   ]
  },
  {
   "cell_type": "code",
   "execution_count": 44,
   "id": "9df3da04",
   "metadata": {},
   "outputs": [
    {
     "data": {
      "text/plain": [
       "stay_both_weekdays_weekends    60388\n",
       "stay_just_weekdays             51250\n",
       "stay_just_weekend               6927\n",
       "undefined_data                   645\n",
       "Name: weekend_or_weekday, dtype: int64"
      ]
     },
     "execution_count": 44,
     "metadata": {},
     "output_type": "execute_result"
    }
   ],
   "source": [
    "# Check value counts for the new column\n",
    "df['weekend_or_weekday'].value_counts()"
   ]
  },
  {
   "cell_type": "code",
   "execution_count": 45,
   "id": "78f94a77",
   "metadata": {},
   "outputs": [
    {
     "data": {
      "text/html": [
       "<div>\n",
       "<style scoped>\n",
       "    .dataframe tbody tr th:only-of-type {\n",
       "        vertical-align: middle;\n",
       "    }\n",
       "\n",
       "    .dataframe tbody tr th {\n",
       "        vertical-align: top;\n",
       "    }\n",
       "\n",
       "    .dataframe thead th {\n",
       "        text-align: right;\n",
       "    }\n",
       "</style>\n",
       "<table border=\"1\" class=\"dataframe\">\n",
       "  <thead>\n",
       "    <tr style=\"text-align: right;\">\n",
       "      <th></th>\n",
       "      <th>is_canceled</th>\n",
       "      <th>stays_in_weekend_nights</th>\n",
       "      <th>stays_in_week_nights</th>\n",
       "      <th>total_nights</th>\n",
       "    </tr>\n",
       "  </thead>\n",
       "  <tbody>\n",
       "    <tr>\n",
       "      <th>0</th>\n",
       "      <td>Yes</td>\n",
       "      <td>0</td>\n",
       "      <td>0</td>\n",
       "      <td>0</td>\n",
       "    </tr>\n",
       "    <tr>\n",
       "      <th>1</th>\n",
       "      <td>Yes</td>\n",
       "      <td>0</td>\n",
       "      <td>0</td>\n",
       "      <td>0</td>\n",
       "    </tr>\n",
       "    <tr>\n",
       "      <th>167</th>\n",
       "      <td>Yes</td>\n",
       "      <td>0</td>\n",
       "      <td>0</td>\n",
       "      <td>0</td>\n",
       "    </tr>\n",
       "    <tr>\n",
       "      <th>168</th>\n",
       "      <td>Yes</td>\n",
       "      <td>0</td>\n",
       "      <td>0</td>\n",
       "      <td>0</td>\n",
       "    </tr>\n",
       "    <tr>\n",
       "      <th>196</th>\n",
       "      <td>Yes</td>\n",
       "      <td>0</td>\n",
       "      <td>0</td>\n",
       "      <td>0</td>\n",
       "    </tr>\n",
       "  </tbody>\n",
       "</table>\n",
       "</div>"
      ],
      "text/plain": [
       "    is_canceled  stays_in_weekend_nights  stays_in_week_nights  total_nights\n",
       "0           Yes                        0                     0             0\n",
       "1           Yes                        0                     0             0\n",
       "167         Yes                        0                     0             0\n",
       "168         Yes                        0                     0             0\n",
       "196         Yes                        0                     0             0"
      ]
     },
     "metadata": {},
     "output_type": "display_data"
    },
    {
     "data": {
      "text/plain": [
       "(645, 4)"
      ]
     },
     "metadata": {},
     "output_type": "display_data"
    }
   ],
   "source": [
    "# Review all entries with undefined night stay data\n",
    "undefined_night_data = df[['is_canceled','stays_in_weekend_nights','stays_in_week_nights','total_nights']][df['weekend_or_weekday']=='undefined_data']\n",
    "\n",
    "# Display the first few rows and the shape of the filtered data\n",
    "display(undefined_night_data.head(), undefined_night_data.shape)"
   ]
  },
  {
   "cell_type": "code",
   "execution_count": 46,
   "id": "02888495",
   "metadata": {},
   "outputs": [
    {
     "data": {
      "text/markdown": [
       "There are 0 confirmed bookings with undefined night data"
      ],
      "text/plain": [
       "<IPython.core.display.Markdown object>"
      ]
     },
     "metadata": {},
     "output_type": "display_data"
    }
   ],
   "source": [
    "# Check if there are any confirmed bookings included in undefined_data or if all are canceled cases\n",
    "confirm_book_no_night_data = len(undefined_night_data[undefined_night_data['is_canceled'] == 'No'])\n",
    "\n",
    "display(Markdown(f\"There are {confirm_book_no_night_data} confirmed bookings with undefined night data\"))"
   ]
  },
  {
   "cell_type": "markdown",
   "id": "1df31af7",
   "metadata": {},
   "source": [
    "#### Inconsistent Data (III):\n",
    "\n",
    "Now, let's focus on cases where bookings are labeled with 'is_canceled' as 'No,' but they possess an 'adr' (Average Daily Rate) value of 0.\n",
    "\n",
    "    - In such situations, we will update the booking status to 'canceled,' and, if required, eliminate any associated night stay data.\n"
   ]
  },
  {
   "cell_type": "code",
   "execution_count": 47,
   "id": "8ea93cac",
   "metadata": {},
   "outputs": [
    {
     "data": {
      "text/html": [
       "<div>\n",
       "<style scoped>\n",
       "    .dataframe tbody tr th:only-of-type {\n",
       "        vertical-align: middle;\n",
       "    }\n",
       "\n",
       "    .dataframe tbody tr th {\n",
       "        vertical-align: top;\n",
       "    }\n",
       "\n",
       "    .dataframe thead th {\n",
       "        text-align: right;\n",
       "    }\n",
       "</style>\n",
       "<table border=\"1\" class=\"dataframe\">\n",
       "  <thead>\n",
       "    <tr style=\"text-align: right;\">\n",
       "      <th></th>\n",
       "      <th>is_canceled</th>\n",
       "      <th>assigned_room_type</th>\n",
       "      <th>adr</th>\n",
       "      <th>reservation_status</th>\n",
       "      <th>total_nights</th>\n",
       "    </tr>\n",
       "  </thead>\n",
       "  <tbody>\n",
       "    <tr>\n",
       "      <th>125</th>\n",
       "      <td>No</td>\n",
       "      <td>H</td>\n",
       "      <td>0.0</td>\n",
       "      <td>Check-Out</td>\n",
       "      <td>1</td>\n",
       "    </tr>\n",
       "    <tr>\n",
       "      <th>428</th>\n",
       "      <td>No</td>\n",
       "      <td>A</td>\n",
       "      <td>0.0</td>\n",
       "      <td>Check-Out</td>\n",
       "      <td>2</td>\n",
       "    </tr>\n",
       "    <tr>\n",
       "      <th>1655</th>\n",
       "      <td>No</td>\n",
       "      <td>I</td>\n",
       "      <td>0.0</td>\n",
       "      <td>Check-Out</td>\n",
       "      <td>46</td>\n",
       "    </tr>\n",
       "    <tr>\n",
       "      <th>1705</th>\n",
       "      <td>No</td>\n",
       "      <td>H</td>\n",
       "      <td>0.0</td>\n",
       "      <td>Check-Out</td>\n",
       "      <td>1</td>\n",
       "    </tr>\n",
       "    <tr>\n",
       "      <th>2114</th>\n",
       "      <td>No</td>\n",
       "      <td>H</td>\n",
       "      <td>0.0</td>\n",
       "      <td>Check-Out</td>\n",
       "      <td>2</td>\n",
       "    </tr>\n",
       "  </tbody>\n",
       "</table>\n",
       "</div>"
      ],
      "text/plain": [
       "     is_canceled assigned_room_type  adr reservation_status  total_nights\n",
       "125           No                  H  0.0          Check-Out             1\n",
       "428           No                  A  0.0          Check-Out             2\n",
       "1655          No                  I  0.0          Check-Out            46\n",
       "1705          No                  H  0.0          Check-Out             1\n",
       "2114          No                  H  0.0          Check-Out             2"
      ]
     },
     "metadata": {},
     "output_type": "display_data"
    },
    {
     "data": {
      "text/markdown": [
       "There are 1000 confirmed bookings whose 'adr' value is 0."
      ],
      "text/plain": [
       "<IPython.core.display.Markdown object>"
      ]
     },
     "metadata": {},
     "output_type": "display_data"
    }
   ],
   "source": [
    "# Filter for confirmed bookings where 'is_canceled' is 'No' and 'adr' is 0\n",
    "confirmed_bookings_0_adr = df[(df['is_canceled'] == 'No') & (df['adr'] == 0)]\n",
    "\n",
    "# Display the selected columns\n",
    "display(\n",
    "    confirmed_bookings_0_adr[['is_canceled', 'assigned_room_type', 'adr', 'reservation_status', 'total_nights']].head(), \n",
    "    Markdown(f\"There are {len(confirmed_bookings_0_adr)} confirmed bookings whose 'adr' value is 0.\")\n",
    ")"
   ]
  },
  {
   "cell_type": "code",
   "execution_count": 48,
   "id": "38fedc72",
   "metadata": {},
   "outputs": [
    {
     "data": {
      "text/html": [
       "<div>\n",
       "<style scoped>\n",
       "    .dataframe tbody tr th:only-of-type {\n",
       "        vertical-align: middle;\n",
       "    }\n",
       "\n",
       "    .dataframe tbody tr th {\n",
       "        vertical-align: top;\n",
       "    }\n",
       "\n",
       "    .dataframe thead th {\n",
       "        text-align: right;\n",
       "    }\n",
       "</style>\n",
       "<table border=\"1\" class=\"dataframe\">\n",
       "  <thead>\n",
       "    <tr style=\"text-align: right;\">\n",
       "      <th></th>\n",
       "      <th></th>\n",
       "      <th>mean</th>\n",
       "      <th>median</th>\n",
       "    </tr>\n",
       "    <tr>\n",
       "      <th>hotel</th>\n",
       "      <th>assigned_room_type</th>\n",
       "      <th></th>\n",
       "      <th></th>\n",
       "    </tr>\n",
       "  </thead>\n",
       "  <tbody>\n",
       "    <tr>\n",
       "      <th rowspan=\"8\" valign=\"top\">City Hotel</th>\n",
       "      <th>A</th>\n",
       "      <td>99.08</td>\n",
       "      <td>95.00</td>\n",
       "    </tr>\n",
       "    <tr>\n",
       "      <th>B</th>\n",
       "      <td>97.52</td>\n",
       "      <td>93.64</td>\n",
       "    </tr>\n",
       "    <tr>\n",
       "      <th>C</th>\n",
       "      <td>110.42</td>\n",
       "      <td>108.00</td>\n",
       "    </tr>\n",
       "    <tr>\n",
       "      <th>D</th>\n",
       "      <td>117.91</td>\n",
       "      <td>115.28</td>\n",
       "    </tr>\n",
       "    <tr>\n",
       "      <th>E</th>\n",
       "      <td>142.22</td>\n",
       "      <td>140.26</td>\n",
       "    </tr>\n",
       "    <tr>\n",
       "      <th>F</th>\n",
       "      <td>178.09</td>\n",
       "      <td>179.30</td>\n",
       "    </tr>\n",
       "    <tr>\n",
       "      <th>G</th>\n",
       "      <td>196.60</td>\n",
       "      <td>204.82</td>\n",
       "    </tr>\n",
       "    <tr>\n",
       "      <th>K</th>\n",
       "      <td>112.77</td>\n",
       "      <td>108.00</td>\n",
       "    </tr>\n",
       "    <tr>\n",
       "      <th rowspan=\"9\" valign=\"top\">Resort Hotel</th>\n",
       "      <th>A</th>\n",
       "      <td>81.31</td>\n",
       "      <td>65.00</td>\n",
       "    </tr>\n",
       "    <tr>\n",
       "      <th>B</th>\n",
       "      <td>105.82</td>\n",
       "      <td>95.00</td>\n",
       "    </tr>\n",
       "    <tr>\n",
       "      <th>C</th>\n",
       "      <td>108.82</td>\n",
       "      <td>87.00</td>\n",
       "    </tr>\n",
       "    <tr>\n",
       "      <th>D</th>\n",
       "      <td>82.43</td>\n",
       "      <td>65.00</td>\n",
       "    </tr>\n",
       "    <tr>\n",
       "      <th>E</th>\n",
       "      <td>102.46</td>\n",
       "      <td>85.50</td>\n",
       "    </tr>\n",
       "    <tr>\n",
       "      <th>F</th>\n",
       "      <td>120.39</td>\n",
       "      <td>102.00</td>\n",
       "    </tr>\n",
       "    <tr>\n",
       "      <th>G</th>\n",
       "      <td>153.18</td>\n",
       "      <td>139.00</td>\n",
       "    </tr>\n",
       "    <tr>\n",
       "      <th>H</th>\n",
       "      <td>161.82</td>\n",
       "      <td>150.12</td>\n",
       "    </tr>\n",
       "    <tr>\n",
       "      <th>I</th>\n",
       "      <td>90.87</td>\n",
       "      <td>70.20</td>\n",
       "    </tr>\n",
       "  </tbody>\n",
       "</table>\n",
       "</div>"
      ],
      "text/plain": [
       "                                   mean  median\n",
       "hotel        assigned_room_type                \n",
       "City Hotel   A                    99.08   95.00\n",
       "             B                    97.52   93.64\n",
       "             C                   110.42  108.00\n",
       "             D                   117.91  115.28\n",
       "             E                   142.22  140.26\n",
       "             F                   178.09  179.30\n",
       "             G                   196.60  204.82\n",
       "             K                   112.77  108.00\n",
       "Resort Hotel A                    81.31   65.00\n",
       "             B                   105.82   95.00\n",
       "             C                   108.82   87.00\n",
       "             D                    82.43   65.00\n",
       "             E                   102.46   85.50\n",
       "             F                   120.39  102.00\n",
       "             G                   153.18  139.00\n",
       "             H                   161.82  150.12\n",
       "             I                    90.87   70.20"
      ]
     },
     "execution_count": 48,
     "metadata": {},
     "output_type": "execute_result"
    }
   ],
   "source": [
    "# Check mean and median 'adr' for each type of room and hotel with confirmed bookings and 'adr' value different than 0\n",
    "confirmed_bookings_not_0_adr = df[(df['is_canceled'] == 'No') & (df['adr'] != 0)].groupby(['hotel', 'assigned_room_type'])['adr'].agg(['mean', 'median'])\n",
    "\n",
    "# Round the mean and median values to 2 decimals\n",
    "confirmed_bookings_not_0_adr = confirmed_bookings_not_0_adr.round(2)\n",
    "\n",
    "# Display the mean and median 'adr' values for each room type and hotel\n",
    "confirmed_bookings_not_0_adr"
   ]
  },
  {
   "cell_type": "code",
   "execution_count": 49,
   "id": "2ccb983f",
   "metadata": {},
   "outputs": [],
   "source": [
    "# Filter the data for confirmed bookings with 'adr' values different than 0\n",
    "filtered_data = df[(df['is_canceled'] == 'No') & (df['adr'] != 0)]"
   ]
  },
  {
   "cell_type": "code",
   "execution_count": 50,
   "id": "6d8a0f1c",
   "metadata": {},
   "outputs": [
    {
     "data": {
      "image/png": "[encoded data removed]",
      "text/plain": [
       "<Figure size 1400x1000 with 2 Axes>"
      ]
     },
     "metadata": {},
     "output_type": "display_data"
    }
   ],
   "source": [
    "# Create a 1x2 subplot grid\n",
    "fig, axes = plt.subplots(1, 2, figsize=(14, 10))\n",
    "\n",
    "# Plot ADR for 'Resort Hotel' by assigned room type\n",
    "sns.boxplot(x='assigned_room_type', y='adr', data=filtered_data[filtered_data['hotel'] == 'Resort Hotel'], ax=axes[0])\n",
    "axes[0].set_xlabel('Assigned Room Type')\n",
    "axes[0].set_ylabel('Mean ADR')\n",
    "axes[0].set_title('Resort Hotel - ADR by Room Type')\n",
    "\n",
    "# Plot ADR for 'City Hotel' by assigned room type\n",
    "sns.boxplot(x='assigned_room_type', y='adr', data=filtered_data[filtered_data['hotel'] == 'City Hotel'], ax=axes[1])\n",
    "axes[1].set_xlabel('Assigned Room Type')\n",
    "axes[1].set_ylabel('Mean ADR')\n",
    "axes[1].set_title('City Hotel - ADR by Room Type')\n",
    "\n",
    "# Adjust spacing between subplots\n",
    "plt.tight_layout()\n",
    "\n",
    "# Show the plot\n",
    "plt.show()"
   ]
  },
  {
   "cell_type": "markdown",
   "id": "c62756a8",
   "metadata": {},
   "source": [
    "In order to mitigate the impact of outliers in the 'adr' distribution, I will impute the **median 'adr'** value for confirmed bookings with an 'adr' value of '0', considering the assigned room type and hotel."
   ]
  },
  {
   "cell_type": "code",
   "execution_count": 51,
   "id": "8bb43d33",
   "metadata": {},
   "outputs": [
    {
     "data": {
      "text/html": [
       "<div>\n",
       "<style scoped>\n",
       "    .dataframe tbody tr th:only-of-type {\n",
       "        vertical-align: middle;\n",
       "    }\n",
       "\n",
       "    .dataframe tbody tr th {\n",
       "        vertical-align: top;\n",
       "    }\n",
       "\n",
       "    .dataframe thead th {\n",
       "        text-align: right;\n",
       "    }\n",
       "</style>\n",
       "<table border=\"1\" class=\"dataframe\">\n",
       "  <thead>\n",
       "    <tr style=\"text-align: right;\">\n",
       "      <th></th>\n",
       "      <th>hotel</th>\n",
       "      <th>assigned_room_type</th>\n",
       "      <th>median</th>\n",
       "    </tr>\n",
       "  </thead>\n",
       "  <tbody>\n",
       "    <tr>\n",
       "      <th>0</th>\n",
       "      <td>City Hotel</td>\n",
       "      <td>A</td>\n",
       "      <td>95.00</td>\n",
       "    </tr>\n",
       "    <tr>\n",
       "      <th>1</th>\n",
       "      <td>City Hotel</td>\n",
       "      <td>B</td>\n",
       "      <td>93.64</td>\n",
       "    </tr>\n",
       "    <tr>\n",
       "      <th>2</th>\n",
       "      <td>City Hotel</td>\n",
       "      <td>C</td>\n",
       "      <td>108.00</td>\n",
       "    </tr>\n",
       "    <tr>\n",
       "      <th>3</th>\n",
       "      <td>City Hotel</td>\n",
       "      <td>D</td>\n",
       "      <td>115.28</td>\n",
       "    </tr>\n",
       "    <tr>\n",
       "      <th>4</th>\n",
       "      <td>City Hotel</td>\n",
       "      <td>E</td>\n",
       "      <td>140.26</td>\n",
       "    </tr>\n",
       "    <tr>\n",
       "      <th>5</th>\n",
       "      <td>City Hotel</td>\n",
       "      <td>F</td>\n",
       "      <td>179.30</td>\n",
       "    </tr>\n",
       "    <tr>\n",
       "      <th>6</th>\n",
       "      <td>City Hotel</td>\n",
       "      <td>G</td>\n",
       "      <td>204.82</td>\n",
       "    </tr>\n",
       "    <tr>\n",
       "      <th>7</th>\n",
       "      <td>City Hotel</td>\n",
       "      <td>K</td>\n",
       "      <td>108.00</td>\n",
       "    </tr>\n",
       "    <tr>\n",
       "      <th>8</th>\n",
       "      <td>Resort Hotel</td>\n",
       "      <td>A</td>\n",
       "      <td>65.00</td>\n",
       "    </tr>\n",
       "    <tr>\n",
       "      <th>9</th>\n",
       "      <td>Resort Hotel</td>\n",
       "      <td>B</td>\n",
       "      <td>95.00</td>\n",
       "    </tr>\n",
       "    <tr>\n",
       "      <th>10</th>\n",
       "      <td>Resort Hotel</td>\n",
       "      <td>C</td>\n",
       "      <td>87.00</td>\n",
       "    </tr>\n",
       "    <tr>\n",
       "      <th>11</th>\n",
       "      <td>Resort Hotel</td>\n",
       "      <td>D</td>\n",
       "      <td>65.00</td>\n",
       "    </tr>\n",
       "    <tr>\n",
       "      <th>12</th>\n",
       "      <td>Resort Hotel</td>\n",
       "      <td>E</td>\n",
       "      <td>85.50</td>\n",
       "    </tr>\n",
       "    <tr>\n",
       "      <th>13</th>\n",
       "      <td>Resort Hotel</td>\n",
       "      <td>F</td>\n",
       "      <td>102.00</td>\n",
       "    </tr>\n",
       "    <tr>\n",
       "      <th>14</th>\n",
       "      <td>Resort Hotel</td>\n",
       "      <td>G</td>\n",
       "      <td>139.00</td>\n",
       "    </tr>\n",
       "    <tr>\n",
       "      <th>15</th>\n",
       "      <td>Resort Hotel</td>\n",
       "      <td>H</td>\n",
       "      <td>150.12</td>\n",
       "    </tr>\n",
       "    <tr>\n",
       "      <th>16</th>\n",
       "      <td>Resort Hotel</td>\n",
       "      <td>I</td>\n",
       "      <td>70.20</td>\n",
       "    </tr>\n",
       "  </tbody>\n",
       "</table>\n",
       "</div>"
      ],
      "text/plain": [
       "           hotel assigned_room_type  median\n",
       "0     City Hotel                  A   95.00\n",
       "1     City Hotel                  B   93.64\n",
       "2     City Hotel                  C  108.00\n",
       "3     City Hotel                  D  115.28\n",
       "4     City Hotel                  E  140.26\n",
       "5     City Hotel                  F  179.30\n",
       "6     City Hotel                  G  204.82\n",
       "7     City Hotel                  K  108.00\n",
       "8   Resort Hotel                  A   65.00\n",
       "9   Resort Hotel                  B   95.00\n",
       "10  Resort Hotel                  C   87.00\n",
       "11  Resort Hotel                  D   65.00\n",
       "12  Resort Hotel                  E   85.50\n",
       "13  Resort Hotel                  F  102.00\n",
       "14  Resort Hotel                  G  139.00\n",
       "15  Resort Hotel                  H  150.12\n",
       "16  Resort Hotel                  I   70.20"
      ]
     },
     "execution_count": 51,
     "metadata": {},
     "output_type": "execute_result"
    }
   ],
   "source": [
    "# Reset the index of confirmed_bookings_not_0_adr to obtain a DataFrame\n",
    "# with columns 'hotel', 'assigned_room_type', 'mean', and 'median'\n",
    "confirmed_bookings_not_0_adr_reset = confirmed_bookings_not_0_adr.reset_index()\n",
    "\n",
    "# Display the output (median)\n",
    "confirmed_bookings_not_0_adr_reset[['hotel','assigned_room_type','median']]"
   ]
  },
  {
   "cell_type": "code",
   "execution_count": 52,
   "id": "5b3207af",
   "metadata": {},
   "outputs": [],
   "source": [
    "# Iterate through each case in confirmed_bookings_0_adr\n",
    "for index, row in confirmed_bookings_0_adr.iterrows():\n",
    "    # Extract 'hotel' and 'assigned_room_type'\n",
    "    hotel = row['hotel']\n",
    "    room_type = row['assigned_room_type']\n",
    "    \n",
    "    # Find the corresponding median 'adr' value from confirmed_bookings_not_0_adr_reset\n",
    "    median_adr = confirmed_bookings_not_0_adr_reset[\n",
    "        (confirmed_bookings_not_0_adr_reset['hotel'] == hotel) &\n",
    "        (confirmed_bookings_not_0_adr_reset['assigned_room_type'] == room_type)]['median'].values[0]  # Extract the median value\n",
    "    \n",
    "    # Update the 'adr' value in the original DataFrame\n",
    "    df.at[index, 'adr'] = median_adr"
   ]
  },
  {
   "cell_type": "code",
   "execution_count": 53,
   "id": "475bac72",
   "metadata": {},
   "outputs": [
    {
     "data": {
      "text/markdown": [
       "Now, there are 0 confirmed bookings with an 'adr' value of 0."
      ],
      "text/plain": [
       "<IPython.core.display.Markdown object>"
      ]
     },
     "metadata": {},
     "output_type": "display_data"
    }
   ],
   "source": [
    "# Check changes\n",
    "confirmed_bookings_0_adr = df[(df['is_canceled'] == 'No') & (df['adr'] == 0)]\n",
    "\n",
    "display(Markdown(f\"Now, there are {len(confirmed_bookings_0_adr)} confirmed bookings with an 'adr' value of 0.\"))"
   ]
  },
  {
   "cell_type": "code",
   "execution_count": 54,
   "id": "31dd6dd6",
   "metadata": {},
   "outputs": [
    {
     "data": {
      "text/html": [
       "<div>\n",
       "<style scoped>\n",
       "    .dataframe tbody tr th:only-of-type {\n",
       "        vertical-align: middle;\n",
       "    }\n",
       "\n",
       "    .dataframe tbody tr th {\n",
       "        vertical-align: top;\n",
       "    }\n",
       "\n",
       "    .dataframe thead th {\n",
       "        text-align: right;\n",
       "    }\n",
       "</style>\n",
       "<table border=\"1\" class=\"dataframe\">\n",
       "  <thead>\n",
       "    <tr style=\"text-align: right;\">\n",
       "      <th></th>\n",
       "      <th>hotel</th>\n",
       "      <th>assigned_room_type</th>\n",
       "      <th>median</th>\n",
       "      <th>original_mean</th>\n",
       "      <th>new_mean</th>\n",
       "      <th>mean_difference</th>\n",
       "    </tr>\n",
       "  </thead>\n",
       "  <tbody>\n",
       "    <tr>\n",
       "      <th>0</th>\n",
       "      <td>City Hotel</td>\n",
       "      <td>A</td>\n",
       "      <td>95.00</td>\n",
       "      <td>99.08</td>\n",
       "      <td>99.03</td>\n",
       "      <td>0.05</td>\n",
       "    </tr>\n",
       "    <tr>\n",
       "      <th>1</th>\n",
       "      <td>City Hotel</td>\n",
       "      <td>B</td>\n",
       "      <td>93.64</td>\n",
       "      <td>97.52</td>\n",
       "      <td>97.41</td>\n",
       "      <td>0.11</td>\n",
       "    </tr>\n",
       "    <tr>\n",
       "      <th>2</th>\n",
       "      <td>City Hotel</td>\n",
       "      <td>C</td>\n",
       "      <td>108.00</td>\n",
       "      <td>110.42</td>\n",
       "      <td>110.31</td>\n",
       "      <td>0.11</td>\n",
       "    </tr>\n",
       "    <tr>\n",
       "      <th>3</th>\n",
       "      <td>City Hotel</td>\n",
       "      <td>D</td>\n",
       "      <td>115.28</td>\n",
       "      <td>117.91</td>\n",
       "      <td>117.88</td>\n",
       "      <td>0.03</td>\n",
       "    </tr>\n",
       "    <tr>\n",
       "      <th>4</th>\n",
       "      <td>City Hotel</td>\n",
       "      <td>E</td>\n",
       "      <td>140.26</td>\n",
       "      <td>142.22</td>\n",
       "      <td>142.19</td>\n",
       "      <td>0.03</td>\n",
       "    </tr>\n",
       "    <tr>\n",
       "      <th>5</th>\n",
       "      <td>City Hotel</td>\n",
       "      <td>F</td>\n",
       "      <td>179.30</td>\n",
       "      <td>178.09</td>\n",
       "      <td>178.13</td>\n",
       "      <td>-0.04</td>\n",
       "    </tr>\n",
       "    <tr>\n",
       "      <th>6</th>\n",
       "      <td>City Hotel</td>\n",
       "      <td>G</td>\n",
       "      <td>204.82</td>\n",
       "      <td>196.60</td>\n",
       "      <td>197.36</td>\n",
       "      <td>-0.76</td>\n",
       "    </tr>\n",
       "    <tr>\n",
       "      <th>7</th>\n",
       "      <td>City Hotel</td>\n",
       "      <td>K</td>\n",
       "      <td>108.00</td>\n",
       "      <td>112.77</td>\n",
       "      <td>112.56</td>\n",
       "      <td>0.21</td>\n",
       "    </tr>\n",
       "    <tr>\n",
       "      <th>8</th>\n",
       "      <td>Resort Hotel</td>\n",
       "      <td>A</td>\n",
       "      <td>65.00</td>\n",
       "      <td>81.31</td>\n",
       "      <td>81.20</td>\n",
       "      <td>0.11</td>\n",
       "    </tr>\n",
       "    <tr>\n",
       "      <th>9</th>\n",
       "      <td>Resort Hotel</td>\n",
       "      <td>B</td>\n",
       "      <td>95.00</td>\n",
       "      <td>105.82</td>\n",
       "      <td>105.60</td>\n",
       "      <td>0.22</td>\n",
       "    </tr>\n",
       "    <tr>\n",
       "      <th>10</th>\n",
       "      <td>Resort Hotel</td>\n",
       "      <td>C</td>\n",
       "      <td>87.00</td>\n",
       "      <td>108.82</td>\n",
       "      <td>108.65</td>\n",
       "      <td>0.17</td>\n",
       "    </tr>\n",
       "    <tr>\n",
       "      <th>11</th>\n",
       "      <td>Resort Hotel</td>\n",
       "      <td>D</td>\n",
       "      <td>65.00</td>\n",
       "      <td>82.43</td>\n",
       "      <td>82.33</td>\n",
       "      <td>0.10</td>\n",
       "    </tr>\n",
       "    <tr>\n",
       "      <th>12</th>\n",
       "      <td>Resort Hotel</td>\n",
       "      <td>E</td>\n",
       "      <td>85.50</td>\n",
       "      <td>102.46</td>\n",
       "      <td>102.32</td>\n",
       "      <td>0.14</td>\n",
       "    </tr>\n",
       "    <tr>\n",
       "      <th>13</th>\n",
       "      <td>Resort Hotel</td>\n",
       "      <td>F</td>\n",
       "      <td>102.00</td>\n",
       "      <td>120.39</td>\n",
       "      <td>120.06</td>\n",
       "      <td>0.33</td>\n",
       "    </tr>\n",
       "    <tr>\n",
       "      <th>14</th>\n",
       "      <td>Resort Hotel</td>\n",
       "      <td>G</td>\n",
       "      <td>139.00</td>\n",
       "      <td>153.18</td>\n",
       "      <td>152.94</td>\n",
       "      <td>0.24</td>\n",
       "    </tr>\n",
       "    <tr>\n",
       "      <th>15</th>\n",
       "      <td>Resort Hotel</td>\n",
       "      <td>H</td>\n",
       "      <td>150.12</td>\n",
       "      <td>161.82</td>\n",
       "      <td>161.64</td>\n",
       "      <td>0.18</td>\n",
       "    </tr>\n",
       "    <tr>\n",
       "      <th>16</th>\n",
       "      <td>Resort Hotel</td>\n",
       "      <td>I</td>\n",
       "      <td>70.20</td>\n",
       "      <td>90.87</td>\n",
       "      <td>85.39</td>\n",
       "      <td>5.48</td>\n",
       "    </tr>\n",
       "  </tbody>\n",
       "</table>\n",
       "</div>"
      ],
      "text/plain": [
       "           hotel assigned_room_type  median  original_mean  new_mean  \\\n",
       "0     City Hotel                  A   95.00          99.08     99.03   \n",
       "1     City Hotel                  B   93.64          97.52     97.41   \n",
       "2     City Hotel                  C  108.00         110.42    110.31   \n",
       "3     City Hotel                  D  115.28         117.91    117.88   \n",
       "4     City Hotel                  E  140.26         142.22    142.19   \n",
       "5     City Hotel                  F  179.30         178.09    178.13   \n",
       "6     City Hotel                  G  204.82         196.60    197.36   \n",
       "7     City Hotel                  K  108.00         112.77    112.56   \n",
       "8   Resort Hotel                  A   65.00          81.31     81.20   \n",
       "9   Resort Hotel                  B   95.00         105.82    105.60   \n",
       "10  Resort Hotel                  C   87.00         108.82    108.65   \n",
       "11  Resort Hotel                  D   65.00          82.43     82.33   \n",
       "12  Resort Hotel                  E   85.50         102.46    102.32   \n",
       "13  Resort Hotel                  F  102.00         120.39    120.06   \n",
       "14  Resort Hotel                  G  139.00         153.18    152.94   \n",
       "15  Resort Hotel                  H  150.12         161.82    161.64   \n",
       "16  Resort Hotel                  I   70.20          90.87     85.39   \n",
       "\n",
       "    mean_difference  \n",
       "0              0.05  \n",
       "1              0.11  \n",
       "2              0.11  \n",
       "3              0.03  \n",
       "4              0.03  \n",
       "5             -0.04  \n",
       "6             -0.76  \n",
       "7              0.21  \n",
       "8              0.11  \n",
       "9              0.22  \n",
       "10             0.17  \n",
       "11             0.10  \n",
       "12             0.14  \n",
       "13             0.33  \n",
       "14             0.24  \n",
       "15             0.18  \n",
       "16             5.48  "
      ]
     },
     "execution_count": 54,
     "metadata": {},
     "output_type": "execute_result"
    }
   ],
   "source": [
    "# Check impact on new average values\n",
    "new_mean = df[df['is_canceled'] == 'No'].groupby(['hotel', 'assigned_room_type'])['adr'].agg(['mean'])\n",
    "\n",
    "# Round the mean values to 2 decimals\n",
    "new_mean = new_mean.round(2)\n",
    "\n",
    "# Rename the 'mean' column\n",
    "new_mean = new_mean.rename(columns={'mean': 'new_mean'})\n",
    "confirmed_bookings_not_0_adr_reset = confirmed_bookings_not_0_adr_reset.rename(columns={'mean':'original_mean'})\n",
    "\n",
    "# Reset the index\n",
    "new_mean = new_mean.reset_index()\n",
    "\n",
    "# Concatenate to previous median data\n",
    "mean_changes = pd.concat([confirmed_bookings_not_0_adr_reset[['hotel','assigned_room_type','median','original_mean']], new_mean['new_mean']], axis=1, join='inner')\n",
    "\n",
    "# Calculate mean difference\n",
    "mean_changes['mean_difference'] = mean_changes['original_mean']-mean_changes['new_mean']\n",
    "\n",
    "# Display mean_changes\n",
    "mean_changes"
   ]
  },
  {
   "cell_type": "markdown",
   "id": "b639e9b8",
   "metadata": {},
   "source": [
    "#### Reorder columns"
   ]
  },
  {
   "cell_type": "code",
   "execution_count": 55,
   "id": "2a61bedd",
   "metadata": {},
   "outputs": [
    {
     "data": {
      "text/plain": [
       "Index(['hotel', 'is_canceled', 'lead_time', 'arrival_date_year',\n",
       "       'arrival_date_month', 'arrival_date_week_number',\n",
       "       'arrival_date_day_of_month', 'stays_in_weekend_nights',\n",
       "       'stays_in_week_nights', 'adults', 'children', 'babies', 'meal',\n",
       "       'country', 'market_segment', 'distribution_channel',\n",
       "       'is_repeated_guest', 'previous_cancellations',\n",
       "       'previous_bookings_not_canceled', 'reserved_room_type',\n",
       "       'assigned_room_type', 'booking_changes', 'deposit_type',\n",
       "       'days_in_waiting_list', 'customer_type', 'adr',\n",
       "       'required_car_parking_spaces', 'total_of_special_requests',\n",
       "       'reservation_status', 'reservation_status_date',\n",
       "       'arrival_date_month_num', 'check_in_date', 'total_guests',\n",
       "       'total_nights', 'weekend_or_weekday'],\n",
       "      dtype='object')"
      ]
     },
     "execution_count": 55,
     "metadata": {},
     "output_type": "execute_result"
    }
   ],
   "source": [
    "# Check columns\n",
    "df.columns"
   ]
  },
  {
   "cell_type": "code",
   "execution_count": 56,
   "id": "fb622cb2",
   "metadata": {},
   "outputs": [],
   "source": [
    "# Specify new order of columns\n",
    "new_order = [\n",
    "    'hotel', 'is_canceled', 'lead_time', 'arrival_date_year',\n",
    "    'arrival_date_month', 'arrival_date_month_num', 'arrival_date_week_number',\n",
    "    'arrival_date_day_of_month',\n",
    "    'check_in_date', 'total_nights','stays_in_weekend_nights',\n",
    "    'stays_in_week_nights', 'weekend_or_weekday', 'adults', 'children', 'babies',\n",
    "    'total_guests','country', 'meal', 'market_segment', 'distribution_channel',\n",
    "    'is_repeated_guest', 'previous_cancellations',\n",
    "    'previous_bookings_not_canceled', 'reserved_room_type',\n",
    "    'assigned_room_type', 'booking_changes', 'deposit_type',\n",
    "    'days_in_waiting_list', 'customer_type', 'adr',\n",
    "    'required_car_parking_spaces', 'total_of_special_requests',\n",
    "    'reservation_status', 'reservation_status_date'\n",
    "]"
   ]
  },
  {
   "cell_type": "code",
   "execution_count": 57,
   "id": "6f87d01a",
   "metadata": {},
   "outputs": [
    {
     "data": {
      "text/plain": [
       "True"
      ]
     },
     "execution_count": 57,
     "metadata": {},
     "output_type": "execute_result"
    }
   ],
   "source": [
    "# Calculate the number of columns in the original dataframe and in the new_order list\n",
    "len_cols_df = len(df.columns)\n",
    "len_cols_new_order = len(new_order)\n",
    "\n",
    "# Check if the columns in the DataFrame exactly match the columns in the new_order list (regardless of order)\n",
    "check_columns_match = set(df.columns) == set(new_order)\n",
    "check_columns_match"
   ]
  },
  {
   "cell_type": "code",
   "execution_count": 58,
   "id": "6534c50a",
   "metadata": {},
   "outputs": [
    {
     "data": {
      "text/html": [
       "<div>\n",
       "<style scoped>\n",
       "    .dataframe tbody tr th:only-of-type {\n",
       "        vertical-align: middle;\n",
       "    }\n",
       "\n",
       "    .dataframe tbody tr th {\n",
       "        vertical-align: top;\n",
       "    }\n",
       "\n",
       "    .dataframe thead th {\n",
       "        text-align: right;\n",
       "    }\n",
       "</style>\n",
       "<table border=\"1\" class=\"dataframe\">\n",
       "  <thead>\n",
       "    <tr style=\"text-align: right;\">\n",
       "      <th></th>\n",
       "      <th>hotel</th>\n",
       "      <th>is_canceled</th>\n",
       "      <th>lead_time</th>\n",
       "      <th>arrival_date_year</th>\n",
       "      <th>arrival_date_month</th>\n",
       "      <th>arrival_date_month_num</th>\n",
       "      <th>arrival_date_week_number</th>\n",
       "      <th>arrival_date_day_of_month</th>\n",
       "      <th>check_in_date</th>\n",
       "      <th>total_nights</th>\n",
       "      <th>stays_in_weekend_nights</th>\n",
       "      <th>stays_in_week_nights</th>\n",
       "      <th>weekend_or_weekday</th>\n",
       "      <th>adults</th>\n",
       "      <th>children</th>\n",
       "      <th>babies</th>\n",
       "      <th>total_guests</th>\n",
       "      <th>country</th>\n",
       "      <th>meal</th>\n",
       "      <th>market_segment</th>\n",
       "      <th>distribution_channel</th>\n",
       "      <th>is_repeated_guest</th>\n",
       "      <th>previous_cancellations</th>\n",
       "      <th>previous_bookings_not_canceled</th>\n",
       "      <th>reserved_room_type</th>\n",
       "      <th>assigned_room_type</th>\n",
       "      <th>booking_changes</th>\n",
       "      <th>deposit_type</th>\n",
       "      <th>days_in_waiting_list</th>\n",
       "      <th>customer_type</th>\n",
       "      <th>adr</th>\n",
       "      <th>required_car_parking_spaces</th>\n",
       "      <th>total_of_special_requests</th>\n",
       "      <th>reservation_status</th>\n",
       "      <th>reservation_status_date</th>\n",
       "    </tr>\n",
       "  </thead>\n",
       "  <tbody>\n",
       "    <tr>\n",
       "      <th>0</th>\n",
       "      <td>Resort Hotel</td>\n",
       "      <td>Yes</td>\n",
       "      <td>342</td>\n",
       "      <td>2015</td>\n",
       "      <td>July</td>\n",
       "      <td>7</td>\n",
       "      <td>27</td>\n",
       "      <td>1</td>\n",
       "      <td>2015-07-01</td>\n",
       "      <td>0</td>\n",
       "      <td>0</td>\n",
       "      <td>0</td>\n",
       "      <td>undefined_data</td>\n",
       "      <td>2</td>\n",
       "      <td>0</td>\n",
       "      <td>0</td>\n",
       "      <td>2</td>\n",
       "      <td>PRT</td>\n",
       "      <td>BB</td>\n",
       "      <td>Direct</td>\n",
       "      <td>Direct</td>\n",
       "      <td>0</td>\n",
       "      <td>0</td>\n",
       "      <td>0</td>\n",
       "      <td>C</td>\n",
       "      <td>C</td>\n",
       "      <td>3</td>\n",
       "      <td>No Deposit</td>\n",
       "      <td>0</td>\n",
       "      <td>Transient</td>\n",
       "      <td>0.0</td>\n",
       "      <td>0</td>\n",
       "      <td>0</td>\n",
       "      <td>Canceled</td>\n",
       "      <td>2015-07-01</td>\n",
       "    </tr>\n",
       "    <tr>\n",
       "      <th>1</th>\n",
       "      <td>Resort Hotel</td>\n",
       "      <td>Yes</td>\n",
       "      <td>737</td>\n",
       "      <td>2015</td>\n",
       "      <td>July</td>\n",
       "      <td>7</td>\n",
       "      <td>27</td>\n",
       "      <td>1</td>\n",
       "      <td>2015-07-01</td>\n",
       "      <td>0</td>\n",
       "      <td>0</td>\n",
       "      <td>0</td>\n",
       "      <td>undefined_data</td>\n",
       "      <td>2</td>\n",
       "      <td>0</td>\n",
       "      <td>0</td>\n",
       "      <td>2</td>\n",
       "      <td>PRT</td>\n",
       "      <td>BB</td>\n",
       "      <td>Direct</td>\n",
       "      <td>Direct</td>\n",
       "      <td>0</td>\n",
       "      <td>0</td>\n",
       "      <td>0</td>\n",
       "      <td>C</td>\n",
       "      <td>C</td>\n",
       "      <td>4</td>\n",
       "      <td>No Deposit</td>\n",
       "      <td>0</td>\n",
       "      <td>Transient</td>\n",
       "      <td>0.0</td>\n",
       "      <td>0</td>\n",
       "      <td>0</td>\n",
       "      <td>Canceled</td>\n",
       "      <td>2015-07-01</td>\n",
       "    </tr>\n",
       "    <tr>\n",
       "      <th>2</th>\n",
       "      <td>Resort Hotel</td>\n",
       "      <td>No</td>\n",
       "      <td>7</td>\n",
       "      <td>2015</td>\n",
       "      <td>July</td>\n",
       "      <td>7</td>\n",
       "      <td>27</td>\n",
       "      <td>1</td>\n",
       "      <td>2015-07-01</td>\n",
       "      <td>1</td>\n",
       "      <td>0</td>\n",
       "      <td>1</td>\n",
       "      <td>stay_just_weekdays</td>\n",
       "      <td>1</td>\n",
       "      <td>0</td>\n",
       "      <td>0</td>\n",
       "      <td>1</td>\n",
       "      <td>GBR</td>\n",
       "      <td>BB</td>\n",
       "      <td>Direct</td>\n",
       "      <td>Direct</td>\n",
       "      <td>0</td>\n",
       "      <td>0</td>\n",
       "      <td>0</td>\n",
       "      <td>A</td>\n",
       "      <td>C</td>\n",
       "      <td>0</td>\n",
       "      <td>No Deposit</td>\n",
       "      <td>0</td>\n",
       "      <td>Transient</td>\n",
       "      <td>75.0</td>\n",
       "      <td>0</td>\n",
       "      <td>0</td>\n",
       "      <td>Check-Out</td>\n",
       "      <td>2015-07-02</td>\n",
       "    </tr>\n",
       "    <tr>\n",
       "      <th>3</th>\n",
       "      <td>Resort Hotel</td>\n",
       "      <td>No</td>\n",
       "      <td>13</td>\n",
       "      <td>2015</td>\n",
       "      <td>July</td>\n",
       "      <td>7</td>\n",
       "      <td>27</td>\n",
       "      <td>1</td>\n",
       "      <td>2015-07-01</td>\n",
       "      <td>1</td>\n",
       "      <td>0</td>\n",
       "      <td>1</td>\n",
       "      <td>stay_just_weekdays</td>\n",
       "      <td>1</td>\n",
       "      <td>0</td>\n",
       "      <td>0</td>\n",
       "      <td>1</td>\n",
       "      <td>GBR</td>\n",
       "      <td>BB</td>\n",
       "      <td>Corporate</td>\n",
       "      <td>Corporate</td>\n",
       "      <td>0</td>\n",
       "      <td>0</td>\n",
       "      <td>0</td>\n",
       "      <td>A</td>\n",
       "      <td>A</td>\n",
       "      <td>0</td>\n",
       "      <td>No Deposit</td>\n",
       "      <td>0</td>\n",
       "      <td>Transient</td>\n",
       "      <td>75.0</td>\n",
       "      <td>0</td>\n",
       "      <td>0</td>\n",
       "      <td>Check-Out</td>\n",
       "      <td>2015-07-02</td>\n",
       "    </tr>\n",
       "    <tr>\n",
       "      <th>4</th>\n",
       "      <td>Resort Hotel</td>\n",
       "      <td>No</td>\n",
       "      <td>14</td>\n",
       "      <td>2015</td>\n",
       "      <td>July</td>\n",
       "      <td>7</td>\n",
       "      <td>27</td>\n",
       "      <td>1</td>\n",
       "      <td>2015-07-01</td>\n",
       "      <td>2</td>\n",
       "      <td>0</td>\n",
       "      <td>2</td>\n",
       "      <td>stay_just_weekdays</td>\n",
       "      <td>2</td>\n",
       "      <td>0</td>\n",
       "      <td>0</td>\n",
       "      <td>2</td>\n",
       "      <td>GBR</td>\n",
       "      <td>BB</td>\n",
       "      <td>Online TA</td>\n",
       "      <td>TA/TO</td>\n",
       "      <td>0</td>\n",
       "      <td>0</td>\n",
       "      <td>0</td>\n",
       "      <td>A</td>\n",
       "      <td>A</td>\n",
       "      <td>0</td>\n",
       "      <td>No Deposit</td>\n",
       "      <td>0</td>\n",
       "      <td>Transient</td>\n",
       "      <td>98.0</td>\n",
       "      <td>0</td>\n",
       "      <td>1</td>\n",
       "      <td>Check-Out</td>\n",
       "      <td>2015-07-03</td>\n",
       "    </tr>\n",
       "  </tbody>\n",
       "</table>\n",
       "</div>"
      ],
      "text/plain": [
       "          hotel is_canceled  lead_time  arrival_date_year arrival_date_month  \\\n",
       "0  Resort Hotel         Yes        342               2015               July   \n",
       "1  Resort Hotel         Yes        737               2015               July   \n",
       "2  Resort Hotel          No          7               2015               July   \n",
       "3  Resort Hotel          No         13               2015               July   \n",
       "4  Resort Hotel          No         14               2015               July   \n",
       "\n",
       "   arrival_date_month_num  arrival_date_week_number  \\\n",
       "0                       7                        27   \n",
       "1                       7                        27   \n",
       "2                       7                        27   \n",
       "3                       7                        27   \n",
       "4                       7                        27   \n",
       "\n",
       "   arrival_date_day_of_month check_in_date  total_nights  \\\n",
       "0                          1    2015-07-01             0   \n",
       "1                          1    2015-07-01             0   \n",
       "2                          1    2015-07-01             1   \n",
       "3                          1    2015-07-01             1   \n",
       "4                          1    2015-07-01             2   \n",
       "\n",
       "   stays_in_weekend_nights  stays_in_week_nights  weekend_or_weekday  adults  \\\n",
       "0                        0                     0      undefined_data       2   \n",
       "1                        0                     0      undefined_data       2   \n",
       "2                        0                     1  stay_just_weekdays       1   \n",
       "3                        0                     1  stay_just_weekdays       1   \n",
       "4                        0                     2  stay_just_weekdays       2   \n",
       "\n",
       "   children  babies  total_guests country meal market_segment  \\\n",
       "0         0       0             2     PRT   BB         Direct   \n",
       "1         0       0             2     PRT   BB         Direct   \n",
       "2         0       0             1     GBR   BB         Direct   \n",
       "3         0       0             1     GBR   BB      Corporate   \n",
       "4         0       0             2     GBR   BB      Online TA   \n",
       "\n",
       "  distribution_channel  is_repeated_guest  previous_cancellations  \\\n",
       "0               Direct                  0                       0   \n",
       "1               Direct                  0                       0   \n",
       "2               Direct                  0                       0   \n",
       "3            Corporate                  0                       0   \n",
       "4                TA/TO                  0                       0   \n",
       "\n",
       "   previous_bookings_not_canceled reserved_room_type assigned_room_type  \\\n",
       "0                               0                  C                  C   \n",
       "1                               0                  C                  C   \n",
       "2                               0                  A                  C   \n",
       "3                               0                  A                  A   \n",
       "4                               0                  A                  A   \n",
       "\n",
       "   booking_changes deposit_type  days_in_waiting_list customer_type   adr  \\\n",
       "0                3   No Deposit                     0     Transient   0.0   \n",
       "1                4   No Deposit                     0     Transient   0.0   \n",
       "2                0   No Deposit                     0     Transient  75.0   \n",
       "3                0   No Deposit                     0     Transient  75.0   \n",
       "4                0   No Deposit                     0     Transient  98.0   \n",
       "\n",
       "   required_car_parking_spaces  total_of_special_requests reservation_status  \\\n",
       "0                            0                          0           Canceled   \n",
       "1                            0                          0           Canceled   \n",
       "2                            0                          0          Check-Out   \n",
       "3                            0                          0          Check-Out   \n",
       "4                            0                          1          Check-Out   \n",
       "\n",
       "  reservation_status_date  \n",
       "0              2015-07-01  \n",
       "1              2015-07-01  \n",
       "2              2015-07-02  \n",
       "3              2015-07-02  \n",
       "4              2015-07-03  "
      ]
     },
     "execution_count": 58,
     "metadata": {},
     "output_type": "execute_result"
    }
   ],
   "source": [
    "# Reorder the columns in the DataFrame according to the new_order list\n",
    "df = df[new_order]\n",
    "\n",
    "# Display the first few rows of the updated DataFrame\n",
    "df.head()"
   ]
  },
  {
   "cell_type": "code",
   "execution_count": 59,
   "id": "d4681f62",
   "metadata": {},
   "outputs": [
    {
     "name": "stdout",
     "output_type": "stream",
     "text": [
      "<class 'pandas.core.frame.DataFrame'>\n",
      "Int64Index: 119210 entries, 0 to 119389\n",
      "Data columns (total 35 columns):\n",
      " #   Column                          Non-Null Count   Dtype         \n",
      "---  ------                          --------------   -----         \n",
      " 0   hotel                           119210 non-null  object        \n",
      " 1   is_canceled                     119210 non-null  object        \n",
      " 2   lead_time                       119210 non-null  int64         \n",
      " 3   arrival_date_year               119210 non-null  int64         \n",
      " 4   arrival_date_month              119210 non-null  object        \n",
      " 5   arrival_date_month_num          119210 non-null  int64         \n",
      " 6   arrival_date_week_number        119210 non-null  int64         \n",
      " 7   arrival_date_day_of_month       119210 non-null  int64         \n",
      " 8   check_in_date                   119210 non-null  datetime64[ns]\n",
      " 9   total_nights                    119210 non-null  int64         \n",
      " 10  stays_in_weekend_nights         119210 non-null  int64         \n",
      " 11  stays_in_week_nights            119210 non-null  int64         \n",
      " 12  weekend_or_weekday              119210 non-null  object        \n",
      " 13  adults                          119210 non-null  int64         \n",
      " 14  children                        119210 non-null  int64         \n",
      " 15  babies                          119210 non-null  int64         \n",
      " 16  total_guests                    119210 non-null  int64         \n",
      " 17  country                         119210 non-null  object        \n",
      " 18  meal                            119210 non-null  object        \n",
      " 19  market_segment                  119210 non-null  object        \n",
      " 20  distribution_channel            119210 non-null  object        \n",
      " 21  is_repeated_guest               119210 non-null  int64         \n",
      " 22  previous_cancellations          119210 non-null  int64         \n",
      " 23  previous_bookings_not_canceled  119210 non-null  int64         \n",
      " 24  reserved_room_type              119210 non-null  object        \n",
      " 25  assigned_room_type              119210 non-null  object        \n",
      " 26  booking_changes                 119210 non-null  int64         \n",
      " 27  deposit_type                    119210 non-null  object        \n",
      " 28  days_in_waiting_list            119210 non-null  int64         \n",
      " 29  customer_type                   119210 non-null  object        \n",
      " 30  adr                             119210 non-null  float64       \n",
      " 31  required_car_parking_spaces     119210 non-null  int64         \n",
      " 32  total_of_special_requests       119210 non-null  int64         \n",
      " 33  reservation_status              119210 non-null  object        \n",
      " 34  reservation_status_date         119210 non-null  datetime64[ns]\n",
      "dtypes: datetime64[ns](2), float64(1), int64(19), object(13)\n",
      "memory usage: 36.8+ MB\n"
     ]
    }
   ],
   "source": [
    "# Display the information about the DataFrame\n",
    "df.info()"
   ]
  },
  {
   "cell_type": "markdown",
   "id": "871da813",
   "metadata": {},
   "source": [
    "#### Save dataset prepared for EDA"
   ]
  },
  {
   "cell_type": "code",
   "execution_count": 60,
   "id": "f03a8522",
   "metadata": {},
   "outputs": [],
   "source": [
    "# Save the cleaned DataFrame to a CSV file\n",
    "df.to_csv('./Datasets/clean_EDA_data.csv', index = False)"
   ]
  },
  {
   "cell_type": "code",
   "execution_count": null,
   "id": "d2a0665d",
   "metadata": {},
   "outputs": [],
   "source": []
  },
  {
   "cell_type": "code",
   "execution_count": null,
   "id": "3052b080",
   "metadata": {},
   "outputs": [],
   "source": []
  },
  {
   "cell_type": "markdown",
   "id": "a4a384e4",
   "metadata": {},
   "source": [
    "### 3. EDA: Analyzing Hotel Demand"
   ]
  },
  {
   "cell_type": "markdown",
   "id": "0f05cb00",
   "metadata": {},
   "source": [
    "In the upcoming EDA section, we will strive to address various key questions related to confirmed hotel bookings. Our analysis will encompass understanding the countries of origin for guests, exploring the average room cost per night, identifying peak months for hotel occupancy, and highlighting months with the highest average daily rates (ADR). Additionally, we will investigate guests' stay patterns, categorizing bookings into weekday-only, weekend-only, or both. Throughout this exploration, we will make use of various visualization techniques, including the introduction of choropleth maps to enhance our geographical data representation."
   ]
  },
  {
   "cell_type": "code",
   "execution_count": 61,
   "id": "f1f6be2a",
   "metadata": {},
   "outputs": [
    {
     "data": {
      "text/html": [
       "<div>\n",
       "<style scoped>\n",
       "    .dataframe tbody tr th:only-of-type {\n",
       "        vertical-align: middle;\n",
       "    }\n",
       "\n",
       "    .dataframe tbody tr th {\n",
       "        vertical-align: top;\n",
       "    }\n",
       "\n",
       "    .dataframe thead th {\n",
       "        text-align: right;\n",
       "    }\n",
       "</style>\n",
       "<table border=\"1\" class=\"dataframe\">\n",
       "  <thead>\n",
       "    <tr style=\"text-align: right;\">\n",
       "      <th></th>\n",
       "      <th>hotel</th>\n",
       "      <th>is_canceled</th>\n",
       "      <th>lead_time</th>\n",
       "      <th>arrival_date_year</th>\n",
       "      <th>arrival_date_month</th>\n",
       "      <th>arrival_date_month_num</th>\n",
       "      <th>arrival_date_week_number</th>\n",
       "      <th>arrival_date_day_of_month</th>\n",
       "      <th>check_in_date</th>\n",
       "      <th>total_nights</th>\n",
       "      <th>stays_in_weekend_nights</th>\n",
       "      <th>stays_in_week_nights</th>\n",
       "      <th>weekend_or_weekday</th>\n",
       "      <th>adults</th>\n",
       "      <th>children</th>\n",
       "      <th>babies</th>\n",
       "      <th>total_guests</th>\n",
       "      <th>country</th>\n",
       "      <th>meal</th>\n",
       "      <th>market_segment</th>\n",
       "      <th>distribution_channel</th>\n",
       "      <th>is_repeated_guest</th>\n",
       "      <th>previous_cancellations</th>\n",
       "      <th>previous_bookings_not_canceled</th>\n",
       "      <th>reserved_room_type</th>\n",
       "      <th>assigned_room_type</th>\n",
       "      <th>booking_changes</th>\n",
       "      <th>deposit_type</th>\n",
       "      <th>days_in_waiting_list</th>\n",
       "      <th>customer_type</th>\n",
       "      <th>adr</th>\n",
       "      <th>required_car_parking_spaces</th>\n",
       "      <th>total_of_special_requests</th>\n",
       "      <th>reservation_status</th>\n",
       "      <th>reservation_status_date</th>\n",
       "    </tr>\n",
       "  </thead>\n",
       "  <tbody>\n",
       "    <tr>\n",
       "      <th>0</th>\n",
       "      <td>Resort Hotel</td>\n",
       "      <td>Yes</td>\n",
       "      <td>342</td>\n",
       "      <td>2015</td>\n",
       "      <td>July</td>\n",
       "      <td>7</td>\n",
       "      <td>27</td>\n",
       "      <td>1</td>\n",
       "      <td>2015-07-01</td>\n",
       "      <td>0</td>\n",
       "      <td>0</td>\n",
       "      <td>0</td>\n",
       "      <td>undefined_data</td>\n",
       "      <td>2</td>\n",
       "      <td>0</td>\n",
       "      <td>0</td>\n",
       "      <td>2</td>\n",
       "      <td>PRT</td>\n",
       "      <td>BB</td>\n",
       "      <td>Direct</td>\n",
       "      <td>Direct</td>\n",
       "      <td>0</td>\n",
       "      <td>0</td>\n",
       "      <td>0</td>\n",
       "      <td>C</td>\n",
       "      <td>C</td>\n",
       "      <td>3</td>\n",
       "      <td>No Deposit</td>\n",
       "      <td>0</td>\n",
       "      <td>Transient</td>\n",
       "      <td>0.0</td>\n",
       "      <td>0</td>\n",
       "      <td>0</td>\n",
       "      <td>Canceled</td>\n",
       "      <td>2015-07-01</td>\n",
       "    </tr>\n",
       "    <tr>\n",
       "      <th>1</th>\n",
       "      <td>Resort Hotel</td>\n",
       "      <td>Yes</td>\n",
       "      <td>737</td>\n",
       "      <td>2015</td>\n",
       "      <td>July</td>\n",
       "      <td>7</td>\n",
       "      <td>27</td>\n",
       "      <td>1</td>\n",
       "      <td>2015-07-01</td>\n",
       "      <td>0</td>\n",
       "      <td>0</td>\n",
       "      <td>0</td>\n",
       "      <td>undefined_data</td>\n",
       "      <td>2</td>\n",
       "      <td>0</td>\n",
       "      <td>0</td>\n",
       "      <td>2</td>\n",
       "      <td>PRT</td>\n",
       "      <td>BB</td>\n",
       "      <td>Direct</td>\n",
       "      <td>Direct</td>\n",
       "      <td>0</td>\n",
       "      <td>0</td>\n",
       "      <td>0</td>\n",
       "      <td>C</td>\n",
       "      <td>C</td>\n",
       "      <td>4</td>\n",
       "      <td>No Deposit</td>\n",
       "      <td>0</td>\n",
       "      <td>Transient</td>\n",
       "      <td>0.0</td>\n",
       "      <td>0</td>\n",
       "      <td>0</td>\n",
       "      <td>Canceled</td>\n",
       "      <td>2015-07-01</td>\n",
       "    </tr>\n",
       "    <tr>\n",
       "      <th>2</th>\n",
       "      <td>Resort Hotel</td>\n",
       "      <td>No</td>\n",
       "      <td>7</td>\n",
       "      <td>2015</td>\n",
       "      <td>July</td>\n",
       "      <td>7</td>\n",
       "      <td>27</td>\n",
       "      <td>1</td>\n",
       "      <td>2015-07-01</td>\n",
       "      <td>1</td>\n",
       "      <td>0</td>\n",
       "      <td>1</td>\n",
       "      <td>stay_just_weekdays</td>\n",
       "      <td>1</td>\n",
       "      <td>0</td>\n",
       "      <td>0</td>\n",
       "      <td>1</td>\n",
       "      <td>GBR</td>\n",
       "      <td>BB</td>\n",
       "      <td>Direct</td>\n",
       "      <td>Direct</td>\n",
       "      <td>0</td>\n",
       "      <td>0</td>\n",
       "      <td>0</td>\n",
       "      <td>A</td>\n",
       "      <td>C</td>\n",
       "      <td>0</td>\n",
       "      <td>No Deposit</td>\n",
       "      <td>0</td>\n",
       "      <td>Transient</td>\n",
       "      <td>75.0</td>\n",
       "      <td>0</td>\n",
       "      <td>0</td>\n",
       "      <td>Check-Out</td>\n",
       "      <td>2015-07-02</td>\n",
       "    </tr>\n",
       "    <tr>\n",
       "      <th>3</th>\n",
       "      <td>Resort Hotel</td>\n",
       "      <td>No</td>\n",
       "      <td>13</td>\n",
       "      <td>2015</td>\n",
       "      <td>July</td>\n",
       "      <td>7</td>\n",
       "      <td>27</td>\n",
       "      <td>1</td>\n",
       "      <td>2015-07-01</td>\n",
       "      <td>1</td>\n",
       "      <td>0</td>\n",
       "      <td>1</td>\n",
       "      <td>stay_just_weekdays</td>\n",
       "      <td>1</td>\n",
       "      <td>0</td>\n",
       "      <td>0</td>\n",
       "      <td>1</td>\n",
       "      <td>GBR</td>\n",
       "      <td>BB</td>\n",
       "      <td>Corporate</td>\n",
       "      <td>Corporate</td>\n",
       "      <td>0</td>\n",
       "      <td>0</td>\n",
       "      <td>0</td>\n",
       "      <td>A</td>\n",
       "      <td>A</td>\n",
       "      <td>0</td>\n",
       "      <td>No Deposit</td>\n",
       "      <td>0</td>\n",
       "      <td>Transient</td>\n",
       "      <td>75.0</td>\n",
       "      <td>0</td>\n",
       "      <td>0</td>\n",
       "      <td>Check-Out</td>\n",
       "      <td>2015-07-02</td>\n",
       "    </tr>\n",
       "    <tr>\n",
       "      <th>4</th>\n",
       "      <td>Resort Hotel</td>\n",
       "      <td>No</td>\n",
       "      <td>14</td>\n",
       "      <td>2015</td>\n",
       "      <td>July</td>\n",
       "      <td>7</td>\n",
       "      <td>27</td>\n",
       "      <td>1</td>\n",
       "      <td>2015-07-01</td>\n",
       "      <td>2</td>\n",
       "      <td>0</td>\n",
       "      <td>2</td>\n",
       "      <td>stay_just_weekdays</td>\n",
       "      <td>2</td>\n",
       "      <td>0</td>\n",
       "      <td>0</td>\n",
       "      <td>2</td>\n",
       "      <td>GBR</td>\n",
       "      <td>BB</td>\n",
       "      <td>Online TA</td>\n",
       "      <td>TA/TO</td>\n",
       "      <td>0</td>\n",
       "      <td>0</td>\n",
       "      <td>0</td>\n",
       "      <td>A</td>\n",
       "      <td>A</td>\n",
       "      <td>0</td>\n",
       "      <td>No Deposit</td>\n",
       "      <td>0</td>\n",
       "      <td>Transient</td>\n",
       "      <td>98.0</td>\n",
       "      <td>0</td>\n",
       "      <td>1</td>\n",
       "      <td>Check-Out</td>\n",
       "      <td>2015-07-03</td>\n",
       "    </tr>\n",
       "  </tbody>\n",
       "</table>\n",
       "</div>"
      ],
      "text/plain": [
       "          hotel is_canceled  lead_time  arrival_date_year arrival_date_month  \\\n",
       "0  Resort Hotel         Yes        342               2015               July   \n",
       "1  Resort Hotel         Yes        737               2015               July   \n",
       "2  Resort Hotel          No          7               2015               July   \n",
       "3  Resort Hotel          No         13               2015               July   \n",
       "4  Resort Hotel          No         14               2015               July   \n",
       "\n",
       "   arrival_date_month_num  arrival_date_week_number  \\\n",
       "0                       7                        27   \n",
       "1                       7                        27   \n",
       "2                       7                        27   \n",
       "3                       7                        27   \n",
       "4                       7                        27   \n",
       "\n",
       "   arrival_date_day_of_month check_in_date  total_nights  \\\n",
       "0                          1    2015-07-01             0   \n",
       "1                          1    2015-07-01             0   \n",
       "2                          1    2015-07-01             1   \n",
       "3                          1    2015-07-01             1   \n",
       "4                          1    2015-07-01             2   \n",
       "\n",
       "   stays_in_weekend_nights  stays_in_week_nights  weekend_or_weekday  adults  \\\n",
       "0                        0                     0      undefined_data       2   \n",
       "1                        0                     0      undefined_data       2   \n",
       "2                        0                     1  stay_just_weekdays       1   \n",
       "3                        0                     1  stay_just_weekdays       1   \n",
       "4                        0                     2  stay_just_weekdays       2   \n",
       "\n",
       "   children  babies  total_guests country meal market_segment  \\\n",
       "0         0       0             2     PRT   BB         Direct   \n",
       "1         0       0             2     PRT   BB         Direct   \n",
       "2         0       0             1     GBR   BB         Direct   \n",
       "3         0       0             1     GBR   BB      Corporate   \n",
       "4         0       0             2     GBR   BB      Online TA   \n",
       "\n",
       "  distribution_channel  is_repeated_guest  previous_cancellations  \\\n",
       "0               Direct                  0                       0   \n",
       "1               Direct                  0                       0   \n",
       "2               Direct                  0                       0   \n",
       "3            Corporate                  0                       0   \n",
       "4                TA/TO                  0                       0   \n",
       "\n",
       "   previous_bookings_not_canceled reserved_room_type assigned_room_type  \\\n",
       "0                               0                  C                  C   \n",
       "1                               0                  C                  C   \n",
       "2                               0                  A                  C   \n",
       "3                               0                  A                  A   \n",
       "4                               0                  A                  A   \n",
       "\n",
       "   booking_changes deposit_type  days_in_waiting_list customer_type   adr  \\\n",
       "0                3   No Deposit                     0     Transient   0.0   \n",
       "1                4   No Deposit                     0     Transient   0.0   \n",
       "2                0   No Deposit                     0     Transient  75.0   \n",
       "3                0   No Deposit                     0     Transient  75.0   \n",
       "4                0   No Deposit                     0     Transient  98.0   \n",
       "\n",
       "   required_car_parking_spaces  total_of_special_requests reservation_status  \\\n",
       "0                            0                          0           Canceled   \n",
       "1                            0                          0           Canceled   \n",
       "2                            0                          0          Check-Out   \n",
       "3                            0                          0          Check-Out   \n",
       "4                            0                          1          Check-Out   \n",
       "\n",
       "  reservation_status_date  \n",
       "0              2015-07-01  \n",
       "1              2015-07-01  \n",
       "2              2015-07-02  \n",
       "3              2015-07-02  \n",
       "4              2015-07-03  "
      ]
     },
     "metadata": {},
     "output_type": "display_data"
    },
    {
     "data": {
      "text/plain": [
       "(119210, 35)"
      ]
     },
     "metadata": {},
     "output_type": "display_data"
    }
   ],
   "source": [
    "# Import cleaned DataFrame\n",
    "data = pd.read_csv('./Datasets/clean_EDA_data.csv')\n",
    "display(data.head(), data.shape)"
   ]
  },
  {
   "cell_type": "markdown",
   "id": "157555d6",
   "metadata": {},
   "source": [
    "What are the countries of origin for the guests?"
   ]
  },
  {
   "cell_type": "code",
   "execution_count": 62,
   "id": "d6215f00",
   "metadata": {},
   "outputs": [
    {
     "data": {
      "text/plain": [
       "74384"
      ]
     },
     "execution_count": 62,
     "metadata": {},
     "output_type": "execute_result"
    }
   ],
   "source": [
    "# Filter for confirmed bookings (bookings not canceled)\n",
    "confirmed_bookings = data[data['is_canceled'] == 'No']\n",
    "\n",
    "# Calculate the total number of non-canceled bookings\n",
    "len_not_canceled = len(confirmed_bookings)\n",
    "len_not_canceled"
   ]
  },
  {
   "cell_type": "code",
   "execution_count": 63,
   "id": "a68cc03d",
   "metadata": {},
   "outputs": [
    {
     "data": {
      "text/plain": [
       "PRT    0.280168\n",
       "GBR    0.129773\n",
       "FRA    0.113707\n",
       "ESP    0.085677\n",
       "DEU    0.081563\n",
       "         ...   \n",
       "BHS    0.000013\n",
       "SYC    0.000013\n",
       "NPL    0.000013\n",
       "ZMB    0.000013\n",
       "FRO    0.000013\n",
       "Name: country, Length: 165, dtype: float64"
      ]
     },
     "execution_count": 63,
     "metadata": {},
     "output_type": "execute_result"
    }
   ],
   "source": [
    "# Calculate the percentage of bookings from each country among non-canceled bookings\n",
    "confirmed_bookings['country'].value_counts()/len_not_canceled"
   ]
  },
  {
   "cell_type": "code",
   "execution_count": 64,
   "id": "a42862e8",
   "metadata": {},
   "outputs": [
    {
     "data": {
      "text/html": [
       "<div>\n",
       "<style scoped>\n",
       "    .dataframe tbody tr th:only-of-type {\n",
       "        vertical-align: middle;\n",
       "    }\n",
       "\n",
       "    .dataframe tbody tr th {\n",
       "        vertical-align: top;\n",
       "    }\n",
       "\n",
       "    .dataframe thead th {\n",
       "        text-align: right;\n",
       "    }\n",
       "</style>\n",
       "<table border=\"1\" class=\"dataframe\">\n",
       "  <thead>\n",
       "    <tr style=\"text-align: right;\">\n",
       "      <th></th>\n",
       "      <th>country</th>\n",
       "      <th>no_of_guests</th>\n",
       "      <th>total_%</th>\n",
       "    </tr>\n",
       "  </thead>\n",
       "  <tbody>\n",
       "    <tr>\n",
       "      <th>0</th>\n",
       "      <td>PRT</td>\n",
       "      <td>37249</td>\n",
       "      <td>25.71</td>\n",
       "    </tr>\n",
       "    <tr>\n",
       "      <th>1</th>\n",
       "      <td>GBR</td>\n",
       "      <td>19233</td>\n",
       "      <td>13.28</td>\n",
       "    </tr>\n",
       "    <tr>\n",
       "      <th>2</th>\n",
       "      <td>FRA</td>\n",
       "      <td>17283</td>\n",
       "      <td>11.93</td>\n",
       "    </tr>\n",
       "    <tr>\n",
       "      <th>3</th>\n",
       "      <td>ESP</td>\n",
       "      <td>13192</td>\n",
       "      <td>9.11</td>\n",
       "    </tr>\n",
       "    <tr>\n",
       "      <th>4</th>\n",
       "      <td>DEU</td>\n",
       "      <td>11659</td>\n",
       "      <td>8.05</td>\n",
       "    </tr>\n",
       "    <tr>\n",
       "      <th>5</th>\n",
       "      <td>IRL</td>\n",
       "      <td>5103</td>\n",
       "      <td>3.52</td>\n",
       "    </tr>\n",
       "    <tr>\n",
       "      <th>6</th>\n",
       "      <td>ITA</td>\n",
       "      <td>4882</td>\n",
       "      <td>3.37</td>\n",
       "    </tr>\n",
       "    <tr>\n",
       "      <th>7</th>\n",
       "      <td>BEL</td>\n",
       "      <td>3845</td>\n",
       "      <td>2.65</td>\n",
       "    </tr>\n",
       "    <tr>\n",
       "      <th>8</th>\n",
       "      <td>NLD</td>\n",
       "      <td>3371</td>\n",
       "      <td>2.33</td>\n",
       "    </tr>\n",
       "    <tr>\n",
       "      <th>9</th>\n",
       "      <td>USA</td>\n",
       "      <td>3205</td>\n",
       "      <td>2.21</td>\n",
       "    </tr>\n",
       "  </tbody>\n",
       "</table>\n",
       "</div>"
      ],
      "text/plain": [
       "  country  no_of_guests  total_%\n",
       "0     PRT         37249    25.71\n",
       "1     GBR         19233    13.28\n",
       "2     FRA         17283    11.93\n",
       "3     ESP         13192     9.11\n",
       "4     DEU         11659     8.05\n",
       "5     IRL          5103     3.52\n",
       "6     ITA          4882     3.37\n",
       "7     BEL          3845     2.65\n",
       "8     NLD          3371     2.33\n",
       "9     USA          3205     2.21"
      ]
     },
     "execution_count": 64,
     "metadata": {},
     "output_type": "execute_result"
    }
   ],
   "source": [
    "# Group the data by 'country' to calculate the total number of guests from each country\n",
    "country_wise_data = confirmed_bookings.groupby('country')['total_guests'].sum().reset_index()\n",
    "\n",
    "# Modify column names for clarity\n",
    "country_wise_data.columns = ['country', 'no_of_guests']\n",
    "\n",
    "# Add a new column for the percentage of total guests each country represents\n",
    "country_wise_data['total_%'] = round((country_wise_data['no_of_guests'] / country_wise_data['no_of_guests'].sum()) * 100, 2)\n",
    "\n",
    "# Sort the data in descending order based on the total number of guests\n",
    "country_wise_data = country_wise_data.sort_values(by='no_of_guests', ascending=False)\n",
    "\n",
    "# Reset the index to enhance readability\n",
    "country_wise_data = country_wise_data.reset_index(drop=True)\n",
    "\n",
    "# Display the top 10 countries with the highest number of guests\n",
    "country_wise_data.head(10)"
   ]
  },
  {
   "cell_type": "code",
   "execution_count": 65,
   "id": "f8154b86",
   "metadata": {},
   "outputs": [
    {
     "data": {
      "text/html": [
       "        <script type=\"text/javascript\">\n",
       "        window.PlotlyConfig = {MathJaxConfig: 'local'};\n",
       "        if (window.MathJax && window.MathJax.Hub && window.MathJax.Hub.Config) {window.MathJax.Hub.Config({SVG: {font: \"STIX-Web\"}});}\n",
       "        if (typeof require !== 'undefined') {\n",
       "        require.undef(\"plotly\");\n",
       "        requirejs.config({\n",
       "            paths: {\n",
       "                'plotly': ['https://cdn.plot.ly/plotly-2.12.1.min']\n",
       "            }\n",
       "        });\n",
       "        require(['plotly'], function(Plotly) {\n",
       "            window._Plotly = Plotly;\n",
       "        });\n",
       "        }\n",
       "        </script>\n",
       "        "
      ]
     },
     "metadata": {},
     "output_type": "display_data"
    }
   ],
   "source": [
    "# Import the necessary Plotly libraries\n",
    "import plotly\n",
    "import chart_studio.plotly as py\n",
    "from plotly.offline import download_plotlyjs, init_notebook_mode, plot, iplot\n",
    "\n",
    "# Initialize Plotly in notebook mode for interactive plotting\n",
    "init_notebook_mode(connected=True)\n",
    "\n",
    "# Import Plotly Express for simplified plotting\n",
    "import plotly.express as px"
   ]
  },
  {
   "cell_type": "code",
   "execution_count": 66,
   "id": "afa502fa",
   "metadata": {},
   "outputs": [
    {
     "data": {
      "application/vnd.plotly.v1+json": {
       "config": {
        "plotlyServerURL": "https://plot.ly"
       },
       "data": [
        {
         "coloraxis": "coloraxis",
         "geo": "geo",
         "hovertemplate": "<b>%{hovertext}</b><br><br>country=%{location}<br>no_of_guests=%{z}<extra></extra>",
         "hovertext": [
          "PRT",
          "GBR",
          "FRA",
          "ESP",
          "DEU",
          "IRL",
          "ITA",
          "BEL",
          "NLD",
          "USA",
          "BRA",
          "CHE",
          "CN",
          "AUT",
          "SWE",
          "POL",
          "CHN",
          "ISR",
          "NOR",
          "RUS",
          "ROU",
          "FIN",
          "DNK",
          "AUS",
          "LUX",
          "ARG",
          "JPN",
          "MAR",
          "HUN",
          "AGO",
          "TUR",
          "IND",
          "CZE",
          "KOR",
          "LTU",
          "GRC",
          "MEX",
          "HRV",
          "DZA",
          "SRB",
          "NZL",
          "EST",
          "BGR",
          "IRN",
          "COL",
          "ISL",
          "CHL",
          "ZAF",
          "UKR",
          "LVA",
          "THA",
          "MOZ",
          "SVK",
          "SVN",
          "TWN",
          "CYP",
          "MYS",
          "URY",
          "SGP",
          "LBN",
          "PER",
          "ECU",
          "PHL",
          "TUN",
          "CRI",
          "EGY",
          "NGA",
          "JOR",
          "SAU",
          "OMN",
          "VEN",
          "BLR",
          "KAZ",
          "IRQ",
          "MLT",
          "KWT",
          "CMR",
          "IDN",
          "PAN",
          "AZE",
          "CPV",
          "ALB",
          "BOL",
          "GIB",
          "GEO",
          "BIH",
          "PRI",
          "ARM",
          "CUB",
          "JAM",
          "VNM",
          "DOM",
          "MKD",
          "SUR",
          "ARE",
          "LKA",
          "MUS",
          "LBY",
          "KEN",
          "PAK",
          "GNB",
          "GTM",
          "PRY",
          "CIV",
          "AND",
          "COM",
          "CAF",
          "TMP",
          "HKG",
          "SEN",
          "BGD",
          "MCO",
          "ABW",
          "ETH",
          "MDV",
          "SYR",
          "SLV",
          "QAT",
          "STP",
          "ZMB",
          "TGO",
          "ZWE",
          "LIE",
          "AIA",
          "MWI",
          "MNE",
          "BRB",
          "DJI",
          "GAB",
          "LAO",
          "GHA",
          "UZB",
          "UGA",
          "TZA",
          "BWA",
          "FRO",
          "KNA",
          "RWA",
          "SMR",
          "NCL",
          "ASM",
          "ATA",
          "ATF",
          "NAM",
          "BDI",
          "BFA",
          "BHR",
          "PYF",
          "MRT",
          "BHS",
          "MMR",
          "SLE",
          "CYM",
          "TJK",
          "MLI",
          "DMA",
          "SDN",
          "MDG",
          "NPL",
          "LCA",
          "PLW",
          "SYC",
          "GUY",
          "KIR",
          "MAC"
         ],
         "locations": [
          "PRT",
          "GBR",
          "FRA",
          "ESP",
          "DEU",
          "IRL",
          "ITA",
          "BEL",
          "NLD",
          "USA",
          "BRA",
          "CHE",
          "CN",
          "AUT",
          "SWE",
          "POL",
          "CHN",
          "ISR",
          "NOR",
          "RUS",
          "ROU",
          "FIN",
          "DNK",
          "AUS",
          "LUX",
          "ARG",
          "JPN",
          "MAR",
          "HUN",
          "AGO",
          "TUR",
          "IND",
          "CZE",
          "KOR",
          "LTU",
          "GRC",
          "MEX",
          "HRV",
          "DZA",
          "SRB",
          "NZL",
          "EST",
          "BGR",
          "IRN",
          "COL",
          "ISL",
          "CHL",
          "ZAF",
          "UKR",
          "LVA",
          "THA",
          "MOZ",
          "SVK",
          "SVN",
          "TWN",
          "CYP",
          "MYS",
          "URY",
          "SGP",
          "LBN",
          "PER",
          "ECU",
          "PHL",
          "TUN",
          "CRI",
          "EGY",
          "NGA",
          "JOR",
          "SAU",
          "OMN",
          "VEN",
          "BLR",
          "KAZ",
          "IRQ",
          "MLT",
          "KWT",
          "CMR",
          "IDN",
          "PAN",
          "AZE",
          "CPV",
          "ALB",
          "BOL",
          "GIB",
          "GEO",
          "BIH",
          "PRI",
          "ARM",
          "CUB",
          "JAM",
          "VNM",
          "DOM",
          "MKD",
          "SUR",
          "ARE",
          "LKA",
          "MUS",
          "LBY",
          "KEN",
          "PAK",
          "GNB",
          "GTM",
          "PRY",
          "CIV",
          "AND",
          "COM",
          "CAF",
          "TMP",
          "HKG",
          "SEN",
          "BGD",
          "MCO",
          "ABW",
          "ETH",
          "MDV",
          "SYR",
          "SLV",
          "QAT",
          "STP",
          "ZMB",
          "TGO",
          "ZWE",
          "LIE",
          "AIA",
          "MWI",
          "MNE",
          "BRB",
          "DJI",
          "GAB",
          "LAO",
          "GHA",
          "UZB",
          "UGA",
          "TZA",
          "BWA",
          "FRO",
          "KNA",
          "RWA",
          "SMR",
          "NCL",
          "ASM",
          "ATA",
          "ATF",
          "NAM",
          "BDI",
          "BFA",
          "BHR",
          "PYF",
          "MRT",
          "BHS",
          "MMR",
          "SLE",
          "CYM",
          "TJK",
          "MLI",
          "DMA",
          "SDN",
          "MDG",
          "NPL",
          "LCA",
          "PLW",
          "SYC",
          "GUY",
          "KIR",
          "MAC"
         ],
         "name": "",
         "type": "choropleth",
         "z": [
          37249,
          19233,
          17283,
          13192,
          11659,
          5103,
          4882,
          3845,
          3371,
          3205,
          2988,
          2676,
          2105,
          2014,
          1528,
          1461,
          1063,
          980,
          894,
          782,
          762,
          754,
          689,
          641,
          386,
          334,
          327,
          313,
          306,
          282,
          262,
          257,
          246,
          154,
          145,
          145,
          141,
          140,
          136,
          134,
          130,
          128,
          118,
          118,
          105,
          100,
          99,
          98,
          92,
          91,
          84,
          83,
          78,
          75,
          66,
          64,
          52,
          50,
          44,
          42,
          42,
          41,
          37,
          37,
          35,
          33,
          33,
          32,
          31,
          30,
          28,
          27,
          23,
          23,
          22,
          21,
          21,
          20,
          19,
          19,
          19,
          18,
          18,
          16,
          16,
          16,
          15,
          15,
          14,
          14,
          13,
          12,
          12,
          12,
          12,
          10,
          10,
          10,
          9,
          9,
          9,
          9,
          8,
          8,
          7,
          7,
          7,
          7,
          6,
          6,
          6,
          6,
          5,
          5,
          5,
          5,
          5,
          4,
          4,
          4,
          4,
          4,
          4,
          4,
          4,
          4,
          4,
          4,
          4,
          4,
          3,
          3,
          3,
          3,
          3,
          3,
          3,
          3,
          2,
          2,
          2,
          2,
          2,
          2,
          2,
          2,
          2,
          2,
          2,
          2,
          2,
          2,
          2,
          2,
          2,
          2,
          2,
          2,
          2,
          2,
          2,
          1,
          1,
          1,
          1
         ]
        }
       ],
       "layout": {
        "coloraxis": {
         "colorbar": {
          "title": {
           "text": "no_of_guests"
          }
         },
         "colorscale": [
          [
           0,
           "#0d0887"
          ],
          [
           0.1111111111111111,
           "#46039f"
          ],
          [
           0.2222222222222222,
           "#7201a8"
          ],
          [
           0.3333333333333333,
           "#9c179e"
          ],
          [
           0.4444444444444444,
           "#bd3786"
          ],
          [
           0.5555555555555556,
           "#d8576b"
          ],
          [
           0.6666666666666666,
           "#ed7953"
          ],
          [
           0.7777777777777778,
           "#fb9f3a"
          ],
          [
           0.8888888888888888,
           "#fdca26"
          ],
          [
           1,
           "#f0f921"
          ]
         ]
        },
        "geo": {
         "center": {},
         "domain": {
          "x": [
           0,
           1
          ],
          "y": [
           0,
           1
          ]
         }
        },
        "legend": {
         "tracegroupgap": 0
        },
        "margin": {
         "t": 60
        },
        "template": {
         "data": {
          "bar": [
           {
            "error_x": {
             "color": "#2a3f5f"
            },
            "error_y": {
             "color": "#2a3f5f"
            },
            "marker": {
             "line": {
              "color": "#E5ECF6",
              "width": 0.5
             },
             "pattern": {
              "fillmode": "overlay",
              "size": 10,
              "solidity": 0.2
             }
            },
            "type": "bar"
           }
          ],
          "barpolar": [
           {
            "marker": {
             "line": {
              "color": "#E5ECF6",
              "width": 0.5
             },
             "pattern": {
              "fillmode": "overlay",
              "size": 10,
              "solidity": 0.2
             }
            },
            "type": "barpolar"
           }
          ],
          "carpet": [
           {
            "aaxis": {
             "endlinecolor": "#2a3f5f",
             "gridcolor": "white",
             "linecolor": "white",
             "minorgridcolor": "white",
             "startlinecolor": "#2a3f5f"
            },
            "baxis": {
             "endlinecolor": "#2a3f5f",
             "gridcolor": "white",
             "linecolor": "white",
             "minorgridcolor": "white",
             "startlinecolor": "#2a3f5f"
            },
            "type": "carpet"
           }
          ],
          "choropleth": [
           {
            "colorbar": {
             "outlinewidth": 0,
             "ticks": ""
            },
            "type": "choropleth"
           }
          ],
          "contour": [
           {
            "colorbar": {
             "outlinewidth": 0,
             "ticks": ""
            },
            "colorscale": [
             [
              0,
              "#0d0887"
             ],
             [
              0.1111111111111111,
              "#46039f"
             ],
             [
              0.2222222222222222,
              "#7201a8"
             ],
             [
              0.3333333333333333,
              "#9c179e"
             ],
             [
              0.4444444444444444,
              "#bd3786"
             ],
             [
              0.5555555555555556,
              "#d8576b"
             ],
             [
              0.6666666666666666,
              "#ed7953"
             ],
             [
              0.7777777777777778,
              "#fb9f3a"
             ],
             [
              0.8888888888888888,
              "#fdca26"
             ],
             [
              1,
              "#f0f921"
             ]
            ],
            "type": "contour"
           }
          ],
          "contourcarpet": [
           {
            "colorbar": {
             "outlinewidth": 0,
             "ticks": ""
            },
            "type": "contourcarpet"
           }
          ],
          "heatmap": [
           {
            "colorbar": {
             "outlinewidth": 0,
             "ticks": ""
            },
            "colorscale": [
             [
              0,
              "#0d0887"
             ],
             [
              0.1111111111111111,
              "#46039f"
             ],
             [
              0.2222222222222222,
              "#7201a8"
             ],
             [
              0.3333333333333333,
              "#9c179e"
             ],
             [
              0.4444444444444444,
              "#bd3786"
             ],
             [
              0.5555555555555556,
              "#d8576b"
             ],
             [
              0.6666666666666666,
              "#ed7953"
             ],
             [
              0.7777777777777778,
              "#fb9f3a"
             ],
             [
              0.8888888888888888,
              "#fdca26"
             ],
             [
              1,
              "#f0f921"
             ]
            ],
            "type": "heatmap"
           }
          ],
          "heatmapgl": [
           {
            "colorbar": {
             "outlinewidth": 0,
             "ticks": ""
            },
            "colorscale": [
             [
              0,
              "#0d0887"
             ],
             [
              0.1111111111111111,
              "#46039f"
             ],
             [
              0.2222222222222222,
              "#7201a8"
             ],
             [
              0.3333333333333333,
              "#9c179e"
             ],
             [
              0.4444444444444444,
              "#bd3786"
             ],
             [
              0.5555555555555556,
              "#d8576b"
             ],
             [
              0.6666666666666666,
              "#ed7953"
             ],
             [
              0.7777777777777778,
              "#fb9f3a"
             ],
             [
              0.8888888888888888,
              "#fdca26"
             ],
             [
              1,
              "#f0f921"
             ]
            ],
            "type": "heatmapgl"
           }
          ],
          "histogram": [
           {
            "marker": {
             "pattern": {
              "fillmode": "overlay",
              "size": 10,
              "solidity": 0.2
             }
            },
            "type": "histogram"
           }
          ],
          "histogram2d": [
           {
            "colorbar": {
             "outlinewidth": 0,
             "ticks": ""
            },
            "colorscale": [
             [
              0,
              "#0d0887"
             ],
             [
              0.1111111111111111,
              "#46039f"
             ],
             [
              0.2222222222222222,
              "#7201a8"
             ],
             [
              0.3333333333333333,
              "#9c179e"
             ],
             [
              0.4444444444444444,
              "#bd3786"
             ],
             [
              0.5555555555555556,
              "#d8576b"
             ],
             [
              0.6666666666666666,
              "#ed7953"
             ],
             [
              0.7777777777777778,
              "#fb9f3a"
             ],
             [
              0.8888888888888888,
              "#fdca26"
             ],
             [
              1,
              "#f0f921"
             ]
            ],
            "type": "histogram2d"
           }
          ],
          "histogram2dcontour": [
           {
            "colorbar": {
             "outlinewidth": 0,
             "ticks": ""
            },
            "colorscale": [
             [
              0,
              "#0d0887"
             ],
             [
              0.1111111111111111,
              "#46039f"
             ],
             [
              0.2222222222222222,
              "#7201a8"
             ],
             [
              0.3333333333333333,
              "#9c179e"
             ],
             [
              0.4444444444444444,
              "#bd3786"
             ],
             [
              0.5555555555555556,
              "#d8576b"
             ],
             [
              0.6666666666666666,
              "#ed7953"
             ],
             [
              0.7777777777777778,
              "#fb9f3a"
             ],
             [
              0.8888888888888888,
              "#fdca26"
             ],
             [
              1,
              "#f0f921"
             ]
            ],
            "type": "histogram2dcontour"
           }
          ],
          "mesh3d": [
           {
            "colorbar": {
             "outlinewidth": 0,
             "ticks": ""
            },
            "type": "mesh3d"
           }
          ],
          "parcoords": [
           {
            "line": {
             "colorbar": {
              "outlinewidth": 0,
              "ticks": ""
             }
            },
            "type": "parcoords"
           }
          ],
          "pie": [
           {
            "automargin": true,
            "type": "pie"
           }
          ],
          "scatter": [
           {
            "fillpattern": {
             "fillmode": "overlay",
             "size": 10,
             "solidity": 0.2
            },
            "type": "scatter"
           }
          ],
          "scatter3d": [
           {
            "line": {
             "colorbar": {
              "outlinewidth": 0,
              "ticks": ""
             }
            },
            "marker": {
             "colorbar": {
              "outlinewidth": 0,
              "ticks": ""
             }
            },
            "type": "scatter3d"
           }
          ],
          "scattercarpet": [
           {
            "marker": {
             "colorbar": {
              "outlinewidth": 0,
              "ticks": ""
             }
            },
            "type": "scattercarpet"
           }
          ],
          "scattergeo": [
           {
            "marker": {
             "colorbar": {
              "outlinewidth": 0,
              "ticks": ""
             }
            },
            "type": "scattergeo"
           }
          ],
          "scattergl": [
           {
            "marker": {
             "colorbar": {
              "outlinewidth": 0,
              "ticks": ""
             }
            },
            "type": "scattergl"
           }
          ],
          "scattermapbox": [
           {
            "marker": {
             "colorbar": {
              "outlinewidth": 0,
              "ticks": ""
             }
            },
            "type": "scattermapbox"
           }
          ],
          "scatterpolar": [
           {
            "marker": {
             "colorbar": {
              "outlinewidth": 0,
              "ticks": ""
             }
            },
            "type": "scatterpolar"
           }
          ],
          "scatterpolargl": [
           {
            "marker": {
             "colorbar": {
              "outlinewidth": 0,
              "ticks": ""
             }
            },
            "type": "scatterpolargl"
           }
          ],
          "scatterternary": [
           {
            "marker": {
             "colorbar": {
              "outlinewidth": 0,
              "ticks": ""
             }
            },
            "type": "scatterternary"
           }
          ],
          "surface": [
           {
            "colorbar": {
             "outlinewidth": 0,
             "ticks": ""
            },
            "colorscale": [
             [
              0,
              "#0d0887"
             ],
             [
              0.1111111111111111,
              "#46039f"
             ],
             [
              0.2222222222222222,
              "#7201a8"
             ],
             [
              0.3333333333333333,
              "#9c179e"
             ],
             [
              0.4444444444444444,
              "#bd3786"
             ],
             [
              0.5555555555555556,
              "#d8576b"
             ],
             [
              0.6666666666666666,
              "#ed7953"
             ],
             [
              0.7777777777777778,
              "#fb9f3a"
             ],
             [
              0.8888888888888888,
              "#fdca26"
             ],
             [
              1,
              "#f0f921"
             ]
            ],
            "type": "surface"
           }
          ],
          "table": [
           {
            "cells": {
             "fill": {
              "color": "#EBF0F8"
             },
             "line": {
              "color": "white"
             }
            },
            "header": {
             "fill": {
              "color": "#C8D4E3"
             },
             "line": {
              "color": "white"
             }
            },
            "type": "table"
           }
          ]
         },
         "layout": {
          "annotationdefaults": {
           "arrowcolor": "#2a3f5f",
           "arrowhead": 0,
           "arrowwidth": 1
          },
          "autotypenumbers": "strict",
          "coloraxis": {
           "colorbar": {
            "outlinewidth": 0,
            "ticks": ""
           }
          },
          "colorscale": {
           "diverging": [
            [
             0,
             "#8e0152"
            ],
            [
             0.1,
             "#c51b7d"
            ],
            [
             0.2,
             "#de77ae"
            ],
            [
             0.3,
             "#f1b6da"
            ],
            [
             0.4,
             "#fde0ef"
            ],
            [
             0.5,
             "#f7f7f7"
            ],
            [
             0.6,
             "#e6f5d0"
            ],
            [
             0.7,
             "#b8e186"
            ],
            [
             0.8,
             "#7fbc41"
            ],
            [
             0.9,
             "#4d9221"
            ],
            [
             1,
             "#276419"
            ]
           ],
           "sequential": [
            [
             0,
             "#0d0887"
            ],
            [
             0.1111111111111111,
             "#46039f"
            ],
            [
             0.2222222222222222,
             "#7201a8"
            ],
            [
             0.3333333333333333,
             "#9c179e"
            ],
            [
             0.4444444444444444,
             "#bd3786"
            ],
            [
             0.5555555555555556,
             "#d8576b"
            ],
            [
             0.6666666666666666,
             "#ed7953"
            ],
            [
             0.7777777777777778,
             "#fb9f3a"
            ],
            [
             0.8888888888888888,
             "#fdca26"
            ],
            [
             1,
             "#f0f921"
            ]
           ],
           "sequentialminus": [
            [
             0,
             "#0d0887"
            ],
            [
             0.1111111111111111,
             "#46039f"
            ],
            [
             0.2222222222222222,
             "#7201a8"
            ],
            [
             0.3333333333333333,
             "#9c179e"
            ],
            [
             0.4444444444444444,
             "#bd3786"
            ],
            [
             0.5555555555555556,
             "#d8576b"
            ],
            [
             0.6666666666666666,
             "#ed7953"
            ],
            [
             0.7777777777777778,
             "#fb9f3a"
            ],
            [
             0.8888888888888888,
             "#fdca26"
            ],
            [
             1,
             "#f0f921"
            ]
           ]
          },
          "colorway": [
           "#636efa",
           "#EF553B",
           "#00cc96",
           "#ab63fa",
           "#FFA15A",
           "#19d3f3",
           "#FF6692",
           "#B6E880",
           "#FF97FF",
           "#FECB52"
          ],
          "font": {
           "color": "#2a3f5f"
          },
          "geo": {
           "bgcolor": "white",
           "lakecolor": "white",
           "landcolor": "#E5ECF6",
           "showlakes": true,
           "showland": true,
           "subunitcolor": "white"
          },
          "hoverlabel": {
           "align": "left"
          },
          "hovermode": "closest",
          "mapbox": {
           "style": "light"
          },
          "paper_bgcolor": "white",
          "plot_bgcolor": "#E5ECF6",
          "polar": {
           "angularaxis": {
            "gridcolor": "white",
            "linecolor": "white",
            "ticks": ""
           },
           "bgcolor": "#E5ECF6",
           "radialaxis": {
            "gridcolor": "white",
            "linecolor": "white",
            "ticks": ""
           }
          },
          "scene": {
           "xaxis": {
            "backgroundcolor": "#E5ECF6",
            "gridcolor": "white",
            "gridwidth": 2,
            "linecolor": "white",
            "showbackground": true,
            "ticks": "",
            "zerolinecolor": "white"
           },
           "yaxis": {
            "backgroundcolor": "#E5ECF6",
            "gridcolor": "white",
            "gridwidth": 2,
            "linecolor": "white",
            "showbackground": true,
            "ticks": "",
            "zerolinecolor": "white"
           },
           "zaxis": {
            "backgroundcolor": "#E5ECF6",
            "gridcolor": "white",
            "gridwidth": 2,
            "linecolor": "white",
            "showbackground": true,
            "ticks": "",
            "zerolinecolor": "white"
           }
          },
          "shapedefaults": {
           "line": {
            "color": "#2a3f5f"
           }
          },
          "ternary": {
           "aaxis": {
            "gridcolor": "white",
            "linecolor": "white",
            "ticks": ""
           },
           "baxis": {
            "gridcolor": "white",
            "linecolor": "white",
            "ticks": ""
           },
           "bgcolor": "#E5ECF6",
           "caxis": {
            "gridcolor": "white",
            "linecolor": "white",
            "ticks": ""
           }
          },
          "title": {
           "x": 0.05
          },
          "xaxis": {
           "automargin": true,
           "gridcolor": "white",
           "linecolor": "white",
           "ticks": "",
           "title": {
            "standoff": 15
           },
           "zerolinecolor": "white",
           "zerolinewidth": 2
          },
          "yaxis": {
           "automargin": true,
           "gridcolor": "white",
           "linecolor": "white",
           "ticks": "",
           "title": {
            "standoff": 15
           },
           "zerolinecolor": "white",
           "zerolinewidth": 2
          }
         }
        },
        "title": {
         "text": "Guest's Home Country (confirmed bookings)",
         "x": 0.5
        }
       }
      },
      "text/html": [
       "<div>                            <div id=\"261e252f-3e71-40e6-b598-d6392e514ad2\" class=\"plotly-graph-div\" style=\"height:525px; width:100%;\"></div>            <script type=\"text/javascript\">                require([\"plotly\"], function(Plotly) {                    window.PLOTLYENV=window.PLOTLYENV || {};                                    if (document.getElementById(\"261e252f-3e71-40e6-b598-d6392e514ad2\")) {                    Plotly.newPlot(                        \"261e252f-3e71-40e6-b598-d6392e514ad2\",                        [{\"coloraxis\":\"coloraxis\",\"geo\":\"geo\",\"hovertemplate\":\"<b>%{hovertext}</b><br><br>country=%{location}<br>no_of_guests=%{z}<extra></extra>\",\"hovertext\":[\"PRT\",\"GBR\",\"FRA\",\"ESP\",\"DEU\",\"IRL\",\"ITA\",\"BEL\",\"NLD\",\"USA\",\"BRA\",\"CHE\",\"CN\",\"AUT\",\"SWE\",\"POL\",\"CHN\",\"ISR\",\"NOR\",\"RUS\",\"ROU\",\"FIN\",\"DNK\",\"AUS\",\"LUX\",\"ARG\",\"JPN\",\"MAR\",\"HUN\",\"AGO\",\"TUR\",\"IND\",\"CZE\",\"KOR\",\"LTU\",\"GRC\",\"MEX\",\"HRV\",\"DZA\",\"SRB\",\"NZL\",\"EST\",\"BGR\",\"IRN\",\"COL\",\"ISL\",\"CHL\",\"ZAF\",\"UKR\",\"LVA\",\"THA\",\"MOZ\",\"SVK\",\"SVN\",\"TWN\",\"CYP\",\"MYS\",\"URY\",\"SGP\",\"LBN\",\"PER\",\"ECU\",\"PHL\",\"TUN\",\"CRI\",\"EGY\",\"NGA\",\"JOR\",\"SAU\",\"OMN\",\"VEN\",\"BLR\",\"KAZ\",\"IRQ\",\"MLT\",\"KWT\",\"CMR\",\"IDN\",\"PAN\",\"AZE\",\"CPV\",\"ALB\",\"BOL\",\"GIB\",\"GEO\",\"BIH\",\"PRI\",\"ARM\",\"CUB\",\"JAM\",\"VNM\",\"DOM\",\"MKD\",\"SUR\",\"ARE\",\"LKA\",\"MUS\",\"LBY\",\"KEN\",\"PAK\",\"GNB\",\"GTM\",\"PRY\",\"CIV\",\"AND\",\"COM\",\"CAF\",\"TMP\",\"HKG\",\"SEN\",\"BGD\",\"MCO\",\"ABW\",\"ETH\",\"MDV\",\"SYR\",\"SLV\",\"QAT\",\"STP\",\"ZMB\",\"TGO\",\"ZWE\",\"LIE\",\"AIA\",\"MWI\",\"MNE\",\"BRB\",\"DJI\",\"GAB\",\"LAO\",\"GHA\",\"UZB\",\"UGA\",\"TZA\",\"BWA\",\"FRO\",\"KNA\",\"RWA\",\"SMR\",\"NCL\",\"ASM\",\"ATA\",\"ATF\",\"NAM\",\"BDI\",\"BFA\",\"BHR\",\"PYF\",\"MRT\",\"BHS\",\"MMR\",\"SLE\",\"CYM\",\"TJK\",\"MLI\",\"DMA\",\"SDN\",\"MDG\",\"NPL\",\"LCA\",\"PLW\",\"SYC\",\"GUY\",\"KIR\",\"MAC\"],\"locations\":[\"PRT\",\"GBR\",\"FRA\",\"ESP\",\"DEU\",\"IRL\",\"ITA\",\"BEL\",\"NLD\",\"USA\",\"BRA\",\"CHE\",\"CN\",\"AUT\",\"SWE\",\"POL\",\"CHN\",\"ISR\",\"NOR\",\"RUS\",\"ROU\",\"FIN\",\"DNK\",\"AUS\",\"LUX\",\"ARG\",\"JPN\",\"MAR\",\"HUN\",\"AGO\",\"TUR\",\"IND\",\"CZE\",\"KOR\",\"LTU\",\"GRC\",\"MEX\",\"HRV\",\"DZA\",\"SRB\",\"NZL\",\"EST\",\"BGR\",\"IRN\",\"COL\",\"ISL\",\"CHL\",\"ZAF\",\"UKR\",\"LVA\",\"THA\",\"MOZ\",\"SVK\",\"SVN\",\"TWN\",\"CYP\",\"MYS\",\"URY\",\"SGP\",\"LBN\",\"PER\",\"ECU\",\"PHL\",\"TUN\",\"CRI\",\"EGY\",\"NGA\",\"JOR\",\"SAU\",\"OMN\",\"VEN\",\"BLR\",\"KAZ\",\"IRQ\",\"MLT\",\"KWT\",\"CMR\",\"IDN\",\"PAN\",\"AZE\",\"CPV\",\"ALB\",\"BOL\",\"GIB\",\"GEO\",\"BIH\",\"PRI\",\"ARM\",\"CUB\",\"JAM\",\"VNM\",\"DOM\",\"MKD\",\"SUR\",\"ARE\",\"LKA\",\"MUS\",\"LBY\",\"KEN\",\"PAK\",\"GNB\",\"GTM\",\"PRY\",\"CIV\",\"AND\",\"COM\",\"CAF\",\"TMP\",\"HKG\",\"SEN\",\"BGD\",\"MCO\",\"ABW\",\"ETH\",\"MDV\",\"SYR\",\"SLV\",\"QAT\",\"STP\",\"ZMB\",\"TGO\",\"ZWE\",\"LIE\",\"AIA\",\"MWI\",\"MNE\",\"BRB\",\"DJI\",\"GAB\",\"LAO\",\"GHA\",\"UZB\",\"UGA\",\"TZA\",\"BWA\",\"FRO\",\"KNA\",\"RWA\",\"SMR\",\"NCL\",\"ASM\",\"ATA\",\"ATF\",\"NAM\",\"BDI\",\"BFA\",\"BHR\",\"PYF\",\"MRT\",\"BHS\",\"MMR\",\"SLE\",\"CYM\",\"TJK\",\"MLI\",\"DMA\",\"SDN\",\"MDG\",\"NPL\",\"LCA\",\"PLW\",\"SYC\",\"GUY\",\"KIR\",\"MAC\"],\"name\":\"\",\"z\":[37249,19233,17283,13192,11659,5103,4882,3845,3371,3205,2988,2676,2105,2014,1528,1461,1063,980,894,782,762,754,689,641,386,334,327,313,306,282,262,257,246,154,145,145,141,140,136,134,130,128,118,118,105,100,99,98,92,91,84,83,78,75,66,64,52,50,44,42,42,41,37,37,35,33,33,32,31,30,28,27,23,23,22,21,21,20,19,19,19,18,18,16,16,16,15,15,14,14,13,12,12,12,12,10,10,10,9,9,9,9,8,8,7,7,7,7,6,6,6,6,5,5,5,5,5,4,4,4,4,4,4,4,4,4,4,4,4,4,3,3,3,3,3,3,3,3,2,2,2,2,2,2,2,2,2,2,2,2,2,2,2,2,2,2,2,2,2,2,2,1,1,1,1],\"type\":\"choropleth\"}],                        {\"template\":{\"data\":{\"histogram2dcontour\":[{\"type\":\"histogram2dcontour\",\"colorbar\":{\"outlinewidth\":0,\"ticks\":\"\"},\"colorscale\":[[0.0,\"#0d0887\"],[0.1111111111111111,\"#46039f\"],[0.2222222222222222,\"#7201a8\"],[0.3333333333333333,\"#9c179e\"],[0.4444444444444444,\"#bd3786\"],[0.5555555555555556,\"#d8576b\"],[0.6666666666666666,\"#ed7953\"],[0.7777777777777778,\"#fb9f3a\"],[0.8888888888888888,\"#fdca26\"],[1.0,\"#f0f921\"]]}],\"choropleth\":[{\"type\":\"choropleth\",\"colorbar\":{\"outlinewidth\":0,\"ticks\":\"\"}}],\"histogram2d\":[{\"type\":\"histogram2d\",\"colorbar\":{\"outlinewidth\":0,\"ticks\":\"\"},\"colorscale\":[[0.0,\"#0d0887\"],[0.1111111111111111,\"#46039f\"],[0.2222222222222222,\"#7201a8\"],[0.3333333333333333,\"#9c179e\"],[0.4444444444444444,\"#bd3786\"],[0.5555555555555556,\"#d8576b\"],[0.6666666666666666,\"#ed7953\"],[0.7777777777777778,\"#fb9f3a\"],[0.8888888888888888,\"#fdca26\"],[1.0,\"#f0f921\"]]}],\"heatmap\":[{\"type\":\"heatmap\",\"colorbar\":{\"outlinewidth\":0,\"ticks\":\"\"},\"colorscale\":[[0.0,\"#0d0887\"],[0.1111111111111111,\"#46039f\"],[0.2222222222222222,\"#7201a8\"],[0.3333333333333333,\"#9c179e\"],[0.4444444444444444,\"#bd3786\"],[0.5555555555555556,\"#d8576b\"],[0.6666666666666666,\"#ed7953\"],[0.7777777777777778,\"#fb9f3a\"],[0.8888888888888888,\"#fdca26\"],[1.0,\"#f0f921\"]]}],\"heatmapgl\":[{\"type\":\"heatmapgl\",\"colorbar\":{\"outlinewidth\":0,\"ticks\":\"\"},\"colorscale\":[[0.0,\"#0d0887\"],[0.1111111111111111,\"#46039f\"],[0.2222222222222222,\"#7201a8\"],[0.3333333333333333,\"#9c179e\"],[0.4444444444444444,\"#bd3786\"],[0.5555555555555556,\"#d8576b\"],[0.6666666666666666,\"#ed7953\"],[0.7777777777777778,\"#fb9f3a\"],[0.8888888888888888,\"#fdca26\"],[1.0,\"#f0f921\"]]}],\"contourcarpet\":[{\"type\":\"contourcarpet\",\"colorbar\":{\"outlinewidth\":0,\"ticks\":\"\"}}],\"contour\":[{\"type\":\"contour\",\"colorbar\":{\"outlinewidth\":0,\"ticks\":\"\"},\"colorscale\":[[0.0,\"#0d0887\"],[0.1111111111111111,\"#46039f\"],[0.2222222222222222,\"#7201a8\"],[0.3333333333333333,\"#9c179e\"],[0.4444444444444444,\"#bd3786\"],[0.5555555555555556,\"#d8576b\"],[0.6666666666666666,\"#ed7953\"],[0.7777777777777778,\"#fb9f3a\"],[0.8888888888888888,\"#fdca26\"],[1.0,\"#f0f921\"]]}],\"surface\":[{\"type\":\"surface\",\"colorbar\":{\"outlinewidth\":0,\"ticks\":\"\"},\"colorscale\":[[0.0,\"#0d0887\"],[0.1111111111111111,\"#46039f\"],[0.2222222222222222,\"#7201a8\"],[0.3333333333333333,\"#9c179e\"],[0.4444444444444444,\"#bd3786\"],[0.5555555555555556,\"#d8576b\"],[0.6666666666666666,\"#ed7953\"],[0.7777777777777778,\"#fb9f3a\"],[0.8888888888888888,\"#fdca26\"],[1.0,\"#f0f921\"]]}],\"mesh3d\":[{\"type\":\"mesh3d\",\"colorbar\":{\"outlinewidth\":0,\"ticks\":\"\"}}],\"scatter\":[{\"fillpattern\":{\"fillmode\":\"overlay\",\"size\":10,\"solidity\":0.2},\"type\":\"scatter\"}],\"parcoords\":[{\"type\":\"parcoords\",\"line\":{\"colorbar\":{\"outlinewidth\":0,\"ticks\":\"\"}}}],\"scatterpolargl\":[{\"type\":\"scatterpolargl\",\"marker\":{\"colorbar\":{\"outlinewidth\":0,\"ticks\":\"\"}}}],\"bar\":[{\"error_x\":{\"color\":\"#2a3f5f\"},\"error_y\":{\"color\":\"#2a3f5f\"},\"marker\":{\"line\":{\"color\":\"#E5ECF6\",\"width\":0.5},\"pattern\":{\"fillmode\":\"overlay\",\"size\":10,\"solidity\":0.2}},\"type\":\"bar\"}],\"scattergeo\":[{\"type\":\"scattergeo\",\"marker\":{\"colorbar\":{\"outlinewidth\":0,\"ticks\":\"\"}}}],\"scatterpolar\":[{\"type\":\"scatterpolar\",\"marker\":{\"colorbar\":{\"outlinewidth\":0,\"ticks\":\"\"}}}],\"histogram\":[{\"marker\":{\"pattern\":{\"fillmode\":\"overlay\",\"size\":10,\"solidity\":0.2}},\"type\":\"histogram\"}],\"scattergl\":[{\"type\":\"scattergl\",\"marker\":{\"colorbar\":{\"outlinewidth\":0,\"ticks\":\"\"}}}],\"scatter3d\":[{\"type\":\"scatter3d\",\"line\":{\"colorbar\":{\"outlinewidth\":0,\"ticks\":\"\"}},\"marker\":{\"colorbar\":{\"outlinewidth\":0,\"ticks\":\"\"}}}],\"scattermapbox\":[{\"type\":\"scattermapbox\",\"marker\":{\"colorbar\":{\"outlinewidth\":0,\"ticks\":\"\"}}}],\"scatterternary\":[{\"type\":\"scatterternary\",\"marker\":{\"colorbar\":{\"outlinewidth\":0,\"ticks\":\"\"}}}],\"scattercarpet\":[{\"type\":\"scattercarpet\",\"marker\":{\"colorbar\":{\"outlinewidth\":0,\"ticks\":\"\"}}}],\"carpet\":[{\"aaxis\":{\"endlinecolor\":\"#2a3f5f\",\"gridcolor\":\"white\",\"linecolor\":\"white\",\"minorgridcolor\":\"white\",\"startlinecolor\":\"#2a3f5f\"},\"baxis\":{\"endlinecolor\":\"#2a3f5f\",\"gridcolor\":\"white\",\"linecolor\":\"white\",\"minorgridcolor\":\"white\",\"startlinecolor\":\"#2a3f5f\"},\"type\":\"carpet\"}],\"table\":[{\"cells\":{\"fill\":{\"color\":\"#EBF0F8\"},\"line\":{\"color\":\"white\"}},\"header\":{\"fill\":{\"color\":\"#C8D4E3\"},\"line\":{\"color\":\"white\"}},\"type\":\"table\"}],\"barpolar\":[{\"marker\":{\"line\":{\"color\":\"#E5ECF6\",\"width\":0.5},\"pattern\":{\"fillmode\":\"overlay\",\"size\":10,\"solidity\":0.2}},\"type\":\"barpolar\"}],\"pie\":[{\"automargin\":true,\"type\":\"pie\"}]},\"layout\":{\"autotypenumbers\":\"strict\",\"colorway\":[\"#636efa\",\"#EF553B\",\"#00cc96\",\"#ab63fa\",\"#FFA15A\",\"#19d3f3\",\"#FF6692\",\"#B6E880\",\"#FF97FF\",\"#FECB52\"],\"font\":{\"color\":\"#2a3f5f\"},\"hovermode\":\"closest\",\"hoverlabel\":{\"align\":\"left\"},\"paper_bgcolor\":\"white\",\"plot_bgcolor\":\"#E5ECF6\",\"polar\":{\"bgcolor\":\"#E5ECF6\",\"angularaxis\":{\"gridcolor\":\"white\",\"linecolor\":\"white\",\"ticks\":\"\"},\"radialaxis\":{\"gridcolor\":\"white\",\"linecolor\":\"white\",\"ticks\":\"\"}},\"ternary\":{\"bgcolor\":\"#E5ECF6\",\"aaxis\":{\"gridcolor\":\"white\",\"linecolor\":\"white\",\"ticks\":\"\"},\"baxis\":{\"gridcolor\":\"white\",\"linecolor\":\"white\",\"ticks\":\"\"},\"caxis\":{\"gridcolor\":\"white\",\"linecolor\":\"white\",\"ticks\":\"\"}},\"coloraxis\":{\"colorbar\":{\"outlinewidth\":0,\"ticks\":\"\"}},\"colorscale\":{\"sequential\":[[0.0,\"#0d0887\"],[0.1111111111111111,\"#46039f\"],[0.2222222222222222,\"#7201a8\"],[0.3333333333333333,\"#9c179e\"],[0.4444444444444444,\"#bd3786\"],[0.5555555555555556,\"#d8576b\"],[0.6666666666666666,\"#ed7953\"],[0.7777777777777778,\"#fb9f3a\"],[0.8888888888888888,\"#fdca26\"],[1.0,\"#f0f921\"]],\"sequentialminus\":[[0.0,\"#0d0887\"],[0.1111111111111111,\"#46039f\"],[0.2222222222222222,\"#7201a8\"],[0.3333333333333333,\"#9c179e\"],[0.4444444444444444,\"#bd3786\"],[0.5555555555555556,\"#d8576b\"],[0.6666666666666666,\"#ed7953\"],[0.7777777777777778,\"#fb9f3a\"],[0.8888888888888888,\"#fdca26\"],[1.0,\"#f0f921\"]],\"diverging\":[[0,\"#8e0152\"],[0.1,\"#c51b7d\"],[0.2,\"#de77ae\"],[0.3,\"#f1b6da\"],[0.4,\"#fde0ef\"],[0.5,\"#f7f7f7\"],[0.6,\"#e6f5d0\"],[0.7,\"#b8e186\"],[0.8,\"#7fbc41\"],[0.9,\"#4d9221\"],[1,\"#276419\"]]},\"xaxis\":{\"gridcolor\":\"white\",\"linecolor\":\"white\",\"ticks\":\"\",\"title\":{\"standoff\":15},\"zerolinecolor\":\"white\",\"automargin\":true,\"zerolinewidth\":2},\"yaxis\":{\"gridcolor\":\"white\",\"linecolor\":\"white\",\"ticks\":\"\",\"title\":{\"standoff\":15},\"zerolinecolor\":\"white\",\"automargin\":true,\"zerolinewidth\":2},\"scene\":{\"xaxis\":{\"backgroundcolor\":\"#E5ECF6\",\"gridcolor\":\"white\",\"linecolor\":\"white\",\"showbackground\":true,\"ticks\":\"\",\"zerolinecolor\":\"white\",\"gridwidth\":2},\"yaxis\":{\"backgroundcolor\":\"#E5ECF6\",\"gridcolor\":\"white\",\"linecolor\":\"white\",\"showbackground\":true,\"ticks\":\"\",\"zerolinecolor\":\"white\",\"gridwidth\":2},\"zaxis\":{\"backgroundcolor\":\"#E5ECF6\",\"gridcolor\":\"white\",\"linecolor\":\"white\",\"showbackground\":true,\"ticks\":\"\",\"zerolinecolor\":\"white\",\"gridwidth\":2}},\"shapedefaults\":{\"line\":{\"color\":\"#2a3f5f\"}},\"annotationdefaults\":{\"arrowcolor\":\"#2a3f5f\",\"arrowhead\":0,\"arrowwidth\":1},\"geo\":{\"bgcolor\":\"white\",\"landcolor\":\"#E5ECF6\",\"subunitcolor\":\"white\",\"showland\":true,\"showlakes\":true,\"lakecolor\":\"white\"},\"title\":{\"x\":0.05},\"mapbox\":{\"style\":\"light\"}}},\"geo\":{\"domain\":{\"x\":[0.0,1.0],\"y\":[0.0,1.0]},\"center\":{}},\"coloraxis\":{\"colorbar\":{\"title\":{\"text\":\"no_of_guests\"}},\"colorscale\":[[0.0,\"#0d0887\"],[0.1111111111111111,\"#46039f\"],[0.2222222222222222,\"#7201a8\"],[0.3333333333333333,\"#9c179e\"],[0.4444444444444444,\"#bd3786\"],[0.5555555555555556,\"#d8576b\"],[0.6666666666666666,\"#ed7953\"],[0.7777777777777778,\"#fb9f3a\"],[0.8888888888888888,\"#fdca26\"],[1.0,\"#f0f921\"]]},\"legend\":{\"tracegroupgap\":0},\"margin\":{\"t\":60},\"title\":{\"text\":\"Guest's Home Country (confirmed bookings)\",\"x\":0.5}},                        {\"responsive\": true}                    ).then(function(){\n",
       "                            \n",
       "var gd = document.getElementById('261e252f-3e71-40e6-b598-d6392e514ad2');\n",
       "var x = new MutationObserver(function (mutations, observer) {{\n",
       "        var display = window.getComputedStyle(gd).display;\n",
       "        if (!display || display === 'none') {{\n",
       "            console.log([gd, 'removed!']);\n",
       "            Plotly.purge(gd);\n",
       "            observer.disconnect();\n",
       "        }}\n",
       "}});\n",
       "\n",
       "// Listen for the removal of the full notebook cells\n",
       "var notebookContainer = gd.closest('#notebook-container');\n",
       "if (notebookContainer) {{\n",
       "    x.observe(notebookContainer, {childList: true});\n",
       "}}\n",
       "\n",
       "// Listen for the clearing of the current output cell\n",
       "var outputEl = gd.closest('.output');\n",
       "if (outputEl) {{\n",
       "    x.observe(outputEl, {childList: true});\n",
       "}}\n",
       "\n",
       "                        })                };                });            </script>        </div>"
      ]
     },
     "metadata": {},
     "output_type": "display_data"
    }
   ],
   "source": [
    "# Plot a choropleth to check the distribution of guests' countries of origin.\n",
    "map_guest = px.choropleth(country_wise_data,\n",
    "                          locations=country_wise_data['country'],\n",
    "                          color=country_wise_data['no_of_guests'],\n",
    "                          hover_name=country_wise_data['country'])\n",
    "\n",
    "# Center the title\n",
    "map_guest.update_layout(\n",
    "    title={'text': \"Guest's Home Country (confirmed bookings)\", 'x': 0.5}\n",
    ")\n",
    "\n",
    "# Display the choropleth map\n",
    "map_guest.show()"
   ]
  },
  {
   "cell_type": "code",
   "execution_count": 67,
   "id": "1a7c58d1",
   "metadata": {},
   "outputs": [
    {
     "data": {
      "text/markdown": [
       "**PRT** is the home country of the majority of the hotel's guests, accounting for 25.71% of the total. It is followed by **GBR** at 13.28% and **FRA** at 11.93%."
      ],
      "text/plain": [
       "<IPython.core.display.Markdown object>"
      ]
     },
     "metadata": {},
     "output_type": "display_data"
    }
   ],
   "source": [
    "display(Markdown(f\"**{country_wise_data['country'][0]}** is the home country of the majority of the hotel's guests, accounting for {country_wise_data['total_%'][0]}% of the total. It is followed by **{country_wise_data['country'][1]}** at {country_wise_data['total_%'][1]}% and **{country_wise_data['country'][2]}** at {country_wise_data['total_%'][2]}%.\"))"
   ]
  },
  {
   "cell_type": "markdown",
   "id": "409064ea",
   "metadata": {},
   "source": [
    "Are these countries the same for both hotels?"
   ]
  },
  {
   "cell_type": "code",
   "execution_count": 68,
   "id": "d6764a47",
   "metadata": {},
   "outputs": [
    {
     "data": {
      "text/plain": [
       "array(['Resort Hotel', 'City Hotel'], dtype=object)"
      ]
     },
     "execution_count": 68,
     "metadata": {},
     "output_type": "execute_result"
    }
   ],
   "source": [
    "# Unique values of 'hotel' variable\n",
    "data['hotel'].unique()"
   ]
  },
  {
   "cell_type": "code",
   "execution_count": 69,
   "id": "88ec7a22",
   "metadata": {},
   "outputs": [],
   "source": [
    "# Calculate the percentage of customers for each country, grouped by unique values of 'hotels'\n",
    "country_percentage_by_hotel = confirmed_bookings.groupby(['hotel', 'country'])['country'].count() / len_not_canceled * 100\n",
    "\n",
    "# Convert the calculated percentages to a df and round the 'total_%' column\n",
    "df_country_percentage_by_hotel = country_percentage_by_hotel.reset_index(name='total_%')\n",
    "df_country_percentage_by_hotel['total_%'] = df_country_percentage_by_hotel['total_%'].round(2)\n",
    "\n",
    "# Top 5 countries with the highest total percentages for each hotel\n",
    "top_countries_by_hotel = df_country_percentage_by_hotel.groupby('hotel').apply(lambda x: x.nlargest(5, 'total_%')).reset_index(drop=True)\n",
    "\n",
    "# Split the dataframe\n",
    "top_countries_city = top_countries_by_hotel[top_countries_by_hotel['hotel'] == 'City Hotel'].reset_index(drop=True)\n",
    "top_countries_resort = top_countries_by_hotel[top_countries_by_hotel['hotel'] == 'Resort Hotel'].reset_index(drop=True)"
   ]
  },
  {
   "cell_type": "code",
   "execution_count": 70,
   "id": "6caa59cc",
   "metadata": {},
   "outputs": [
    {
     "data": {
      "image/png": "[encoded data removed]",
      "text/plain": [
       "<Figure size 1200x600 with 2 Axes>"
      ]
     },
     "metadata": {},
     "output_type": "display_data"
    }
   ],
   "source": [
    "# Create a figure with two subplots side by side\n",
    "fig, axes = plt.subplots(1, 2, figsize=(12, 6))\n",
    "\n",
    "# Plot for 'City Hotel'\n",
    "sns.barplot(x='total_%', y='country', data=top_countries_city, ax=axes[0], color='skyblue')\n",
    "axes[0].set_xlabel('Percentage (%)')\n",
    "axes[0].set_ylabel('Country')\n",
    "axes[0].set_title('Top Countries for City Hotel')\n",
    "\n",
    "# Plot for 'Resort Hotel'\n",
    "sns.barplot(x='total_%', y='country', data=top_countries_resort, ax=axes[1], color='lightgreen')\n",
    "axes[1].set_xlabel('Percentage (%)')\n",
    "axes[1].set_ylabel('Country')\n",
    "axes[1].set_title('Top Countries for Resort Hotel')\n",
    "\n",
    "# Adjust spacing between subplots\n",
    "plt.tight_layout()\n",
    "\n",
    "# Show the plot\n",
    "plt.show()"
   ]
  },
  {
   "cell_type": "markdown",
   "id": "47ac8236",
   "metadata": {},
   "source": [
    "What is the average cost that guests pay for a room per night?"
   ]
  },
  {
   "cell_type": "code",
   "execution_count": 71,
   "id": "8a40b4b7",
   "metadata": {},
   "outputs": [
    {
     "data": {
      "text/plain": [
       "Text(0, 0.5, 'price (EUR)')"
      ]
     },
     "execution_count": 71,
     "metadata": {},
     "output_type": "execute_result"
    },
    {
     "data": {
      "image/png": "[encoded data removed]",
      "text/plain": [
       "<Figure size 1200x800 with 1 Axes>"
      ]
     },
     "metadata": {},
     "output_type": "display_data"
    }
   ],
   "source": [
    "# Create a boxplot for room prices per night\n",
    "plt.figure(figsize=(12,8))\n",
    "sns.boxplot(x='reserved_room_type',y='adr', hue='hotel',data=confirmed_bookings)\n",
    "plt.title('Room Price per Night (confirmed bookings)')\n",
    "plt.xlabel('room types')\n",
    "plt.ylabel('price (EUR)')"
   ]
  },
  {
   "cell_type": "code",
   "execution_count": 72,
   "id": "e9380e3d",
   "metadata": {},
   "outputs": [
    {
     "data": {
      "text/html": [
       "<div>\n",
       "<style scoped>\n",
       "    .dataframe tbody tr th:only-of-type {\n",
       "        vertical-align: middle;\n",
       "    }\n",
       "\n",
       "    .dataframe tbody tr th {\n",
       "        vertical-align: top;\n",
       "    }\n",
       "\n",
       "    .dataframe thead th {\n",
       "        text-align: right;\n",
       "    }\n",
       "</style>\n",
       "<table border=\"1\" class=\"dataframe\">\n",
       "  <thead>\n",
       "    <tr style=\"text-align: right;\">\n",
       "      <th>hotel</th>\n",
       "      <th>City Hotel</th>\n",
       "      <th>Resort Hotel</th>\n",
       "    </tr>\n",
       "    <tr>\n",
       "      <th>reserved_room_type</th>\n",
       "      <th></th>\n",
       "      <th></th>\n",
       "    </tr>\n",
       "  </thead>\n",
       "  <tbody>\n",
       "    <tr>\n",
       "      <th>A</th>\n",
       "      <td>95.000</td>\n",
       "      <td>60.000</td>\n",
       "    </tr>\n",
       "    <tr>\n",
       "      <th>B</th>\n",
       "      <td>88.680</td>\n",
       "      <td>110.000</td>\n",
       "    </tr>\n",
       "    <tr>\n",
       "      <th>C</th>\n",
       "      <td>106.000</td>\n",
       "      <td>160.000</td>\n",
       "    </tr>\n",
       "    <tr>\n",
       "      <th>D</th>\n",
       "      <td>129.715</td>\n",
       "      <td>80.000</td>\n",
       "    </tr>\n",
       "    <tr>\n",
       "      <th>E</th>\n",
       "      <td>158.975</td>\n",
       "      <td>94.500</td>\n",
       "    </tr>\n",
       "    <tr>\n",
       "      <th>F</th>\n",
       "      <td>188.100</td>\n",
       "      <td>114.605</td>\n",
       "    </tr>\n",
       "    <tr>\n",
       "      <th>G</th>\n",
       "      <td>220.200</td>\n",
       "      <td>148.170</td>\n",
       "    </tr>\n",
       "    <tr>\n",
       "      <th>H</th>\n",
       "      <td>NaN</td>\n",
       "      <td>174.250</td>\n",
       "    </tr>\n",
       "    <tr>\n",
       "      <th>L</th>\n",
       "      <td>NaN</td>\n",
       "      <td>161.000</td>\n",
       "    </tr>\n",
       "  </tbody>\n",
       "</table>\n",
       "</div>"
      ],
      "text/plain": [
       "hotel               City Hotel  Resort Hotel\n",
       "reserved_room_type                          \n",
       "A                       95.000        60.000\n",
       "B                       88.680       110.000\n",
       "C                      106.000       160.000\n",
       "D                      129.715        80.000\n",
       "E                      158.975        94.500\n",
       "F                      188.100       114.605\n",
       "G                      220.200       148.170\n",
       "H                          NaN       174.250\n",
       "L                          NaN       161.000"
      ]
     },
     "metadata": {},
     "output_type": "display_data"
    },
    {
     "data": {
      "text/markdown": [
       "For the **City Hotel**, the room with the highest median ADR is **G**, and for the **Resort Hotel**, it is **H**."
      ],
      "text/plain": [
       "<IPython.core.display.Markdown object>"
      ]
     },
     "metadata": {},
     "output_type": "display_data"
    }
   ],
   "source": [
    "# Calculate median ADR by room type for each hotel\n",
    "median_adr_by_room_type = confirmed_bookings.groupby(['hotel', 'reserved_room_type'])['adr'].median().reset_index()\n",
    "\n",
    "# # Pivot the data to create a new DataFrame with 'reserved_room_type' as rows, 'hotel' as columns, and 'adr' values as values\n",
    "pivot_df = median_adr_by_room_type.pivot(index='reserved_room_type', columns='hotel', values='adr')\n",
    "\n",
    "# Find the rooms with highest median ADR rate for each hotel\n",
    "max_CH = pivot_df['City Hotel'].idxmax()\n",
    "max_RH = pivot_df['Resort Hotel'].idxmax()\n",
    "\n",
    "# Display the pivoted DataFrame\n",
    "display(pivot_df, Markdown(f\"For the **City Hotel**, the room with the highest median ADR is **{max_CH}**, and for the **Resort Hotel**, it is **{max_RH}**.\"))"
   ]
  },
  {
   "cell_type": "markdown",
   "id": "17722281",
   "metadata": {},
   "source": [
    "Which months demonstrate the highest hotel occupancy rates based on the monthly number of bookings?"
   ]
  },
  {
   "cell_type": "code",
   "execution_count": 73,
   "id": "47a211cc",
   "metadata": {},
   "outputs": [
    {
     "name": "stdout",
     "output_type": "stream",
     "text": [
      "Resort Hotel data shape:  (28555, 35)\n",
      "City Hotel data shape:  (45829, 35)\n"
     ]
    }
   ],
   "source": [
    "# Split data into Resort and City data (confirmed bookings)\n",
    "data_resort = confirmed_bookings[confirmed_bookings['hotel'] == 'Resort Hotel']\n",
    "data_city = confirmed_bookings[confirmed_bookings['hotel'] == 'City Hotel']\n",
    "\n",
    "print('Resort Hotel data shape: ', data_resort.shape)\n",
    "print('City Hotel data shape: ', data_city.shape)"
   ]
  },
  {
   "cell_type": "code",
   "execution_count": 74,
   "id": "d0c9aec5",
   "metadata": {},
   "outputs": [
    {
     "data": {
      "text/html": [
       "<div>\n",
       "<style scoped>\n",
       "    .dataframe tbody tr th:only-of-type {\n",
       "        vertical-align: middle;\n",
       "    }\n",
       "\n",
       "    .dataframe tbody tr th {\n",
       "        vertical-align: top;\n",
       "    }\n",
       "\n",
       "    .dataframe thead th {\n",
       "        text-align: right;\n",
       "    }\n",
       "</style>\n",
       "<table border=\"1\" class=\"dataframe\">\n",
       "  <thead>\n",
       "    <tr style=\"text-align: right;\">\n",
       "      <th></th>\n",
       "      <th>month</th>\n",
       "      <th>bookings_resort</th>\n",
       "      <th>bookings_city</th>\n",
       "    </tr>\n",
       "  </thead>\n",
       "  <tbody>\n",
       "    <tr>\n",
       "      <th>0</th>\n",
       "      <td>August</td>\n",
       "      <td>3223</td>\n",
       "      <td>5352</td>\n",
       "    </tr>\n",
       "    <tr>\n",
       "      <th>1</th>\n",
       "      <td>July</td>\n",
       "      <td>3096</td>\n",
       "      <td>4753</td>\n",
       "    </tr>\n",
       "    <tr>\n",
       "      <th>2</th>\n",
       "      <td>March</td>\n",
       "      <td>2543</td>\n",
       "      <td>4027</td>\n",
       "    </tr>\n",
       "    <tr>\n",
       "      <th>3</th>\n",
       "      <td>October</td>\n",
       "      <td>2533</td>\n",
       "      <td>4286</td>\n",
       "    </tr>\n",
       "    <tr>\n",
       "      <th>4</th>\n",
       "      <td>April</td>\n",
       "      <td>2530</td>\n",
       "      <td>4000</td>\n",
       "    </tr>\n",
       "    <tr>\n",
       "      <th>5</th>\n",
       "      <td>May</td>\n",
       "      <td>2497</td>\n",
       "      <td>4532</td>\n",
       "    </tr>\n",
       "    <tr>\n",
       "      <th>6</th>\n",
       "      <td>February</td>\n",
       "      <td>2288</td>\n",
       "      <td>3024</td>\n",
       "    </tr>\n",
       "    <tr>\n",
       "      <th>7</th>\n",
       "      <td>September</td>\n",
       "      <td>2094</td>\n",
       "      <td>4269</td>\n",
       "    </tr>\n",
       "    <tr>\n",
       "      <th>8</th>\n",
       "      <td>June</td>\n",
       "      <td>2011</td>\n",
       "      <td>4344</td>\n",
       "    </tr>\n",
       "    <tr>\n",
       "      <th>9</th>\n",
       "      <td>December</td>\n",
       "      <td>1962</td>\n",
       "      <td>2360</td>\n",
       "    </tr>\n",
       "    <tr>\n",
       "      <th>10</th>\n",
       "      <td>November</td>\n",
       "      <td>1943</td>\n",
       "      <td>2649</td>\n",
       "    </tr>\n",
       "    <tr>\n",
       "      <th>11</th>\n",
       "      <td>January</td>\n",
       "      <td>1835</td>\n",
       "      <td>2233</td>\n",
       "    </tr>\n",
       "  </tbody>\n",
       "</table>\n",
       "</div>"
      ],
      "text/plain": [
       "        month  bookings_resort  bookings_city\n",
       "0      August             3223           5352\n",
       "1        July             3096           4753\n",
       "2       March             2543           4027\n",
       "3     October             2533           4286\n",
       "4       April             2530           4000\n",
       "5         May             2497           4532\n",
       "6    February             2288           3024\n",
       "7   September             2094           4269\n",
       "8        June             2011           4344\n",
       "9    December             1962           2360\n",
       "10   November             1943           2649\n",
       "11    January             1835           2233"
      ]
     },
     "execution_count": 74,
     "metadata": {},
     "output_type": "execute_result"
    }
   ],
   "source": [
    "# Count monthly bookings for each hotel\n",
    "\n",
    "# For the Resort Hotel\n",
    "monthly_bookings_resort = data_resort['arrival_date_month'].value_counts().reset_index()\n",
    "monthly_bookings_resort.columns = ['month', 'no_of_bookings_resort']\n",
    "\n",
    "# For the City Hotel\n",
    "monthly_bookings_city = data_city['arrival_date_month'].value_counts().reset_index()\n",
    "monthly_bookings_city.columns = ['month', 'no_of_bookings_city']\n",
    "\n",
    "# Merge the data for both hotels\n",
    "monthly_bookings_combined = monthly_bookings_resort.merge(monthly_bookings_city, on='month')\n",
    "monthly_bookings_combined.columns = ['month', 'bookings_resort', 'bookings_city']\n",
    "\n",
    "# Display the final result\n",
    "monthly_bookings_combined"
   ]
  },
  {
   "cell_type": "code",
   "execution_count": 75,
   "id": "5957873a",
   "metadata": {},
   "outputs": [
    {
     "data": {
      "text/html": [
       "<div>\n",
       "<style scoped>\n",
       "    .dataframe tbody tr th:only-of-type {\n",
       "        vertical-align: middle;\n",
       "    }\n",
       "\n",
       "    .dataframe tbody tr th {\n",
       "        vertical-align: top;\n",
       "    }\n",
       "\n",
       "    .dataframe thead th {\n",
       "        text-align: right;\n",
       "    }\n",
       "</style>\n",
       "<table border=\"1\" class=\"dataframe\">\n",
       "  <thead>\n",
       "    <tr style=\"text-align: right;\">\n",
       "      <th></th>\n",
       "      <th>month</th>\n",
       "      <th>bookings_resort</th>\n",
       "      <th>bookings_city</th>\n",
       "    </tr>\n",
       "  </thead>\n",
       "  <tbody>\n",
       "    <tr>\n",
       "      <th>0</th>\n",
       "      <td>January</td>\n",
       "      <td>1835</td>\n",
       "      <td>2233</td>\n",
       "    </tr>\n",
       "    <tr>\n",
       "      <th>1</th>\n",
       "      <td>February</td>\n",
       "      <td>2288</td>\n",
       "      <td>3024</td>\n",
       "    </tr>\n",
       "    <tr>\n",
       "      <th>2</th>\n",
       "      <td>March</td>\n",
       "      <td>2543</td>\n",
       "      <td>4027</td>\n",
       "    </tr>\n",
       "    <tr>\n",
       "      <th>3</th>\n",
       "      <td>April</td>\n",
       "      <td>2530</td>\n",
       "      <td>4000</td>\n",
       "    </tr>\n",
       "    <tr>\n",
       "      <th>4</th>\n",
       "      <td>May</td>\n",
       "      <td>2497</td>\n",
       "      <td>4532</td>\n",
       "    </tr>\n",
       "    <tr>\n",
       "      <th>5</th>\n",
       "      <td>June</td>\n",
       "      <td>2011</td>\n",
       "      <td>4344</td>\n",
       "    </tr>\n",
       "    <tr>\n",
       "      <th>6</th>\n",
       "      <td>July</td>\n",
       "      <td>3096</td>\n",
       "      <td>4753</td>\n",
       "    </tr>\n",
       "    <tr>\n",
       "      <th>7</th>\n",
       "      <td>August</td>\n",
       "      <td>3223</td>\n",
       "      <td>5352</td>\n",
       "    </tr>\n",
       "    <tr>\n",
       "      <th>8</th>\n",
       "      <td>September</td>\n",
       "      <td>2094</td>\n",
       "      <td>4269</td>\n",
       "    </tr>\n",
       "    <tr>\n",
       "      <th>9</th>\n",
       "      <td>October</td>\n",
       "      <td>2533</td>\n",
       "      <td>4286</td>\n",
       "    </tr>\n",
       "    <tr>\n",
       "      <th>10</th>\n",
       "      <td>November</td>\n",
       "      <td>1943</td>\n",
       "      <td>2649</td>\n",
       "    </tr>\n",
       "    <tr>\n",
       "      <th>11</th>\n",
       "      <td>December</td>\n",
       "      <td>1962</td>\n",
       "      <td>2360</td>\n",
       "    </tr>\n",
       "  </tbody>\n",
       "</table>\n",
       "</div>"
      ],
      "text/plain": [
       "        month  bookings_resort  bookings_city\n",
       "0     January             1835           2233\n",
       "1    February             2288           3024\n",
       "2       March             2543           4027\n",
       "3       April             2530           4000\n",
       "4         May             2497           4532\n",
       "5        June             2011           4344\n",
       "6        July             3096           4753\n",
       "7      August             3223           5352\n",
       "8   September             2094           4269\n",
       "9     October             2533           4286\n",
       "10   November             1943           2649\n",
       "11   December             1962           2360"
      ]
     },
     "execution_count": 75,
     "metadata": {},
     "output_type": "execute_result"
    }
   ],
   "source": [
    "# Import the library to sort months (textual) in the proper order\n",
    "import sort_dataframeby_monthorweek as sd\n",
    "\n",
    "# Sort the DataFrame by month in chronological order\n",
    "monthly_bookings_combined = sd.Sort_Dataframeby_Month(monthly_bookings_combined, 'month')\n",
    "monthly_bookings_combined"
   ]
  },
  {
   "cell_type": "code",
   "execution_count": 76,
   "id": "c6aa13c3",
   "metadata": {},
   "outputs": [
    {
     "data": {
      "text/markdown": [
       "For the **Resort Hotel**, the top 3 months with the highest bookings are **August, July, March**, while for the **City Hotel**, they are **August, July, May**."
      ],
      "text/plain": [
       "<IPython.core.display.Markdown object>"
      ]
     },
     "metadata": {},
     "output_type": "display_data"
    }
   ],
   "source": [
    "# Select the top 3 months with the highest bookings for each hotel\n",
    "top_3_resort = monthly_bookings_combined.nlargest(3, 'bookings_resort')['month']\n",
    "top_3_city = monthly_bookings_combined.nlargest(3, 'bookings_city')['month']\n",
    "\n",
    "# Convert the top months to a comma-separated string\n",
    "top_3_resort_str = ', '.join(top_3_resort)\n",
    "top_3_city_str = ', '.join(top_3_city)\n",
    "\n",
    "# Display the results using Markdown\n",
    "display(Markdown(f\"For the **Resort Hotel**, the top 3 months with the highest bookings are **{top_3_resort_str}**, while for the **City Hotel**, they are **{top_3_city_str}**.\"))"
   ]
  },
  {
   "cell_type": "code",
   "execution_count": 77,
   "id": "ed05ff20",
   "metadata": {},
   "outputs": [
    {
     "data": {
      "application/vnd.plotly.v1+json": {
       "config": {
        "plotlyServerURL": "https://plot.ly"
       },
       "data": [
        {
         "hovertemplate": "variable=bookings_resort<br>month=%{x}<br>value=%{y}<extra></extra>",
         "legendgroup": "bookings_resort",
         "line": {
          "color": "#636efa",
          "dash": "solid"
         },
         "marker": {
          "symbol": "circle"
         },
         "mode": "lines",
         "name": "bookings_resort",
         "orientation": "v",
         "showlegend": true,
         "type": "scatter",
         "x": [
          "January",
          "February",
          "March",
          "April",
          "May",
          "June",
          "July",
          "August",
          "September",
          "October",
          "November",
          "December"
         ],
         "xaxis": "x",
         "y": [
          1835,
          2288,
          2543,
          2530,
          2497,
          2011,
          3096,
          3223,
          2094,
          2533,
          1943,
          1962
         ],
         "yaxis": "y"
        },
        {
         "hovertemplate": "variable=bookings_city<br>month=%{x}<br>value=%{y}<extra></extra>",
         "legendgroup": "bookings_city",
         "line": {
          "color": "#EF553B",
          "dash": "solid"
         },
         "marker": {
          "symbol": "circle"
         },
         "mode": "lines",
         "name": "bookings_city",
         "orientation": "v",
         "showlegend": true,
         "type": "scatter",
         "x": [
          "January",
          "February",
          "March",
          "April",
          "May",
          "June",
          "July",
          "August",
          "September",
          "October",
          "November",
          "December"
         ],
         "xaxis": "x",
         "y": [
          2233,
          3024,
          4027,
          4000,
          4532,
          4344,
          4753,
          5352,
          4269,
          4286,
          2649,
          2360
         ],
         "yaxis": "y"
        }
       ],
       "layout": {
        "legend": {
         "title": {
          "text": "variable"
         },
         "tracegroupgap": 0
        },
        "template": {
         "data": {
          "bar": [
           {
            "error_x": {
             "color": "#2a3f5f"
            },
            "error_y": {
             "color": "#2a3f5f"
            },
            "marker": {
             "line": {
              "color": "#E5ECF6",
              "width": 0.5
             },
             "pattern": {
              "fillmode": "overlay",
              "size": 10,
              "solidity": 0.2
             }
            },
            "type": "bar"
           }
          ],
          "barpolar": [
           {
            "marker": {
             "line": {
              "color": "#E5ECF6",
              "width": 0.5
             },
             "pattern": {
              "fillmode": "overlay",
              "size": 10,
              "solidity": 0.2
             }
            },
            "type": "barpolar"
           }
          ],
          "carpet": [
           {
            "aaxis": {
             "endlinecolor": "#2a3f5f",
             "gridcolor": "white",
             "linecolor": "white",
             "minorgridcolor": "white",
             "startlinecolor": "#2a3f5f"
            },
            "baxis": {
             "endlinecolor": "#2a3f5f",
             "gridcolor": "white",
             "linecolor": "white",
             "minorgridcolor": "white",
             "startlinecolor": "#2a3f5f"
            },
            "type": "carpet"
           }
          ],
          "choropleth": [
           {
            "colorbar": {
             "outlinewidth": 0,
             "ticks": ""
            },
            "type": "choropleth"
           }
          ],
          "contour": [
           {
            "colorbar": {
             "outlinewidth": 0,
             "ticks": ""
            },
            "colorscale": [
             [
              0,
              "#0d0887"
             ],
             [
              0.1111111111111111,
              "#46039f"
             ],
             [
              0.2222222222222222,
              "#7201a8"
             ],
             [
              0.3333333333333333,
              "#9c179e"
             ],
             [
              0.4444444444444444,
              "#bd3786"
             ],
             [
              0.5555555555555556,
              "#d8576b"
             ],
             [
              0.6666666666666666,
              "#ed7953"
             ],
             [
              0.7777777777777778,
              "#fb9f3a"
             ],
             [
              0.8888888888888888,
              "#fdca26"
             ],
             [
              1,
              "#f0f921"
             ]
            ],
            "type": "contour"
           }
          ],
          "contourcarpet": [
           {
            "colorbar": {
             "outlinewidth": 0,
             "ticks": ""
            },
            "type": "contourcarpet"
           }
          ],
          "heatmap": [
           {
            "colorbar": {
             "outlinewidth": 0,
             "ticks": ""
            },
            "colorscale": [
             [
              0,
              "#0d0887"
             ],
             [
              0.1111111111111111,
              "#46039f"
             ],
             [
              0.2222222222222222,
              "#7201a8"
             ],
             [
              0.3333333333333333,
              "#9c179e"
             ],
             [
              0.4444444444444444,
              "#bd3786"
             ],
             [
              0.5555555555555556,
              "#d8576b"
             ],
             [
              0.6666666666666666,
              "#ed7953"
             ],
             [
              0.7777777777777778,
              "#fb9f3a"
             ],
             [
              0.8888888888888888,
              "#fdca26"
             ],
             [
              1,
              "#f0f921"
             ]
            ],
            "type": "heatmap"
           }
          ],
          "heatmapgl": [
           {
            "colorbar": {
             "outlinewidth": 0,
             "ticks": ""
            },
            "colorscale": [
             [
              0,
              "#0d0887"
             ],
             [
              0.1111111111111111,
              "#46039f"
             ],
             [
              0.2222222222222222,
              "#7201a8"
             ],
             [
              0.3333333333333333,
              "#9c179e"
             ],
             [
              0.4444444444444444,
              "#bd3786"
             ],
             [
              0.5555555555555556,
              "#d8576b"
             ],
             [
              0.6666666666666666,
              "#ed7953"
             ],
             [
              0.7777777777777778,
              "#fb9f3a"
             ],
             [
              0.8888888888888888,
              "#fdca26"
             ],
             [
              1,
              "#f0f921"
             ]
            ],
            "type": "heatmapgl"
           }
          ],
          "histogram": [
           {
            "marker": {
             "pattern": {
              "fillmode": "overlay",
              "size": 10,
              "solidity": 0.2
             }
            },
            "type": "histogram"
           }
          ],
          "histogram2d": [
           {
            "colorbar": {
             "outlinewidth": 0,
             "ticks": ""
            },
            "colorscale": [
             [
              0,
              "#0d0887"
             ],
             [
              0.1111111111111111,
              "#46039f"
             ],
             [
              0.2222222222222222,
              "#7201a8"
             ],
             [
              0.3333333333333333,
              "#9c179e"
             ],
             [
              0.4444444444444444,
              "#bd3786"
             ],
             [
              0.5555555555555556,
              "#d8576b"
             ],
             [
              0.6666666666666666,
              "#ed7953"
             ],
             [
              0.7777777777777778,
              "#fb9f3a"
             ],
             [
              0.8888888888888888,
              "#fdca26"
             ],
             [
              1,
              "#f0f921"
             ]
            ],
            "type": "histogram2d"
           }
          ],
          "histogram2dcontour": [
           {
            "colorbar": {
             "outlinewidth": 0,
             "ticks": ""
            },
            "colorscale": [
             [
              0,
              "#0d0887"
             ],
             [
              0.1111111111111111,
              "#46039f"
             ],
             [
              0.2222222222222222,
              "#7201a8"
             ],
             [
              0.3333333333333333,
              "#9c179e"
             ],
             [
              0.4444444444444444,
              "#bd3786"
             ],
             [
              0.5555555555555556,
              "#d8576b"
             ],
             [
              0.6666666666666666,
              "#ed7953"
             ],
             [
              0.7777777777777778,
              "#fb9f3a"
             ],
             [
              0.8888888888888888,
              "#fdca26"
             ],
             [
              1,
              "#f0f921"
             ]
            ],
            "type": "histogram2dcontour"
           }
          ],
          "mesh3d": [
           {
            "colorbar": {
             "outlinewidth": 0,
             "ticks": ""
            },
            "type": "mesh3d"
           }
          ],
          "parcoords": [
           {
            "line": {
             "colorbar": {
              "outlinewidth": 0,
              "ticks": ""
             }
            },
            "type": "parcoords"
           }
          ],
          "pie": [
           {
            "automargin": true,
            "type": "pie"
           }
          ],
          "scatter": [
           {
            "fillpattern": {
             "fillmode": "overlay",
             "size": 10,
             "solidity": 0.2
            },
            "type": "scatter"
           }
          ],
          "scatter3d": [
           {
            "line": {
             "colorbar": {
              "outlinewidth": 0,
              "ticks": ""
             }
            },
            "marker": {
             "colorbar": {
              "outlinewidth": 0,
              "ticks": ""
             }
            },
            "type": "scatter3d"
           }
          ],
          "scattercarpet": [
           {
            "marker": {
             "colorbar": {
              "outlinewidth": 0,
              "ticks": ""
             }
            },
            "type": "scattercarpet"
           }
          ],
          "scattergeo": [
           {
            "marker": {
             "colorbar": {
              "outlinewidth": 0,
              "ticks": ""
             }
            },
            "type": "scattergeo"
           }
          ],
          "scattergl": [
           {
            "marker": {
             "colorbar": {
              "outlinewidth": 0,
              "ticks": ""
             }
            },
            "type": "scattergl"
           }
          ],
          "scattermapbox": [
           {
            "marker": {
             "colorbar": {
              "outlinewidth": 0,
              "ticks": ""
             }
            },
            "type": "scattermapbox"
           }
          ],
          "scatterpolar": [
           {
            "marker": {
             "colorbar": {
              "outlinewidth": 0,
              "ticks": ""
             }
            },
            "type": "scatterpolar"
           }
          ],
          "scatterpolargl": [
           {
            "marker": {
             "colorbar": {
              "outlinewidth": 0,
              "ticks": ""
             }
            },
            "type": "scatterpolargl"
           }
          ],
          "scatterternary": [
           {
            "marker": {
             "colorbar": {
              "outlinewidth": 0,
              "ticks": ""
             }
            },
            "type": "scatterternary"
           }
          ],
          "surface": [
           {
            "colorbar": {
             "outlinewidth": 0,
             "ticks": ""
            },
            "colorscale": [
             [
              0,
              "#0d0887"
             ],
             [
              0.1111111111111111,
              "#46039f"
             ],
             [
              0.2222222222222222,
              "#7201a8"
             ],
             [
              0.3333333333333333,
              "#9c179e"
             ],
             [
              0.4444444444444444,
              "#bd3786"
             ],
             [
              0.5555555555555556,
              "#d8576b"
             ],
             [
              0.6666666666666666,
              "#ed7953"
             ],
             [
              0.7777777777777778,
              "#fb9f3a"
             ],
             [
              0.8888888888888888,
              "#fdca26"
             ],
             [
              1,
              "#f0f921"
             ]
            ],
            "type": "surface"
           }
          ],
          "table": [
           {
            "cells": {
             "fill": {
              "color": "#EBF0F8"
             },
             "line": {
              "color": "white"
             }
            },
            "header": {
             "fill": {
              "color": "#C8D4E3"
             },
             "line": {
              "color": "white"
             }
            },
            "type": "table"
           }
          ]
         },
         "layout": {
          "annotationdefaults": {
           "arrowcolor": "#2a3f5f",
           "arrowhead": 0,
           "arrowwidth": 1
          },
          "autotypenumbers": "strict",
          "coloraxis": {
           "colorbar": {
            "outlinewidth": 0,
            "ticks": ""
           }
          },
          "colorscale": {
           "diverging": [
            [
             0,
             "#8e0152"
            ],
            [
             0.1,
             "#c51b7d"
            ],
            [
             0.2,
             "#de77ae"
            ],
            [
             0.3,
             "#f1b6da"
            ],
            [
             0.4,
             "#fde0ef"
            ],
            [
             0.5,
             "#f7f7f7"
            ],
            [
             0.6,
             "#e6f5d0"
            ],
            [
             0.7,
             "#b8e186"
            ],
            [
             0.8,
             "#7fbc41"
            ],
            [
             0.9,
             "#4d9221"
            ],
            [
             1,
             "#276419"
            ]
           ],
           "sequential": [
            [
             0,
             "#0d0887"
            ],
            [
             0.1111111111111111,
             "#46039f"
            ],
            [
             0.2222222222222222,
             "#7201a8"
            ],
            [
             0.3333333333333333,
             "#9c179e"
            ],
            [
             0.4444444444444444,
             "#bd3786"
            ],
            [
             0.5555555555555556,
             "#d8576b"
            ],
            [
             0.6666666666666666,
             "#ed7953"
            ],
            [
             0.7777777777777778,
             "#fb9f3a"
            ],
            [
             0.8888888888888888,
             "#fdca26"
            ],
            [
             1,
             "#f0f921"
            ]
           ],
           "sequentialminus": [
            [
             0,
             "#0d0887"
            ],
            [
             0.1111111111111111,
             "#46039f"
            ],
            [
             0.2222222222222222,
             "#7201a8"
            ],
            [
             0.3333333333333333,
             "#9c179e"
            ],
            [
             0.4444444444444444,
             "#bd3786"
            ],
            [
             0.5555555555555556,
             "#d8576b"
            ],
            [
             0.6666666666666666,
             "#ed7953"
            ],
            [
             0.7777777777777778,
             "#fb9f3a"
            ],
            [
             0.8888888888888888,
             "#fdca26"
            ],
            [
             1,
             "#f0f921"
            ]
           ]
          },
          "colorway": [
           "#636efa",
           "#EF553B",
           "#00cc96",
           "#ab63fa",
           "#FFA15A",
           "#19d3f3",
           "#FF6692",
           "#B6E880",
           "#FF97FF",
           "#FECB52"
          ],
          "font": {
           "color": "#2a3f5f"
          },
          "geo": {
           "bgcolor": "white",
           "lakecolor": "white",
           "landcolor": "#E5ECF6",
           "showlakes": true,
           "showland": true,
           "subunitcolor": "white"
          },
          "hoverlabel": {
           "align": "left"
          },
          "hovermode": "closest",
          "mapbox": {
           "style": "light"
          },
          "paper_bgcolor": "white",
          "plot_bgcolor": "#E5ECF6",
          "polar": {
           "angularaxis": {
            "gridcolor": "white",
            "linecolor": "white",
            "ticks": ""
           },
           "bgcolor": "#E5ECF6",
           "radialaxis": {
            "gridcolor": "white",
            "linecolor": "white",
            "ticks": ""
           }
          },
          "scene": {
           "xaxis": {
            "backgroundcolor": "#E5ECF6",
            "gridcolor": "white",
            "gridwidth": 2,
            "linecolor": "white",
            "showbackground": true,
            "ticks": "",
            "zerolinecolor": "white"
           },
           "yaxis": {
            "backgroundcolor": "#E5ECF6",
            "gridcolor": "white",
            "gridwidth": 2,
            "linecolor": "white",
            "showbackground": true,
            "ticks": "",
            "zerolinecolor": "white"
           },
           "zaxis": {
            "backgroundcolor": "#E5ECF6",
            "gridcolor": "white",
            "gridwidth": 2,
            "linecolor": "white",
            "showbackground": true,
            "ticks": "",
            "zerolinecolor": "white"
           }
          },
          "shapedefaults": {
           "line": {
            "color": "#2a3f5f"
           }
          },
          "ternary": {
           "aaxis": {
            "gridcolor": "white",
            "linecolor": "white",
            "ticks": ""
           },
           "baxis": {
            "gridcolor": "white",
            "linecolor": "white",
            "ticks": ""
           },
           "bgcolor": "#E5ECF6",
           "caxis": {
            "gridcolor": "white",
            "linecolor": "white",
            "ticks": ""
           }
          },
          "title": {
           "x": 0.05
          },
          "xaxis": {
           "automargin": true,
           "gridcolor": "white",
           "linecolor": "white",
           "ticks": "",
           "title": {
            "standoff": 15
           },
           "zerolinecolor": "white",
           "zerolinewidth": 2
          },
          "yaxis": {
           "automargin": true,
           "gridcolor": "white",
           "linecolor": "white",
           "ticks": "",
           "title": {
            "standoff": 15
           },
           "zerolinecolor": "white",
           "zerolinewidth": 2
          }
         }
        },
        "title": {
         "text": "Number of (confirmed) bookings by month"
        },
        "xaxis": {
         "anchor": "y",
         "domain": [
          0,
          1
         ],
         "title": {
          "text": "month"
         }
        },
        "yaxis": {
         "anchor": "x",
         "domain": [
          0,
          1
         ],
         "title": {
          "text": "value"
         }
        }
       }
      },
      "text/html": [
       "<div>                            <div id=\"b8896e39-0ac9-4356-abf4-d3cc08931416\" class=\"plotly-graph-div\" style=\"height:525px; width:100%;\"></div>            <script type=\"text/javascript\">                require([\"plotly\"], function(Plotly) {                    window.PLOTLYENV=window.PLOTLYENV || {};                                    if (document.getElementById(\"b8896e39-0ac9-4356-abf4-d3cc08931416\")) {                    Plotly.newPlot(                        \"b8896e39-0ac9-4356-abf4-d3cc08931416\",                        [{\"hovertemplate\":\"variable=bookings_resort<br>month=%{x}<br>value=%{y}<extra></extra>\",\"legendgroup\":\"bookings_resort\",\"line\":{\"color\":\"#636efa\",\"dash\":\"solid\"},\"marker\":{\"symbol\":\"circle\"},\"mode\":\"lines\",\"name\":\"bookings_resort\",\"orientation\":\"v\",\"showlegend\":true,\"x\":[\"January\",\"February\",\"March\",\"April\",\"May\",\"June\",\"July\",\"August\",\"September\",\"October\",\"November\",\"December\"],\"xaxis\":\"x\",\"y\":[1835,2288,2543,2530,2497,2011,3096,3223,2094,2533,1943,1962],\"yaxis\":\"y\",\"type\":\"scatter\"},{\"hovertemplate\":\"variable=bookings_city<br>month=%{x}<br>value=%{y}<extra></extra>\",\"legendgroup\":\"bookings_city\",\"line\":{\"color\":\"#EF553B\",\"dash\":\"solid\"},\"marker\":{\"symbol\":\"circle\"},\"mode\":\"lines\",\"name\":\"bookings_city\",\"orientation\":\"v\",\"showlegend\":true,\"x\":[\"January\",\"February\",\"March\",\"April\",\"May\",\"June\",\"July\",\"August\",\"September\",\"October\",\"November\",\"December\"],\"xaxis\":\"x\",\"y\":[2233,3024,4027,4000,4532,4344,4753,5352,4269,4286,2649,2360],\"yaxis\":\"y\",\"type\":\"scatter\"}],                        {\"template\":{\"data\":{\"histogram2dcontour\":[{\"type\":\"histogram2dcontour\",\"colorbar\":{\"outlinewidth\":0,\"ticks\":\"\"},\"colorscale\":[[0.0,\"#0d0887\"],[0.1111111111111111,\"#46039f\"],[0.2222222222222222,\"#7201a8\"],[0.3333333333333333,\"#9c179e\"],[0.4444444444444444,\"#bd3786\"],[0.5555555555555556,\"#d8576b\"],[0.6666666666666666,\"#ed7953\"],[0.7777777777777778,\"#fb9f3a\"],[0.8888888888888888,\"#fdca26\"],[1.0,\"#f0f921\"]]}],\"choropleth\":[{\"type\":\"choropleth\",\"colorbar\":{\"outlinewidth\":0,\"ticks\":\"\"}}],\"histogram2d\":[{\"type\":\"histogram2d\",\"colorbar\":{\"outlinewidth\":0,\"ticks\":\"\"},\"colorscale\":[[0.0,\"#0d0887\"],[0.1111111111111111,\"#46039f\"],[0.2222222222222222,\"#7201a8\"],[0.3333333333333333,\"#9c179e\"],[0.4444444444444444,\"#bd3786\"],[0.5555555555555556,\"#d8576b\"],[0.6666666666666666,\"#ed7953\"],[0.7777777777777778,\"#fb9f3a\"],[0.8888888888888888,\"#fdca26\"],[1.0,\"#f0f921\"]]}],\"heatmap\":[{\"type\":\"heatmap\",\"colorbar\":{\"outlinewidth\":0,\"ticks\":\"\"},\"colorscale\":[[0.0,\"#0d0887\"],[0.1111111111111111,\"#46039f\"],[0.2222222222222222,\"#7201a8\"],[0.3333333333333333,\"#9c179e\"],[0.4444444444444444,\"#bd3786\"],[0.5555555555555556,\"#d8576b\"],[0.6666666666666666,\"#ed7953\"],[0.7777777777777778,\"#fb9f3a\"],[0.8888888888888888,\"#fdca26\"],[1.0,\"#f0f921\"]]}],\"heatmapgl\":[{\"type\":\"heatmapgl\",\"colorbar\":{\"outlinewidth\":0,\"ticks\":\"\"},\"colorscale\":[[0.0,\"#0d0887\"],[0.1111111111111111,\"#46039f\"],[0.2222222222222222,\"#7201a8\"],[0.3333333333333333,\"#9c179e\"],[0.4444444444444444,\"#bd3786\"],[0.5555555555555556,\"#d8576b\"],[0.6666666666666666,\"#ed7953\"],[0.7777777777777778,\"#fb9f3a\"],[0.8888888888888888,\"#fdca26\"],[1.0,\"#f0f921\"]]}],\"contourcarpet\":[{\"type\":\"contourcarpet\",\"colorbar\":{\"outlinewidth\":0,\"ticks\":\"\"}}],\"contour\":[{\"type\":\"contour\",\"colorbar\":{\"outlinewidth\":0,\"ticks\":\"\"},\"colorscale\":[[0.0,\"#0d0887\"],[0.1111111111111111,\"#46039f\"],[0.2222222222222222,\"#7201a8\"],[0.3333333333333333,\"#9c179e\"],[0.4444444444444444,\"#bd3786\"],[0.5555555555555556,\"#d8576b\"],[0.6666666666666666,\"#ed7953\"],[0.7777777777777778,\"#fb9f3a\"],[0.8888888888888888,\"#fdca26\"],[1.0,\"#f0f921\"]]}],\"surface\":[{\"type\":\"surface\",\"colorbar\":{\"outlinewidth\":0,\"ticks\":\"\"},\"colorscale\":[[0.0,\"#0d0887\"],[0.1111111111111111,\"#46039f\"],[0.2222222222222222,\"#7201a8\"],[0.3333333333333333,\"#9c179e\"],[0.4444444444444444,\"#bd3786\"],[0.5555555555555556,\"#d8576b\"],[0.6666666666666666,\"#ed7953\"],[0.7777777777777778,\"#fb9f3a\"],[0.8888888888888888,\"#fdca26\"],[1.0,\"#f0f921\"]]}],\"mesh3d\":[{\"type\":\"mesh3d\",\"colorbar\":{\"outlinewidth\":0,\"ticks\":\"\"}}],\"scatter\":[{\"fillpattern\":{\"fillmode\":\"overlay\",\"size\":10,\"solidity\":0.2},\"type\":\"scatter\"}],\"parcoords\":[{\"type\":\"parcoords\",\"line\":{\"colorbar\":{\"outlinewidth\":0,\"ticks\":\"\"}}}],\"scatterpolargl\":[{\"type\":\"scatterpolargl\",\"marker\":{\"colorbar\":{\"outlinewidth\":0,\"ticks\":\"\"}}}],\"bar\":[{\"error_x\":{\"color\":\"#2a3f5f\"},\"error_y\":{\"color\":\"#2a3f5f\"},\"marker\":{\"line\":{\"color\":\"#E5ECF6\",\"width\":0.5},\"pattern\":{\"fillmode\":\"overlay\",\"size\":10,\"solidity\":0.2}},\"type\":\"bar\"}],\"scattergeo\":[{\"type\":\"scattergeo\",\"marker\":{\"colorbar\":{\"outlinewidth\":0,\"ticks\":\"\"}}}],\"scatterpolar\":[{\"type\":\"scatterpolar\",\"marker\":{\"colorbar\":{\"outlinewidth\":0,\"ticks\":\"\"}}}],\"histogram\":[{\"marker\":{\"pattern\":{\"fillmode\":\"overlay\",\"size\":10,\"solidity\":0.2}},\"type\":\"histogram\"}],\"scattergl\":[{\"type\":\"scattergl\",\"marker\":{\"colorbar\":{\"outlinewidth\":0,\"ticks\":\"\"}}}],\"scatter3d\":[{\"type\":\"scatter3d\",\"line\":{\"colorbar\":{\"outlinewidth\":0,\"ticks\":\"\"}},\"marker\":{\"colorbar\":{\"outlinewidth\":0,\"ticks\":\"\"}}}],\"scattermapbox\":[{\"type\":\"scattermapbox\",\"marker\":{\"colorbar\":{\"outlinewidth\":0,\"ticks\":\"\"}}}],\"scatterternary\":[{\"type\":\"scatterternary\",\"marker\":{\"colorbar\":{\"outlinewidth\":0,\"ticks\":\"\"}}}],\"scattercarpet\":[{\"type\":\"scattercarpet\",\"marker\":{\"colorbar\":{\"outlinewidth\":0,\"ticks\":\"\"}}}],\"carpet\":[{\"aaxis\":{\"endlinecolor\":\"#2a3f5f\",\"gridcolor\":\"white\",\"linecolor\":\"white\",\"minorgridcolor\":\"white\",\"startlinecolor\":\"#2a3f5f\"},\"baxis\":{\"endlinecolor\":\"#2a3f5f\",\"gridcolor\":\"white\",\"linecolor\":\"white\",\"minorgridcolor\":\"white\",\"startlinecolor\":\"#2a3f5f\"},\"type\":\"carpet\"}],\"table\":[{\"cells\":{\"fill\":{\"color\":\"#EBF0F8\"},\"line\":{\"color\":\"white\"}},\"header\":{\"fill\":{\"color\":\"#C8D4E3\"},\"line\":{\"color\":\"white\"}},\"type\":\"table\"}],\"barpolar\":[{\"marker\":{\"line\":{\"color\":\"#E5ECF6\",\"width\":0.5},\"pattern\":{\"fillmode\":\"overlay\",\"size\":10,\"solidity\":0.2}},\"type\":\"barpolar\"}],\"pie\":[{\"automargin\":true,\"type\":\"pie\"}]},\"layout\":{\"autotypenumbers\":\"strict\",\"colorway\":[\"#636efa\",\"#EF553B\",\"#00cc96\",\"#ab63fa\",\"#FFA15A\",\"#19d3f3\",\"#FF6692\",\"#B6E880\",\"#FF97FF\",\"#FECB52\"],\"font\":{\"color\":\"#2a3f5f\"},\"hovermode\":\"closest\",\"hoverlabel\":{\"align\":\"left\"},\"paper_bgcolor\":\"white\",\"plot_bgcolor\":\"#E5ECF6\",\"polar\":{\"bgcolor\":\"#E5ECF6\",\"angularaxis\":{\"gridcolor\":\"white\",\"linecolor\":\"white\",\"ticks\":\"\"},\"radialaxis\":{\"gridcolor\":\"white\",\"linecolor\":\"white\",\"ticks\":\"\"}},\"ternary\":{\"bgcolor\":\"#E5ECF6\",\"aaxis\":{\"gridcolor\":\"white\",\"linecolor\":\"white\",\"ticks\":\"\"},\"baxis\":{\"gridcolor\":\"white\",\"linecolor\":\"white\",\"ticks\":\"\"},\"caxis\":{\"gridcolor\":\"white\",\"linecolor\":\"white\",\"ticks\":\"\"}},\"coloraxis\":{\"colorbar\":{\"outlinewidth\":0,\"ticks\":\"\"}},\"colorscale\":{\"sequential\":[[0.0,\"#0d0887\"],[0.1111111111111111,\"#46039f\"],[0.2222222222222222,\"#7201a8\"],[0.3333333333333333,\"#9c179e\"],[0.4444444444444444,\"#bd3786\"],[0.5555555555555556,\"#d8576b\"],[0.6666666666666666,\"#ed7953\"],[0.7777777777777778,\"#fb9f3a\"],[0.8888888888888888,\"#fdca26\"],[1.0,\"#f0f921\"]],\"sequentialminus\":[[0.0,\"#0d0887\"],[0.1111111111111111,\"#46039f\"],[0.2222222222222222,\"#7201a8\"],[0.3333333333333333,\"#9c179e\"],[0.4444444444444444,\"#bd3786\"],[0.5555555555555556,\"#d8576b\"],[0.6666666666666666,\"#ed7953\"],[0.7777777777777778,\"#fb9f3a\"],[0.8888888888888888,\"#fdca26\"],[1.0,\"#f0f921\"]],\"diverging\":[[0,\"#8e0152\"],[0.1,\"#c51b7d\"],[0.2,\"#de77ae\"],[0.3,\"#f1b6da\"],[0.4,\"#fde0ef\"],[0.5,\"#f7f7f7\"],[0.6,\"#e6f5d0\"],[0.7,\"#b8e186\"],[0.8,\"#7fbc41\"],[0.9,\"#4d9221\"],[1,\"#276419\"]]},\"xaxis\":{\"gridcolor\":\"white\",\"linecolor\":\"white\",\"ticks\":\"\",\"title\":{\"standoff\":15},\"zerolinecolor\":\"white\",\"automargin\":true,\"zerolinewidth\":2},\"yaxis\":{\"gridcolor\":\"white\",\"linecolor\":\"white\",\"ticks\":\"\",\"title\":{\"standoff\":15},\"zerolinecolor\":\"white\",\"automargin\":true,\"zerolinewidth\":2},\"scene\":{\"xaxis\":{\"backgroundcolor\":\"#E5ECF6\",\"gridcolor\":\"white\",\"linecolor\":\"white\",\"showbackground\":true,\"ticks\":\"\",\"zerolinecolor\":\"white\",\"gridwidth\":2},\"yaxis\":{\"backgroundcolor\":\"#E5ECF6\",\"gridcolor\":\"white\",\"linecolor\":\"white\",\"showbackground\":true,\"ticks\":\"\",\"zerolinecolor\":\"white\",\"gridwidth\":2},\"zaxis\":{\"backgroundcolor\":\"#E5ECF6\",\"gridcolor\":\"white\",\"linecolor\":\"white\",\"showbackground\":true,\"ticks\":\"\",\"zerolinecolor\":\"white\",\"gridwidth\":2}},\"shapedefaults\":{\"line\":{\"color\":\"#2a3f5f\"}},\"annotationdefaults\":{\"arrowcolor\":\"#2a3f5f\",\"arrowhead\":0,\"arrowwidth\":1},\"geo\":{\"bgcolor\":\"white\",\"landcolor\":\"#E5ECF6\",\"subunitcolor\":\"white\",\"showland\":true,\"showlakes\":true,\"lakecolor\":\"white\"},\"title\":{\"x\":0.05},\"mapbox\":{\"style\":\"light\"}}},\"xaxis\":{\"anchor\":\"y\",\"domain\":[0.0,1.0],\"title\":{\"text\":\"month\"}},\"yaxis\":{\"anchor\":\"x\",\"domain\":[0.0,1.0],\"title\":{\"text\":\"value\"}},\"legend\":{\"title\":{\"text\":\"variable\"},\"tracegroupgap\":0},\"title\":{\"text\":\"Number of (confirmed) bookings by month\"}},                        {\"responsive\": true}                    ).then(function(){\n",
       "                            \n",
       "var gd = document.getElementById('b8896e39-0ac9-4356-abf4-d3cc08931416');\n",
       "var x = new MutationObserver(function (mutations, observer) {{\n",
       "        var display = window.getComputedStyle(gd).display;\n",
       "        if (!display || display === 'none') {{\n",
       "            console.log([gd, 'removed!']);\n",
       "            Plotly.purge(gd);\n",
       "            observer.disconnect();\n",
       "        }}\n",
       "}});\n",
       "\n",
       "// Listen for the removal of the full notebook cells\n",
       "var notebookContainer = gd.closest('#notebook-container');\n",
       "if (notebookContainer) {{\n",
       "    x.observe(notebookContainer, {childList: true});\n",
       "}}\n",
       "\n",
       "// Listen for the clearing of the current output cell\n",
       "var outputEl = gd.closest('.output');\n",
       "if (outputEl) {{\n",
       "    x.observe(outputEl, {childList: true});\n",
       "}}\n",
       "\n",
       "                        })                };                });            </script>        </div>"
      ]
     },
     "metadata": {},
     "output_type": "display_data"
    }
   ],
   "source": [
    "# # Plot monthly booking data for both hotels\n",
    "px.line(data_frame=monthly_bookings_combined,\n",
    "       x='month',\n",
    "       y=['bookings_resort', 'bookings_city'],\n",
    "       title = 'Number of (confirmed) bookings by month')"
   ]
  },
  {
   "cell_type": "markdown",
   "id": "4492e197",
   "metadata": {},
   "source": [
    "Which month has the highest average daily rate (ADR)?"
   ]
  },
  {
   "cell_type": "code",
   "execution_count": 78,
   "id": "d1fe9918",
   "metadata": {},
   "outputs": [],
   "source": [
    "# Sort the DataFrame 'confirmed_bookings' by month in chronological order\n",
    "confirmed_bookings = sd.Sort_Dataframeby_Month(confirmed_bookings, 'arrival_date_month')"
   ]
  },
  {
   "cell_type": "code",
   "execution_count": 79,
   "id": "d7af2a5f",
   "metadata": {},
   "outputs": [
    {
     "data": {
      "text/html": [
       "<div>\n",
       "<style scoped>\n",
       "    .dataframe tbody tr th:only-of-type {\n",
       "        vertical-align: middle;\n",
       "    }\n",
       "\n",
       "    .dataframe tbody tr th {\n",
       "        vertical-align: top;\n",
       "    }\n",
       "\n",
       "    .dataframe thead th {\n",
       "        text-align: right;\n",
       "    }\n",
       "</style>\n",
       "<table border=\"1\" class=\"dataframe\">\n",
       "  <thead>\n",
       "    <tr style=\"text-align: right;\">\n",
       "      <th></th>\n",
       "      <th>hotel</th>\n",
       "      <th>arrival_date_month</th>\n",
       "    </tr>\n",
       "  </thead>\n",
       "  <tbody>\n",
       "    <tr>\n",
       "      <th>0</th>\n",
       "      <td>Resort Hotel</td>\n",
       "      <td>January</td>\n",
       "    </tr>\n",
       "    <tr>\n",
       "      <th>1</th>\n",
       "      <td>Resort Hotel</td>\n",
       "      <td>January</td>\n",
       "    </tr>\n",
       "  </tbody>\n",
       "</table>\n",
       "</div>"
      ],
      "text/plain": [
       "          hotel arrival_date_month\n",
       "0  Resort Hotel            January\n",
       "1  Resort Hotel            January"
      ]
     },
     "metadata": {},
     "output_type": "display_data"
    },
    {
     "data": {
      "text/html": [
       "<div>\n",
       "<style scoped>\n",
       "    .dataframe tbody tr th:only-of-type {\n",
       "        vertical-align: middle;\n",
       "    }\n",
       "\n",
       "    .dataframe tbody tr th {\n",
       "        vertical-align: top;\n",
       "    }\n",
       "\n",
       "    .dataframe thead th {\n",
       "        text-align: right;\n",
       "    }\n",
       "</style>\n",
       "<table border=\"1\" class=\"dataframe\">\n",
       "  <thead>\n",
       "    <tr style=\"text-align: right;\">\n",
       "      <th></th>\n",
       "      <th>hotel</th>\n",
       "      <th>arrival_date_month</th>\n",
       "    </tr>\n",
       "  </thead>\n",
       "  <tbody>\n",
       "    <tr>\n",
       "      <th>74382</th>\n",
       "      <td>City Hotel</td>\n",
       "      <td>December</td>\n",
       "    </tr>\n",
       "    <tr>\n",
       "      <th>74383</th>\n",
       "      <td>City Hotel</td>\n",
       "      <td>December</td>\n",
       "    </tr>\n",
       "  </tbody>\n",
       "</table>\n",
       "</div>"
      ],
      "text/plain": [
       "            hotel arrival_date_month\n",
       "74382  City Hotel           December\n",
       "74383  City Hotel           December"
      ]
     },
     "metadata": {},
     "output_type": "display_data"
    }
   ],
   "source": [
    "# Display the first and last two rows of selected columns in the 'confirmed_bookings' DataFrame\n",
    "display(confirmed_bookings[['hotel', 'arrival_date_month']].head(2), confirmed_bookings[['hotel', 'arrival_date_month']].tail(2))"
   ]
  },
  {
   "cell_type": "code",
   "execution_count": 80,
   "id": "001c6f89",
   "metadata": {},
   "outputs": [
    {
     "data": {
      "image/png": "[encoded data removed]",
      "text/plain": [
       "<Figure size 1200x500 with 2 Axes>"
      ]
     },
     "metadata": {},
     "output_type": "display_data"
    }
   ],
   "source": [
    "# Set up the figure and subplots\n",
    "fig, axes = plt.subplots(1, 2, figsize=(12, 5))\n",
    "\n",
    "# Plot ADR for not cancelled bookings in the first subplot by Hotel\n",
    "sns.barplot(x='arrival_date_month', y='adr', data=confirmed_bookings, hue='hotel', ax=axes[0])\n",
    "axes[0].set_title('ADR for Confirmed Bookings (by Hotel)')\n",
    "axes[0].set_xticklabels(confirmed_bookings['arrival_date_month'].unique(), rotation=45, ha='right')\n",
    "\n",
    "# Plot ADR for not cancelled bookings in the second subplot\n",
    "sns.barplot(x='arrival_date_month', y='adr', data=confirmed_bookings, ax=axes[1])\n",
    "axes[1].set_title('ADR for Confirmed Bookings')\n",
    "axes[1].set_xticklabels(confirmed_bookings['arrival_date_month'].unique(), rotation=45, ha='right')\n",
    "\n",
    "# Adjust spacing between subplots\n",
    "plt.tight_layout()\n",
    "\n",
    "# Show the plot\n",
    "plt.show()"
   ]
  },
  {
   "cell_type": "code",
   "execution_count": 81,
   "id": "e1e9b2e0",
   "metadata": {},
   "outputs": [
    {
     "data": {
      "image/png": "[encoded data removed]",
      "text/plain": [
       "<Figure size 1000x600 with 1 Axes>"
      ]
     },
     "metadata": {},
     "output_type": "display_data"
    }
   ],
   "source": [
    "# Create a boxplot to visualize the distribution of Average Daily Rate (ADR) for confirmed bookings, grouped by hotel and month\n",
    "plt.figure(figsize=(10,6))\n",
    "sns.boxplot(x='arrival_date_month', y='adr', data=confirmed_bookings, hue='hotel')\n",
    "plt.xticks(rotation='vertical')\n",
    "plt.title('ADR Distribution for Confirmed Bookings (by Hotel)')\n",
    "plt.show()"
   ]
  },
  {
   "cell_type": "code",
   "execution_count": 82,
   "id": "582054fc",
   "metadata": {},
   "outputs": [
    {
     "data": {
      "image/png": "[encoded data removed]",
      "text/plain": [
       "<Figure size 1000x600 with 1 Axes>"
      ]
     },
     "metadata": {},
     "output_type": "display_data"
    }
   ],
   "source": [
    "# Create a boxplot to visualize the distribution of Average Daily Rate (ADR) for confirmed bookings across all months\n",
    "plt.figure(figsize=(10,6))\n",
    "sns.boxplot(x='arrival_date_month', y='adr', data=confirmed_bookings)\n",
    "plt.xticks(rotation='vertical')\n",
    "plt.title('ADR Distribution for Confirmed Bookings')\n",
    "plt.show()"
   ]
  },
  {
   "cell_type": "markdown",
   "id": "4683b5e6",
   "metadata": {},
   "source": [
    "Were the bookings made only for weekdays, only for weekends, or for both?"
   ]
  },
  {
   "cell_type": "code",
   "execution_count": 83,
   "id": "ef27e7c3",
   "metadata": {},
   "outputs": [
    {
     "data": {
      "text/html": [
       "<div>\n",
       "<style scoped>\n",
       "    .dataframe tbody tr th:only-of-type {\n",
       "        vertical-align: middle;\n",
       "    }\n",
       "\n",
       "    .dataframe tbody tr th {\n",
       "        vertical-align: top;\n",
       "    }\n",
       "\n",
       "    .dataframe thead th {\n",
       "        text-align: right;\n",
       "    }\n",
       "</style>\n",
       "<table border=\"1\" class=\"dataframe\">\n",
       "  <thead>\n",
       "    <tr style=\"text-align: right;\">\n",
       "      <th>stays_in_week_nights</th>\n",
       "      <th>0</th>\n",
       "      <th>1</th>\n",
       "      <th>2</th>\n",
       "      <th>3</th>\n",
       "      <th>4</th>\n",
       "      <th>5</th>\n",
       "      <th>6</th>\n",
       "      <th>7</th>\n",
       "      <th>8</th>\n",
       "      <th>9</th>\n",
       "      <th>10</th>\n",
       "      <th>11</th>\n",
       "      <th>12</th>\n",
       "      <th>13</th>\n",
       "      <th>14</th>\n",
       "      <th>15</th>\n",
       "      <th>16</th>\n",
       "      <th>17</th>\n",
       "      <th>18</th>\n",
       "      <th>19</th>\n",
       "      <th>20</th>\n",
       "      <th>21</th>\n",
       "      <th>25</th>\n",
       "      <th>26</th>\n",
       "      <th>30</th>\n",
       "      <th>32</th>\n",
       "      <th>33</th>\n",
       "      <th>34</th>\n",
       "      <th>40</th>\n",
       "      <th>42</th>\n",
       "      <th>50</th>\n",
       "    </tr>\n",
       "    <tr>\n",
       "      <th>stays_in_weekend_nights</th>\n",
       "      <th></th>\n",
       "      <th></th>\n",
       "      <th></th>\n",
       "      <th></th>\n",
       "      <th></th>\n",
       "      <th></th>\n",
       "      <th></th>\n",
       "      <th></th>\n",
       "      <th></th>\n",
       "      <th></th>\n",
       "      <th></th>\n",
       "      <th></th>\n",
       "      <th></th>\n",
       "      <th></th>\n",
       "      <th></th>\n",
       "      <th></th>\n",
       "      <th></th>\n",
       "      <th></th>\n",
       "      <th></th>\n",
       "      <th></th>\n",
       "      <th></th>\n",
       "      <th></th>\n",
       "      <th></th>\n",
       "      <th></th>\n",
       "      <th></th>\n",
       "      <th></th>\n",
       "      <th></th>\n",
       "      <th></th>\n",
       "      <th></th>\n",
       "      <th></th>\n",
       "      <th></th>\n",
       "    </tr>\n",
       "  </thead>\n",
       "  <tbody>\n",
       "    <tr>\n",
       "      <th>0</th>\n",
       "      <td>0</td>\n",
       "      <td>12138</td>\n",
       "      <td>9512</td>\n",
       "      <td>6734</td>\n",
       "      <td>2864</td>\n",
       "      <td>535</td>\n",
       "      <td>0</td>\n",
       "      <td>0</td>\n",
       "      <td>0</td>\n",
       "      <td>0</td>\n",
       "      <td>0</td>\n",
       "      <td>0</td>\n",
       "      <td>0</td>\n",
       "      <td>0</td>\n",
       "      <td>0</td>\n",
       "      <td>0</td>\n",
       "      <td>0</td>\n",
       "      <td>0</td>\n",
       "      <td>0</td>\n",
       "      <td>0</td>\n",
       "      <td>0</td>\n",
       "      <td>0</td>\n",
       "      <td>0</td>\n",
       "      <td>0</td>\n",
       "      <td>0</td>\n",
       "      <td>0</td>\n",
       "      <td>0</td>\n",
       "      <td>0</td>\n",
       "      <td>0</td>\n",
       "      <td>0</td>\n",
       "      <td>0</td>\n",
       "    </tr>\n",
       "    <tr>\n",
       "      <th>1</th>\n",
       "      <td>3593</td>\n",
       "      <td>4501</td>\n",
       "      <td>5162</td>\n",
       "      <td>4029</td>\n",
       "      <td>1598</td>\n",
       "      <td>725</td>\n",
       "      <td>0</td>\n",
       "      <td>0</td>\n",
       "      <td>0</td>\n",
       "      <td>0</td>\n",
       "      <td>0</td>\n",
       "      <td>0</td>\n",
       "      <td>0</td>\n",
       "      <td>0</td>\n",
       "      <td>0</td>\n",
       "      <td>0</td>\n",
       "      <td>0</td>\n",
       "      <td>0</td>\n",
       "      <td>0</td>\n",
       "      <td>0</td>\n",
       "      <td>0</td>\n",
       "      <td>0</td>\n",
       "      <td>0</td>\n",
       "      <td>0</td>\n",
       "      <td>0</td>\n",
       "      <td>0</td>\n",
       "      <td>0</td>\n",
       "      <td>0</td>\n",
       "      <td>0</td>\n",
       "      <td>0</td>\n",
       "      <td>0</td>\n",
       "    </tr>\n",
       "    <tr>\n",
       "      <th>2</th>\n",
       "      <td>1457</td>\n",
       "      <td>3820</td>\n",
       "      <td>4122</td>\n",
       "      <td>2976</td>\n",
       "      <td>1591</td>\n",
       "      <td>5679</td>\n",
       "      <td>516</td>\n",
       "      <td>284</td>\n",
       "      <td>275</td>\n",
       "      <td>53</td>\n",
       "      <td>16</td>\n",
       "      <td>0</td>\n",
       "      <td>0</td>\n",
       "      <td>0</td>\n",
       "      <td>0</td>\n",
       "      <td>0</td>\n",
       "      <td>0</td>\n",
       "      <td>0</td>\n",
       "      <td>0</td>\n",
       "      <td>0</td>\n",
       "      <td>0</td>\n",
       "      <td>0</td>\n",
       "      <td>0</td>\n",
       "      <td>0</td>\n",
       "      <td>0</td>\n",
       "      <td>0</td>\n",
       "      <td>0</td>\n",
       "      <td>0</td>\n",
       "      <td>0</td>\n",
       "      <td>0</td>\n",
       "      <td>0</td>\n",
       "    </tr>\n",
       "    <tr>\n",
       "      <th>3</th>\n",
       "      <td>0</td>\n",
       "      <td>0</td>\n",
       "      <td>0</td>\n",
       "      <td>0</td>\n",
       "      <td>0</td>\n",
       "      <td>198</td>\n",
       "      <td>173</td>\n",
       "      <td>281</td>\n",
       "      <td>84</td>\n",
       "      <td>31</td>\n",
       "      <td>41</td>\n",
       "      <td>0</td>\n",
       "      <td>0</td>\n",
       "      <td>0</td>\n",
       "      <td>0</td>\n",
       "      <td>0</td>\n",
       "      <td>0</td>\n",
       "      <td>0</td>\n",
       "      <td>0</td>\n",
       "      <td>0</td>\n",
       "      <td>0</td>\n",
       "      <td>0</td>\n",
       "      <td>0</td>\n",
       "      <td>0</td>\n",
       "      <td>0</td>\n",
       "      <td>0</td>\n",
       "      <td>0</td>\n",
       "      <td>0</td>\n",
       "      <td>0</td>\n",
       "      <td>0</td>\n",
       "      <td>0</td>\n",
       "    </tr>\n",
       "    <tr>\n",
       "      <th>4</th>\n",
       "      <td>0</td>\n",
       "      <td>0</td>\n",
       "      <td>0</td>\n",
       "      <td>0</td>\n",
       "      <td>0</td>\n",
       "      <td>70</td>\n",
       "      <td>223</td>\n",
       "      <td>136</td>\n",
       "      <td>75</td>\n",
       "      <td>49</td>\n",
       "      <td>656</td>\n",
       "      <td>15</td>\n",
       "      <td>14</td>\n",
       "      <td>10</td>\n",
       "      <td>1</td>\n",
       "      <td>1</td>\n",
       "      <td>0</td>\n",
       "      <td>0</td>\n",
       "      <td>0</td>\n",
       "      <td>0</td>\n",
       "      <td>0</td>\n",
       "      <td>0</td>\n",
       "      <td>0</td>\n",
       "      <td>0</td>\n",
       "      <td>0</td>\n",
       "      <td>0</td>\n",
       "      <td>0</td>\n",
       "      <td>0</td>\n",
       "      <td>0</td>\n",
       "      <td>0</td>\n",
       "      <td>0</td>\n",
       "    </tr>\n",
       "    <tr>\n",
       "      <th>5</th>\n",
       "      <td>0</td>\n",
       "      <td>0</td>\n",
       "      <td>0</td>\n",
       "      <td>0</td>\n",
       "      <td>0</td>\n",
       "      <td>0</td>\n",
       "      <td>0</td>\n",
       "      <td>0</td>\n",
       "      <td>0</td>\n",
       "      <td>0</td>\n",
       "      <td>22</td>\n",
       "      <td>4</td>\n",
       "      <td>3</td>\n",
       "      <td>3</td>\n",
       "      <td>2</td>\n",
       "      <td>0</td>\n",
       "      <td>0</td>\n",
       "      <td>0</td>\n",
       "      <td>0</td>\n",
       "      <td>0</td>\n",
       "      <td>0</td>\n",
       "      <td>0</td>\n",
       "      <td>0</td>\n",
       "      <td>0</td>\n",
       "      <td>0</td>\n",
       "      <td>0</td>\n",
       "      <td>0</td>\n",
       "      <td>0</td>\n",
       "      <td>0</td>\n",
       "      <td>0</td>\n",
       "      <td>0</td>\n",
       "    </tr>\n",
       "    <tr>\n",
       "      <th>6</th>\n",
       "      <td>0</td>\n",
       "      <td>0</td>\n",
       "      <td>0</td>\n",
       "      <td>0</td>\n",
       "      <td>0</td>\n",
       "      <td>0</td>\n",
       "      <td>0</td>\n",
       "      <td>0</td>\n",
       "      <td>0</td>\n",
       "      <td>0</td>\n",
       "      <td>0</td>\n",
       "      <td>2</td>\n",
       "      <td>2</td>\n",
       "      <td>3</td>\n",
       "      <td>1</td>\n",
       "      <td>36</td>\n",
       "      <td>4</td>\n",
       "      <td>2</td>\n",
       "      <td>1</td>\n",
       "      <td>14</td>\n",
       "      <td>0</td>\n",
       "      <td>0</td>\n",
       "      <td>0</td>\n",
       "      <td>0</td>\n",
       "      <td>0</td>\n",
       "      <td>0</td>\n",
       "      <td>0</td>\n",
       "      <td>0</td>\n",
       "      <td>0</td>\n",
       "      <td>0</td>\n",
       "      <td>0</td>\n",
       "    </tr>\n",
       "    <tr>\n",
       "      <th>7</th>\n",
       "      <td>0</td>\n",
       "      <td>0</td>\n",
       "      <td>0</td>\n",
       "      <td>0</td>\n",
       "      <td>0</td>\n",
       "      <td>0</td>\n",
       "      <td>0</td>\n",
       "      <td>0</td>\n",
       "      <td>0</td>\n",
       "      <td>0</td>\n",
       "      <td>0</td>\n",
       "      <td>0</td>\n",
       "      <td>0</td>\n",
       "      <td>0</td>\n",
       "      <td>0</td>\n",
       "      <td>5</td>\n",
       "      <td>0</td>\n",
       "      <td>0</td>\n",
       "      <td>0</td>\n",
       "      <td>0</td>\n",
       "      <td>0</td>\n",
       "      <td>0</td>\n",
       "      <td>0</td>\n",
       "      <td>0</td>\n",
       "      <td>0</td>\n",
       "      <td>0</td>\n",
       "      <td>0</td>\n",
       "      <td>0</td>\n",
       "      <td>0</td>\n",
       "      <td>0</td>\n",
       "      <td>0</td>\n",
       "    </tr>\n",
       "    <tr>\n",
       "      <th>8</th>\n",
       "      <td>0</td>\n",
       "      <td>0</td>\n",
       "      <td>0</td>\n",
       "      <td>0</td>\n",
       "      <td>0</td>\n",
       "      <td>0</td>\n",
       "      <td>0</td>\n",
       "      <td>0</td>\n",
       "      <td>0</td>\n",
       "      <td>0</td>\n",
       "      <td>0</td>\n",
       "      <td>0</td>\n",
       "      <td>0</td>\n",
       "      <td>0</td>\n",
       "      <td>0</td>\n",
       "      <td>0</td>\n",
       "      <td>0</td>\n",
       "      <td>0</td>\n",
       "      <td>0</td>\n",
       "      <td>0</td>\n",
       "      <td>22</td>\n",
       "      <td>2</td>\n",
       "      <td>0</td>\n",
       "      <td>0</td>\n",
       "      <td>0</td>\n",
       "      <td>0</td>\n",
       "      <td>0</td>\n",
       "      <td>0</td>\n",
       "      <td>0</td>\n",
       "      <td>0</td>\n",
       "      <td>0</td>\n",
       "    </tr>\n",
       "    <tr>\n",
       "      <th>9</th>\n",
       "      <td>0</td>\n",
       "      <td>0</td>\n",
       "      <td>0</td>\n",
       "      <td>0</td>\n",
       "      <td>0</td>\n",
       "      <td>0</td>\n",
       "      <td>0</td>\n",
       "      <td>0</td>\n",
       "      <td>0</td>\n",
       "      <td>0</td>\n",
       "      <td>0</td>\n",
       "      <td>0</td>\n",
       "      <td>0</td>\n",
       "      <td>0</td>\n",
       "      <td>0</td>\n",
       "      <td>0</td>\n",
       "      <td>0</td>\n",
       "      <td>0</td>\n",
       "      <td>0</td>\n",
       "      <td>0</td>\n",
       "      <td>0</td>\n",
       "      <td>2</td>\n",
       "      <td>1</td>\n",
       "      <td>0</td>\n",
       "      <td>0</td>\n",
       "      <td>0</td>\n",
       "      <td>0</td>\n",
       "      <td>0</td>\n",
       "      <td>0</td>\n",
       "      <td>0</td>\n",
       "      <td>0</td>\n",
       "    </tr>\n",
       "    <tr>\n",
       "      <th>10</th>\n",
       "      <td>0</td>\n",
       "      <td>0</td>\n",
       "      <td>0</td>\n",
       "      <td>0</td>\n",
       "      <td>0</td>\n",
       "      <td>0</td>\n",
       "      <td>0</td>\n",
       "      <td>0</td>\n",
       "      <td>0</td>\n",
       "      <td>0</td>\n",
       "      <td>0</td>\n",
       "      <td>0</td>\n",
       "      <td>0</td>\n",
       "      <td>0</td>\n",
       "      <td>0</td>\n",
       "      <td>0</td>\n",
       "      <td>0</td>\n",
       "      <td>0</td>\n",
       "      <td>0</td>\n",
       "      <td>0</td>\n",
       "      <td>0</td>\n",
       "      <td>0</td>\n",
       "      <td>5</td>\n",
       "      <td>0</td>\n",
       "      <td>0</td>\n",
       "      <td>0</td>\n",
       "      <td>0</td>\n",
       "      <td>0</td>\n",
       "      <td>0</td>\n",
       "      <td>0</td>\n",
       "      <td>0</td>\n",
       "    </tr>\n",
       "    <tr>\n",
       "      <th>12</th>\n",
       "      <td>0</td>\n",
       "      <td>0</td>\n",
       "      <td>0</td>\n",
       "      <td>0</td>\n",
       "      <td>0</td>\n",
       "      <td>0</td>\n",
       "      <td>0</td>\n",
       "      <td>0</td>\n",
       "      <td>0</td>\n",
       "      <td>0</td>\n",
       "      <td>0</td>\n",
       "      <td>0</td>\n",
       "      <td>0</td>\n",
       "      <td>0</td>\n",
       "      <td>0</td>\n",
       "      <td>0</td>\n",
       "      <td>0</td>\n",
       "      <td>0</td>\n",
       "      <td>0</td>\n",
       "      <td>0</td>\n",
       "      <td>0</td>\n",
       "      <td>0</td>\n",
       "      <td>0</td>\n",
       "      <td>1</td>\n",
       "      <td>3</td>\n",
       "      <td>0</td>\n",
       "      <td>0</td>\n",
       "      <td>0</td>\n",
       "      <td>0</td>\n",
       "      <td>0</td>\n",
       "      <td>0</td>\n",
       "    </tr>\n",
       "    <tr>\n",
       "      <th>13</th>\n",
       "      <td>0</td>\n",
       "      <td>0</td>\n",
       "      <td>0</td>\n",
       "      <td>0</td>\n",
       "      <td>0</td>\n",
       "      <td>0</td>\n",
       "      <td>0</td>\n",
       "      <td>0</td>\n",
       "      <td>0</td>\n",
       "      <td>0</td>\n",
       "      <td>0</td>\n",
       "      <td>0</td>\n",
       "      <td>0</td>\n",
       "      <td>0</td>\n",
       "      <td>0</td>\n",
       "      <td>0</td>\n",
       "      <td>0</td>\n",
       "      <td>0</td>\n",
       "      <td>0</td>\n",
       "      <td>0</td>\n",
       "      <td>0</td>\n",
       "      <td>0</td>\n",
       "      <td>0</td>\n",
       "      <td>0</td>\n",
       "      <td>0</td>\n",
       "      <td>1</td>\n",
       "      <td>1</td>\n",
       "      <td>0</td>\n",
       "      <td>0</td>\n",
       "      <td>0</td>\n",
       "      <td>0</td>\n",
       "    </tr>\n",
       "    <tr>\n",
       "      <th>14</th>\n",
       "      <td>0</td>\n",
       "      <td>0</td>\n",
       "      <td>0</td>\n",
       "      <td>0</td>\n",
       "      <td>0</td>\n",
       "      <td>0</td>\n",
       "      <td>0</td>\n",
       "      <td>0</td>\n",
       "      <td>0</td>\n",
       "      <td>0</td>\n",
       "      <td>0</td>\n",
       "      <td>0</td>\n",
       "      <td>0</td>\n",
       "      <td>0</td>\n",
       "      <td>0</td>\n",
       "      <td>0</td>\n",
       "      <td>0</td>\n",
       "      <td>0</td>\n",
       "      <td>0</td>\n",
       "      <td>0</td>\n",
       "      <td>0</td>\n",
       "      <td>0</td>\n",
       "      <td>0</td>\n",
       "      <td>0</td>\n",
       "      <td>0</td>\n",
       "      <td>0</td>\n",
       "      <td>0</td>\n",
       "      <td>1</td>\n",
       "      <td>0</td>\n",
       "      <td>0</td>\n",
       "      <td>0</td>\n",
       "    </tr>\n",
       "    <tr>\n",
       "      <th>16</th>\n",
       "      <td>0</td>\n",
       "      <td>0</td>\n",
       "      <td>0</td>\n",
       "      <td>0</td>\n",
       "      <td>0</td>\n",
       "      <td>0</td>\n",
       "      <td>0</td>\n",
       "      <td>0</td>\n",
       "      <td>0</td>\n",
       "      <td>0</td>\n",
       "      <td>0</td>\n",
       "      <td>0</td>\n",
       "      <td>0</td>\n",
       "      <td>0</td>\n",
       "      <td>0</td>\n",
       "      <td>0</td>\n",
       "      <td>0</td>\n",
       "      <td>0</td>\n",
       "      <td>0</td>\n",
       "      <td>0</td>\n",
       "      <td>0</td>\n",
       "      <td>0</td>\n",
       "      <td>0</td>\n",
       "      <td>0</td>\n",
       "      <td>0</td>\n",
       "      <td>0</td>\n",
       "      <td>0</td>\n",
       "      <td>0</td>\n",
       "      <td>1</td>\n",
       "      <td>0</td>\n",
       "      <td>0</td>\n",
       "    </tr>\n",
       "    <tr>\n",
       "      <th>18</th>\n",
       "      <td>0</td>\n",
       "      <td>0</td>\n",
       "      <td>0</td>\n",
       "      <td>0</td>\n",
       "      <td>0</td>\n",
       "      <td>0</td>\n",
       "      <td>0</td>\n",
       "      <td>0</td>\n",
       "      <td>0</td>\n",
       "      <td>0</td>\n",
       "      <td>0</td>\n",
       "      <td>0</td>\n",
       "      <td>0</td>\n",
       "      <td>0</td>\n",
       "      <td>0</td>\n",
       "      <td>0</td>\n",
       "      <td>0</td>\n",
       "      <td>0</td>\n",
       "      <td>0</td>\n",
       "      <td>0</td>\n",
       "      <td>0</td>\n",
       "      <td>0</td>\n",
       "      <td>0</td>\n",
       "      <td>0</td>\n",
       "      <td>0</td>\n",
       "      <td>0</td>\n",
       "      <td>0</td>\n",
       "      <td>0</td>\n",
       "      <td>0</td>\n",
       "      <td>1</td>\n",
       "      <td>0</td>\n",
       "    </tr>\n",
       "    <tr>\n",
       "      <th>19</th>\n",
       "      <td>0</td>\n",
       "      <td>0</td>\n",
       "      <td>0</td>\n",
       "      <td>0</td>\n",
       "      <td>0</td>\n",
       "      <td>0</td>\n",
       "      <td>0</td>\n",
       "      <td>0</td>\n",
       "      <td>0</td>\n",
       "      <td>0</td>\n",
       "      <td>0</td>\n",
       "      <td>0</td>\n",
       "      <td>0</td>\n",
       "      <td>0</td>\n",
       "      <td>0</td>\n",
       "      <td>0</td>\n",
       "      <td>0</td>\n",
       "      <td>0</td>\n",
       "      <td>0</td>\n",
       "      <td>0</td>\n",
       "      <td>0</td>\n",
       "      <td>0</td>\n",
       "      <td>0</td>\n",
       "      <td>0</td>\n",
       "      <td>0</td>\n",
       "      <td>0</td>\n",
       "      <td>0</td>\n",
       "      <td>0</td>\n",
       "      <td>0</td>\n",
       "      <td>0</td>\n",
       "      <td>1</td>\n",
       "    </tr>\n",
       "  </tbody>\n",
       "</table>\n",
       "</div>"
      ],
      "text/plain": [
       "stays_in_week_nights       0      1     2     3     4     5    6    7    8   \\\n",
       "stays_in_weekend_nights                                                       \n",
       "0                           0  12138  9512  6734  2864   535    0    0    0   \n",
       "1                        3593   4501  5162  4029  1598   725    0    0    0   \n",
       "2                        1457   3820  4122  2976  1591  5679  516  284  275   \n",
       "3                           0      0     0     0     0   198  173  281   84   \n",
       "4                           0      0     0     0     0    70  223  136   75   \n",
       "5                           0      0     0     0     0     0    0    0    0   \n",
       "6                           0      0     0     0     0     0    0    0    0   \n",
       "7                           0      0     0     0     0     0    0    0    0   \n",
       "8                           0      0     0     0     0     0    0    0    0   \n",
       "9                           0      0     0     0     0     0    0    0    0   \n",
       "10                          0      0     0     0     0     0    0    0    0   \n",
       "12                          0      0     0     0     0     0    0    0    0   \n",
       "13                          0      0     0     0     0     0    0    0    0   \n",
       "14                          0      0     0     0     0     0    0    0    0   \n",
       "16                          0      0     0     0     0     0    0    0    0   \n",
       "18                          0      0     0     0     0     0    0    0    0   \n",
       "19                          0      0     0     0     0     0    0    0    0   \n",
       "\n",
       "stays_in_week_nights     9    10  11  12  13  14  15  16  17  18  19  20  21  \\\n",
       "stays_in_weekend_nights                                                        \n",
       "0                         0    0   0   0   0   0   0   0   0   0   0   0   0   \n",
       "1                         0    0   0   0   0   0   0   0   0   0   0   0   0   \n",
       "2                        53   16   0   0   0   0   0   0   0   0   0   0   0   \n",
       "3                        31   41   0   0   0   0   0   0   0   0   0   0   0   \n",
       "4                        49  656  15  14  10   1   1   0   0   0   0   0   0   \n",
       "5                         0   22   4   3   3   2   0   0   0   0   0   0   0   \n",
       "6                         0    0   2   2   3   1  36   4   2   1  14   0   0   \n",
       "7                         0    0   0   0   0   0   5   0   0   0   0   0   0   \n",
       "8                         0    0   0   0   0   0   0   0   0   0   0  22   2   \n",
       "9                         0    0   0   0   0   0   0   0   0   0   0   0   2   \n",
       "10                        0    0   0   0   0   0   0   0   0   0   0   0   0   \n",
       "12                        0    0   0   0   0   0   0   0   0   0   0   0   0   \n",
       "13                        0    0   0   0   0   0   0   0   0   0   0   0   0   \n",
       "14                        0    0   0   0   0   0   0   0   0   0   0   0   0   \n",
       "16                        0    0   0   0   0   0   0   0   0   0   0   0   0   \n",
       "18                        0    0   0   0   0   0   0   0   0   0   0   0   0   \n",
       "19                        0    0   0   0   0   0   0   0   0   0   0   0   0   \n",
       "\n",
       "stays_in_week_nights     25  26  30  32  33  34  40  42  50  \n",
       "stays_in_weekend_nights                                      \n",
       "0                         0   0   0   0   0   0   0   0   0  \n",
       "1                         0   0   0   0   0   0   0   0   0  \n",
       "2                         0   0   0   0   0   0   0   0   0  \n",
       "3                         0   0   0   0   0   0   0   0   0  \n",
       "4                         0   0   0   0   0   0   0   0   0  \n",
       "5                         0   0   0   0   0   0   0   0   0  \n",
       "6                         0   0   0   0   0   0   0   0   0  \n",
       "7                         0   0   0   0   0   0   0   0   0  \n",
       "8                         0   0   0   0   0   0   0   0   0  \n",
       "9                         1   0   0   0   0   0   0   0   0  \n",
       "10                        5   0   0   0   0   0   0   0   0  \n",
       "12                        0   1   3   0   0   0   0   0   0  \n",
       "13                        0   0   0   1   1   0   0   0   0  \n",
       "14                        0   0   0   0   0   1   0   0   0  \n",
       "16                        0   0   0   0   0   0   1   0   0  \n",
       "18                        0   0   0   0   0   0   0   1   0  \n",
       "19                        0   0   0   0   0   0   0   0   1  "
      ]
     },
     "execution_count": 83,
     "metadata": {},
     "output_type": "execute_result"
    }
   ],
   "source": [
    "# Create a cross-tabulation (crosstab) table to analyze\n",
    "# the relationship between weekend and weekday night stays for confirmed bookings\n",
    "pd.crosstab(index=confirmed_bookings['stays_in_weekend_nights'], columns=confirmed_bookings['stays_in_week_nights'])"
   ]
  },
  {
   "cell_type": "code",
   "execution_count": 84,
   "id": "e1f56898",
   "metadata": {},
   "outputs": [
    {
     "data": {
      "text/plain": [
       "stay_both_weekdays_weekends    37551\n",
       "stay_just_weekdays             31783\n",
       "stay_just_weekend               5050\n",
       "Name: weekend_or_weekday, dtype: int64"
      ]
     },
     "execution_count": 84,
     "metadata": {},
     "output_type": "execute_result"
    }
   ],
   "source": [
    "# Calculate the total count of bookings categorized as either 'weekend' or 'weekday' or 'both'\n",
    "confirmed_bookings['weekend_or_weekday'].value_counts()"
   ]
  },
  {
   "cell_type": "code",
   "execution_count": 85,
   "id": "14f7ab41",
   "metadata": {},
   "outputs": [
    {
     "data": {
      "text/html": [
       "<div>\n",
       "<style scoped>\n",
       "    .dataframe tbody tr th:only-of-type {\n",
       "        vertical-align: middle;\n",
       "    }\n",
       "\n",
       "    .dataframe tbody tr th {\n",
       "        vertical-align: top;\n",
       "    }\n",
       "\n",
       "    .dataframe thead th {\n",
       "        text-align: right;\n",
       "    }\n",
       "</style>\n",
       "<table border=\"1\" class=\"dataframe\">\n",
       "  <thead>\n",
       "    <tr style=\"text-align: right;\">\n",
       "      <th></th>\n",
       "      <th>stay_both_weekdays_weekends</th>\n",
       "      <th>stay_just_weekdays</th>\n",
       "      <th>stay_just_weekend</th>\n",
       "    </tr>\n",
       "    <tr>\n",
       "      <th>arrival_date_month</th>\n",
       "      <th></th>\n",
       "      <th></th>\n",
       "      <th></th>\n",
       "    </tr>\n",
       "  </thead>\n",
       "  <tbody>\n",
       "    <tr>\n",
       "      <th>January</th>\n",
       "      <td>1550</td>\n",
       "      <td>2125</td>\n",
       "      <td>393</td>\n",
       "    </tr>\n",
       "    <tr>\n",
       "      <th>February</th>\n",
       "      <td>2438</td>\n",
       "      <td>2514</td>\n",
       "      <td>360</td>\n",
       "    </tr>\n",
       "    <tr>\n",
       "      <th>March</th>\n",
       "      <td>3151</td>\n",
       "      <td>3060</td>\n",
       "      <td>359</td>\n",
       "    </tr>\n",
       "    <tr>\n",
       "      <th>April</th>\n",
       "      <td>3627</td>\n",
       "      <td>2559</td>\n",
       "      <td>344</td>\n",
       "    </tr>\n",
       "    <tr>\n",
       "      <th>May</th>\n",
       "      <td>3442</td>\n",
       "      <td>3017</td>\n",
       "      <td>570</td>\n",
       "    </tr>\n",
       "    <tr>\n",
       "      <th>June</th>\n",
       "      <td>3241</td>\n",
       "      <td>2681</td>\n",
       "      <td>433</td>\n",
       "    </tr>\n",
       "    <tr>\n",
       "      <th>July</th>\n",
       "      <td>4570</td>\n",
       "      <td>2817</td>\n",
       "      <td>462</td>\n",
       "    </tr>\n",
       "    <tr>\n",
       "      <th>August</th>\n",
       "      <td>4929</td>\n",
       "      <td>3137</td>\n",
       "      <td>509</td>\n",
       "    </tr>\n",
       "    <tr>\n",
       "      <th>September</th>\n",
       "      <td>3192</td>\n",
       "      <td>2692</td>\n",
       "      <td>479</td>\n",
       "    </tr>\n",
       "    <tr>\n",
       "      <th>October</th>\n",
       "      <td>3393</td>\n",
       "      <td>2844</td>\n",
       "      <td>582</td>\n",
       "    </tr>\n",
       "    <tr>\n",
       "      <th>November</th>\n",
       "      <td>2117</td>\n",
       "      <td>2214</td>\n",
       "      <td>261</td>\n",
       "    </tr>\n",
       "    <tr>\n",
       "      <th>December</th>\n",
       "      <td>1901</td>\n",
       "      <td>2123</td>\n",
       "      <td>298</td>\n",
       "    </tr>\n",
       "  </tbody>\n",
       "</table>\n",
       "</div>"
      ],
      "text/plain": [
       "                    stay_both_weekdays_weekends  stay_just_weekdays  \\\n",
       "arrival_date_month                                                    \n",
       "January                                    1550                2125   \n",
       "February                                   2438                2514   \n",
       "March                                      3151                3060   \n",
       "April                                      3627                2559   \n",
       "May                                        3442                3017   \n",
       "June                                       3241                2681   \n",
       "July                                       4570                2817   \n",
       "August                                     4929                3137   \n",
       "September                                  3192                2692   \n",
       "October                                    3393                2844   \n",
       "November                                   2117                2214   \n",
       "December                                   1901                2123   \n",
       "\n",
       "                    stay_just_weekend  \n",
       "arrival_date_month                     \n",
       "January                           393  \n",
       "February                          360  \n",
       "March                             359  \n",
       "April                             344  \n",
       "May                               570  \n",
       "June                              433  \n",
       "July                              462  \n",
       "August                            509  \n",
       "September                         479  \n",
       "October                           582  \n",
       "November                          261  \n",
       "December                          298  "
      ]
     },
     "execution_count": 85,
     "metadata": {},
     "output_type": "execute_result"
    }
   ],
   "source": [
    "# Group data by month and week/weekend nights\n",
    "group_data = confirmed_bookings.groupby(['arrival_date_month', 'weekend_or_weekday']).size().unstack().reset_index()\n",
    "\n",
    "# Sort data by month\n",
    "sorted_data = sd.Sort_Dataframeby_Month(group_data,'arrival_date_month')\n",
    "\n",
    "# Set 'arrival_date_month' as index\n",
    "sorted_data.set_index('arrival_date_month', inplace=True)\n",
    "\n",
    "sorted_data"
   ]
  },
  {
   "cell_type": "code",
   "execution_count": 86,
   "id": "d4b764bd",
   "metadata": {},
   "outputs": [
    {
     "data": {
      "text/plain": [
       "<AxesSubplot:xlabel='arrival_date_month'>"
      ]
     },
     "execution_count": 86,
     "metadata": {},
     "output_type": "execute_result"
    },
    {
     "data": {
      "image/png": "[encoded data removed]",
      "text/plain": [
       "<Figure size 1200x800 with 1 Axes>"
      ]
     },
     "metadata": {},
     "output_type": "display_data"
    }
   ],
   "source": [
    "# Plot the stacked bar chart for monthly distribution of weekend and weekday bookings\n",
    "sorted_data.plot(kind='bar', stacked=True, figsize=(12,8))"
   ]
  },
  {
   "cell_type": "code",
   "execution_count": 87,
   "id": "2586a20f",
   "metadata": {},
   "outputs": [
    {
     "data": {
      "application/vnd.plotly.v1+json": {
       "config": {
        "plotlyServerURL": "https://plot.ly"
       },
       "data": [
        {
         "hovertemplate": "%{y:.2f}%",
         "name": "stay_both_weekdays_weekends",
         "type": "bar",
         "x": [
          "January",
          "February",
          "March",
          "April",
          "May",
          "June",
          "July",
          "August",
          "September",
          "October",
          "November",
          "December"
         ],
         "y": [
          38.10226155358899,
          45.89608433734939,
          47.96042617960426,
          55.543644716692185,
          48.96855882771376,
          50.99921321793863,
          58.223977576761364,
          57.481049562682216,
          50.165016501650165,
          49.758029036515616,
          46.10191637630662,
          43.984266543267005
         ]
        },
        {
         "hovertemplate": "%{y:.2f}%",
         "name": "stay_just_weekdays",
         "type": "bar",
         "x": [
          "January",
          "February",
          "March",
          "April",
          "May",
          "June",
          "July",
          "August",
          "September",
          "October",
          "November",
          "December"
         ],
         "y": [
          52.236971484759096,
          47.32680722891566,
          46.57534246575342,
          39.18836140888208,
          42.922179541897854,
          42.18725413060582,
          35.88992228309339,
          36.583090379008745,
          42.30708785164231,
          41.70699516058073,
          48.214285714285715,
          49.1207774178621
         ]
        },
        {
         "hovertemplate": "%{y:.2f}%",
         "name": "stay_just_weekend",
         "type": "bar",
         "x": [
          "January",
          "February",
          "March",
          "April",
          "May",
          "June",
          "July",
          "August",
          "September",
          "October",
          "November",
          "December"
         ],
         "y": [
          9.660766961651918,
          6.77710843373494,
          5.464231354642314,
          5.267993874425728,
          8.10926163038839,
          6.813532651455547,
          5.886100140145242,
          5.9358600583090375,
          7.5278956467075275,
          8.534975802903652,
          5.683797909407665,
          6.894956038870894
         ]
        }
       ],
       "layout": {
        "barmode": "relative",
        "height": 400,
        "legend": {
         "orientation": "h",
         "title": {
          "text": ""
         },
         "x": 0.9,
         "xanchor": "right",
         "y": 1,
         "yanchor": "bottom"
        },
        "template": {
         "data": {
          "bar": [
           {
            "error_x": {
             "color": "#2a3f5f"
            },
            "error_y": {
             "color": "#2a3f5f"
            },
            "marker": {
             "line": {
              "color": "#E5ECF6",
              "width": 0.5
             },
             "pattern": {
              "fillmode": "overlay",
              "size": 10,
              "solidity": 0.2
             }
            },
            "type": "bar"
           }
          ],
          "barpolar": [
           {
            "marker": {
             "line": {
              "color": "#E5ECF6",
              "width": 0.5
             },
             "pattern": {
              "fillmode": "overlay",
              "size": 10,
              "solidity": 0.2
             }
            },
            "type": "barpolar"
           }
          ],
          "carpet": [
           {
            "aaxis": {
             "endlinecolor": "#2a3f5f",
             "gridcolor": "white",
             "linecolor": "white",
             "minorgridcolor": "white",
             "startlinecolor": "#2a3f5f"
            },
            "baxis": {
             "endlinecolor": "#2a3f5f",
             "gridcolor": "white",
             "linecolor": "white",
             "minorgridcolor": "white",
             "startlinecolor": "#2a3f5f"
            },
            "type": "carpet"
           }
          ],
          "choropleth": [
           {
            "colorbar": {
             "outlinewidth": 0,
             "ticks": ""
            },
            "type": "choropleth"
           }
          ],
          "contour": [
           {
            "colorbar": {
             "outlinewidth": 0,
             "ticks": ""
            },
            "colorscale": [
             [
              0,
              "#0d0887"
             ],
             [
              0.1111111111111111,
              "#46039f"
             ],
             [
              0.2222222222222222,
              "#7201a8"
             ],
             [
              0.3333333333333333,
              "#9c179e"
             ],
             [
              0.4444444444444444,
              "#bd3786"
             ],
             [
              0.5555555555555556,
              "#d8576b"
             ],
             [
              0.6666666666666666,
              "#ed7953"
             ],
             [
              0.7777777777777778,
              "#fb9f3a"
             ],
             [
              0.8888888888888888,
              "#fdca26"
             ],
             [
              1,
              "#f0f921"
             ]
            ],
            "type": "contour"
           }
          ],
          "contourcarpet": [
           {
            "colorbar": {
             "outlinewidth": 0,
             "ticks": ""
            },
            "type": "contourcarpet"
           }
          ],
          "heatmap": [
           {
            "colorbar": {
             "outlinewidth": 0,
             "ticks": ""
            },
            "colorscale": [
             [
              0,
              "#0d0887"
             ],
             [
              0.1111111111111111,
              "#46039f"
             ],
             [
              0.2222222222222222,
              "#7201a8"
             ],
             [
              0.3333333333333333,
              "#9c179e"
             ],
             [
              0.4444444444444444,
              "#bd3786"
             ],
             [
              0.5555555555555556,
              "#d8576b"
             ],
             [
              0.6666666666666666,
              "#ed7953"
             ],
             [
              0.7777777777777778,
              "#fb9f3a"
             ],
             [
              0.8888888888888888,
              "#fdca26"
             ],
             [
              1,
              "#f0f921"
             ]
            ],
            "type": "heatmap"
           }
          ],
          "heatmapgl": [
           {
            "colorbar": {
             "outlinewidth": 0,
             "ticks": ""
            },
            "colorscale": [
             [
              0,
              "#0d0887"
             ],
             [
              0.1111111111111111,
              "#46039f"
             ],
             [
              0.2222222222222222,
              "#7201a8"
             ],
             [
              0.3333333333333333,
              "#9c179e"
             ],
             [
              0.4444444444444444,
              "#bd3786"
             ],
             [
              0.5555555555555556,
              "#d8576b"
             ],
             [
              0.6666666666666666,
              "#ed7953"
             ],
             [
              0.7777777777777778,
              "#fb9f3a"
             ],
             [
              0.8888888888888888,
              "#fdca26"
             ],
             [
              1,
              "#f0f921"
             ]
            ],
            "type": "heatmapgl"
           }
          ],
          "histogram": [
           {
            "marker": {
             "pattern": {
              "fillmode": "overlay",
              "size": 10,
              "solidity": 0.2
             }
            },
            "type": "histogram"
           }
          ],
          "histogram2d": [
           {
            "colorbar": {
             "outlinewidth": 0,
             "ticks": ""
            },
            "colorscale": [
             [
              0,
              "#0d0887"
             ],
             [
              0.1111111111111111,
              "#46039f"
             ],
             [
              0.2222222222222222,
              "#7201a8"
             ],
             [
              0.3333333333333333,
              "#9c179e"
             ],
             [
              0.4444444444444444,
              "#bd3786"
             ],
             [
              0.5555555555555556,
              "#d8576b"
             ],
             [
              0.6666666666666666,
              "#ed7953"
             ],
             [
              0.7777777777777778,
              "#fb9f3a"
             ],
             [
              0.8888888888888888,
              "#fdca26"
             ],
             [
              1,
              "#f0f921"
             ]
            ],
            "type": "histogram2d"
           }
          ],
          "histogram2dcontour": [
           {
            "colorbar": {
             "outlinewidth": 0,
             "ticks": ""
            },
            "colorscale": [
             [
              0,
              "#0d0887"
             ],
             [
              0.1111111111111111,
              "#46039f"
             ],
             [
              0.2222222222222222,
              "#7201a8"
             ],
             [
              0.3333333333333333,
              "#9c179e"
             ],
             [
              0.4444444444444444,
              "#bd3786"
             ],
             [
              0.5555555555555556,
              "#d8576b"
             ],
             [
              0.6666666666666666,
              "#ed7953"
             ],
             [
              0.7777777777777778,
              "#fb9f3a"
             ],
             [
              0.8888888888888888,
              "#fdca26"
             ],
             [
              1,
              "#f0f921"
             ]
            ],
            "type": "histogram2dcontour"
           }
          ],
          "mesh3d": [
           {
            "colorbar": {
             "outlinewidth": 0,
             "ticks": ""
            },
            "type": "mesh3d"
           }
          ],
          "parcoords": [
           {
            "line": {
             "colorbar": {
              "outlinewidth": 0,
              "ticks": ""
             }
            },
            "type": "parcoords"
           }
          ],
          "pie": [
           {
            "automargin": true,
            "type": "pie"
           }
          ],
          "scatter": [
           {
            "fillpattern": {
             "fillmode": "overlay",
             "size": 10,
             "solidity": 0.2
            },
            "type": "scatter"
           }
          ],
          "scatter3d": [
           {
            "line": {
             "colorbar": {
              "outlinewidth": 0,
              "ticks": ""
             }
            },
            "marker": {
             "colorbar": {
              "outlinewidth": 0,
              "ticks": ""
             }
            },
            "type": "scatter3d"
           }
          ],
          "scattercarpet": [
           {
            "marker": {
             "colorbar": {
              "outlinewidth": 0,
              "ticks": ""
             }
            },
            "type": "scattercarpet"
           }
          ],
          "scattergeo": [
           {
            "marker": {
             "colorbar": {
              "outlinewidth": 0,
              "ticks": ""
             }
            },
            "type": "scattergeo"
           }
          ],
          "scattergl": [
           {
            "marker": {
             "colorbar": {
              "outlinewidth": 0,
              "ticks": ""
             }
            },
            "type": "scattergl"
           }
          ],
          "scattermapbox": [
           {
            "marker": {
             "colorbar": {
              "outlinewidth": 0,
              "ticks": ""
             }
            },
            "type": "scattermapbox"
           }
          ],
          "scatterpolar": [
           {
            "marker": {
             "colorbar": {
              "outlinewidth": 0,
              "ticks": ""
             }
            },
            "type": "scatterpolar"
           }
          ],
          "scatterpolargl": [
           {
            "marker": {
             "colorbar": {
              "outlinewidth": 0,
              "ticks": ""
             }
            },
            "type": "scatterpolargl"
           }
          ],
          "scatterternary": [
           {
            "marker": {
             "colorbar": {
              "outlinewidth": 0,
              "ticks": ""
             }
            },
            "type": "scatterternary"
           }
          ],
          "surface": [
           {
            "colorbar": {
             "outlinewidth": 0,
             "ticks": ""
            },
            "colorscale": [
             [
              0,
              "#0d0887"
             ],
             [
              0.1111111111111111,
              "#46039f"
             ],
             [
              0.2222222222222222,
              "#7201a8"
             ],
             [
              0.3333333333333333,
              "#9c179e"
             ],
             [
              0.4444444444444444,
              "#bd3786"
             ],
             [
              0.5555555555555556,
              "#d8576b"
             ],
             [
              0.6666666666666666,
              "#ed7953"
             ],
             [
              0.7777777777777778,
              "#fb9f3a"
             ],
             [
              0.8888888888888888,
              "#fdca26"
             ],
             [
              1,
              "#f0f921"
             ]
            ],
            "type": "surface"
           }
          ],
          "table": [
           {
            "cells": {
             "fill": {
              "color": "#EBF0F8"
             },
             "line": {
              "color": "white"
             }
            },
            "header": {
             "fill": {
              "color": "#C8D4E3"
             },
             "line": {
              "color": "white"
             }
            },
            "type": "table"
           }
          ]
         },
         "layout": {
          "annotationdefaults": {
           "arrowcolor": "#2a3f5f",
           "arrowhead": 0,
           "arrowwidth": 1
          },
          "autotypenumbers": "strict",
          "coloraxis": {
           "colorbar": {
            "outlinewidth": 0,
            "ticks": ""
           }
          },
          "colorscale": {
           "diverging": [
            [
             0,
             "#8e0152"
            ],
            [
             0.1,
             "#c51b7d"
            ],
            [
             0.2,
             "#de77ae"
            ],
            [
             0.3,
             "#f1b6da"
            ],
            [
             0.4,
             "#fde0ef"
            ],
            [
             0.5,
             "#f7f7f7"
            ],
            [
             0.6,
             "#e6f5d0"
            ],
            [
             0.7,
             "#b8e186"
            ],
            [
             0.8,
             "#7fbc41"
            ],
            [
             0.9,
             "#4d9221"
            ],
            [
             1,
             "#276419"
            ]
           ],
           "sequential": [
            [
             0,
             "#0d0887"
            ],
            [
             0.1111111111111111,
             "#46039f"
            ],
            [
             0.2222222222222222,
             "#7201a8"
            ],
            [
             0.3333333333333333,
             "#9c179e"
            ],
            [
             0.4444444444444444,
             "#bd3786"
            ],
            [
             0.5555555555555556,
             "#d8576b"
            ],
            [
             0.6666666666666666,
             "#ed7953"
            ],
            [
             0.7777777777777778,
             "#fb9f3a"
            ],
            [
             0.8888888888888888,
             "#fdca26"
            ],
            [
             1,
             "#f0f921"
            ]
           ],
           "sequentialminus": [
            [
             0,
             "#0d0887"
            ],
            [
             0.1111111111111111,
             "#46039f"
            ],
            [
             0.2222222222222222,
             "#7201a8"
            ],
            [
             0.3333333333333333,
             "#9c179e"
            ],
            [
             0.4444444444444444,
             "#bd3786"
            ],
            [
             0.5555555555555556,
             "#d8576b"
            ],
            [
             0.6666666666666666,
             "#ed7953"
            ],
            [
             0.7777777777777778,
             "#fb9f3a"
            ],
            [
             0.8888888888888888,
             "#fdca26"
            ],
            [
             1,
             "#f0f921"
            ]
           ]
          },
          "colorway": [
           "#636efa",
           "#EF553B",
           "#00cc96",
           "#ab63fa",
           "#FFA15A",
           "#19d3f3",
           "#FF6692",
           "#B6E880",
           "#FF97FF",
           "#FECB52"
          ],
          "font": {
           "color": "#2a3f5f"
          },
          "geo": {
           "bgcolor": "white",
           "lakecolor": "white",
           "landcolor": "#E5ECF6",
           "showlakes": true,
           "showland": true,
           "subunitcolor": "white"
          },
          "hoverlabel": {
           "align": "left"
          },
          "hovermode": "closest",
          "mapbox": {
           "style": "light"
          },
          "paper_bgcolor": "white",
          "plot_bgcolor": "#E5ECF6",
          "polar": {
           "angularaxis": {
            "gridcolor": "white",
            "linecolor": "white",
            "ticks": ""
           },
           "bgcolor": "#E5ECF6",
           "radialaxis": {
            "gridcolor": "white",
            "linecolor": "white",
            "ticks": ""
           }
          },
          "scene": {
           "xaxis": {
            "backgroundcolor": "#E5ECF6",
            "gridcolor": "white",
            "gridwidth": 2,
            "linecolor": "white",
            "showbackground": true,
            "ticks": "",
            "zerolinecolor": "white"
           },
           "yaxis": {
            "backgroundcolor": "#E5ECF6",
            "gridcolor": "white",
            "gridwidth": 2,
            "linecolor": "white",
            "showbackground": true,
            "ticks": "",
            "zerolinecolor": "white"
           },
           "zaxis": {
            "backgroundcolor": "#E5ECF6",
            "gridcolor": "white",
            "gridwidth": 2,
            "linecolor": "white",
            "showbackground": true,
            "ticks": "",
            "zerolinecolor": "white"
           }
          },
          "shapedefaults": {
           "line": {
            "color": "#2a3f5f"
           }
          },
          "ternary": {
           "aaxis": {
            "gridcolor": "white",
            "linecolor": "white",
            "ticks": ""
           },
           "baxis": {
            "gridcolor": "white",
            "linecolor": "white",
            "ticks": ""
           },
           "bgcolor": "#E5ECF6",
           "caxis": {
            "gridcolor": "white",
            "linecolor": "white",
            "ticks": ""
           }
          },
          "title": {
           "x": 0.05
          },
          "xaxis": {
           "automargin": true,
           "gridcolor": "white",
           "linecolor": "white",
           "ticks": "",
           "title": {
            "standoff": 15
           },
           "zerolinecolor": "white",
           "zerolinewidth": 2
          },
          "yaxis": {
           "automargin": true,
           "gridcolor": "white",
           "linecolor": "white",
           "ticks": "",
           "title": {
            "standoff": 15
           },
           "zerolinecolor": "white",
           "zerolinewidth": 2
          }
         }
        },
        "title": {
         "text": "100% Stacked Barplot of Stays by Month and Category"
        },
        "xaxis": {
         "title": {
          "text": "Month"
         }
        },
        "yaxis": {
         "title": {
          "text": "Percentage (%)"
         }
        }
       }
      },
      "text/html": [
       "<div>                            <div id=\"a9a6be25-a763-441f-a418-72c4481c062e\" class=\"plotly-graph-div\" style=\"height:400px; width:100%;\"></div>            <script type=\"text/javascript\">                require([\"plotly\"], function(Plotly) {                    window.PLOTLYENV=window.PLOTLYENV || {};                                    if (document.getElementById(\"a9a6be25-a763-441f-a418-72c4481c062e\")) {                    Plotly.newPlot(                        \"a9a6be25-a763-441f-a418-72c4481c062e\",                        [{\"hovertemplate\":\"%{y:.2f}%\",\"name\":\"stay_both_weekdays_weekends\",\"x\":[\"January\",\"February\",\"March\",\"April\",\"May\",\"June\",\"July\",\"August\",\"September\",\"October\",\"November\",\"December\"],\"y\":[38.10226155358899,45.89608433734939,47.96042617960426,55.543644716692185,48.96855882771376,50.99921321793863,58.223977576761364,57.481049562682216,50.165016501650165,49.758029036515616,46.10191637630662,43.984266543267005],\"type\":\"bar\"},{\"hovertemplate\":\"%{y:.2f}%\",\"name\":\"stay_just_weekdays\",\"x\":[\"January\",\"February\",\"March\",\"April\",\"May\",\"June\",\"July\",\"August\",\"September\",\"October\",\"November\",\"December\"],\"y\":[52.236971484759096,47.32680722891566,46.57534246575342,39.18836140888208,42.922179541897854,42.18725413060582,35.88992228309339,36.583090379008745,42.30708785164231,41.70699516058073,48.214285714285715,49.1207774178621],\"type\":\"bar\"},{\"hovertemplate\":\"%{y:.2f}%\",\"name\":\"stay_just_weekend\",\"x\":[\"January\",\"February\",\"March\",\"April\",\"May\",\"June\",\"July\",\"August\",\"September\",\"October\",\"November\",\"December\"],\"y\":[9.660766961651918,6.77710843373494,5.464231354642314,5.267993874425728,8.10926163038839,6.813532651455547,5.886100140145242,5.9358600583090375,7.5278956467075275,8.534975802903652,5.683797909407665,6.894956038870894],\"type\":\"bar\"}],                        {\"template\":{\"data\":{\"histogram2dcontour\":[{\"type\":\"histogram2dcontour\",\"colorbar\":{\"outlinewidth\":0,\"ticks\":\"\"},\"colorscale\":[[0.0,\"#0d0887\"],[0.1111111111111111,\"#46039f\"],[0.2222222222222222,\"#7201a8\"],[0.3333333333333333,\"#9c179e\"],[0.4444444444444444,\"#bd3786\"],[0.5555555555555556,\"#d8576b\"],[0.6666666666666666,\"#ed7953\"],[0.7777777777777778,\"#fb9f3a\"],[0.8888888888888888,\"#fdca26\"],[1.0,\"#f0f921\"]]}],\"choropleth\":[{\"type\":\"choropleth\",\"colorbar\":{\"outlinewidth\":0,\"ticks\":\"\"}}],\"histogram2d\":[{\"type\":\"histogram2d\",\"colorbar\":{\"outlinewidth\":0,\"ticks\":\"\"},\"colorscale\":[[0.0,\"#0d0887\"],[0.1111111111111111,\"#46039f\"],[0.2222222222222222,\"#7201a8\"],[0.3333333333333333,\"#9c179e\"],[0.4444444444444444,\"#bd3786\"],[0.5555555555555556,\"#d8576b\"],[0.6666666666666666,\"#ed7953\"],[0.7777777777777778,\"#fb9f3a\"],[0.8888888888888888,\"#fdca26\"],[1.0,\"#f0f921\"]]}],\"heatmap\":[{\"type\":\"heatmap\",\"colorbar\":{\"outlinewidth\":0,\"ticks\":\"\"},\"colorscale\":[[0.0,\"#0d0887\"],[0.1111111111111111,\"#46039f\"],[0.2222222222222222,\"#7201a8\"],[0.3333333333333333,\"#9c179e\"],[0.4444444444444444,\"#bd3786\"],[0.5555555555555556,\"#d8576b\"],[0.6666666666666666,\"#ed7953\"],[0.7777777777777778,\"#fb9f3a\"],[0.8888888888888888,\"#fdca26\"],[1.0,\"#f0f921\"]]}],\"heatmapgl\":[{\"type\":\"heatmapgl\",\"colorbar\":{\"outlinewidth\":0,\"ticks\":\"\"},\"colorscale\":[[0.0,\"#0d0887\"],[0.1111111111111111,\"#46039f\"],[0.2222222222222222,\"#7201a8\"],[0.3333333333333333,\"#9c179e\"],[0.4444444444444444,\"#bd3786\"],[0.5555555555555556,\"#d8576b\"],[0.6666666666666666,\"#ed7953\"],[0.7777777777777778,\"#fb9f3a\"],[0.8888888888888888,\"#fdca26\"],[1.0,\"#f0f921\"]]}],\"contourcarpet\":[{\"type\":\"contourcarpet\",\"colorbar\":{\"outlinewidth\":0,\"ticks\":\"\"}}],\"contour\":[{\"type\":\"contour\",\"colorbar\":{\"outlinewidth\":0,\"ticks\":\"\"},\"colorscale\":[[0.0,\"#0d0887\"],[0.1111111111111111,\"#46039f\"],[0.2222222222222222,\"#7201a8\"],[0.3333333333333333,\"#9c179e\"],[0.4444444444444444,\"#bd3786\"],[0.5555555555555556,\"#d8576b\"],[0.6666666666666666,\"#ed7953\"],[0.7777777777777778,\"#fb9f3a\"],[0.8888888888888888,\"#fdca26\"],[1.0,\"#f0f921\"]]}],\"surface\":[{\"type\":\"surface\",\"colorbar\":{\"outlinewidth\":0,\"ticks\":\"\"},\"colorscale\":[[0.0,\"#0d0887\"],[0.1111111111111111,\"#46039f\"],[0.2222222222222222,\"#7201a8\"],[0.3333333333333333,\"#9c179e\"],[0.4444444444444444,\"#bd3786\"],[0.5555555555555556,\"#d8576b\"],[0.6666666666666666,\"#ed7953\"],[0.7777777777777778,\"#fb9f3a\"],[0.8888888888888888,\"#fdca26\"],[1.0,\"#f0f921\"]]}],\"mesh3d\":[{\"type\":\"mesh3d\",\"colorbar\":{\"outlinewidth\":0,\"ticks\":\"\"}}],\"scatter\":[{\"fillpattern\":{\"fillmode\":\"overlay\",\"size\":10,\"solidity\":0.2},\"type\":\"scatter\"}],\"parcoords\":[{\"type\":\"parcoords\",\"line\":{\"colorbar\":{\"outlinewidth\":0,\"ticks\":\"\"}}}],\"scatterpolargl\":[{\"type\":\"scatterpolargl\",\"marker\":{\"colorbar\":{\"outlinewidth\":0,\"ticks\":\"\"}}}],\"bar\":[{\"error_x\":{\"color\":\"#2a3f5f\"},\"error_y\":{\"color\":\"#2a3f5f\"},\"marker\":{\"line\":{\"color\":\"#E5ECF6\",\"width\":0.5},\"pattern\":{\"fillmode\":\"overlay\",\"size\":10,\"solidity\":0.2}},\"type\":\"bar\"}],\"scattergeo\":[{\"type\":\"scattergeo\",\"marker\":{\"colorbar\":{\"outlinewidth\":0,\"ticks\":\"\"}}}],\"scatterpolar\":[{\"type\":\"scatterpolar\",\"marker\":{\"colorbar\":{\"outlinewidth\":0,\"ticks\":\"\"}}}],\"histogram\":[{\"marker\":{\"pattern\":{\"fillmode\":\"overlay\",\"size\":10,\"solidity\":0.2}},\"type\":\"histogram\"}],\"scattergl\":[{\"type\":\"scattergl\",\"marker\":{\"colorbar\":{\"outlinewidth\":0,\"ticks\":\"\"}}}],\"scatter3d\":[{\"type\":\"scatter3d\",\"line\":{\"colorbar\":{\"outlinewidth\":0,\"ticks\":\"\"}},\"marker\":{\"colorbar\":{\"outlinewidth\":0,\"ticks\":\"\"}}}],\"scattermapbox\":[{\"type\":\"scattermapbox\",\"marker\":{\"colorbar\":{\"outlinewidth\":0,\"ticks\":\"\"}}}],\"scatterternary\":[{\"type\":\"scatterternary\",\"marker\":{\"colorbar\":{\"outlinewidth\":0,\"ticks\":\"\"}}}],\"scattercarpet\":[{\"type\":\"scattercarpet\",\"marker\":{\"colorbar\":{\"outlinewidth\":0,\"ticks\":\"\"}}}],\"carpet\":[{\"aaxis\":{\"endlinecolor\":\"#2a3f5f\",\"gridcolor\":\"white\",\"linecolor\":\"white\",\"minorgridcolor\":\"white\",\"startlinecolor\":\"#2a3f5f\"},\"baxis\":{\"endlinecolor\":\"#2a3f5f\",\"gridcolor\":\"white\",\"linecolor\":\"white\",\"minorgridcolor\":\"white\",\"startlinecolor\":\"#2a3f5f\"},\"type\":\"carpet\"}],\"table\":[{\"cells\":{\"fill\":{\"color\":\"#EBF0F8\"},\"line\":{\"color\":\"white\"}},\"header\":{\"fill\":{\"color\":\"#C8D4E3\"},\"line\":{\"color\":\"white\"}},\"type\":\"table\"}],\"barpolar\":[{\"marker\":{\"line\":{\"color\":\"#E5ECF6\",\"width\":0.5},\"pattern\":{\"fillmode\":\"overlay\",\"size\":10,\"solidity\":0.2}},\"type\":\"barpolar\"}],\"pie\":[{\"automargin\":true,\"type\":\"pie\"}]},\"layout\":{\"autotypenumbers\":\"strict\",\"colorway\":[\"#636efa\",\"#EF553B\",\"#00cc96\",\"#ab63fa\",\"#FFA15A\",\"#19d3f3\",\"#FF6692\",\"#B6E880\",\"#FF97FF\",\"#FECB52\"],\"font\":{\"color\":\"#2a3f5f\"},\"hovermode\":\"closest\",\"hoverlabel\":{\"align\":\"left\"},\"paper_bgcolor\":\"white\",\"plot_bgcolor\":\"#E5ECF6\",\"polar\":{\"bgcolor\":\"#E5ECF6\",\"angularaxis\":{\"gridcolor\":\"white\",\"linecolor\":\"white\",\"ticks\":\"\"},\"radialaxis\":{\"gridcolor\":\"white\",\"linecolor\":\"white\",\"ticks\":\"\"}},\"ternary\":{\"bgcolor\":\"#E5ECF6\",\"aaxis\":{\"gridcolor\":\"white\",\"linecolor\":\"white\",\"ticks\":\"\"},\"baxis\":{\"gridcolor\":\"white\",\"linecolor\":\"white\",\"ticks\":\"\"},\"caxis\":{\"gridcolor\":\"white\",\"linecolor\":\"white\",\"ticks\":\"\"}},\"coloraxis\":{\"colorbar\":{\"outlinewidth\":0,\"ticks\":\"\"}},\"colorscale\":{\"sequential\":[[0.0,\"#0d0887\"],[0.1111111111111111,\"#46039f\"],[0.2222222222222222,\"#7201a8\"],[0.3333333333333333,\"#9c179e\"],[0.4444444444444444,\"#bd3786\"],[0.5555555555555556,\"#d8576b\"],[0.6666666666666666,\"#ed7953\"],[0.7777777777777778,\"#fb9f3a\"],[0.8888888888888888,\"#fdca26\"],[1.0,\"#f0f921\"]],\"sequentialminus\":[[0.0,\"#0d0887\"],[0.1111111111111111,\"#46039f\"],[0.2222222222222222,\"#7201a8\"],[0.3333333333333333,\"#9c179e\"],[0.4444444444444444,\"#bd3786\"],[0.5555555555555556,\"#d8576b\"],[0.6666666666666666,\"#ed7953\"],[0.7777777777777778,\"#fb9f3a\"],[0.8888888888888888,\"#fdca26\"],[1.0,\"#f0f921\"]],\"diverging\":[[0,\"#8e0152\"],[0.1,\"#c51b7d\"],[0.2,\"#de77ae\"],[0.3,\"#f1b6da\"],[0.4,\"#fde0ef\"],[0.5,\"#f7f7f7\"],[0.6,\"#e6f5d0\"],[0.7,\"#b8e186\"],[0.8,\"#7fbc41\"],[0.9,\"#4d9221\"],[1,\"#276419\"]]},\"xaxis\":{\"gridcolor\":\"white\",\"linecolor\":\"white\",\"ticks\":\"\",\"title\":{\"standoff\":15},\"zerolinecolor\":\"white\",\"automargin\":true,\"zerolinewidth\":2},\"yaxis\":{\"gridcolor\":\"white\",\"linecolor\":\"white\",\"ticks\":\"\",\"title\":{\"standoff\":15},\"zerolinecolor\":\"white\",\"automargin\":true,\"zerolinewidth\":2},\"scene\":{\"xaxis\":{\"backgroundcolor\":\"#E5ECF6\",\"gridcolor\":\"white\",\"linecolor\":\"white\",\"showbackground\":true,\"ticks\":\"\",\"zerolinecolor\":\"white\",\"gridwidth\":2},\"yaxis\":{\"backgroundcolor\":\"#E5ECF6\",\"gridcolor\":\"white\",\"linecolor\":\"white\",\"showbackground\":true,\"ticks\":\"\",\"zerolinecolor\":\"white\",\"gridwidth\":2},\"zaxis\":{\"backgroundcolor\":\"#E5ECF6\",\"gridcolor\":\"white\",\"linecolor\":\"white\",\"showbackground\":true,\"ticks\":\"\",\"zerolinecolor\":\"white\",\"gridwidth\":2}},\"shapedefaults\":{\"line\":{\"color\":\"#2a3f5f\"}},\"annotationdefaults\":{\"arrowcolor\":\"#2a3f5f\",\"arrowhead\":0,\"arrowwidth\":1},\"geo\":{\"bgcolor\":\"white\",\"landcolor\":\"#E5ECF6\",\"subunitcolor\":\"white\",\"showland\":true,\"showlakes\":true,\"lakecolor\":\"white\"},\"title\":{\"x\":0.05},\"mapbox\":{\"style\":\"light\"}}},\"legend\":{\"title\":{\"text\":\"\"},\"orientation\":\"h\",\"yanchor\":\"bottom\",\"y\":1.0,\"xanchor\":\"right\",\"x\":0.9},\"title\":{\"text\":\"100% Stacked Barplot of Stays by Month and Category\"},\"xaxis\":{\"title\":{\"text\":\"Month\"}},\"yaxis\":{\"title\":{\"text\":\"Percentage (%)\"}},\"barmode\":\"relative\",\"height\":400},                        {\"responsive\": true}                    ).then(function(){\n",
       "                            \n",
       "var gd = document.getElementById('a9a6be25-a763-441f-a418-72c4481c062e');\n",
       "var x = new MutationObserver(function (mutations, observer) {{\n",
       "        var display = window.getComputedStyle(gd).display;\n",
       "        if (!display || display === 'none') {{\n",
       "            console.log([gd, 'removed!']);\n",
       "            Plotly.purge(gd);\n",
       "            observer.disconnect();\n",
       "        }}\n",
       "}});\n",
       "\n",
       "// Listen for the removal of the full notebook cells\n",
       "var notebookContainer = gd.closest('#notebook-container');\n",
       "if (notebookContainer) {{\n",
       "    x.observe(notebookContainer, {childList: true});\n",
       "}}\n",
       "\n",
       "// Listen for the clearing of the current output cell\n",
       "var outputEl = gd.closest('.output');\n",
       "if (outputEl) {{\n",
       "    x.observe(outputEl, {childList: true});\n",
       "}}\n",
       "\n",
       "                        })                };                });            </script>        </div>"
      ]
     },
     "metadata": {},
     "output_type": "display_data"
    }
   ],
   "source": [
    "# Plot a 100% stacked barplot to visualize the distribution of stays by month and category\n",
    "import plotly.graph_objects as go\n",
    "\n",
    "# Calculate the percentages for each category within each month\n",
    "total_stays = sorted_data.sum(axis=1)\n",
    "sorted_data_percent = sorted_data.divide(total_stays, axis=0) * 100\n",
    "\n",
    "# Create a 100% stacked barplot using Plotly\n",
    "fig = go.Figure()\n",
    "\n",
    "for col in sorted_data_percent.columns:\n",
    "    fig.add_trace(go.Bar(\n",
    "        x=sorted_data_percent.index,\n",
    "        y=sorted_data_percent[col],\n",
    "        name=col,\n",
    "        hovertemplate='%{y:.2f}%',\n",
    "    ))\n",
    "\n",
    "# Customize the layout and appearance of the chart\n",
    "fig.update_layout(\n",
    "    title='100% Stacked Barplot of Stays by Month and Category',\n",
    "    xaxis_title='Month',\n",
    "    yaxis_title='Percentage (%)',\n",
    "    barmode='relative',  # Stacked bars with relative heights\n",
    "    height=400,\n",
    "    legend=dict(\n",
    "        title='',\n",
    "        orientation='h',  # Horizontal legend placement\n",
    "        yanchor='bottom',\n",
    "        y=1.00,  # Adjust the y position for label placement\n",
    "        xanchor='right',\n",
    "        x=0.9,\n",
    "    ),\n",
    ")\n",
    "\n",
    "# Show the interactive plot\n",
    "fig.show()\n"
   ]
  },
  {
   "cell_type": "markdown",
   "id": "1abbce85",
   "metadata": {},
   "source": [
    "After completing the EDA, we will revert the values of the 'is_canceled' variable back to 1 and 0 to keep it as it was originally, ready for data preprocessing and modeling in the next juopyter notebook kernel."
   ]
  },
  {
   "cell_type": "code",
   "execution_count": 88,
   "id": "aa64d7b7",
   "metadata": {},
   "outputs": [],
   "source": [
    "# Convert categorical 'is_canceled' to numerical values\n",
    "data['is_canceled'] = data['is_canceled'].replace({'No': 0, 'Yes': 1})"
   ]
  },
  {
   "cell_type": "code",
   "execution_count": 89,
   "id": "f9126a6b",
   "metadata": {},
   "outputs": [
    {
     "data": {
      "text/html": [
       "<div>\n",
       "<style scoped>\n",
       "    .dataframe tbody tr th:only-of-type {\n",
       "        vertical-align: middle;\n",
       "    }\n",
       "\n",
       "    .dataframe tbody tr th {\n",
       "        vertical-align: top;\n",
       "    }\n",
       "\n",
       "    .dataframe thead th {\n",
       "        text-align: right;\n",
       "    }\n",
       "</style>\n",
       "<table border=\"1\" class=\"dataframe\">\n",
       "  <thead>\n",
       "    <tr style=\"text-align: right;\">\n",
       "      <th></th>\n",
       "      <th>hotel</th>\n",
       "      <th>is_canceled</th>\n",
       "      <th>lead_time</th>\n",
       "      <th>arrival_date_year</th>\n",
       "      <th>arrival_date_month</th>\n",
       "      <th>arrival_date_month_num</th>\n",
       "      <th>arrival_date_week_number</th>\n",
       "      <th>arrival_date_day_of_month</th>\n",
       "      <th>check_in_date</th>\n",
       "      <th>total_nights</th>\n",
       "      <th>stays_in_weekend_nights</th>\n",
       "      <th>stays_in_week_nights</th>\n",
       "      <th>weekend_or_weekday</th>\n",
       "      <th>adults</th>\n",
       "      <th>children</th>\n",
       "      <th>babies</th>\n",
       "      <th>total_guests</th>\n",
       "      <th>country</th>\n",
       "      <th>meal</th>\n",
       "      <th>market_segment</th>\n",
       "      <th>distribution_channel</th>\n",
       "      <th>is_repeated_guest</th>\n",
       "      <th>previous_cancellations</th>\n",
       "      <th>previous_bookings_not_canceled</th>\n",
       "      <th>reserved_room_type</th>\n",
       "      <th>assigned_room_type</th>\n",
       "      <th>booking_changes</th>\n",
       "      <th>deposit_type</th>\n",
       "      <th>days_in_waiting_list</th>\n",
       "      <th>customer_type</th>\n",
       "      <th>adr</th>\n",
       "      <th>required_car_parking_spaces</th>\n",
       "      <th>total_of_special_requests</th>\n",
       "      <th>reservation_status</th>\n",
       "      <th>reservation_status_date</th>\n",
       "    </tr>\n",
       "  </thead>\n",
       "  <tbody>\n",
       "    <tr>\n",
       "      <th>0</th>\n",
       "      <td>Resort Hotel</td>\n",
       "      <td>1</td>\n",
       "      <td>342</td>\n",
       "      <td>2015</td>\n",
       "      <td>July</td>\n",
       "      <td>7</td>\n",
       "      <td>27</td>\n",
       "      <td>1</td>\n",
       "      <td>2015-07-01</td>\n",
       "      <td>0</td>\n",
       "      <td>0</td>\n",
       "      <td>0</td>\n",
       "      <td>undefined_data</td>\n",
       "      <td>2</td>\n",
       "      <td>0</td>\n",
       "      <td>0</td>\n",
       "      <td>2</td>\n",
       "      <td>PRT</td>\n",
       "      <td>BB</td>\n",
       "      <td>Direct</td>\n",
       "      <td>Direct</td>\n",
       "      <td>0</td>\n",
       "      <td>0</td>\n",
       "      <td>0</td>\n",
       "      <td>C</td>\n",
       "      <td>C</td>\n",
       "      <td>3</td>\n",
       "      <td>No Deposit</td>\n",
       "      <td>0</td>\n",
       "      <td>Transient</td>\n",
       "      <td>0.0</td>\n",
       "      <td>0</td>\n",
       "      <td>0</td>\n",
       "      <td>Canceled</td>\n",
       "      <td>2015-07-01</td>\n",
       "    </tr>\n",
       "    <tr>\n",
       "      <th>1</th>\n",
       "      <td>Resort Hotel</td>\n",
       "      <td>1</td>\n",
       "      <td>737</td>\n",
       "      <td>2015</td>\n",
       "      <td>July</td>\n",
       "      <td>7</td>\n",
       "      <td>27</td>\n",
       "      <td>1</td>\n",
       "      <td>2015-07-01</td>\n",
       "      <td>0</td>\n",
       "      <td>0</td>\n",
       "      <td>0</td>\n",
       "      <td>undefined_data</td>\n",
       "      <td>2</td>\n",
       "      <td>0</td>\n",
       "      <td>0</td>\n",
       "      <td>2</td>\n",
       "      <td>PRT</td>\n",
       "      <td>BB</td>\n",
       "      <td>Direct</td>\n",
       "      <td>Direct</td>\n",
       "      <td>0</td>\n",
       "      <td>0</td>\n",
       "      <td>0</td>\n",
       "      <td>C</td>\n",
       "      <td>C</td>\n",
       "      <td>4</td>\n",
       "      <td>No Deposit</td>\n",
       "      <td>0</td>\n",
       "      <td>Transient</td>\n",
       "      <td>0.0</td>\n",
       "      <td>0</td>\n",
       "      <td>0</td>\n",
       "      <td>Canceled</td>\n",
       "      <td>2015-07-01</td>\n",
       "    </tr>\n",
       "    <tr>\n",
       "      <th>2</th>\n",
       "      <td>Resort Hotel</td>\n",
       "      <td>0</td>\n",
       "      <td>7</td>\n",
       "      <td>2015</td>\n",
       "      <td>July</td>\n",
       "      <td>7</td>\n",
       "      <td>27</td>\n",
       "      <td>1</td>\n",
       "      <td>2015-07-01</td>\n",
       "      <td>1</td>\n",
       "      <td>0</td>\n",
       "      <td>1</td>\n",
       "      <td>stay_just_weekdays</td>\n",
       "      <td>1</td>\n",
       "      <td>0</td>\n",
       "      <td>0</td>\n",
       "      <td>1</td>\n",
       "      <td>GBR</td>\n",
       "      <td>BB</td>\n",
       "      <td>Direct</td>\n",
       "      <td>Direct</td>\n",
       "      <td>0</td>\n",
       "      <td>0</td>\n",
       "      <td>0</td>\n",
       "      <td>A</td>\n",
       "      <td>C</td>\n",
       "      <td>0</td>\n",
       "      <td>No Deposit</td>\n",
       "      <td>0</td>\n",
       "      <td>Transient</td>\n",
       "      <td>75.0</td>\n",
       "      <td>0</td>\n",
       "      <td>0</td>\n",
       "      <td>Check-Out</td>\n",
       "      <td>2015-07-02</td>\n",
       "    </tr>\n",
       "    <tr>\n",
       "      <th>3</th>\n",
       "      <td>Resort Hotel</td>\n",
       "      <td>0</td>\n",
       "      <td>13</td>\n",
       "      <td>2015</td>\n",
       "      <td>July</td>\n",
       "      <td>7</td>\n",
       "      <td>27</td>\n",
       "      <td>1</td>\n",
       "      <td>2015-07-01</td>\n",
       "      <td>1</td>\n",
       "      <td>0</td>\n",
       "      <td>1</td>\n",
       "      <td>stay_just_weekdays</td>\n",
       "      <td>1</td>\n",
       "      <td>0</td>\n",
       "      <td>0</td>\n",
       "      <td>1</td>\n",
       "      <td>GBR</td>\n",
       "      <td>BB</td>\n",
       "      <td>Corporate</td>\n",
       "      <td>Corporate</td>\n",
       "      <td>0</td>\n",
       "      <td>0</td>\n",
       "      <td>0</td>\n",
       "      <td>A</td>\n",
       "      <td>A</td>\n",
       "      <td>0</td>\n",
       "      <td>No Deposit</td>\n",
       "      <td>0</td>\n",
       "      <td>Transient</td>\n",
       "      <td>75.0</td>\n",
       "      <td>0</td>\n",
       "      <td>0</td>\n",
       "      <td>Check-Out</td>\n",
       "      <td>2015-07-02</td>\n",
       "    </tr>\n",
       "    <tr>\n",
       "      <th>4</th>\n",
       "      <td>Resort Hotel</td>\n",
       "      <td>0</td>\n",
       "      <td>14</td>\n",
       "      <td>2015</td>\n",
       "      <td>July</td>\n",
       "      <td>7</td>\n",
       "      <td>27</td>\n",
       "      <td>1</td>\n",
       "      <td>2015-07-01</td>\n",
       "      <td>2</td>\n",
       "      <td>0</td>\n",
       "      <td>2</td>\n",
       "      <td>stay_just_weekdays</td>\n",
       "      <td>2</td>\n",
       "      <td>0</td>\n",
       "      <td>0</td>\n",
       "      <td>2</td>\n",
       "      <td>GBR</td>\n",
       "      <td>BB</td>\n",
       "      <td>Online TA</td>\n",
       "      <td>TA/TO</td>\n",
       "      <td>0</td>\n",
       "      <td>0</td>\n",
       "      <td>0</td>\n",
       "      <td>A</td>\n",
       "      <td>A</td>\n",
       "      <td>0</td>\n",
       "      <td>No Deposit</td>\n",
       "      <td>0</td>\n",
       "      <td>Transient</td>\n",
       "      <td>98.0</td>\n",
       "      <td>0</td>\n",
       "      <td>1</td>\n",
       "      <td>Check-Out</td>\n",
       "      <td>2015-07-03</td>\n",
       "    </tr>\n",
       "  </tbody>\n",
       "</table>\n",
       "</div>"
      ],
      "text/plain": [
       "          hotel  is_canceled  lead_time  arrival_date_year arrival_date_month  \\\n",
       "0  Resort Hotel            1        342               2015               July   \n",
       "1  Resort Hotel            1        737               2015               July   \n",
       "2  Resort Hotel            0          7               2015               July   \n",
       "3  Resort Hotel            0         13               2015               July   \n",
       "4  Resort Hotel            0         14               2015               July   \n",
       "\n",
       "   arrival_date_month_num  arrival_date_week_number  \\\n",
       "0                       7                        27   \n",
       "1                       7                        27   \n",
       "2                       7                        27   \n",
       "3                       7                        27   \n",
       "4                       7                        27   \n",
       "\n",
       "   arrival_date_day_of_month check_in_date  total_nights  \\\n",
       "0                          1    2015-07-01             0   \n",
       "1                          1    2015-07-01             0   \n",
       "2                          1    2015-07-01             1   \n",
       "3                          1    2015-07-01             1   \n",
       "4                          1    2015-07-01             2   \n",
       "\n",
       "   stays_in_weekend_nights  stays_in_week_nights  weekend_or_weekday  adults  \\\n",
       "0                        0                     0      undefined_data       2   \n",
       "1                        0                     0      undefined_data       2   \n",
       "2                        0                     1  stay_just_weekdays       1   \n",
       "3                        0                     1  stay_just_weekdays       1   \n",
       "4                        0                     2  stay_just_weekdays       2   \n",
       "\n",
       "   children  babies  total_guests country meal market_segment  \\\n",
       "0         0       0             2     PRT   BB         Direct   \n",
       "1         0       0             2     PRT   BB         Direct   \n",
       "2         0       0             1     GBR   BB         Direct   \n",
       "3         0       0             1     GBR   BB      Corporate   \n",
       "4         0       0             2     GBR   BB      Online TA   \n",
       "\n",
       "  distribution_channel  is_repeated_guest  previous_cancellations  \\\n",
       "0               Direct                  0                       0   \n",
       "1               Direct                  0                       0   \n",
       "2               Direct                  0                       0   \n",
       "3            Corporate                  0                       0   \n",
       "4                TA/TO                  0                       0   \n",
       "\n",
       "   previous_bookings_not_canceled reserved_room_type assigned_room_type  \\\n",
       "0                               0                  C                  C   \n",
       "1                               0                  C                  C   \n",
       "2                               0                  A                  C   \n",
       "3                               0                  A                  A   \n",
       "4                               0                  A                  A   \n",
       "\n",
       "   booking_changes deposit_type  days_in_waiting_list customer_type   adr  \\\n",
       "0                3   No Deposit                     0     Transient   0.0   \n",
       "1                4   No Deposit                     0     Transient   0.0   \n",
       "2                0   No Deposit                     0     Transient  75.0   \n",
       "3                0   No Deposit                     0     Transient  75.0   \n",
       "4                0   No Deposit                     0     Transient  98.0   \n",
       "\n",
       "   required_car_parking_spaces  total_of_special_requests reservation_status  \\\n",
       "0                            0                          0           Canceled   \n",
       "1                            0                          0           Canceled   \n",
       "2                            0                          0          Check-Out   \n",
       "3                            0                          0          Check-Out   \n",
       "4                            0                          1          Check-Out   \n",
       "\n",
       "  reservation_status_date  \n",
       "0              2015-07-01  \n",
       "1              2015-07-01  \n",
       "2              2015-07-02  \n",
       "3              2015-07-02  \n",
       "4              2015-07-03  "
      ]
     },
     "execution_count": 89,
     "metadata": {},
     "output_type": "execute_result"
    }
   ],
   "source": [
    "data.head()"
   ]
  },
  {
   "cell_type": "code",
   "execution_count": 90,
   "id": "3f5ecc44",
   "metadata": {},
   "outputs": [],
   "source": [
    "# Save the clean dataframe\n",
    "data.to_csv('./Datasets/clean_EDA_data.csv', index = False)"
   ]
  },
  {
   "cell_type": "code",
   "execution_count": null,
   "id": "1dab9789",
   "metadata": {},
   "outputs": [],
   "source": []
  }
 ],
 "metadata": {
  "kernelspec": {
   "display_name": "Python 3 (ipykernel)",
   "language": "python",
   "name": "python3"
  },
  "language_info": {
   "codemirror_mode": {
    "name": "ipython",
    "version": 3
   },
   "file_extension": ".py",
   "mimetype": "text/x-python",
   "name": "python",
   "nbconvert_exporter": "python",
   "pygments_lexer": "ipython3",
   "version": "3.9.13"
  }
 },
 "nbformat": 4,
 "nbformat_minor": 5
}
