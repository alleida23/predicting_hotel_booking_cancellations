{
 "cells": [
  {
   "cell_type": "markdown",
   "id": "76e936fc",
   "metadata": {},
   "source": [
    "# Predicting Hotel Booking Cancellations\n",
    "### Data Preprocessing and Predictive Modeling with Classification Algorithms"
   ]
  },
  {
   "cell_type": "markdown",
   "id": "9039b811",
   "metadata": {},
   "source": [
    "In this second kernel, we continue our journey through the dataset, focusing on data preprocessing and predictive modeling. We've already ensured data cleanliness and readiness in the previous kernel. Now, we'll optimize data types, handle categorical data, and explore feature scaling, encoding, and selection.\n",
    "\n",
    "After preparing the data, we'll train logistic regression models, evaluate them, and select the best performer using various metrics like accuracy, R-squared, MAE, MSE, and RMSE. Let's delve into the detailed model evaluations and make an informed choice for our predictive modeling."
   ]
  },
  {
   "cell_type": "code",
   "execution_count": 1,
   "id": "ff3e0144",
   "metadata": {},
   "outputs": [],
   "source": [
    "# Import necessary libraries\n",
    "import pandas as pd\n",
    "import numpy as np\n",
    "import matplotlib.pyplot as plt\n",
    "import seaborn as sns\n",
    "from IPython.display import Markdown, display"
   ]
  },
  {
   "cell_type": "code",
   "execution_count": 2,
   "id": "9fc272a8",
   "metadata": {},
   "outputs": [
    {
     "data": {
      "text/html": [
       "<div>\n",
       "<style scoped>\n",
       "    .dataframe tbody tr th:only-of-type {\n",
       "        vertical-align: middle;\n",
       "    }\n",
       "\n",
       "    .dataframe tbody tr th {\n",
       "        vertical-align: top;\n",
       "    }\n",
       "\n",
       "    .dataframe thead th {\n",
       "        text-align: right;\n",
       "    }\n",
       "</style>\n",
       "<table border=\"1\" class=\"dataframe\">\n",
       "  <thead>\n",
       "    <tr style=\"text-align: right;\">\n",
       "      <th></th>\n",
       "      <th>hotel</th>\n",
       "      <th>is_canceled</th>\n",
       "      <th>lead_time</th>\n",
       "      <th>arrival_date_year</th>\n",
       "      <th>arrival_date_month</th>\n",
       "      <th>arrival_date_month_num</th>\n",
       "      <th>arrival_date_week_number</th>\n",
       "      <th>arrival_date_day_of_month</th>\n",
       "      <th>check_in_date</th>\n",
       "      <th>total_nights</th>\n",
       "      <th>stays_in_weekend_nights</th>\n",
       "      <th>stays_in_week_nights</th>\n",
       "      <th>weekend_or_weekday</th>\n",
       "      <th>adults</th>\n",
       "      <th>children</th>\n",
       "      <th>babies</th>\n",
       "      <th>total_guests</th>\n",
       "      <th>country</th>\n",
       "      <th>meal</th>\n",
       "      <th>market_segment</th>\n",
       "      <th>distribution_channel</th>\n",
       "      <th>is_repeated_guest</th>\n",
       "      <th>previous_cancellations</th>\n",
       "      <th>previous_bookings_not_canceled</th>\n",
       "      <th>reserved_room_type</th>\n",
       "      <th>assigned_room_type</th>\n",
       "      <th>booking_changes</th>\n",
       "      <th>deposit_type</th>\n",
       "      <th>days_in_waiting_list</th>\n",
       "      <th>customer_type</th>\n",
       "      <th>adr</th>\n",
       "      <th>required_car_parking_spaces</th>\n",
       "      <th>total_of_special_requests</th>\n",
       "      <th>reservation_status</th>\n",
       "      <th>reservation_status_date</th>\n",
       "    </tr>\n",
       "  </thead>\n",
       "  <tbody>\n",
       "    <tr>\n",
       "      <th>0</th>\n",
       "      <td>Resort Hotel</td>\n",
       "      <td>1</td>\n",
       "      <td>342</td>\n",
       "      <td>2015</td>\n",
       "      <td>July</td>\n",
       "      <td>7</td>\n",
       "      <td>27</td>\n",
       "      <td>1</td>\n",
       "      <td>2015-07-01</td>\n",
       "      <td>0</td>\n",
       "      <td>0</td>\n",
       "      <td>0</td>\n",
       "      <td>undefined_data</td>\n",
       "      <td>2</td>\n",
       "      <td>0</td>\n",
       "      <td>0</td>\n",
       "      <td>2</td>\n",
       "      <td>PRT</td>\n",
       "      <td>BB</td>\n",
       "      <td>Direct</td>\n",
       "      <td>Direct</td>\n",
       "      <td>0</td>\n",
       "      <td>0</td>\n",
       "      <td>0</td>\n",
       "      <td>C</td>\n",
       "      <td>C</td>\n",
       "      <td>3</td>\n",
       "      <td>No Deposit</td>\n",
       "      <td>0</td>\n",
       "      <td>Transient</td>\n",
       "      <td>0.0</td>\n",
       "      <td>0</td>\n",
       "      <td>0</td>\n",
       "      <td>Canceled</td>\n",
       "      <td>2015-07-01</td>\n",
       "    </tr>\n",
       "    <tr>\n",
       "      <th>1</th>\n",
       "      <td>Resort Hotel</td>\n",
       "      <td>1</td>\n",
       "      <td>737</td>\n",
       "      <td>2015</td>\n",
       "      <td>July</td>\n",
       "      <td>7</td>\n",
       "      <td>27</td>\n",
       "      <td>1</td>\n",
       "      <td>2015-07-01</td>\n",
       "      <td>0</td>\n",
       "      <td>0</td>\n",
       "      <td>0</td>\n",
       "      <td>undefined_data</td>\n",
       "      <td>2</td>\n",
       "      <td>0</td>\n",
       "      <td>0</td>\n",
       "      <td>2</td>\n",
       "      <td>PRT</td>\n",
       "      <td>BB</td>\n",
       "      <td>Direct</td>\n",
       "      <td>Direct</td>\n",
       "      <td>0</td>\n",
       "      <td>0</td>\n",
       "      <td>0</td>\n",
       "      <td>C</td>\n",
       "      <td>C</td>\n",
       "      <td>4</td>\n",
       "      <td>No Deposit</td>\n",
       "      <td>0</td>\n",
       "      <td>Transient</td>\n",
       "      <td>0.0</td>\n",
       "      <td>0</td>\n",
       "      <td>0</td>\n",
       "      <td>Canceled</td>\n",
       "      <td>2015-07-01</td>\n",
       "    </tr>\n",
       "    <tr>\n",
       "      <th>2</th>\n",
       "      <td>Resort Hotel</td>\n",
       "      <td>0</td>\n",
       "      <td>7</td>\n",
       "      <td>2015</td>\n",
       "      <td>July</td>\n",
       "      <td>7</td>\n",
       "      <td>27</td>\n",
       "      <td>1</td>\n",
       "      <td>2015-07-01</td>\n",
       "      <td>1</td>\n",
       "      <td>0</td>\n",
       "      <td>1</td>\n",
       "      <td>stay_just_weekdays</td>\n",
       "      <td>1</td>\n",
       "      <td>0</td>\n",
       "      <td>0</td>\n",
       "      <td>1</td>\n",
       "      <td>GBR</td>\n",
       "      <td>BB</td>\n",
       "      <td>Direct</td>\n",
       "      <td>Direct</td>\n",
       "      <td>0</td>\n",
       "      <td>0</td>\n",
       "      <td>0</td>\n",
       "      <td>A</td>\n",
       "      <td>C</td>\n",
       "      <td>0</td>\n",
       "      <td>No Deposit</td>\n",
       "      <td>0</td>\n",
       "      <td>Transient</td>\n",
       "      <td>75.0</td>\n",
       "      <td>0</td>\n",
       "      <td>0</td>\n",
       "      <td>Check-Out</td>\n",
       "      <td>2015-07-02</td>\n",
       "    </tr>\n",
       "  </tbody>\n",
       "</table>\n",
       "</div>"
      ],
      "text/plain": [
       "          hotel  is_canceled  lead_time  arrival_date_year arrival_date_month  \\\n",
       "0  Resort Hotel            1        342               2015               July   \n",
       "1  Resort Hotel            1        737               2015               July   \n",
       "2  Resort Hotel            0          7               2015               July   \n",
       "\n",
       "   arrival_date_month_num  arrival_date_week_number  \\\n",
       "0                       7                        27   \n",
       "1                       7                        27   \n",
       "2                       7                        27   \n",
       "\n",
       "   arrival_date_day_of_month check_in_date  total_nights  \\\n",
       "0                          1    2015-07-01             0   \n",
       "1                          1    2015-07-01             0   \n",
       "2                          1    2015-07-01             1   \n",
       "\n",
       "   stays_in_weekend_nights  stays_in_week_nights  weekend_or_weekday  adults  \\\n",
       "0                        0                     0      undefined_data       2   \n",
       "1                        0                     0      undefined_data       2   \n",
       "2                        0                     1  stay_just_weekdays       1   \n",
       "\n",
       "   children  babies  total_guests country meal market_segment  \\\n",
       "0         0       0             2     PRT   BB         Direct   \n",
       "1         0       0             2     PRT   BB         Direct   \n",
       "2         0       0             1     GBR   BB         Direct   \n",
       "\n",
       "  distribution_channel  is_repeated_guest  previous_cancellations  \\\n",
       "0               Direct                  0                       0   \n",
       "1               Direct                  0                       0   \n",
       "2               Direct                  0                       0   \n",
       "\n",
       "   previous_bookings_not_canceled reserved_room_type assigned_room_type  \\\n",
       "0                               0                  C                  C   \n",
       "1                               0                  C                  C   \n",
       "2                               0                  A                  C   \n",
       "\n",
       "   booking_changes deposit_type  days_in_waiting_list customer_type   adr  \\\n",
       "0                3   No Deposit                     0     Transient   0.0   \n",
       "1                4   No Deposit                     0     Transient   0.0   \n",
       "2                0   No Deposit                     0     Transient  75.0   \n",
       "\n",
       "   required_car_parking_spaces  total_of_special_requests reservation_status  \\\n",
       "0                            0                          0           Canceled   \n",
       "1                            0                          0           Canceled   \n",
       "2                            0                          0          Check-Out   \n",
       "\n",
       "  reservation_status_date  \n",
       "0              2015-07-01  \n",
       "1              2015-07-01  \n",
       "2              2015-07-02  "
      ]
     },
     "metadata": {},
     "output_type": "display_data"
    },
    {
     "data": {
      "text/plain": [
       "(119210, 35)"
      ]
     },
     "metadata": {},
     "output_type": "display_data"
    }
   ],
   "source": [
    "# Import data from a CSV file\n",
    "data = pd.read_csv('./Datasets/clean_EDA_data.csv')\n",
    "\n",
    "# Set the maximum number of columns to display to None\n",
    "pd.options.display.max_columns = None\n",
    "\n",
    "display(data.head(3), data.shape)"
   ]
  },
  {
   "cell_type": "markdown",
   "id": "25025a0d",
   "metadata": {},
   "source": []
  },
  {
   "cell_type": "markdown",
   "id": "ad273d8c",
   "metadata": {},
   "source": [
    "### 1. Data Preparation for Encoding and Scaling Before Modeling\n",
    "In this section, we begin with the optimization of data types and the extraction of crucial date-related information. We streamline the dataset by removing unnecessary columns and enhancing the handling of categorical data. These steps set the stage for efficient data management.\n",
    "\n",
    "Additionally, we explore the correlations within the numerical features by creating a correlation matrix. Outliers are addressed to ensure data integrity within these columns. As you navigate through this section, you will witness how we transform and reduce the unique values within certain categorical features, simplifying data representation.\n",
    "\n",
    "Our goal is to create a well-structured and clean dataset, ensuring that it serves as a solid foundation for the subsequent application of various classification algorithms, including encoding and scaling for predictive modeling."
   ]
  },
  {
   "cell_type": "markdown",
   "id": "680a4c04",
   "metadata": {},
   "source": [
    "#### Data Types and New Columns"
   ]
  },
  {
   "cell_type": "code",
   "execution_count": 3,
   "id": "c7c959de",
   "metadata": {},
   "outputs": [],
   "source": [
    "# Convert the 'reservation_status_date' column to datetime type\n",
    "data['reservation_status_date'] = pd.to_datetime(data['reservation_status_date'])\n",
    "\n",
    "# Extract day, month, and year from 'reservation_status_date' and create new columns\n",
    "data['reservation_status_day'] = data['reservation_status_date'].dt.day\n",
    "data['reservation_status_month'] = data['reservation_status_date'].dt.month\n",
    "data['reservation_status_year'] = data['reservation_status_date'].dt.year\n",
    "\n",
    "# Drop the original 'reservation_status_date' column\n",
    "data = data.drop('reservation_status_date', axis=1)"
   ]
  },
  {
   "cell_type": "code",
   "execution_count": 4,
   "id": "70fa1e60",
   "metadata": {},
   "outputs": [],
   "source": [
    "# Drop unnecessary columns (data stored in other columns)\n",
    "data = data.drop(data[['check_in_date','arrival_date_month_num']], axis=1)"
   ]
  },
  {
   "cell_type": "code",
   "execution_count": 5,
   "id": "81986995",
   "metadata": {},
   "outputs": [
    {
     "name": "stdout",
     "output_type": "stream",
     "text": [
      "<class 'pandas.core.frame.DataFrame'>\n",
      "RangeIndex: 119210 entries, 0 to 119209\n",
      "Data columns (total 35 columns):\n",
      " #   Column                          Non-Null Count   Dtype  \n",
      "---  ------                          --------------   -----  \n",
      " 0   hotel                           119210 non-null  object \n",
      " 1   is_canceled                     119210 non-null  int64  \n",
      " 2   lead_time                       119210 non-null  int64  \n",
      " 3   arrival_date_year               119210 non-null  int64  \n",
      " 4   arrival_date_month              119210 non-null  object \n",
      " 5   arrival_date_week_number        119210 non-null  int64  \n",
      " 6   arrival_date_day_of_month       119210 non-null  int64  \n",
      " 7   total_nights                    119210 non-null  int64  \n",
      " 8   stays_in_weekend_nights         119210 non-null  int64  \n",
      " 9   stays_in_week_nights            119210 non-null  int64  \n",
      " 10  weekend_or_weekday              119210 non-null  object \n",
      " 11  adults                          119210 non-null  int64  \n",
      " 12  children                        119210 non-null  int64  \n",
      " 13  babies                          119210 non-null  int64  \n",
      " 14  total_guests                    119210 non-null  int64  \n",
      " 15  country                         119210 non-null  object \n",
      " 16  meal                            119210 non-null  object \n",
      " 17  market_segment                  119210 non-null  object \n",
      " 18  distribution_channel            119210 non-null  object \n",
      " 19  is_repeated_guest               119210 non-null  int64  \n",
      " 20  previous_cancellations          119210 non-null  int64  \n",
      " 21  previous_bookings_not_canceled  119210 non-null  int64  \n",
      " 22  reserved_room_type              119210 non-null  object \n",
      " 23  assigned_room_type              119210 non-null  object \n",
      " 24  booking_changes                 119210 non-null  int64  \n",
      " 25  deposit_type                    119210 non-null  object \n",
      " 26  days_in_waiting_list            119210 non-null  int64  \n",
      " 27  customer_type                   119210 non-null  object \n",
      " 28  adr                             119210 non-null  float64\n",
      " 29  required_car_parking_spaces     119210 non-null  int64  \n",
      " 30  total_of_special_requests       119210 non-null  int64  \n",
      " 31  reservation_status              119210 non-null  object \n",
      " 32  reservation_status_day          119210 non-null  int64  \n",
      " 33  reservation_status_month        119210 non-null  int64  \n",
      " 34  reservation_status_year         119210 non-null  int64  \n",
      "dtypes: float64(1), int64(22), object(12)\n",
      "memory usage: 31.8+ MB\n"
     ]
    }
   ],
   "source": [
    "# Display 'data' information\n",
    "data.info()"
   ]
  },
  {
   "cell_type": "markdown",
   "id": "6f7ecfa4",
   "metadata": {},
   "source": [
    "#### Split into numerical and categorical data:"
   ]
  },
  {
   "cell_type": "code",
   "execution_count": 6,
   "id": "18eda7d5",
   "metadata": {},
   "outputs": [
    {
     "data": {
      "text/plain": [
       "'Numerical columns: 23, Categorical columns: 12'"
      ]
     },
     "metadata": {},
     "output_type": "display_data"
    }
   ],
   "source": [
    "# List comprehension to get numerical and categorical columns\n",
    "num_features = [col for col in data.columns if data[col].dtype != 'object']\n",
    "cat_features = [col for col in data.columns if data[col].dtype == 'object']\n",
    "\n",
    "# Display the number of numerical and categorical columns\n",
    "display(f'Numerical columns: {len(num_features)}, Categorical columns: {len(cat_features)}')\n",
    "\n",
    "# Assign numerical and categorical data to new variables\n",
    "cat_data = data[cat_features]\n",
    "num_data = data[num_features]"
   ]
  },
  {
   "cell_type": "markdown",
   "id": "9476ba9d",
   "metadata": {},
   "source": [
    "##### Deal with categorical data"
   ]
  },
  {
   "cell_type": "code",
   "execution_count": 7,
   "id": "424638fb",
   "metadata": {},
   "outputs": [
    {
     "data": {
      "text/html": [
       "<div>\n",
       "<style scoped>\n",
       "    .dataframe tbody tr th:only-of-type {\n",
       "        vertical-align: middle;\n",
       "    }\n",
       "\n",
       "    .dataframe tbody tr th {\n",
       "        vertical-align: top;\n",
       "    }\n",
       "\n",
       "    .dataframe thead th {\n",
       "        text-align: right;\n",
       "    }\n",
       "</style>\n",
       "<table border=\"1\" class=\"dataframe\">\n",
       "  <thead>\n",
       "    <tr style=\"text-align: right;\">\n",
       "      <th></th>\n",
       "      <th>hotel</th>\n",
       "      <th>arrival_date_month</th>\n",
       "      <th>weekend_or_weekday</th>\n",
       "      <th>country</th>\n",
       "      <th>meal</th>\n",
       "      <th>market_segment</th>\n",
       "      <th>distribution_channel</th>\n",
       "      <th>reserved_room_type</th>\n",
       "      <th>assigned_room_type</th>\n",
       "      <th>deposit_type</th>\n",
       "      <th>customer_type</th>\n",
       "      <th>reservation_status</th>\n",
       "    </tr>\n",
       "  </thead>\n",
       "  <tbody>\n",
       "    <tr>\n",
       "      <th>0</th>\n",
       "      <td>Resort Hotel</td>\n",
       "      <td>July</td>\n",
       "      <td>undefined_data</td>\n",
       "      <td>PRT</td>\n",
       "      <td>BB</td>\n",
       "      <td>Direct</td>\n",
       "      <td>Direct</td>\n",
       "      <td>C</td>\n",
       "      <td>C</td>\n",
       "      <td>No Deposit</td>\n",
       "      <td>Transient</td>\n",
       "      <td>Canceled</td>\n",
       "    </tr>\n",
       "    <tr>\n",
       "      <th>1</th>\n",
       "      <td>Resort Hotel</td>\n",
       "      <td>July</td>\n",
       "      <td>undefined_data</td>\n",
       "      <td>PRT</td>\n",
       "      <td>BB</td>\n",
       "      <td>Direct</td>\n",
       "      <td>Direct</td>\n",
       "      <td>C</td>\n",
       "      <td>C</td>\n",
       "      <td>No Deposit</td>\n",
       "      <td>Transient</td>\n",
       "      <td>Canceled</td>\n",
       "    </tr>\n",
       "    <tr>\n",
       "      <th>2</th>\n",
       "      <td>Resort Hotel</td>\n",
       "      <td>July</td>\n",
       "      <td>stay_just_weekdays</td>\n",
       "      <td>GBR</td>\n",
       "      <td>BB</td>\n",
       "      <td>Direct</td>\n",
       "      <td>Direct</td>\n",
       "      <td>A</td>\n",
       "      <td>C</td>\n",
       "      <td>No Deposit</td>\n",
       "      <td>Transient</td>\n",
       "      <td>Check-Out</td>\n",
       "    </tr>\n",
       "  </tbody>\n",
       "</table>\n",
       "</div>"
      ],
      "text/plain": [
       "          hotel arrival_date_month  weekend_or_weekday country meal  \\\n",
       "0  Resort Hotel               July      undefined_data     PRT   BB   \n",
       "1  Resort Hotel               July      undefined_data     PRT   BB   \n",
       "2  Resort Hotel               July  stay_just_weekdays     GBR   BB   \n",
       "\n",
       "  market_segment distribution_channel reserved_room_type assigned_room_type  \\\n",
       "0         Direct               Direct                  C                  C   \n",
       "1         Direct               Direct                  C                  C   \n",
       "2         Direct               Direct                  A                  C   \n",
       "\n",
       "  deposit_type customer_type reservation_status  \n",
       "0   No Deposit     Transient           Canceled  \n",
       "1   No Deposit     Transient           Canceled  \n",
       "2   No Deposit     Transient          Check-Out  "
      ]
     },
     "metadata": {},
     "output_type": "display_data"
    },
    {
     "data": {
      "text/plain": [
       "(119210, 12)"
      ]
     },
     "metadata": {},
     "output_type": "display_data"
    }
   ],
   "source": [
    "# Display the first 3 rows and shape of categorical data\n",
    "display(cat_data.head(3), cat_data.shape)"
   ]
  },
  {
   "cell_type": "code",
   "execution_count": 8,
   "id": "a2892ea4",
   "metadata": {},
   "outputs": [
    {
     "data": {
      "text/plain": [
       "hotel                   0\n",
       "arrival_date_month      0\n",
       "weekend_or_weekday      0\n",
       "country                 0\n",
       "meal                    0\n",
       "market_segment          0\n",
       "distribution_channel    0\n",
       "reserved_room_type      0\n",
       "assigned_room_type      0\n",
       "deposit_type            0\n",
       "customer_type           0\n",
       "reservation_status      0\n",
       "dtype: int64"
      ]
     },
     "execution_count": 8,
     "metadata": {},
     "output_type": "execute_result"
    }
   ],
   "source": [
    "# Check for null values in categorical features\n",
    "cat_data.isnull().sum()"
   ]
  },
  {
   "cell_type": "code",
   "execution_count": 9,
   "id": "2b28d690",
   "metadata": {},
   "outputs": [
    {
     "data": {
      "text/plain": [
       "hotel                     2\n",
       "arrival_date_month       12\n",
       "weekend_or_weekday        4\n",
       "country                 177\n",
       "meal                      5\n",
       "market_segment            8\n",
       "distribution_channel      5\n",
       "reserved_room_type        9\n",
       "assigned_room_type       11\n",
       "deposit_type              3\n",
       "customer_type             4\n",
       "reservation_status        3\n",
       "dtype: int64"
      ]
     },
     "execution_count": 9,
     "metadata": {},
     "output_type": "execute_result"
    }
   ],
   "source": [
    "# Count unique values for each column in categorical data\n",
    "cat_data.nunique()"
   ]
  },
  {
   "cell_type": "code",
   "execution_count": 10,
   "id": "be99ffd9",
   "metadata": {},
   "outputs": [
    {
     "data": {
      "text/plain": [
       "\"hotel: ['Resort Hotel' 'City Hotel']\""
      ]
     },
     "metadata": {},
     "output_type": "display_data"
    },
    {
     "data": {
      "text/plain": [
       "\"arrival_date_month: ['July' 'August' 'September' 'October' 'November' 'December' 'January'\\n 'February' 'March' 'April' 'May' 'June']\""
      ]
     },
     "metadata": {},
     "output_type": "display_data"
    },
    {
     "data": {
      "text/plain": [
       "\"weekend_or_weekday: ['undefined_data' 'stay_just_weekdays' 'stay_both_weekdays_weekends'\\n 'stay_just_weekend']\""
      ]
     },
     "metadata": {},
     "output_type": "display_data"
    },
    {
     "data": {
      "text/plain": [
       "\"country: ['PRT' 'GBR' 'USA' 'ESP' 'IRL' 'FRA' 'ROU' 'NOR' 'OMN' 'ARG' 'POL' 'DEU'\\n 'BEL' 'CHE' 'CN' 'GRC' 'ITA' 'NLD' 'DNK' 'RUS' 'SWE' 'AUS' 'EST' 'CZE'\\n 'BRA' 'FIN' 'MOZ' 'BWA' 'LUX' 'SVN' 'ALB' 'IND' 'CHN' 'MEX' 'MAR' 'UKR'\\n 'SMR' 'LVA' 'PRI' 'SRB' 'CHL' 'AUT' 'BLR' 'LTU' 'TUR' 'ZAF' 'AGO' 'ISR'\\n 'CYM' 'ZMB' 'CPV' 'ZWE' 'DZA' 'KOR' 'CRI' 'HUN' 'ARE' 'TUN' 'JAM' 'HRV'\\n 'HKG' 'IRN' 'GEO' 'AND' 'GIB' 'URY' 'JEY' 'CAF' 'CYP' 'COL' 'GGY' 'KWT'\\n 'NGA' 'MDV' 'VEN' 'SVK' 'FJI' 'KAZ' 'PAK' 'IDN' 'LBN' 'PHL' 'SEN' 'SYC'\\n 'AZE' 'BHR' 'NZL' 'THA' 'DOM' 'MKD' 'MYS' 'ARM' 'JPN' 'LKA' 'CUB' 'CMR'\\n 'BIH' 'MUS' 'COM' 'SUR' 'UGA' 'BGR' 'CIV' 'JOR' 'SYR' 'SGP' 'BDI' 'SAU'\\n 'VNM' 'PLW' 'QAT' 'EGY' 'PER' 'MLT' 'MWI' 'ECU' 'MDG' 'ISL' 'UZB' 'NPL'\\n 'BHS' 'MAC' 'TGO' 'TWN' 'DJI' 'STP' 'KNA' 'ETH' 'IRQ' 'HND' 'RWA' 'KHM'\\n 'MCO' 'BGD' 'IMN' 'TJK' 'NIC' 'BEN' 'VGB' 'TZA' 'GAB' 'GHA' 'TMP' 'GLP'\\n 'KEN' 'LIE' 'GNB' 'MNE' 'UMI' 'MYT' 'FRO' 'MMR' 'PAN' 'BFA' 'LBY' 'MLI'\\n 'NAM' 'BOL' 'PRY' 'BRB' 'ABW' 'AIA' 'SLV' 'DMA' 'PYF' 'GUY' 'LCA' 'ATA'\\n 'GTM' 'ASM' 'MRT' 'NCL' 'KIR' 'SDN' 'ATF' 'SLE' 'LAO']\""
      ]
     },
     "metadata": {},
     "output_type": "display_data"
    },
    {
     "data": {
      "text/plain": [
       "\"meal: ['BB' 'FB' 'HB' 'SC' 'Undefined']\""
      ]
     },
     "metadata": {},
     "output_type": "display_data"
    },
    {
     "data": {
      "text/plain": [
       "\"market_segment: ['Direct' 'Corporate' 'Online TA' 'Offline TA/TO' 'Complementary' 'Groups'\\n 'Undefined' 'Aviation']\""
      ]
     },
     "metadata": {},
     "output_type": "display_data"
    },
    {
     "data": {
      "text/plain": [
       "\"distribution_channel: ['Direct' 'Corporate' 'TA/TO' 'Undefined' 'GDS']\""
      ]
     },
     "metadata": {},
     "output_type": "display_data"
    },
    {
     "data": {
      "text/plain": [
       "\"reserved_room_type: ['C' 'A' 'D' 'E' 'G' 'F' 'H' 'L' 'B']\""
      ]
     },
     "metadata": {},
     "output_type": "display_data"
    },
    {
     "data": {
      "text/plain": [
       "\"assigned_room_type: ['C' 'A' 'D' 'E' 'G' 'F' 'I' 'B' 'H' 'L' 'K']\""
      ]
     },
     "metadata": {},
     "output_type": "display_data"
    },
    {
     "data": {
      "text/plain": [
       "\"deposit_type: ['No Deposit' 'Refundable' 'Non Refund']\""
      ]
     },
     "metadata": {},
     "output_type": "display_data"
    },
    {
     "data": {
      "text/plain": [
       "\"customer_type: ['Transient' 'Contract' 'Transient-Party' 'Group']\""
      ]
     },
     "metadata": {},
     "output_type": "display_data"
    },
    {
     "data": {
      "text/plain": [
       "\"reservation_status: ['Canceled' 'Check-Out' 'No-Show']\""
      ]
     },
     "metadata": {},
     "output_type": "display_data"
    }
   ],
   "source": [
    "# Display unique values of each categorical feature\n",
    "for col in cat_data.columns:\n",
    "    display(f\"{col}: {cat_data[col].unique()}\")"
   ]
  },
  {
   "cell_type": "markdown",
   "id": "b998a2e3",
   "metadata": {},
   "source": [
    "#### Reducing Categorical Unique Values\n",
    "\n",
    "In this section, we aim to enhance the data quality and simplify categorical features. Specifically, we will address three key aspects:\n",
    "\n",
    "**1. Country:** To manage the 'Country' feature efficiently, we will retain the top 10 country names with the highest representation among hotel guests. For all other countries, we will employ the '**CountryConverter**' Python module to replace them with their respective continents.\n",
    "\n",
    "**2. Deposit Type:** We will streamline the 'Deposit Type' feature by considering 'Refundable' cases as part of 'No Deposit' bookings, simplifying the categorization.\n",
    "\n",
    "**3. Market Segment:** Certain market segments, such as 'Complementary,' 'Aviation,' and 'Undefined,' will be grouped into a single category labeled 'Others.' This simplifies the representation of market segments in the dataset.\n",
    "\n",
    "These steps are designed to improve the dataset's manageability and maintain data integrity."
   ]
  },
  {
   "cell_type": "markdown",
   "id": "0eb688bf",
   "metadata": {},
   "source": [
    "**Country**"
   ]
  },
  {
   "cell_type": "code",
   "execution_count": 11,
   "id": "f06b4e6f",
   "metadata": {},
   "outputs": [
    {
     "data": {
      "text/plain": [
       "PRT    48939\n",
       "GBR    12129\n",
       "FRA    10402\n",
       "ESP     8566\n",
       "DEU     7285\n",
       "ITA     3761\n",
       "IRL     3377\n",
       "BEL     2342\n",
       "BRA     2222\n",
       "NLD     2103\n",
       "Name: country, dtype: int64"
      ]
     },
     "execution_count": 11,
     "metadata": {},
     "output_type": "execute_result"
    }
   ],
   "source": [
    "# Select top 10 guest's countries.\n",
    "top10_country = cat_data['country'].value_counts().nlargest(10)\n",
    "top10_country"
   ]
  },
  {
   "cell_type": "code",
   "execution_count": 12,
   "id": "e796f8ff",
   "metadata": {},
   "outputs": [
    {
     "data": {
      "text/plain": [
       "167"
      ]
     },
     "execution_count": 12,
     "metadata": {},
     "output_type": "execute_result"
    }
   ],
   "source": [
    "# Initialize an empty list to store country codes for replacement (not in the top 10)\n",
    "country_to_continent = []\n",
    "\n",
    "# Iterate through the 'country' column in categorical data\n",
    "for country in cat_data['country']:\n",
    "    # Check if the country is neither in the top 10 nor already in the list\n",
    "    if country not in top10_country and country not in country_to_continent:\n",
    "        # Append the country code to the list for continent mapping\n",
    "        country_to_continent.append(country)\n",
    "\n",
    "# Calculate the number of unique country codes to be replaced\n",
    "len(country_to_continent)"
   ]
  },
  {
   "cell_type": "code",
   "execution_count": 13,
   "id": "1a81a76e",
   "metadata": {},
   "outputs": [
    {
     "name": "stderr",
     "output_type": "stream",
     "text": [
      "/var/folders/w7/7cfd14hn02g0d126w5q47rqw0000gn/T/ipykernel_1704/808702770.py:2: SettingWithCopyWarning: \n",
      "A value is trying to be set on a copy of a slice from a DataFrame.\n",
      "Try using .loc[row_indexer,col_indexer] = value instead\n",
      "\n",
      "See the caveats in the documentation: https://pandas.pydata.org/pandas-docs/stable/user_guide/indexing.html#returning-a-view-versus-a-copy\n",
      "  cat_data['country_or_continent'] = ''\n"
     ]
    }
   ],
   "source": [
    "# Create a new column to store the continent information\n",
    "cat_data['country_or_continent'] = ''"
   ]
  },
  {
   "cell_type": "code",
   "execution_count": 14,
   "id": "d05cdb2c",
   "metadata": {},
   "outputs": [
    {
     "name": "stderr",
     "output_type": "stream",
     "text": [
      "TMP not found in ISO3\n",
      "TMP not found in ISO3\n"
     ]
    }
   ],
   "source": [
    "# Import the 'CountryConverter' library for retrieving country information, including full names and continents.\n",
    "from country_converter import CountryConverter\n",
    "\n",
    "# Create an instance of the CountryConverter\n",
    "cc = CountryConverter()\n",
    "\n",
    "# Get unique country codes from the 'country_to_continent' list\n",
    "unique_country_codes = set(country_to_continent)\n",
    "\n",
    "# Initialize lists to store country code and continent data\n",
    "country_codes = []\n",
    "continents = []\n",
    "\n",
    "# Populate the lists with country codes and their respective continents.\n",
    "for code in unique_country_codes:\n",
    "    # Convert the country code to its continent using the 'CountryConverter' library.\n",
    "    continent = cc.convert(code, to='continent')\n",
    "    continent = cc.convert(code, to='continent')\n",
    "    country_codes.append(code)\n",
    "    continents.append(continent)\n",
    "\n",
    "# Create a new DataFrame, 'continent_df,' to store country codes and their associated continents.\n",
    "continent_df = pd.DataFrame({'country_code': country_codes, 'continent': continents})\n"
   ]
  },
  {
   "cell_type": "code",
   "execution_count": 15,
   "id": "2461c19f",
   "metadata": {},
   "outputs": [
    {
     "data": {
      "text/plain": [
       "Africa        43\n",
       "Asia          42\n",
       "Europe        38\n",
       "America       33\n",
       "Oceania        9\n",
       "Antarctica     1\n",
       "not found      1\n",
       "Name: continent, dtype: int64"
      ]
     },
     "execution_count": 15,
     "metadata": {},
     "output_type": "execute_result"
    }
   ],
   "source": [
    "# Check the new values and their count\n",
    "continent_df['continent'].value_counts()"
   ]
  },
  {
   "cell_type": "code",
   "execution_count": 16,
   "id": "559f128a",
   "metadata": {},
   "outputs": [
    {
     "data": {
      "text/html": [
       "<div>\n",
       "<style scoped>\n",
       "    .dataframe tbody tr th:only-of-type {\n",
       "        vertical-align: middle;\n",
       "    }\n",
       "\n",
       "    .dataframe tbody tr th {\n",
       "        vertical-align: top;\n",
       "    }\n",
       "\n",
       "    .dataframe thead th {\n",
       "        text-align: right;\n",
       "    }\n",
       "</style>\n",
       "<table border=\"1\" class=\"dataframe\">\n",
       "  <thead>\n",
       "    <tr style=\"text-align: right;\">\n",
       "      <th></th>\n",
       "      <th>country_code</th>\n",
       "      <th>continent</th>\n",
       "    </tr>\n",
       "  </thead>\n",
       "  <tbody>\n",
       "    <tr>\n",
       "      <th>145</th>\n",
       "      <td>TMP</td>\n",
       "      <td>not found</td>\n",
       "    </tr>\n",
       "  </tbody>\n",
       "</table>\n",
       "</div>"
      ],
      "text/plain": [
       "    country_code  continent\n",
       "145          TMP  not found"
      ]
     },
     "execution_count": 16,
     "metadata": {},
     "output_type": "execute_result"
    }
   ],
   "source": [
    "# Search for 'not found' value ('TMP')\n",
    "continent_df[continent_df['continent'] == 'not found']"
   ]
  },
  {
   "cell_type": "code",
   "execution_count": 17,
   "id": "46576b4c",
   "metadata": {},
   "outputs": [
    {
     "data": {
      "text/plain": [
       "Africa        43\n",
       "Asia          43\n",
       "Europe        38\n",
       "America       33\n",
       "Oceania        9\n",
       "Antarctica     1\n",
       "Name: continent, dtype: int64"
      ]
     },
     "execution_count": 17,
     "metadata": {},
     "output_type": "execute_result"
    }
   ],
   "source": [
    "# Find the index of the row with 'country_code' equal to 'TMP' \n",
    "index_to_replace = continent_df[continent_df['country_code'] == 'TMP'].index[0]\n",
    "\n",
    "# Replace the 'continent' value 'not found' with 'Asia' for the specific row identified.\n",
    "continent_df.loc[index_to_replace, 'continent'] = 'Asia'\n",
    "\n",
    "# Check again the count of unique continent values\n",
    "continent_df['continent'].value_counts()"
   ]
  },
  {
   "cell_type": "code",
   "execution_count": 18,
   "id": "26d03d3f",
   "metadata": {},
   "outputs": [
    {
     "data": {
      "text/plain": [
       "167"
      ]
     },
     "metadata": {},
     "output_type": "display_data"
    },
    {
     "data": {
      "text/plain": [
       "True"
      ]
     },
     "metadata": {},
     "output_type": "display_data"
    }
   ],
   "source": [
    "# Count the total number of rows in the 'continent_df' DataFrame.\n",
    "len_continent = continent_df['continent'].value_counts().sum()\n",
    "\n",
    "# Retrieve the length of the 'country_to_continent' list.\n",
    "len_country_to_continent = len(country_to_continent)\n",
    "\n",
    "# Display the total count and check if it matches the length of the 'country_to_continent' list.\n",
    "display(len_continent, len_continent == len_country_to_continent)"
   ]
  },
  {
   "cell_type": "code",
   "execution_count": 19,
   "id": "345bbe70",
   "metadata": {},
   "outputs": [
    {
     "data": {
      "text/plain": [
       "    119210\n",
       "Name: country_or_continent, dtype: int64"
      ]
     },
     "execution_count": 19,
     "metadata": {},
     "output_type": "execute_result"
    }
   ],
   "source": [
    "# Empty column ready to be filled\n",
    "cat_data['country_or_continent'].value_counts()"
   ]
  },
  {
   "cell_type": "code",
   "execution_count": 20,
   "id": "c5f1e235",
   "metadata": {},
   "outputs": [],
   "source": [
    "# Loop through each index and the corresponding country code in the 'country' column of 'cat_data.'\n",
    "for index, country in enumerate(cat_data['country']):\n",
    "    \n",
    "    # Check if the country code needs continent mapping (exists in the 'country_to_continent' list).\n",
    "    if country in country_to_continent:\n",
    "        \n",
    "        # Retrieve the continent value from the 'continent_df' DataFrame where 'country_code' matches the current country.\n",
    "        continent = continent_df[continent_df['country_code'] == country]['continent'].values\n",
    "        \n",
    "        if continent:\n",
    "            # If a 'continent' value exists (not an empty array), update the 'country_or_continent' column in 'cat_data.'\n",
    "            cat_data.at[index, 'country_or_continent'] = continent[0]\n",
    "    else:\n",
    "        # If the country code doesn't require mapping, update 'country_or_continent' with the original country code.\n",
    "        cat_data.at[index, 'country_or_continent'] = country"
   ]
  },
  {
   "cell_type": "code",
   "execution_count": 21,
   "id": "ccb4d04d",
   "metadata": {},
   "outputs": [
    {
     "data": {
      "text/plain": [
       "PRT           48939\n",
       "GBR           12129\n",
       "FRA           10402\n",
       "Europe         9237\n",
       "ESP            8566\n",
       "DEU            7285\n",
       "Asia           4470\n",
       "ITA            3761\n",
       "IRL            3377\n",
       "America        2754\n",
       "BEL            2342\n",
       "BRA            2222\n",
       "NLD            2103\n",
       "Africa         1114\n",
       "Oceania         507\n",
       "Antarctica        2\n",
       "Name: country_or_continent, dtype: int64"
      ]
     },
     "execution_count": 21,
     "metadata": {},
     "output_type": "execute_result"
    }
   ],
   "source": [
    "# Check the distribution of values in the new 'country_or_continent' column\n",
    "cat_data['country_or_continent'].value_counts()"
   ]
  },
  {
   "cell_type": "code",
   "execution_count": 22,
   "id": "0c31c964",
   "metadata": {},
   "outputs": [
    {
     "data": {
      "text/plain": [
       "True"
      ]
     },
     "execution_count": 22,
     "metadata": {},
     "output_type": "execute_result"
    }
   ],
   "source": [
    "# Verify that the total count of values in the 'country_or_continent' column matches the total count of values in the original 'country' column.\n",
    "cat_data['country_or_continent'].value_counts().sum() == data['country'].value_counts().sum()"
   ]
  },
  {
   "cell_type": "code",
   "execution_count": 23,
   "id": "00989258",
   "metadata": {},
   "outputs": [
    {
     "name": "stderr",
     "output_type": "stream",
     "text": [
      "/var/folders/w7/7cfd14hn02g0d126w5q47rqw0000gn/T/ipykernel_1704/2597093952.py:3: SettingWithCopyWarning: \n",
      "A value is trying to be set on a copy of a slice from a DataFrame.\n",
      "Try using .loc[row_indexer,col_indexer] = value instead\n",
      "\n",
      "See the caveats in the documentation: https://pandas.pydata.org/pandas-docs/stable/user_guide/indexing.html#returning-a-view-versus-a-copy\n",
      "  cat_data['country_or_continent'] = cat_data['country_or_continent'].replace(['Oceania', 'Antarctica'], 'Oceania&Antarctica')\n"
     ]
    },
    {
     "data": {
      "text/plain": [
       "PRT                   48939\n",
       "GBR                   12129\n",
       "FRA                   10402\n",
       "Europe                 9237\n",
       "ESP                    8566\n",
       "DEU                    7285\n",
       "Asia                   4470\n",
       "ITA                    3761\n",
       "IRL                    3377\n",
       "America                2754\n",
       "BEL                    2342\n",
       "BRA                    2222\n",
       "NLD                    2103\n",
       "Africa                 1114\n",
       "Oceania&Antarctica      509\n",
       "Name: country_or_continent, dtype: int64"
      ]
     },
     "execution_count": 23,
     "metadata": {},
     "output_type": "execute_result"
    }
   ],
   "source": [
    "# Group values 'Oceania' and 'Antarctica' into a single category 'Oceania&Antarctica'\n",
    "# in the 'country_or_continent' column to simplify the dataset due to their low counts.\n",
    "cat_data['country_or_continent'] = cat_data['country_or_continent'].replace(['Oceania', 'Antarctica'], 'Oceania&Antarctica')\n",
    "\n",
    "# Check the value counts in the 'country_or_continent' column after grouping.\n",
    "cat_data['country_or_continent'].value_counts()"
   ]
  },
  {
   "cell_type": "code",
   "execution_count": 24,
   "id": "f131050c",
   "metadata": {},
   "outputs": [],
   "source": [
    "# Drop the 'country' column\n",
    "cat_data = cat_data.drop('country', axis=1)"
   ]
  },
  {
   "cell_type": "markdown",
   "id": "70ca56e7",
   "metadata": {},
   "source": [
    "**Deposit Type**"
   ]
  },
  {
   "cell_type": "code",
   "execution_count": 25,
   "id": "87f965c1",
   "metadata": {},
   "outputs": [
    {
     "data": {
      "text/plain": [
       "array(['No Deposit', 'Refundable', 'Non Refund'], dtype=object)"
      ]
     },
     "execution_count": 25,
     "metadata": {},
     "output_type": "execute_result"
    }
   ],
   "source": [
    "# Check the unique values present in the 'deposit_type' column\n",
    "cat_data['deposit_type'].unique()"
   ]
  },
  {
   "cell_type": "code",
   "execution_count": 26,
   "id": "3ba58a46",
   "metadata": {},
   "outputs": [
    {
     "data": {
      "text/plain": [
       "0    104623\n",
       "1     14587\n",
       "Name: deposit_type, dtype: int64"
      ]
     },
     "execution_count": 26,
     "metadata": {},
     "output_type": "execute_result"
    }
   ],
   "source": [
    "# Reduce values in the 'deposit_type' column using a dictionary.\n",
    "# Map 'No Deposit' and 'Refundable' to 0, and 'Non Refund' to 1.\n",
    "cat_data['deposit_type'] = cat_data['deposit_type'].map({'No Deposit': 0, 'Refundable': 0, 'Non Refund': 1})\n",
    "\n",
    "# Check the value counts in the 'deposit_given' column after mapping.\n",
    "cat_data['deposit_type'].value_counts()"
   ]
  },
  {
   "cell_type": "markdown",
   "id": "9f2049d0",
   "metadata": {},
   "source": [
    "**Market Segment**"
   ]
  },
  {
   "cell_type": "code",
   "execution_count": 27,
   "id": "353342d1",
   "metadata": {},
   "outputs": [
    {
     "data": {
      "text/plain": [
       "Online TA        56408\n",
       "Offline TA/TO    24182\n",
       "Groups           19791\n",
       "Direct           12582\n",
       "Corporate         5282\n",
       "Complementary      728\n",
       "Aviation           235\n",
       "Undefined            2\n",
       "Name: market_segment, dtype: int64"
      ]
     },
     "execution_count": 27,
     "metadata": {},
     "output_type": "execute_result"
    }
   ],
   "source": [
    "# Display value counts for 'market_segment' column\n",
    "cat_data['market_segment'].value_counts()"
   ]
  },
  {
   "cell_type": "code",
   "execution_count": 28,
   "id": "ef53de8f",
   "metadata": {},
   "outputs": [],
   "source": [
    "# Group selected market segments into 'Others' for simplification.\n",
    "cat_data['market_segment'] = cat_data['market_segment'].replace(['Complementary',\n",
    "                                                                 'Aviation',\n",
    "                                                                 'Undefined'], 'Other')"
   ]
  },
  {
   "cell_type": "code",
   "execution_count": 29,
   "id": "737339b4",
   "metadata": {},
   "outputs": [
    {
     "data": {
      "text/plain": [
       "\"hotel: ['Resort Hotel' 'City Hotel']\""
      ]
     },
     "metadata": {},
     "output_type": "display_data"
    },
    {
     "data": {
      "text/plain": [
       "\"arrival_date_month: ['July' 'August' 'September' 'October' 'November' 'December' 'January'\\n 'February' 'March' 'April' 'May' 'June']\""
      ]
     },
     "metadata": {},
     "output_type": "display_data"
    },
    {
     "data": {
      "text/plain": [
       "\"weekend_or_weekday: ['undefined_data' 'stay_just_weekdays' 'stay_both_weekdays_weekends'\\n 'stay_just_weekend']\""
      ]
     },
     "metadata": {},
     "output_type": "display_data"
    },
    {
     "data": {
      "text/plain": [
       "\"meal: ['BB' 'FB' 'HB' 'SC' 'Undefined']\""
      ]
     },
     "metadata": {},
     "output_type": "display_data"
    },
    {
     "data": {
      "text/plain": [
       "\"market_segment: ['Direct' 'Corporate' 'Online TA' 'Offline TA/TO' 'Other' 'Groups']\""
      ]
     },
     "metadata": {},
     "output_type": "display_data"
    },
    {
     "data": {
      "text/plain": [
       "\"distribution_channel: ['Direct' 'Corporate' 'TA/TO' 'Undefined' 'GDS']\""
      ]
     },
     "metadata": {},
     "output_type": "display_data"
    },
    {
     "data": {
      "text/plain": [
       "\"reserved_room_type: ['C' 'A' 'D' 'E' 'G' 'F' 'H' 'L' 'B']\""
      ]
     },
     "metadata": {},
     "output_type": "display_data"
    },
    {
     "data": {
      "text/plain": [
       "\"assigned_room_type: ['C' 'A' 'D' 'E' 'G' 'F' 'I' 'B' 'H' 'L' 'K']\""
      ]
     },
     "metadata": {},
     "output_type": "display_data"
    },
    {
     "data": {
      "text/plain": [
       "'deposit_type: [0 1]'"
      ]
     },
     "metadata": {},
     "output_type": "display_data"
    },
    {
     "data": {
      "text/plain": [
       "\"customer_type: ['Transient' 'Contract' 'Transient-Party' 'Group']\""
      ]
     },
     "metadata": {},
     "output_type": "display_data"
    },
    {
     "data": {
      "text/plain": [
       "\"reservation_status: ['Canceled' 'Check-Out' 'No-Show']\""
      ]
     },
     "metadata": {},
     "output_type": "display_data"
    },
    {
     "data": {
      "text/plain": [
       "\"country_or_continent: ['PRT' 'GBR' 'America' 'ESP' 'IRL' 'FRA' 'Europe' 'Asia' 'DEU' 'BEL' 'ITA'\\n 'NLD' 'Oceania&Antarctica' 'BRA' 'Africa']\""
      ]
     },
     "metadata": {},
     "output_type": "display_data"
    }
   ],
   "source": [
    "# Display unique values in each column of the 'cat_data' DataFrame.\n",
    "for col in cat_data.columns:\n",
    "    display(f\"{col}: {cat_data[col].unique()}\")"
   ]
  },
  {
   "cell_type": "markdown",
   "id": "a73abd53",
   "metadata": {},
   "source": [
    "#### Deal with numerical data"
   ]
  },
  {
   "cell_type": "code",
   "execution_count": 30,
   "id": "d860f579",
   "metadata": {},
   "outputs": [
    {
     "data": {
      "text/html": [
       "<div>\n",
       "<style scoped>\n",
       "    .dataframe tbody tr th:only-of-type {\n",
       "        vertical-align: middle;\n",
       "    }\n",
       "\n",
       "    .dataframe tbody tr th {\n",
       "        vertical-align: top;\n",
       "    }\n",
       "\n",
       "    .dataframe thead th {\n",
       "        text-align: right;\n",
       "    }\n",
       "</style>\n",
       "<table border=\"1\" class=\"dataframe\">\n",
       "  <thead>\n",
       "    <tr style=\"text-align: right;\">\n",
       "      <th></th>\n",
       "      <th>is_canceled</th>\n",
       "      <th>lead_time</th>\n",
       "      <th>arrival_date_year</th>\n",
       "      <th>arrival_date_week_number</th>\n",
       "      <th>arrival_date_day_of_month</th>\n",
       "      <th>total_nights</th>\n",
       "      <th>stays_in_weekend_nights</th>\n",
       "      <th>stays_in_week_nights</th>\n",
       "      <th>adults</th>\n",
       "      <th>children</th>\n",
       "      <th>babies</th>\n",
       "      <th>total_guests</th>\n",
       "      <th>is_repeated_guest</th>\n",
       "      <th>previous_cancellations</th>\n",
       "      <th>previous_bookings_not_canceled</th>\n",
       "      <th>booking_changes</th>\n",
       "      <th>days_in_waiting_list</th>\n",
       "      <th>adr</th>\n",
       "      <th>required_car_parking_spaces</th>\n",
       "      <th>total_of_special_requests</th>\n",
       "      <th>reservation_status_day</th>\n",
       "      <th>reservation_status_month</th>\n",
       "      <th>reservation_status_year</th>\n",
       "    </tr>\n",
       "  </thead>\n",
       "  <tbody>\n",
       "    <tr>\n",
       "      <th>0</th>\n",
       "      <td>1</td>\n",
       "      <td>342</td>\n",
       "      <td>2015</td>\n",
       "      <td>27</td>\n",
       "      <td>1</td>\n",
       "      <td>0</td>\n",
       "      <td>0</td>\n",
       "      <td>0</td>\n",
       "      <td>2</td>\n",
       "      <td>0</td>\n",
       "      <td>0</td>\n",
       "      <td>2</td>\n",
       "      <td>0</td>\n",
       "      <td>0</td>\n",
       "      <td>0</td>\n",
       "      <td>3</td>\n",
       "      <td>0</td>\n",
       "      <td>0.0</td>\n",
       "      <td>0</td>\n",
       "      <td>0</td>\n",
       "      <td>1</td>\n",
       "      <td>7</td>\n",
       "      <td>2015</td>\n",
       "    </tr>\n",
       "    <tr>\n",
       "      <th>1</th>\n",
       "      <td>1</td>\n",
       "      <td>737</td>\n",
       "      <td>2015</td>\n",
       "      <td>27</td>\n",
       "      <td>1</td>\n",
       "      <td>0</td>\n",
       "      <td>0</td>\n",
       "      <td>0</td>\n",
       "      <td>2</td>\n",
       "      <td>0</td>\n",
       "      <td>0</td>\n",
       "      <td>2</td>\n",
       "      <td>0</td>\n",
       "      <td>0</td>\n",
       "      <td>0</td>\n",
       "      <td>4</td>\n",
       "      <td>0</td>\n",
       "      <td>0.0</td>\n",
       "      <td>0</td>\n",
       "      <td>0</td>\n",
       "      <td>1</td>\n",
       "      <td>7</td>\n",
       "      <td>2015</td>\n",
       "    </tr>\n",
       "    <tr>\n",
       "      <th>2</th>\n",
       "      <td>0</td>\n",
       "      <td>7</td>\n",
       "      <td>2015</td>\n",
       "      <td>27</td>\n",
       "      <td>1</td>\n",
       "      <td>1</td>\n",
       "      <td>0</td>\n",
       "      <td>1</td>\n",
       "      <td>1</td>\n",
       "      <td>0</td>\n",
       "      <td>0</td>\n",
       "      <td>1</td>\n",
       "      <td>0</td>\n",
       "      <td>0</td>\n",
       "      <td>0</td>\n",
       "      <td>0</td>\n",
       "      <td>0</td>\n",
       "      <td>75.0</td>\n",
       "      <td>0</td>\n",
       "      <td>0</td>\n",
       "      <td>2</td>\n",
       "      <td>7</td>\n",
       "      <td>2015</td>\n",
       "    </tr>\n",
       "    <tr>\n",
       "      <th>3</th>\n",
       "      <td>0</td>\n",
       "      <td>13</td>\n",
       "      <td>2015</td>\n",
       "      <td>27</td>\n",
       "      <td>1</td>\n",
       "      <td>1</td>\n",
       "      <td>0</td>\n",
       "      <td>1</td>\n",
       "      <td>1</td>\n",
       "      <td>0</td>\n",
       "      <td>0</td>\n",
       "      <td>1</td>\n",
       "      <td>0</td>\n",
       "      <td>0</td>\n",
       "      <td>0</td>\n",
       "      <td>0</td>\n",
       "      <td>0</td>\n",
       "      <td>75.0</td>\n",
       "      <td>0</td>\n",
       "      <td>0</td>\n",
       "      <td>2</td>\n",
       "      <td>7</td>\n",
       "      <td>2015</td>\n",
       "    </tr>\n",
       "    <tr>\n",
       "      <th>4</th>\n",
       "      <td>0</td>\n",
       "      <td>14</td>\n",
       "      <td>2015</td>\n",
       "      <td>27</td>\n",
       "      <td>1</td>\n",
       "      <td>2</td>\n",
       "      <td>0</td>\n",
       "      <td>2</td>\n",
       "      <td>2</td>\n",
       "      <td>0</td>\n",
       "      <td>0</td>\n",
       "      <td>2</td>\n",
       "      <td>0</td>\n",
       "      <td>0</td>\n",
       "      <td>0</td>\n",
       "      <td>0</td>\n",
       "      <td>0</td>\n",
       "      <td>98.0</td>\n",
       "      <td>0</td>\n",
       "      <td>1</td>\n",
       "      <td>3</td>\n",
       "      <td>7</td>\n",
       "      <td>2015</td>\n",
       "    </tr>\n",
       "  </tbody>\n",
       "</table>\n",
       "</div>"
      ],
      "text/plain": [
       "   is_canceled  lead_time  arrival_date_year  arrival_date_week_number  \\\n",
       "0            1        342               2015                        27   \n",
       "1            1        737               2015                        27   \n",
       "2            0          7               2015                        27   \n",
       "3            0         13               2015                        27   \n",
       "4            0         14               2015                        27   \n",
       "\n",
       "   arrival_date_day_of_month  total_nights  stays_in_weekend_nights  \\\n",
       "0                          1             0                        0   \n",
       "1                          1             0                        0   \n",
       "2                          1             1                        0   \n",
       "3                          1             1                        0   \n",
       "4                          1             2                        0   \n",
       "\n",
       "   stays_in_week_nights  adults  children  babies  total_guests  \\\n",
       "0                     0       2         0       0             2   \n",
       "1                     0       2         0       0             2   \n",
       "2                     1       1         0       0             1   \n",
       "3                     1       1         0       0             1   \n",
       "4                     2       2         0       0             2   \n",
       "\n",
       "   is_repeated_guest  previous_cancellations  previous_bookings_not_canceled  \\\n",
       "0                  0                       0                               0   \n",
       "1                  0                       0                               0   \n",
       "2                  0                       0                               0   \n",
       "3                  0                       0                               0   \n",
       "4                  0                       0                               0   \n",
       "\n",
       "   booking_changes  days_in_waiting_list   adr  required_car_parking_spaces  \\\n",
       "0                3                     0   0.0                            0   \n",
       "1                4                     0   0.0                            0   \n",
       "2                0                     0  75.0                            0   \n",
       "3                0                     0  75.0                            0   \n",
       "4                0                     0  98.0                            0   \n",
       "\n",
       "   total_of_special_requests  reservation_status_day  \\\n",
       "0                          0                       1   \n",
       "1                          0                       1   \n",
       "2                          0                       2   \n",
       "3                          0                       2   \n",
       "4                          1                       3   \n",
       "\n",
       "   reservation_status_month  reservation_status_year  \n",
       "0                         7                     2015  \n",
       "1                         7                     2015  \n",
       "2                         7                     2015  \n",
       "3                         7                     2015  \n",
       "4                         7                     2015  "
      ]
     },
     "execution_count": 30,
     "metadata": {},
     "output_type": "execute_result"
    }
   ],
   "source": [
    "# Display the first few rows in the 'num_data' DataFrame.\n",
    "num_data.head()"
   ]
  },
  {
   "cell_type": "code",
   "execution_count": 31,
   "id": "26281d5e",
   "metadata": {},
   "outputs": [
    {
     "data": {
      "text/plain": [
       "0"
      ]
     },
     "execution_count": 31,
     "metadata": {},
     "output_type": "execute_result"
    }
   ],
   "source": [
    "# Calculate the total count of missing values in the 'num_data' DataFrame.\n",
    "num_data.isnull().sum().sum()"
   ]
  },
  {
   "cell_type": "code",
   "execution_count": 32,
   "id": "d08ba8b8",
   "metadata": {},
   "outputs": [
    {
     "data": {
      "text/html": [
       "<div>\n",
       "<style scoped>\n",
       "    .dataframe tbody tr th:only-of-type {\n",
       "        vertical-align: middle;\n",
       "    }\n",
       "\n",
       "    .dataframe tbody tr th {\n",
       "        vertical-align: top;\n",
       "    }\n",
       "\n",
       "    .dataframe thead th {\n",
       "        text-align: right;\n",
       "    }\n",
       "</style>\n",
       "<table border=\"1\" class=\"dataframe\">\n",
       "  <thead>\n",
       "    <tr style=\"text-align: right;\">\n",
       "      <th></th>\n",
       "      <th>count</th>\n",
       "      <th>mean</th>\n",
       "      <th>std</th>\n",
       "      <th>min</th>\n",
       "      <th>25%</th>\n",
       "      <th>50%</th>\n",
       "      <th>75%</th>\n",
       "      <th>max</th>\n",
       "    </tr>\n",
       "  </thead>\n",
       "  <tbody>\n",
       "    <tr>\n",
       "      <th>is_canceled</th>\n",
       "      <td>119210.0</td>\n",
       "      <td>0.376026</td>\n",
       "      <td>0.484389</td>\n",
       "      <td>0.00</td>\n",
       "      <td>0.0</td>\n",
       "      <td>0.0</td>\n",
       "      <td>1.0</td>\n",
       "      <td>1.0</td>\n",
       "    </tr>\n",
       "    <tr>\n",
       "      <th>lead_time</th>\n",
       "      <td>119210.0</td>\n",
       "      <td>104.109227</td>\n",
       "      <td>106.875450</td>\n",
       "      <td>0.00</td>\n",
       "      <td>18.0</td>\n",
       "      <td>69.0</td>\n",
       "      <td>161.0</td>\n",
       "      <td>737.0</td>\n",
       "    </tr>\n",
       "    <tr>\n",
       "      <th>arrival_date_year</th>\n",
       "      <td>119210.0</td>\n",
       "      <td>2016.156472</td>\n",
       "      <td>0.707485</td>\n",
       "      <td>2015.00</td>\n",
       "      <td>2016.0</td>\n",
       "      <td>2016.0</td>\n",
       "      <td>2017.0</td>\n",
       "      <td>2017.0</td>\n",
       "    </tr>\n",
       "    <tr>\n",
       "      <th>arrival_date_week_number</th>\n",
       "      <td>119210.0</td>\n",
       "      <td>27.163376</td>\n",
       "      <td>13.601107</td>\n",
       "      <td>1.00</td>\n",
       "      <td>16.0</td>\n",
       "      <td>28.0</td>\n",
       "      <td>38.0</td>\n",
       "      <td>53.0</td>\n",
       "    </tr>\n",
       "    <tr>\n",
       "      <th>arrival_date_day_of_month</th>\n",
       "      <td>119210.0</td>\n",
       "      <td>15.798717</td>\n",
       "      <td>8.781070</td>\n",
       "      <td>1.00</td>\n",
       "      <td>8.0</td>\n",
       "      <td>16.0</td>\n",
       "      <td>23.0</td>\n",
       "      <td>31.0</td>\n",
       "    </tr>\n",
       "    <tr>\n",
       "      <th>total_nights</th>\n",
       "      <td>119210.0</td>\n",
       "      <td>2.133009</td>\n",
       "      <td>2.603408</td>\n",
       "      <td>0.00</td>\n",
       "      <td>0.0</td>\n",
       "      <td>1.0</td>\n",
       "      <td>3.0</td>\n",
       "      <td>69.0</td>\n",
       "    </tr>\n",
       "    <tr>\n",
       "      <th>stays_in_weekend_nights</th>\n",
       "      <td>119210.0</td>\n",
       "      <td>0.927053</td>\n",
       "      <td>0.995117</td>\n",
       "      <td>0.00</td>\n",
       "      <td>0.0</td>\n",
       "      <td>1.0</td>\n",
       "      <td>2.0</td>\n",
       "      <td>19.0</td>\n",
       "    </tr>\n",
       "    <tr>\n",
       "      <th>stays_in_week_nights</th>\n",
       "      <td>119210.0</td>\n",
       "      <td>2.499195</td>\n",
       "      <td>1.897106</td>\n",
       "      <td>0.00</td>\n",
       "      <td>1.0</td>\n",
       "      <td>2.0</td>\n",
       "      <td>3.0</td>\n",
       "      <td>50.0</td>\n",
       "    </tr>\n",
       "    <tr>\n",
       "      <th>adults</th>\n",
       "      <td>119210.0</td>\n",
       "      <td>1.859206</td>\n",
       "      <td>0.575186</td>\n",
       "      <td>0.00</td>\n",
       "      <td>2.0</td>\n",
       "      <td>2.0</td>\n",
       "      <td>2.0</td>\n",
       "      <td>55.0</td>\n",
       "    </tr>\n",
       "    <tr>\n",
       "      <th>children</th>\n",
       "      <td>119210.0</td>\n",
       "      <td>0.104043</td>\n",
       "      <td>0.398836</td>\n",
       "      <td>0.00</td>\n",
       "      <td>0.0</td>\n",
       "      <td>0.0</td>\n",
       "      <td>0.0</td>\n",
       "      <td>10.0</td>\n",
       "    </tr>\n",
       "    <tr>\n",
       "      <th>babies</th>\n",
       "      <td>119210.0</td>\n",
       "      <td>0.007961</td>\n",
       "      <td>0.097509</td>\n",
       "      <td>0.00</td>\n",
       "      <td>0.0</td>\n",
       "      <td>0.0</td>\n",
       "      <td>0.0</td>\n",
       "      <td>10.0</td>\n",
       "    </tr>\n",
       "    <tr>\n",
       "      <th>total_guests</th>\n",
       "      <td>119210.0</td>\n",
       "      <td>1.971210</td>\n",
       "      <td>0.718876</td>\n",
       "      <td>1.00</td>\n",
       "      <td>2.0</td>\n",
       "      <td>2.0</td>\n",
       "      <td>2.0</td>\n",
       "      <td>55.0</td>\n",
       "    </tr>\n",
       "    <tr>\n",
       "      <th>is_repeated_guest</th>\n",
       "      <td>119210.0</td>\n",
       "      <td>0.031499</td>\n",
       "      <td>0.174663</td>\n",
       "      <td>0.00</td>\n",
       "      <td>0.0</td>\n",
       "      <td>0.0</td>\n",
       "      <td>0.0</td>\n",
       "      <td>1.0</td>\n",
       "    </tr>\n",
       "    <tr>\n",
       "      <th>previous_cancellations</th>\n",
       "      <td>119210.0</td>\n",
       "      <td>0.087191</td>\n",
       "      <td>0.844918</td>\n",
       "      <td>0.00</td>\n",
       "      <td>0.0</td>\n",
       "      <td>0.0</td>\n",
       "      <td>0.0</td>\n",
       "      <td>26.0</td>\n",
       "    </tr>\n",
       "    <tr>\n",
       "      <th>previous_bookings_not_canceled</th>\n",
       "      <td>119210.0</td>\n",
       "      <td>0.137094</td>\n",
       "      <td>1.498137</td>\n",
       "      <td>0.00</td>\n",
       "      <td>0.0</td>\n",
       "      <td>0.0</td>\n",
       "      <td>0.0</td>\n",
       "      <td>72.0</td>\n",
       "    </tr>\n",
       "    <tr>\n",
       "      <th>booking_changes</th>\n",
       "      <td>119210.0</td>\n",
       "      <td>0.218799</td>\n",
       "      <td>0.638504</td>\n",
       "      <td>0.00</td>\n",
       "      <td>0.0</td>\n",
       "      <td>0.0</td>\n",
       "      <td>0.0</td>\n",
       "      <td>18.0</td>\n",
       "    </tr>\n",
       "    <tr>\n",
       "      <th>days_in_waiting_list</th>\n",
       "      <td>119210.0</td>\n",
       "      <td>2.321215</td>\n",
       "      <td>17.598002</td>\n",
       "      <td>0.00</td>\n",
       "      <td>0.0</td>\n",
       "      <td>0.0</td>\n",
       "      <td>0.0</td>\n",
       "      <td>391.0</td>\n",
       "    </tr>\n",
       "    <tr>\n",
       "      <th>adr</th>\n",
       "      <td>119210.0</td>\n",
       "      <td>102.844886</td>\n",
       "      <td>49.653160</td>\n",
       "      <td>-6.38</td>\n",
       "      <td>70.0</td>\n",
       "      <td>95.0</td>\n",
       "      <td>126.0</td>\n",
       "      <td>5400.0</td>\n",
       "    </tr>\n",
       "    <tr>\n",
       "      <th>required_car_parking_spaces</th>\n",
       "      <td>119210.0</td>\n",
       "      <td>0.062553</td>\n",
       "      <td>0.245360</td>\n",
       "      <td>0.00</td>\n",
       "      <td>0.0</td>\n",
       "      <td>0.0</td>\n",
       "      <td>0.0</td>\n",
       "      <td>8.0</td>\n",
       "    </tr>\n",
       "    <tr>\n",
       "      <th>total_of_special_requests</th>\n",
       "      <td>119210.0</td>\n",
       "      <td>0.571504</td>\n",
       "      <td>0.792876</td>\n",
       "      <td>0.00</td>\n",
       "      <td>0.0</td>\n",
       "      <td>0.0</td>\n",
       "      <td>1.0</td>\n",
       "      <td>5.0</td>\n",
       "    </tr>\n",
       "    <tr>\n",
       "      <th>reservation_status_day</th>\n",
       "      <td>119210.0</td>\n",
       "      <td>15.666278</td>\n",
       "      <td>8.778871</td>\n",
       "      <td>1.00</td>\n",
       "      <td>8.0</td>\n",
       "      <td>16.0</td>\n",
       "      <td>23.0</td>\n",
       "      <td>31.0</td>\n",
       "    </tr>\n",
       "    <tr>\n",
       "      <th>reservation_status_month</th>\n",
       "      <td>119210.0</td>\n",
       "      <td>6.333630</td>\n",
       "      <td>3.345818</td>\n",
       "      <td>1.00</td>\n",
       "      <td>3.0</td>\n",
       "      <td>6.0</td>\n",
       "      <td>9.0</td>\n",
       "      <td>12.0</td>\n",
       "    </tr>\n",
       "    <tr>\n",
       "      <th>reservation_status_year</th>\n",
       "      <td>119210.0</td>\n",
       "      <td>2016.093549</td>\n",
       "      <td>0.715306</td>\n",
       "      <td>2014.00</td>\n",
       "      <td>2016.0</td>\n",
       "      <td>2016.0</td>\n",
       "      <td>2017.0</td>\n",
       "      <td>2017.0</td>\n",
       "    </tr>\n",
       "  </tbody>\n",
       "</table>\n",
       "</div>"
      ],
      "text/plain": [
       "                                   count         mean         std      min  \\\n",
       "is_canceled                     119210.0     0.376026    0.484389     0.00   \n",
       "lead_time                       119210.0   104.109227  106.875450     0.00   \n",
       "arrival_date_year               119210.0  2016.156472    0.707485  2015.00   \n",
       "arrival_date_week_number        119210.0    27.163376   13.601107     1.00   \n",
       "arrival_date_day_of_month       119210.0    15.798717    8.781070     1.00   \n",
       "total_nights                    119210.0     2.133009    2.603408     0.00   \n",
       "stays_in_weekend_nights         119210.0     0.927053    0.995117     0.00   \n",
       "stays_in_week_nights            119210.0     2.499195    1.897106     0.00   \n",
       "adults                          119210.0     1.859206    0.575186     0.00   \n",
       "children                        119210.0     0.104043    0.398836     0.00   \n",
       "babies                          119210.0     0.007961    0.097509     0.00   \n",
       "total_guests                    119210.0     1.971210    0.718876     1.00   \n",
       "is_repeated_guest               119210.0     0.031499    0.174663     0.00   \n",
       "previous_cancellations          119210.0     0.087191    0.844918     0.00   \n",
       "previous_bookings_not_canceled  119210.0     0.137094    1.498137     0.00   \n",
       "booking_changes                 119210.0     0.218799    0.638504     0.00   \n",
       "days_in_waiting_list            119210.0     2.321215   17.598002     0.00   \n",
       "adr                             119210.0   102.844886   49.653160    -6.38   \n",
       "required_car_parking_spaces     119210.0     0.062553    0.245360     0.00   \n",
       "total_of_special_requests       119210.0     0.571504    0.792876     0.00   \n",
       "reservation_status_day          119210.0    15.666278    8.778871     1.00   \n",
       "reservation_status_month        119210.0     6.333630    3.345818     1.00   \n",
       "reservation_status_year         119210.0  2016.093549    0.715306  2014.00   \n",
       "\n",
       "                                   25%     50%     75%     max  \n",
       "is_canceled                        0.0     0.0     1.0     1.0  \n",
       "lead_time                         18.0    69.0   161.0   737.0  \n",
       "arrival_date_year               2016.0  2016.0  2017.0  2017.0  \n",
       "arrival_date_week_number          16.0    28.0    38.0    53.0  \n",
       "arrival_date_day_of_month          8.0    16.0    23.0    31.0  \n",
       "total_nights                       0.0     1.0     3.0    69.0  \n",
       "stays_in_weekend_nights            0.0     1.0     2.0    19.0  \n",
       "stays_in_week_nights               1.0     2.0     3.0    50.0  \n",
       "adults                             2.0     2.0     2.0    55.0  \n",
       "children                           0.0     0.0     0.0    10.0  \n",
       "babies                             0.0     0.0     0.0    10.0  \n",
       "total_guests                       2.0     2.0     2.0    55.0  \n",
       "is_repeated_guest                  0.0     0.0     0.0     1.0  \n",
       "previous_cancellations             0.0     0.0     0.0    26.0  \n",
       "previous_bookings_not_canceled     0.0     0.0     0.0    72.0  \n",
       "booking_changes                    0.0     0.0     0.0    18.0  \n",
       "days_in_waiting_list               0.0     0.0     0.0   391.0  \n",
       "adr                               70.0    95.0   126.0  5400.0  \n",
       "required_car_parking_spaces        0.0     0.0     0.0     8.0  \n",
       "total_of_special_requests          0.0     0.0     1.0     5.0  \n",
       "reservation_status_day             8.0    16.0    23.0    31.0  \n",
       "reservation_status_month           3.0     6.0     9.0    12.0  \n",
       "reservation_status_year         2016.0  2016.0  2017.0  2017.0  "
      ]
     },
     "execution_count": 32,
     "metadata": {},
     "output_type": "execute_result"
    }
   ],
   "source": [
    "# Generate summary statistics\n",
    "num_data.describe().T"
   ]
  },
  {
   "cell_type": "markdown",
   "id": "53daa5c5",
   "metadata": {},
   "source": [
    "**ADR**"
   ]
  },
  {
   "cell_type": "code",
   "execution_count": 33,
   "id": "a1b1808d",
   "metadata": {},
   "outputs": [
    {
     "data": {
      "text/plain": [
       "14962   -6.38\n",
       "Name: adr, dtype: float64"
      ]
     },
     "execution_count": 33,
     "metadata": {},
     "output_type": "execute_result"
    }
   ],
   "source": [
    "# Display rows in 'num_data' where the 'adr' is negative.\n",
    "num_data['adr'][num_data['adr'] < 0]"
   ]
  },
  {
   "cell_type": "code",
   "execution_count": 34,
   "id": "8ef6beda",
   "metadata": {},
   "outputs": [],
   "source": [
    "def hist_and_box_plots(col):\n",
    "    \"\"\"\n",
    "    Function to create histogram and box plot subplots for a numerical column.\n",
    "    It also displays summary statistics of the column and returns them.\n",
    "    \n",
    "    Parameters:\n",
    "        col (str): The name of the numerical column for visualization and analysis.\n",
    "    \n",
    "    Returns:\n",
    "        pandas.Series: Summary statistics of the specified column.\n",
    "    \"\"\"\n",
    "    # Create a figure with two subplots\n",
    "    plt.figure(figsize=(12, 5))\n",
    "    \n",
    "    # Create the first subplot (Histogram)\n",
    "    plt.subplot(1, 2, 1)  # 1 row, 2 columns, 1st subplot\n",
    "    sns.histplot(data=num_data, x=col, bins=100)\n",
    "    plt.title('Histogram of ' + col)\n",
    "    \n",
    "    # Create the second subplot (Box Plot)\n",
    "    plt.subplot(1, 2, 2)  # 1 row, 2 columns, 2nd subplot\n",
    "    sns.boxplot(data=num_data, x=col)\n",
    "    plt.title('Box Plot of ' + col)\n",
    "    \n",
    "    # Adjust layout for better spacing between subplots\n",
    "    plt.tight_layout()\n",
    "    \n",
    "    # Show the plots\n",
    "    plt.show()\n",
    "    \n",
    "    # Return summary statistics of the column\n",
    "    return num_data[col].describe().T"
   ]
  },
  {
   "cell_type": "code",
   "execution_count": 35,
   "id": "843dc6cd",
   "metadata": {},
   "outputs": [
    {
     "data": {
      "image/png": "[encoded data removed]",
      "text/plain": [
       "<Figure size 1200x500 with 2 Axes>"
      ]
     },
     "metadata": {},
     "output_type": "display_data"
    },
    {
     "data": {
      "text/plain": [
       "count    119210.000000\n",
       "mean        102.844886\n",
       "std          49.653160\n",
       "min          -6.380000\n",
       "25%          70.000000\n",
       "50%          95.000000\n",
       "75%         126.000000\n",
       "max        5400.000000\n",
       "Name: adr, dtype: float64"
      ]
     },
     "execution_count": 35,
     "metadata": {},
     "output_type": "execute_result"
    }
   ],
   "source": [
    "# Call the 'hist_and_box_plots' function to visualize and analyze the 'adr' column.\n",
    "hist_and_box_plots('adr')"
   ]
  },
  {
   "cell_type": "markdown",
   "id": "6446d767",
   "metadata": {},
   "source": [
    "On one hand, we have identified a single row with a negative 'adr' (Average Daily Rate). On the other hand, there is also an extreme outlier present. Since these outliers represent just two rows in the dataset, we have decided to remove them for data integrity and analysis."
   ]
  },
  {
   "cell_type": "code",
   "execution_count": 36,
   "id": "12344d05",
   "metadata": {},
   "outputs": [
    {
     "name": "stdout",
     "output_type": "stream",
     "text": [
      "Updated shape of num_data: (119208, 23)\n",
      "Updated shape of cat_data: (119208, 12)\n"
     ]
    }
   ],
   "source": [
    "# Identify and store the row indices in 'num_data' where the 'adr' (Average Daily Rate) is either less than 0 or greater than 1000.\n",
    "rows_to_drop = num_data[(num_data['adr'] < 0) | (num_data['adr'] > 1000)].index\n",
    "\n",
    "# Drop the identified rows from the 'num_data' DataFrame.\n",
    "num_data = num_data.drop(rows_to_drop)\n",
    "\n",
    "# Drop the corresponding rows from the 'cat_data' DataFrame to maintain data consistency.\n",
    "cat_data = cat_data.drop(rows_to_drop)\n",
    "\n",
    "# Print the updated shapes of 'num_data' and 'cat_data' to reflect the changes.\n",
    "print(\"Updated shape of num_data:\", num_data.shape)\n",
    "print(\"Updated shape of cat_data:\", cat_data.shape)"
   ]
  },
  {
   "cell_type": "code",
   "execution_count": 37,
   "id": "e243c2af",
   "metadata": {},
   "outputs": [
    {
     "data": {
      "image/png": "[encoded data removed]",
      "text/plain": [
       "<Figure size 1200x500 with 2 Axes>"
      ]
     },
     "metadata": {},
     "output_type": "display_data"
    },
    {
     "data": {
      "text/plain": [
       "count    119208.000000\n",
       "mean        102.801366\n",
       "std          47.222750\n",
       "min           0.000000\n",
       "25%          70.000000\n",
       "50%          95.000000\n",
       "75%         126.000000\n",
       "max         510.000000\n",
       "Name: adr, dtype: float64"
      ]
     },
     "execution_count": 37,
     "metadata": {},
     "output_type": "execute_result"
    }
   ],
   "source": [
    "# Re-call the 'hist_and_box_plots' function after removing outliers.\n",
    "hist_and_box_plots('adr')"
   ]
  },
  {
   "cell_type": "markdown",
   "id": "9668d814",
   "metadata": {},
   "source": [
    "As these plots still show a highly positively skewed data distribution, we will reduce the impact of extreme values and make the data more normally distributed by using the **IQR (Interquartile Range) Method**:\n",
    "\n",
    "    - Replace values outside a certain range defined by the IQR (Q3 - Q1) with the nearest boundary value (Q1 - 1.5 * IQR or Q3 + 1.5 * IQR)."
   ]
  },
  {
   "cell_type": "code",
   "execution_count": 38,
   "id": "ac31403c",
   "metadata": {},
   "outputs": [],
   "source": [
    "def handle_outliers_iqr(column, multiplier=1.5):\n",
    "    \"\"\"\n",
    "    Function to handle outliers in a numerical column using the Interquartile Range (IQR) method.\n",
    "\n",
    "    Parameters:\n",
    "        column (str): The name of the numerical column to process for outliers.\n",
    "        multiplier (float, optional): Multiplier for defining the outlier bounds. Default is 1.5.\n",
    "\n",
    "    Returns:\n",
    "        pandas.Series: The cleaned column data after outlier treatment.\n",
    "    \"\"\"\n",
    "    # Calculate the first quartile (25th percentile) and the third quartile (75th percentile)\n",
    "    # of the data in the specified column\n",
    "    Q1 = num_data[column].quantile(0.25)\n",
    "    Q3 = num_data[column].quantile(0.75)\n",
    "    \n",
    "    # Calculate the interquartile range (IQR) of the data\n",
    "    IQR = Q3 - Q1\n",
    "    \n",
    "    # Calculate the lower and upper bound for outlier detection using the IQR and multiplier\n",
    "    lower_bound = Q1 - multiplier * IQR\n",
    "    upper_bound = Q3 + multiplier * IQR\n",
    "    \n",
    "    # Replace values in the column that are below the lower bound with the lower bound\n",
    "    num_data[column] = np.where(num_data[column] < lower_bound, lower_bound, num_data[column])\n",
    "    \n",
    "    # Replace values in the column that are above the upper bound with the upper bound\n",
    "    num_data[column] = np.where(num_data[column] > upper_bound, upper_bound, num_data[column])\n",
    "    \n",
    "    # Call the function to create histograms and box plots of the cleaned data\n",
    "    hist_and_box_plots(column)\n",
    "    \n",
    "    return num_data[column].describe().T\n"
   ]
  },
  {
   "cell_type": "code",
   "execution_count": 39,
   "id": "986e23d4",
   "metadata": {},
   "outputs": [
    {
     "data": {
      "image/png": "[encoded data removed]",
      "text/plain": [
       "<Figure size 1200x500 with 2 Axes>"
      ]
     },
     "metadata": {},
     "output_type": "display_data"
    },
    {
     "data": {
      "text/plain": [
       "count    119208.000000\n",
       "mean        101.636699\n",
       "std          43.617779\n",
       "min           0.000000\n",
       "25%          70.000000\n",
       "50%          95.000000\n",
       "75%         126.000000\n",
       "max         210.000000\n",
       "Name: adr, dtype: float64"
      ]
     },
     "execution_count": 39,
     "metadata": {},
     "output_type": "execute_result"
    }
   ],
   "source": [
    "# Call the 'handle_outliers_iqr' function to handle outliers using the IQR method.\n",
    "handle_outliers_iqr('adr')"
   ]
  },
  {
   "cell_type": "markdown",
   "id": "0a0fcaac",
   "metadata": {},
   "source": [
    "**Lead Time**"
   ]
  },
  {
   "cell_type": "code",
   "execution_count": 40,
   "id": "a6465915",
   "metadata": {},
   "outputs": [
    {
     "data": {
      "image/png": "[encoded data removed]",
      "text/plain": [
       "<Figure size 1200x500 with 2 Axes>"
      ]
     },
     "metadata": {},
     "output_type": "display_data"
    },
    {
     "data": {
      "text/plain": [
       "count    119208.000000\n",
       "mean        104.109045\n",
       "std         106.875835\n",
       "min           0.000000\n",
       "25%          18.000000\n",
       "50%          69.000000\n",
       "75%         161.000000\n",
       "max         737.000000\n",
       "Name: lead_time, dtype: float64"
      ]
     },
     "execution_count": 40,
     "metadata": {},
     "output_type": "execute_result"
    }
   ],
   "source": [
    "# Call the 'hist_and_box_plots' function to visualize and analyze the 'lead_time' column.\n",
    "hist_and_box_plots('lead_time')"
   ]
  },
  {
   "cell_type": "markdown",
   "id": "b695f9c1",
   "metadata": {},
   "source": [
    "These plots also exhibit a highly positive skewness and the presence of high outliers."
   ]
  },
  {
   "cell_type": "code",
   "execution_count": 41,
   "id": "5eb00b4e",
   "metadata": {},
   "outputs": [
    {
     "data": {
      "image/png": "[encoded data removed]",
      "text/plain": [
       "<Figure size 1200x500 with 2 Axes>"
      ]
     },
     "metadata": {},
     "output_type": "display_data"
    },
    {
     "data": {
      "text/plain": [
       "count    119208.000000\n",
       "mean        102.387302\n",
       "std         101.335101\n",
       "min           0.000000\n",
       "25%          18.000000\n",
       "50%          69.000000\n",
       "75%         161.000000\n",
       "max         375.500000\n",
       "Name: lead_time, dtype: float64"
      ]
     },
     "execution_count": 41,
     "metadata": {},
     "output_type": "execute_result"
    }
   ],
   "source": [
    "# Call the 'handle_outliers_iqr' function to handle outliers\n",
    "handle_outliers_iqr('lead_time')"
   ]
  },
  {
   "cell_type": "markdown",
   "id": "592940de",
   "metadata": {},
   "source": [
    "**Total Guests**"
   ]
  },
  {
   "cell_type": "code",
   "execution_count": 42,
   "id": "809261f8",
   "metadata": {},
   "outputs": [
    {
     "data": {
      "image/png": "[encoded data removed]",
      "text/plain": [
       "<Figure size 1200x500 with 2 Axes>"
      ]
     },
     "metadata": {},
     "output_type": "display_data"
    },
    {
     "data": {
      "text/plain": [
       "count    119208.000000\n",
       "mean          1.971210\n",
       "std           0.718882\n",
       "min           1.000000\n",
       "25%           2.000000\n",
       "50%           2.000000\n",
       "75%           2.000000\n",
       "max          55.000000\n",
       "Name: total_guests, dtype: float64"
      ]
     },
     "execution_count": 42,
     "metadata": {},
     "output_type": "execute_result"
    }
   ],
   "source": [
    "# Re-call the 'hist_and_box_plots' function to visualize and analyze the 'total_guests' column.\n",
    "hist_and_box_plots('total_guests')"
   ]
  },
  {
   "cell_type": "code",
   "execution_count": 43,
   "id": "68ffce3f",
   "metadata": {},
   "outputs": [
    {
     "data": {
      "text/plain": [
       "1     22581\n",
       "2     82049\n",
       "3     10495\n",
       "4      3929\n",
       "5       137\n",
       "6         1\n",
       "10        2\n",
       "12        2\n",
       "20        2\n",
       "26        5\n",
       "27        2\n",
       "40        1\n",
       "50        1\n",
       "55        1\n",
       "Name: total_guests, dtype: int64"
      ]
     },
     "execution_count": 43,
     "metadata": {},
     "output_type": "execute_result"
    }
   ],
   "source": [
    "# Count and sort the unique values in the 'total_guests' column in ascending order.\n",
    "num_data['total_guests'].value_counts().sort_index(ascending=True)"
   ]
  },
  {
   "cell_type": "code",
   "execution_count": 44,
   "id": "698e8cc7",
   "metadata": {},
   "outputs": [
    {
     "data": {
      "text/plain": [
       "17"
      ]
     },
     "execution_count": 44,
     "metadata": {},
     "output_type": "execute_result"
    }
   ],
   "source": [
    "# Calculate the number of rows where the 'total_guests' column contains values greater than 5.\n",
    "len(num_data[num_data['total_guests'] > 5])"
   ]
  },
  {
   "cell_type": "markdown",
   "id": "9a978ced",
   "metadata": {},
   "source": [
    "Out of a total of 119,208 entries, just 17 records accommodate more than 5 guests in the 'total_guests' column. In fact, the majority of counts correspond to bookings for 1 or 2 guests. To streamline our analysis, we will categorize them into **'Single,' 'Double,' and 'Triple or more guests' bins**."
   ]
  },
  {
   "cell_type": "code",
   "execution_count": 45,
   "id": "4836102c",
   "metadata": {},
   "outputs": [
    {
     "data": {
      "text/html": [
       "<div>\n",
       "<style scoped>\n",
       "    .dataframe tbody tr th:only-of-type {\n",
       "        vertical-align: middle;\n",
       "    }\n",
       "\n",
       "    .dataframe tbody tr th {\n",
       "        vertical-align: top;\n",
       "    }\n",
       "\n",
       "    .dataframe thead th {\n",
       "        text-align: right;\n",
       "    }\n",
       "</style>\n",
       "<table border=\"1\" class=\"dataframe\">\n",
       "  <thead>\n",
       "    <tr style=\"text-align: right;\">\n",
       "      <th></th>\n",
       "      <th>total_guests</th>\n",
       "      <th>guest_quant</th>\n",
       "    </tr>\n",
       "  </thead>\n",
       "  <tbody>\n",
       "    <tr>\n",
       "      <th>0</th>\n",
       "      <td>2</td>\n",
       "      <td>Double</td>\n",
       "    </tr>\n",
       "    <tr>\n",
       "      <th>1</th>\n",
       "      <td>2</td>\n",
       "      <td>Double</td>\n",
       "    </tr>\n",
       "    <tr>\n",
       "      <th>2</th>\n",
       "      <td>1</td>\n",
       "      <td>Single</td>\n",
       "    </tr>\n",
       "    <tr>\n",
       "      <th>3</th>\n",
       "      <td>1</td>\n",
       "      <td>Single</td>\n",
       "    </tr>\n",
       "    <tr>\n",
       "      <th>4</th>\n",
       "      <td>2</td>\n",
       "      <td>Double</td>\n",
       "    </tr>\n",
       "  </tbody>\n",
       "</table>\n",
       "</div>"
      ],
      "text/plain": [
       "   total_guests guest_quant\n",
       "0             2      Double\n",
       "1             2      Double\n",
       "2             1      Single\n",
       "3             1      Single\n",
       "4             2      Double"
      ]
     },
     "execution_count": 45,
     "metadata": {},
     "output_type": "execute_result"
    }
   ],
   "source": [
    "# Define the bin edges and labels\n",
    "bin_edges = [1, 2, 3, float('inf')]\n",
    "bin_labels = ['Single', 'Double', 'Triple or more guests']\n",
    "\n",
    "# Categorize the 'total_guests' column using pd.cut()\n",
    "num_data['guest_quant'] = pd.cut(num_data['total_guests'], bins=bin_edges, labels=bin_labels, right=False)\n",
    "\n",
    "# Display the 'total_guests' and categorized 'guest_quant' columns.\n",
    "num_data[['total_guests', 'guest_quant']].head()"
   ]
  },
  {
   "cell_type": "code",
   "execution_count": 46,
   "id": "f1693202",
   "metadata": {},
   "outputs": [
    {
     "data": {
      "text/plain": [
       "Double                   82049\n",
       "Single                   22581\n",
       "Triple or more guests    14578\n",
       "Name: guest_quant, dtype: int64"
      ]
     },
     "execution_count": 46,
     "metadata": {},
     "output_type": "execute_result"
    }
   ],
   "source": [
    "# Count the occurrences of each category in the 'guest_quant' column.\n",
    "num_data['guest_quant'].value_counts()"
   ]
  },
  {
   "cell_type": "code",
   "execution_count": 47,
   "id": "965be634",
   "metadata": {},
   "outputs": [],
   "source": [
    "# Drop the 'total_guests' column\n",
    "num_data = num_data.drop('total_guests', axis=1)"
   ]
  },
  {
   "cell_type": "markdown",
   "id": "b57c18b6",
   "metadata": {},
   "source": [
    "**Days in waiting list**"
   ]
  },
  {
   "cell_type": "code",
   "execution_count": 48,
   "id": "cb1c8315",
   "metadata": {},
   "outputs": [
    {
     "data": {
      "text/plain": [
       "0      115515\n",
       "1          12\n",
       "2           5\n",
       "3          59\n",
       "4          25\n",
       "        ...  \n",
       "236        35\n",
       "259        10\n",
       "330        15\n",
       "379        15\n",
       "391        45\n",
       "Name: days_in_waiting_list, Length: 127, dtype: int64"
      ]
     },
     "execution_count": 48,
     "metadata": {},
     "output_type": "execute_result"
    }
   ],
   "source": [
    "# Count and sort the unique values in the 'days_in_waiting_list' column in ascending order.\n",
    "num_data['days_in_waiting_list'].value_counts().sort_index(ascending=True)"
   ]
  },
  {
   "cell_type": "code",
   "execution_count": 49,
   "id": "d8d909cf",
   "metadata": {},
   "outputs": [
    {
     "data": {
      "image/png": "[encoded data removed]",
      "text/plain": [
       "<Figure size 1200x500 with 2 Axes>"
      ]
     },
     "metadata": {},
     "output_type": "display_data"
    },
    {
     "data": {
      "text/plain": [
       "count    119208.000000\n",
       "mean          2.321254\n",
       "std          17.598147\n",
       "min           0.000000\n",
       "25%           0.000000\n",
       "50%           0.000000\n",
       "75%           0.000000\n",
       "max         391.000000\n",
       "Name: days_in_waiting_list, dtype: float64"
      ]
     },
     "execution_count": 49,
     "metadata": {},
     "output_type": "execute_result"
    }
   ],
   "source": [
    "# Re-call the 'hist_and_box_plots' function to visualize and analyze the 'days_in_waiting_list' column.\n",
    "hist_and_box_plots('days_in_waiting_list')"
   ]
  },
  {
   "cell_type": "code",
   "execution_count": 50,
   "id": "91f9ffaa",
   "metadata": {},
   "outputs": [
    {
     "data": {
      "text/markdown": [
       "Count of 'no_wait_list': 115515 (96.9%)."
      ],
      "text/plain": [
       "<IPython.core.display.Markdown object>"
      ]
     },
     "metadata": {},
     "output_type": "display_data"
    },
    {
     "data": {
      "text/markdown": [
       "Count of 'wait_list': 3693 (3.1%)."
      ],
      "text/plain": [
       "<IPython.core.display.Markdown object>"
      ]
     },
     "metadata": {},
     "output_type": "display_data"
    }
   ],
   "source": [
    "# Calculate the counts and percentages of records with and without a waiting list in the 'days_in_waiting_list' column.\n",
    "no_wait_list = (num_data['days_in_waiting_list'] == 0).sum()\n",
    "no_wait_list_perc = round(no_wait_list / len(num_data['days_in_waiting_list']) * 100, 2)\n",
    "wait_list = (num_data['days_in_waiting_list'] > 0).sum()\n",
    "wait_list_perc = round(wait_list / len(num_data['days_in_waiting_list']) * 100, 2)\n",
    "\n",
    "# Display the counts and percentages for both categories.\n",
    "display(Markdown(f\"Count of 'no_wait_list': {no_wait_list} ({no_wait_list_perc}%).\"))\n",
    "display(Markdown(f\"Count of 'wait_list': {wait_list} ({wait_list_perc}%).\"))"
   ]
  },
  {
   "cell_type": "markdown",
   "id": "e751bb90",
   "metadata": {},
   "source": [
    "Since 96.9% of entries in the 'days_in_waiting_list' column have a value of 0, we have created a new column named 'included_in_waiting_list.' In this new column, all 0 values have been replaced with 'No,' while any other value is represented as 'Yes'."
   ]
  },
  {
   "cell_type": "code",
   "execution_count": 51,
   "id": "f6980a7a",
   "metadata": {},
   "outputs": [
    {
     "data": {
      "text/plain": [
       "No     115515\n",
       "Yes      3693\n",
       "Name: included_in_waiting_list, dtype: int64"
      ]
     },
     "execution_count": 51,
     "metadata": {},
     "output_type": "execute_result"
    }
   ],
   "source": [
    "# Create a new column 'included_in_waiting_list' based on the 'days_in_waiting_list' column.\n",
    "# Assign 'No' if 'days_in_waiting_list' is 0, and 'Yes' otherwise.\n",
    "num_data['included_in_waiting_list'] = num_data['days_in_waiting_list'].apply(lambda x: 'No' if x == 0 else 'Yes')\n",
    "\n",
    "# Count the occurrences of 'No' and 'Yes' in the new column.\n",
    "num_data['included_in_waiting_list'].value_counts()"
   ]
  },
  {
   "cell_type": "code",
   "execution_count": 52,
   "id": "07b3dfcb",
   "metadata": {},
   "outputs": [],
   "source": [
    "# Drop the 'days_in_waiting_list' original column\n",
    "num_data = num_data.drop('days_in_waiting_list', axis = 1)"
   ]
  },
  {
   "cell_type": "markdown",
   "id": "0a0fd492",
   "metadata": {},
   "source": [
    "##### Correlation Matrix"
   ]
  },
  {
   "cell_type": "code",
   "execution_count": 53,
   "id": "f2ba87ec",
   "metadata": {},
   "outputs": [
    {
     "data": {
      "image/png": "[encoded data removed]",
      "text/plain": [
       "<Figure size 1200x1000 with 2 Axes>"
      ]
     },
     "metadata": {},
     "output_type": "display_data"
    }
   ],
   "source": [
    "# Create a correlation heatmap to visualize relationships between numerical features\n",
    "corr = num_data.corr()\n",
    "plt.figure(figsize=(12, 10))\n",
    "sns.heatmap(corr, annot=True, cmap='coolwarm', fmt=\".2f\")\n",
    "plt.title(\"Correlation Heatmap\")\n",
    "plt.show()"
   ]
  },
  {
   "cell_type": "code",
   "execution_count": 54,
   "id": "14551d73",
   "metadata": {},
   "outputs": [
    {
     "name": "stdout",
     "output_type": "stream",
     "text": [
      "Pairs with correlation greater than or equal to 0.7:\n",
      "\n",
      "arrival_date_year - reservation_status_year: 0.93\n",
      "\n",
      "Pairs with correlation smaller than or equal to -0.7:\n",
      "\n"
     ]
    }
   ],
   "source": [
    "# Define the threshold values for positive and negative correlations\n",
    "positive_threshold = 0.7\n",
    "negative_threshold = -0.7\n",
    "\n",
    "# Create a set to keep track of already processed pairs\n",
    "processed_pairs = set()\n",
    "\n",
    "# Print pairs of features with correlations greater than or equal to 0.7\n",
    "print(\"Pairs with correlation greater than or equal to 0.7:\\n\")\n",
    "for feature1 in corr.columns:\n",
    "    for feature2 in corr.index:\n",
    "        if feature1 != feature2 and corr.loc[feature1, feature2] >= positive_threshold:\n",
    "            # Ensure that the pair is not processed before\n",
    "            if (feature1, feature2) not in processed_pairs and (feature2, feature1) not in processed_pairs:\n",
    "                processed_pairs.add((feature1, feature2))\n",
    "                print(f\"{feature1} - {feature2}: {corr.loc[feature1, feature2]:.2f}\")\n",
    "\n",
    "# Print pairs of features with correlations smaller than or equal to -0.7\n",
    "print(\"\\nPairs with correlation smaller than or equal to -0.7:\\n\")\n",
    "for feature1 in corr.columns:\n",
    "    for feature2 in corr.index:\n",
    "        if feature1 != feature2 and corr.loc[feature1, feature2] <= negative_threshold:\n",
    "            # Ensure that the pair is not processed before\n",
    "            if (feature1, feature2) not in processed_pairs and (feature2, feature1) not in processed_pairs:\n",
    "                processed_pairs.add((feature1, feature2))\n",
    "                print(f\"{feature1} - {feature2}: {corr.loc[feature1, feature2]:.2f}\")"
   ]
  },
  {
   "cell_type": "code",
   "execution_count": 55,
   "id": "ad19978f",
   "metadata": {},
   "outputs": [],
   "source": [
    "# Drop highly correlated features\n",
    "num_features = num_data.drop(['reservation_status_year','arrival_date_week_number'],axis=1)"
   ]
  },
  {
   "cell_type": "markdown",
   "id": "0cabfedd",
   "metadata": {},
   "source": [
    "#### Concatenate numerical and categorical dataframes"
   ]
  },
  {
   "cell_type": "code",
   "execution_count": 56,
   "id": "fec0e045",
   "metadata": {},
   "outputs": [
    {
     "data": {
      "text/plain": [
       "True"
      ]
     },
     "execution_count": 56,
     "metadata": {},
     "output_type": "execute_result"
    }
   ],
   "source": [
    "# Check if the lengths of 'num_data' and 'cat_data' are the same before concatenating the dataframes\n",
    "len(num_data) == len(cat_data)"
   ]
  },
  {
   "cell_type": "code",
   "execution_count": 57,
   "id": "4d4b31a8",
   "metadata": {},
   "outputs": [
    {
     "data": {
      "text/html": [
       "<div>\n",
       "<style scoped>\n",
       "    .dataframe tbody tr th:only-of-type {\n",
       "        vertical-align: middle;\n",
       "    }\n",
       "\n",
       "    .dataframe tbody tr th {\n",
       "        vertical-align: top;\n",
       "    }\n",
       "\n",
       "    .dataframe thead th {\n",
       "        text-align: right;\n",
       "    }\n",
       "</style>\n",
       "<table border=\"1\" class=\"dataframe\">\n",
       "  <thead>\n",
       "    <tr style=\"text-align: right;\">\n",
       "      <th></th>\n",
       "      <th>is_canceled</th>\n",
       "      <th>lead_time</th>\n",
       "      <th>arrival_date_year</th>\n",
       "      <th>arrival_date_week_number</th>\n",
       "      <th>arrival_date_day_of_month</th>\n",
       "      <th>total_nights</th>\n",
       "      <th>stays_in_weekend_nights</th>\n",
       "      <th>stays_in_week_nights</th>\n",
       "      <th>adults</th>\n",
       "      <th>children</th>\n",
       "      <th>babies</th>\n",
       "      <th>is_repeated_guest</th>\n",
       "      <th>previous_cancellations</th>\n",
       "      <th>previous_bookings_not_canceled</th>\n",
       "      <th>booking_changes</th>\n",
       "      <th>adr</th>\n",
       "      <th>required_car_parking_spaces</th>\n",
       "      <th>total_of_special_requests</th>\n",
       "      <th>reservation_status_day</th>\n",
       "      <th>reservation_status_month</th>\n",
       "      <th>reservation_status_year</th>\n",
       "      <th>guest_quant</th>\n",
       "      <th>included_in_waiting_list</th>\n",
       "      <th>hotel</th>\n",
       "      <th>arrival_date_month</th>\n",
       "      <th>weekend_or_weekday</th>\n",
       "      <th>meal</th>\n",
       "      <th>market_segment</th>\n",
       "      <th>distribution_channel</th>\n",
       "      <th>reserved_room_type</th>\n",
       "      <th>assigned_room_type</th>\n",
       "      <th>deposit_type</th>\n",
       "      <th>customer_type</th>\n",
       "      <th>reservation_status</th>\n",
       "      <th>country_or_continent</th>\n",
       "    </tr>\n",
       "  </thead>\n",
       "  <tbody>\n",
       "    <tr>\n",
       "      <th>0</th>\n",
       "      <td>1</td>\n",
       "      <td>342.0</td>\n",
       "      <td>2015</td>\n",
       "      <td>27</td>\n",
       "      <td>1</td>\n",
       "      <td>0</td>\n",
       "      <td>0</td>\n",
       "      <td>0</td>\n",
       "      <td>2</td>\n",
       "      <td>0</td>\n",
       "      <td>0</td>\n",
       "      <td>0</td>\n",
       "      <td>0</td>\n",
       "      <td>0</td>\n",
       "      <td>3</td>\n",
       "      <td>0.0</td>\n",
       "      <td>0</td>\n",
       "      <td>0</td>\n",
       "      <td>1</td>\n",
       "      <td>7</td>\n",
       "      <td>2015</td>\n",
       "      <td>Double</td>\n",
       "      <td>No</td>\n",
       "      <td>Resort Hotel</td>\n",
       "      <td>July</td>\n",
       "      <td>undefined_data</td>\n",
       "      <td>BB</td>\n",
       "      <td>Direct</td>\n",
       "      <td>Direct</td>\n",
       "      <td>C</td>\n",
       "      <td>C</td>\n",
       "      <td>0</td>\n",
       "      <td>Transient</td>\n",
       "      <td>Canceled</td>\n",
       "      <td>PRT</td>\n",
       "    </tr>\n",
       "    <tr>\n",
       "      <th>1</th>\n",
       "      <td>1</td>\n",
       "      <td>375.5</td>\n",
       "      <td>2015</td>\n",
       "      <td>27</td>\n",
       "      <td>1</td>\n",
       "      <td>0</td>\n",
       "      <td>0</td>\n",
       "      <td>0</td>\n",
       "      <td>2</td>\n",
       "      <td>0</td>\n",
       "      <td>0</td>\n",
       "      <td>0</td>\n",
       "      <td>0</td>\n",
       "      <td>0</td>\n",
       "      <td>4</td>\n",
       "      <td>0.0</td>\n",
       "      <td>0</td>\n",
       "      <td>0</td>\n",
       "      <td>1</td>\n",
       "      <td>7</td>\n",
       "      <td>2015</td>\n",
       "      <td>Double</td>\n",
       "      <td>No</td>\n",
       "      <td>Resort Hotel</td>\n",
       "      <td>July</td>\n",
       "      <td>undefined_data</td>\n",
       "      <td>BB</td>\n",
       "      <td>Direct</td>\n",
       "      <td>Direct</td>\n",
       "      <td>C</td>\n",
       "      <td>C</td>\n",
       "      <td>0</td>\n",
       "      <td>Transient</td>\n",
       "      <td>Canceled</td>\n",
       "      <td>PRT</td>\n",
       "    </tr>\n",
       "    <tr>\n",
       "      <th>2</th>\n",
       "      <td>0</td>\n",
       "      <td>7.0</td>\n",
       "      <td>2015</td>\n",
       "      <td>27</td>\n",
       "      <td>1</td>\n",
       "      <td>1</td>\n",
       "      <td>0</td>\n",
       "      <td>1</td>\n",
       "      <td>1</td>\n",
       "      <td>0</td>\n",
       "      <td>0</td>\n",
       "      <td>0</td>\n",
       "      <td>0</td>\n",
       "      <td>0</td>\n",
       "      <td>0</td>\n",
       "      <td>75.0</td>\n",
       "      <td>0</td>\n",
       "      <td>0</td>\n",
       "      <td>2</td>\n",
       "      <td>7</td>\n",
       "      <td>2015</td>\n",
       "      <td>Single</td>\n",
       "      <td>No</td>\n",
       "      <td>Resort Hotel</td>\n",
       "      <td>July</td>\n",
       "      <td>stay_just_weekdays</td>\n",
       "      <td>BB</td>\n",
       "      <td>Direct</td>\n",
       "      <td>Direct</td>\n",
       "      <td>A</td>\n",
       "      <td>C</td>\n",
       "      <td>0</td>\n",
       "      <td>Transient</td>\n",
       "      <td>Check-Out</td>\n",
       "      <td>GBR</td>\n",
       "    </tr>\n",
       "    <tr>\n",
       "      <th>3</th>\n",
       "      <td>0</td>\n",
       "      <td>13.0</td>\n",
       "      <td>2015</td>\n",
       "      <td>27</td>\n",
       "      <td>1</td>\n",
       "      <td>1</td>\n",
       "      <td>0</td>\n",
       "      <td>1</td>\n",
       "      <td>1</td>\n",
       "      <td>0</td>\n",
       "      <td>0</td>\n",
       "      <td>0</td>\n",
       "      <td>0</td>\n",
       "      <td>0</td>\n",
       "      <td>0</td>\n",
       "      <td>75.0</td>\n",
       "      <td>0</td>\n",
       "      <td>0</td>\n",
       "      <td>2</td>\n",
       "      <td>7</td>\n",
       "      <td>2015</td>\n",
       "      <td>Single</td>\n",
       "      <td>No</td>\n",
       "      <td>Resort Hotel</td>\n",
       "      <td>July</td>\n",
       "      <td>stay_just_weekdays</td>\n",
       "      <td>BB</td>\n",
       "      <td>Corporate</td>\n",
       "      <td>Corporate</td>\n",
       "      <td>A</td>\n",
       "      <td>A</td>\n",
       "      <td>0</td>\n",
       "      <td>Transient</td>\n",
       "      <td>Check-Out</td>\n",
       "      <td>GBR</td>\n",
       "    </tr>\n",
       "    <tr>\n",
       "      <th>4</th>\n",
       "      <td>0</td>\n",
       "      <td>14.0</td>\n",
       "      <td>2015</td>\n",
       "      <td>27</td>\n",
       "      <td>1</td>\n",
       "      <td>2</td>\n",
       "      <td>0</td>\n",
       "      <td>2</td>\n",
       "      <td>2</td>\n",
       "      <td>0</td>\n",
       "      <td>0</td>\n",
       "      <td>0</td>\n",
       "      <td>0</td>\n",
       "      <td>0</td>\n",
       "      <td>0</td>\n",
       "      <td>98.0</td>\n",
       "      <td>0</td>\n",
       "      <td>1</td>\n",
       "      <td>3</td>\n",
       "      <td>7</td>\n",
       "      <td>2015</td>\n",
       "      <td>Double</td>\n",
       "      <td>No</td>\n",
       "      <td>Resort Hotel</td>\n",
       "      <td>July</td>\n",
       "      <td>stay_just_weekdays</td>\n",
       "      <td>BB</td>\n",
       "      <td>Online TA</td>\n",
       "      <td>TA/TO</td>\n",
       "      <td>A</td>\n",
       "      <td>A</td>\n",
       "      <td>0</td>\n",
       "      <td>Transient</td>\n",
       "      <td>Check-Out</td>\n",
       "      <td>GBR</td>\n",
       "    </tr>\n",
       "  </tbody>\n",
       "</table>\n",
       "</div>"
      ],
      "text/plain": [
       "   is_canceled  lead_time  arrival_date_year  arrival_date_week_number  \\\n",
       "0            1      342.0               2015                        27   \n",
       "1            1      375.5               2015                        27   \n",
       "2            0        7.0               2015                        27   \n",
       "3            0       13.0               2015                        27   \n",
       "4            0       14.0               2015                        27   \n",
       "\n",
       "   arrival_date_day_of_month  total_nights  stays_in_weekend_nights  \\\n",
       "0                          1             0                        0   \n",
       "1                          1             0                        0   \n",
       "2                          1             1                        0   \n",
       "3                          1             1                        0   \n",
       "4                          1             2                        0   \n",
       "\n",
       "   stays_in_week_nights  adults  children  babies  is_repeated_guest  \\\n",
       "0                     0       2         0       0                  0   \n",
       "1                     0       2         0       0                  0   \n",
       "2                     1       1         0       0                  0   \n",
       "3                     1       1         0       0                  0   \n",
       "4                     2       2         0       0                  0   \n",
       "\n",
       "   previous_cancellations  previous_bookings_not_canceled  booking_changes  \\\n",
       "0                       0                               0                3   \n",
       "1                       0                               0                4   \n",
       "2                       0                               0                0   \n",
       "3                       0                               0                0   \n",
       "4                       0                               0                0   \n",
       "\n",
       "    adr  required_car_parking_spaces  total_of_special_requests  \\\n",
       "0   0.0                            0                          0   \n",
       "1   0.0                            0                          0   \n",
       "2  75.0                            0                          0   \n",
       "3  75.0                            0                          0   \n",
       "4  98.0                            0                          1   \n",
       "\n",
       "   reservation_status_day  reservation_status_month  reservation_status_year  \\\n",
       "0                       1                         7                     2015   \n",
       "1                       1                         7                     2015   \n",
       "2                       2                         7                     2015   \n",
       "3                       2                         7                     2015   \n",
       "4                       3                         7                     2015   \n",
       "\n",
       "  guest_quant included_in_waiting_list         hotel arrival_date_month  \\\n",
       "0      Double                       No  Resort Hotel               July   \n",
       "1      Double                       No  Resort Hotel               July   \n",
       "2      Single                       No  Resort Hotel               July   \n",
       "3      Single                       No  Resort Hotel               July   \n",
       "4      Double                       No  Resort Hotel               July   \n",
       "\n",
       "   weekend_or_weekday meal market_segment distribution_channel  \\\n",
       "0      undefined_data   BB         Direct               Direct   \n",
       "1      undefined_data   BB         Direct               Direct   \n",
       "2  stay_just_weekdays   BB         Direct               Direct   \n",
       "3  stay_just_weekdays   BB      Corporate            Corporate   \n",
       "4  stay_just_weekdays   BB      Online TA                TA/TO   \n",
       "\n",
       "  reserved_room_type assigned_room_type  deposit_type customer_type  \\\n",
       "0                  C                  C             0     Transient   \n",
       "1                  C                  C             0     Transient   \n",
       "2                  A                  C             0     Transient   \n",
       "3                  A                  A             0     Transient   \n",
       "4                  A                  A             0     Transient   \n",
       "\n",
       "  reservation_status country_or_continent  \n",
       "0           Canceled                  PRT  \n",
       "1           Canceled                  PRT  \n",
       "2          Check-Out                  GBR  \n",
       "3          Check-Out                  GBR  \n",
       "4          Check-Out                  GBR  "
      ]
     },
     "metadata": {},
     "output_type": "display_data"
    },
    {
     "data": {
      "text/plain": [
       "(119208, 35)"
      ]
     },
     "metadata": {},
     "output_type": "display_data"
    }
   ],
   "source": [
    "# Concatenate the processed numerical and categorical DataFrames horizontally (along columns).\n",
    "filtered_data = pd.concat([num_data, cat_data], axis=1)\n",
    "\n",
    "# Display the first few rows and the shape (dimensions) of the concatenated 'filtered_data.'\n",
    "display(filtered_data.head(), filtered_data.shape)"
   ]
  },
  {
   "cell_type": "markdown",
   "id": "43a647ca",
   "metadata": {},
   "source": [
    "#### Export the Preprocessed DataFrame for Scaling, Encoding, and Predictive Modeling"
   ]
  },
  {
   "cell_type": "code",
   "execution_count": 58,
   "id": "9900b434",
   "metadata": {},
   "outputs": [],
   "source": [
    "# Save filtered_data into a CSV file\n",
    "filtered_data.to_csv('./Datasets/data_preprocessed.csv', index=False)"
   ]
  },
  {
   "cell_type": "code",
   "execution_count": null,
   "id": "30374119",
   "metadata": {},
   "outputs": [],
   "source": []
  },
  {
   "cell_type": "markdown",
   "id": "c0637501",
   "metadata": {},
   "source": [
    "### 2. Feature Scaling, Encoding, and Selection\n",
    "In this section, we dive into the essential steps of feature scaling and encoding to prepare our dataset for modeling. We employ techniques such as Standard Scaler and OneHotEncoder to transform our data effectively. Additionally, we explore feature selection using Lasso regression from the sklearn library to identify and retain the most impactful features for our predictive models."
   ]
  },
  {
   "cell_type": "code",
   "execution_count": 59,
   "id": "bb2682f7",
   "metadata": {},
   "outputs": [
    {
     "data": {
      "text/html": [
       "<div>\n",
       "<style scoped>\n",
       "    .dataframe tbody tr th:only-of-type {\n",
       "        vertical-align: middle;\n",
       "    }\n",
       "\n",
       "    .dataframe tbody tr th {\n",
       "        vertical-align: top;\n",
       "    }\n",
       "\n",
       "    .dataframe thead th {\n",
       "        text-align: right;\n",
       "    }\n",
       "</style>\n",
       "<table border=\"1\" class=\"dataframe\">\n",
       "  <thead>\n",
       "    <tr style=\"text-align: right;\">\n",
       "      <th></th>\n",
       "      <th>is_canceled</th>\n",
       "      <th>lead_time</th>\n",
       "      <th>arrival_date_year</th>\n",
       "      <th>arrival_date_week_number</th>\n",
       "      <th>arrival_date_day_of_month</th>\n",
       "      <th>total_nights</th>\n",
       "      <th>stays_in_weekend_nights</th>\n",
       "      <th>stays_in_week_nights</th>\n",
       "      <th>adults</th>\n",
       "      <th>children</th>\n",
       "      <th>babies</th>\n",
       "      <th>is_repeated_guest</th>\n",
       "      <th>previous_cancellations</th>\n",
       "      <th>previous_bookings_not_canceled</th>\n",
       "      <th>booking_changes</th>\n",
       "      <th>adr</th>\n",
       "      <th>required_car_parking_spaces</th>\n",
       "      <th>total_of_special_requests</th>\n",
       "      <th>reservation_status_day</th>\n",
       "      <th>reservation_status_month</th>\n",
       "      <th>reservation_status_year</th>\n",
       "      <th>guest_quant</th>\n",
       "      <th>included_in_waiting_list</th>\n",
       "      <th>hotel</th>\n",
       "      <th>arrival_date_month</th>\n",
       "      <th>weekend_or_weekday</th>\n",
       "      <th>meal</th>\n",
       "      <th>market_segment</th>\n",
       "      <th>distribution_channel</th>\n",
       "      <th>reserved_room_type</th>\n",
       "      <th>assigned_room_type</th>\n",
       "      <th>deposit_type</th>\n",
       "      <th>customer_type</th>\n",
       "      <th>reservation_status</th>\n",
       "      <th>country_or_continent</th>\n",
       "    </tr>\n",
       "  </thead>\n",
       "  <tbody>\n",
       "    <tr>\n",
       "      <th>0</th>\n",
       "      <td>1</td>\n",
       "      <td>342.0</td>\n",
       "      <td>2015</td>\n",
       "      <td>27</td>\n",
       "      <td>1</td>\n",
       "      <td>0</td>\n",
       "      <td>0</td>\n",
       "      <td>0</td>\n",
       "      <td>2</td>\n",
       "      <td>0</td>\n",
       "      <td>0</td>\n",
       "      <td>0</td>\n",
       "      <td>0</td>\n",
       "      <td>0</td>\n",
       "      <td>3</td>\n",
       "      <td>0.0</td>\n",
       "      <td>0</td>\n",
       "      <td>0</td>\n",
       "      <td>1</td>\n",
       "      <td>7</td>\n",
       "      <td>2015</td>\n",
       "      <td>Double</td>\n",
       "      <td>No</td>\n",
       "      <td>Resort Hotel</td>\n",
       "      <td>July</td>\n",
       "      <td>undefined_data</td>\n",
       "      <td>BB</td>\n",
       "      <td>Direct</td>\n",
       "      <td>Direct</td>\n",
       "      <td>C</td>\n",
       "      <td>C</td>\n",
       "      <td>0</td>\n",
       "      <td>Transient</td>\n",
       "      <td>Canceled</td>\n",
       "      <td>PRT</td>\n",
       "    </tr>\n",
       "    <tr>\n",
       "      <th>1</th>\n",
       "      <td>1</td>\n",
       "      <td>375.5</td>\n",
       "      <td>2015</td>\n",
       "      <td>27</td>\n",
       "      <td>1</td>\n",
       "      <td>0</td>\n",
       "      <td>0</td>\n",
       "      <td>0</td>\n",
       "      <td>2</td>\n",
       "      <td>0</td>\n",
       "      <td>0</td>\n",
       "      <td>0</td>\n",
       "      <td>0</td>\n",
       "      <td>0</td>\n",
       "      <td>4</td>\n",
       "      <td>0.0</td>\n",
       "      <td>0</td>\n",
       "      <td>0</td>\n",
       "      <td>1</td>\n",
       "      <td>7</td>\n",
       "      <td>2015</td>\n",
       "      <td>Double</td>\n",
       "      <td>No</td>\n",
       "      <td>Resort Hotel</td>\n",
       "      <td>July</td>\n",
       "      <td>undefined_data</td>\n",
       "      <td>BB</td>\n",
       "      <td>Direct</td>\n",
       "      <td>Direct</td>\n",
       "      <td>C</td>\n",
       "      <td>C</td>\n",
       "      <td>0</td>\n",
       "      <td>Transient</td>\n",
       "      <td>Canceled</td>\n",
       "      <td>PRT</td>\n",
       "    </tr>\n",
       "    <tr>\n",
       "      <th>2</th>\n",
       "      <td>0</td>\n",
       "      <td>7.0</td>\n",
       "      <td>2015</td>\n",
       "      <td>27</td>\n",
       "      <td>1</td>\n",
       "      <td>1</td>\n",
       "      <td>0</td>\n",
       "      <td>1</td>\n",
       "      <td>1</td>\n",
       "      <td>0</td>\n",
       "      <td>0</td>\n",
       "      <td>0</td>\n",
       "      <td>0</td>\n",
       "      <td>0</td>\n",
       "      <td>0</td>\n",
       "      <td>75.0</td>\n",
       "      <td>0</td>\n",
       "      <td>0</td>\n",
       "      <td>2</td>\n",
       "      <td>7</td>\n",
       "      <td>2015</td>\n",
       "      <td>Single</td>\n",
       "      <td>No</td>\n",
       "      <td>Resort Hotel</td>\n",
       "      <td>July</td>\n",
       "      <td>stay_just_weekdays</td>\n",
       "      <td>BB</td>\n",
       "      <td>Direct</td>\n",
       "      <td>Direct</td>\n",
       "      <td>A</td>\n",
       "      <td>C</td>\n",
       "      <td>0</td>\n",
       "      <td>Transient</td>\n",
       "      <td>Check-Out</td>\n",
       "      <td>GBR</td>\n",
       "    </tr>\n",
       "    <tr>\n",
       "      <th>3</th>\n",
       "      <td>0</td>\n",
       "      <td>13.0</td>\n",
       "      <td>2015</td>\n",
       "      <td>27</td>\n",
       "      <td>1</td>\n",
       "      <td>1</td>\n",
       "      <td>0</td>\n",
       "      <td>1</td>\n",
       "      <td>1</td>\n",
       "      <td>0</td>\n",
       "      <td>0</td>\n",
       "      <td>0</td>\n",
       "      <td>0</td>\n",
       "      <td>0</td>\n",
       "      <td>0</td>\n",
       "      <td>75.0</td>\n",
       "      <td>0</td>\n",
       "      <td>0</td>\n",
       "      <td>2</td>\n",
       "      <td>7</td>\n",
       "      <td>2015</td>\n",
       "      <td>Single</td>\n",
       "      <td>No</td>\n",
       "      <td>Resort Hotel</td>\n",
       "      <td>July</td>\n",
       "      <td>stay_just_weekdays</td>\n",
       "      <td>BB</td>\n",
       "      <td>Corporate</td>\n",
       "      <td>Corporate</td>\n",
       "      <td>A</td>\n",
       "      <td>A</td>\n",
       "      <td>0</td>\n",
       "      <td>Transient</td>\n",
       "      <td>Check-Out</td>\n",
       "      <td>GBR</td>\n",
       "    </tr>\n",
       "    <tr>\n",
       "      <th>4</th>\n",
       "      <td>0</td>\n",
       "      <td>14.0</td>\n",
       "      <td>2015</td>\n",
       "      <td>27</td>\n",
       "      <td>1</td>\n",
       "      <td>2</td>\n",
       "      <td>0</td>\n",
       "      <td>2</td>\n",
       "      <td>2</td>\n",
       "      <td>0</td>\n",
       "      <td>0</td>\n",
       "      <td>0</td>\n",
       "      <td>0</td>\n",
       "      <td>0</td>\n",
       "      <td>0</td>\n",
       "      <td>98.0</td>\n",
       "      <td>0</td>\n",
       "      <td>1</td>\n",
       "      <td>3</td>\n",
       "      <td>7</td>\n",
       "      <td>2015</td>\n",
       "      <td>Double</td>\n",
       "      <td>No</td>\n",
       "      <td>Resort Hotel</td>\n",
       "      <td>July</td>\n",
       "      <td>stay_just_weekdays</td>\n",
       "      <td>BB</td>\n",
       "      <td>Online TA</td>\n",
       "      <td>TA/TO</td>\n",
       "      <td>A</td>\n",
       "      <td>A</td>\n",
       "      <td>0</td>\n",
       "      <td>Transient</td>\n",
       "      <td>Check-Out</td>\n",
       "      <td>GBR</td>\n",
       "    </tr>\n",
       "  </tbody>\n",
       "</table>\n",
       "</div>"
      ],
      "text/plain": [
       "   is_canceled  lead_time  arrival_date_year  arrival_date_week_number  \\\n",
       "0            1      342.0               2015                        27   \n",
       "1            1      375.5               2015                        27   \n",
       "2            0        7.0               2015                        27   \n",
       "3            0       13.0               2015                        27   \n",
       "4            0       14.0               2015                        27   \n",
       "\n",
       "   arrival_date_day_of_month  total_nights  stays_in_weekend_nights  \\\n",
       "0                          1             0                        0   \n",
       "1                          1             0                        0   \n",
       "2                          1             1                        0   \n",
       "3                          1             1                        0   \n",
       "4                          1             2                        0   \n",
       "\n",
       "   stays_in_week_nights  adults  children  babies  is_repeated_guest  \\\n",
       "0                     0       2         0       0                  0   \n",
       "1                     0       2         0       0                  0   \n",
       "2                     1       1         0       0                  0   \n",
       "3                     1       1         0       0                  0   \n",
       "4                     2       2         0       0                  0   \n",
       "\n",
       "   previous_cancellations  previous_bookings_not_canceled  booking_changes  \\\n",
       "0                       0                               0                3   \n",
       "1                       0                               0                4   \n",
       "2                       0                               0                0   \n",
       "3                       0                               0                0   \n",
       "4                       0                               0                0   \n",
       "\n",
       "    adr  required_car_parking_spaces  total_of_special_requests  \\\n",
       "0   0.0                            0                          0   \n",
       "1   0.0                            0                          0   \n",
       "2  75.0                            0                          0   \n",
       "3  75.0                            0                          0   \n",
       "4  98.0                            0                          1   \n",
       "\n",
       "   reservation_status_day  reservation_status_month  reservation_status_year  \\\n",
       "0                       1                         7                     2015   \n",
       "1                       1                         7                     2015   \n",
       "2                       2                         7                     2015   \n",
       "3                       2                         7                     2015   \n",
       "4                       3                         7                     2015   \n",
       "\n",
       "  guest_quant included_in_waiting_list         hotel arrival_date_month  \\\n",
       "0      Double                       No  Resort Hotel               July   \n",
       "1      Double                       No  Resort Hotel               July   \n",
       "2      Single                       No  Resort Hotel               July   \n",
       "3      Single                       No  Resort Hotel               July   \n",
       "4      Double                       No  Resort Hotel               July   \n",
       "\n",
       "   weekend_or_weekday meal market_segment distribution_channel  \\\n",
       "0      undefined_data   BB         Direct               Direct   \n",
       "1      undefined_data   BB         Direct               Direct   \n",
       "2  stay_just_weekdays   BB         Direct               Direct   \n",
       "3  stay_just_weekdays   BB      Corporate            Corporate   \n",
       "4  stay_just_weekdays   BB      Online TA                TA/TO   \n",
       "\n",
       "  reserved_room_type assigned_room_type  deposit_type customer_type  \\\n",
       "0                  C                  C             0     Transient   \n",
       "1                  C                  C             0     Transient   \n",
       "2                  A                  C             0     Transient   \n",
       "3                  A                  A             0     Transient   \n",
       "4                  A                  A             0     Transient   \n",
       "\n",
       "  reservation_status country_or_continent  \n",
       "0           Canceled                  PRT  \n",
       "1           Canceled                  PRT  \n",
       "2          Check-Out                  GBR  \n",
       "3          Check-Out                  GBR  \n",
       "4          Check-Out                  GBR  "
      ]
     },
     "execution_count": 59,
     "metadata": {},
     "output_type": "execute_result"
    }
   ],
   "source": [
    "# Load the preprocessed dataset\n",
    "preprocessed_data = pd.read_csv('./Datasets/data_preprocessed.csv')\n",
    "\n",
    "# Display the first few rows of the preprocessed dataset\n",
    "preprocessed_data.head()"
   ]
  },
  {
   "cell_type": "code",
   "execution_count": 60,
   "id": "c5b93c73",
   "metadata": {},
   "outputs": [
    {
     "data": {
      "text/plain": [
       "is_canceled                         int64\n",
       "lead_time                         float64\n",
       "arrival_date_year                   int64\n",
       "arrival_date_week_number            int64\n",
       "arrival_date_day_of_month           int64\n",
       "total_nights                        int64\n",
       "stays_in_weekend_nights             int64\n",
       "stays_in_week_nights                int64\n",
       "adults                              int64\n",
       "children                            int64\n",
       "babies                              int64\n",
       "is_repeated_guest                   int64\n",
       "previous_cancellations              int64\n",
       "previous_bookings_not_canceled      int64\n",
       "booking_changes                     int64\n",
       "adr                               float64\n",
       "required_car_parking_spaces         int64\n",
       "total_of_special_requests           int64\n",
       "reservation_status_day              int64\n",
       "reservation_status_month            int64\n",
       "reservation_status_year             int64\n",
       "guest_quant                        object\n",
       "included_in_waiting_list           object\n",
       "hotel                              object\n",
       "arrival_date_month                 object\n",
       "weekend_or_weekday                 object\n",
       "meal                               object\n",
       "market_segment                     object\n",
       "distribution_channel               object\n",
       "reserved_room_type                 object\n",
       "assigned_room_type                 object\n",
       "deposit_type                        int64\n",
       "customer_type                      object\n",
       "reservation_status                 object\n",
       "country_or_continent               object\n",
       "dtype: object"
      ]
     },
     "execution_count": 60,
     "metadata": {},
     "output_type": "execute_result"
    }
   ],
   "source": [
    "# Check the data types of the preprocessed dataset\n",
    "preprocessed_data.dtypes"
   ]
  },
  {
   "cell_type": "markdown",
   "id": "677ede96",
   "metadata": {},
   "source": [
    "#### Split into categorical and numerical data"
   ]
  },
  {
   "cell_type": "code",
   "execution_count": 61,
   "id": "4f226c9d",
   "metadata": {},
   "outputs": [],
   "source": [
    "# Select categorical features\n",
    "cat_features = preprocessed_data.select_dtypes(include=['object'])\n",
    "\n",
    "# Select numerical features (excluding objects)\n",
    "num_features = preprocessed_data.select_dtypes(exclude=['object'])"
   ]
  },
  {
   "cell_type": "markdown",
   "id": "083d9b27",
   "metadata": {},
   "source": [
    "#### Drop the target feature"
   ]
  },
  {
   "cell_type": "code",
   "execution_count": 62,
   "id": "e9c28330",
   "metadata": {},
   "outputs": [],
   "source": [
    "# Remove the target variable 'is_canceled' from the numerical features\n",
    "num_features = num_features.drop('is_canceled', axis=1)"
   ]
  },
  {
   "cell_type": "markdown",
   "id": "60fd6670",
   "metadata": {},
   "source": [
    "#### Scale numerical data"
   ]
  },
  {
   "cell_type": "code",
   "execution_count": 63,
   "id": "fff60495",
   "metadata": {},
   "outputs": [],
   "source": [
    "from sklearn.preprocessing import StandardScaler\n",
    "\n",
    "# Initialize the StandardScaler\n",
    "scaler = StandardScaler()\n",
    "\n",
    "# Fit and transform the scaler on num_features\n",
    "scaled_num_features = scaler.fit_transform(num_features)\n",
    "\n",
    "# Create a DataFrame from the scaled features\n",
    "scaled_num_features_df = pd.DataFrame(scaled_num_features, columns=num_features.columns)"
   ]
  },
  {
   "cell_type": "markdown",
   "id": "482060b3",
   "metadata": {},
   "source": [
    "#### Encode categorical data"
   ]
  },
  {
   "cell_type": "code",
   "execution_count": 64,
   "id": "b6630ea1",
   "metadata": {},
   "outputs": [],
   "source": [
    "from sklearn.preprocessing import OneHotEncoder\n",
    "\n",
    "# Initialize the OneHotEncoder\n",
    "encoder = OneHotEncoder()\n",
    "\n",
    "# Fit and transform the encoder on cat_features\n",
    "encoded_cat_features = encoder.fit_transform(cat_features)\n",
    "\n",
    "# Create a DataFrame from the encoded features\n",
    "encoded_cat_features_df = pd.DataFrame(encoded_cat_features.toarray(), columns=encoder.get_feature_names_out(cat_features.columns))"
   ]
  },
  {
   "cell_type": "markdown",
   "id": "ba4fc3d3",
   "metadata": {},
   "source": [
    "#### Concatenate both dataframes"
   ]
  },
  {
   "cell_type": "code",
   "execution_count": 65,
   "id": "14c7afd6",
   "metadata": {},
   "outputs": [
    {
     "data": {
      "text/plain": [
       "(119210, 103)"
      ]
     },
     "execution_count": 65,
     "metadata": {},
     "output_type": "execute_result"
    }
   ],
   "source": [
    "# Concatenate the scaled numerical features and the encoded categorical features\n",
    "processed_data = pd.concat([data['is_canceled'],scaled_num_features_df, encoded_cat_features_df], axis=1)\n",
    "processed_data.shape"
   ]
  },
  {
   "cell_type": "code",
   "execution_count": 66,
   "id": "1b91f3c9",
   "metadata": {},
   "outputs": [
    {
     "data": {
      "text/plain": [
       "is_canceled                     1.000000\n",
       "reservation_status_Canceled     0.879738\n",
       "deposit_type                    0.460421\n",
       "country_or_continent_PRT        0.298490\n",
       "lead_time                       0.289525\n",
       "                                  ...   \n",
       "market_segment_Direct          -0.148475\n",
       "required_car_parking_spaces    -0.185213\n",
       "total_of_special_requests      -0.224793\n",
       "total_nights                   -0.572961\n",
       "reservation_status_Check-Out   -0.895298\n",
       "Name: is_canceled, Length: 103, dtype: float64"
      ]
     },
     "execution_count": 66,
     "metadata": {},
     "output_type": "execute_result"
    }
   ],
   "source": [
    "# Calculate the correlation between features and the target variable 'is_canceled'\n",
    "corr = processed_data.corr()\n",
    "\n",
    "# Sort the correlations in descending order\n",
    "corr['is_canceled'].sort_values(ascending=False)"
   ]
  },
  {
   "cell_type": "code",
   "execution_count": 67,
   "id": "5a37c8f5",
   "metadata": {},
   "outputs": [
    {
     "name": "stdout",
     "output_type": "stream",
     "text": [
      "Pairs with correlation greater than or equal to 0.7:\n",
      "\n",
      "is_canceled - reservation_status_Canceled: 0.88\n",
      "arrival_date_year - reservation_status_year: 0.93\n",
      "stays_in_weekend_nights - weekend_or_weekday_stay_both_weekdays_weekends: 0.76\n",
      "market_segment_Corporate - distribution_channel_Corporate: 0.80\n",
      "market_segment_Direct - distribution_channel_Direct: 0.89\n",
      "reserved_room_type_A - assigned_room_type_A: 0.78\n",
      "reserved_room_type_D - assigned_room_type_D: 0.76\n",
      "reserved_room_type_E - assigned_room_type_E: 0.82\n",
      "reserved_room_type_F - assigned_room_type_F: 0.82\n",
      "reserved_room_type_G - assigned_room_type_G: 0.88\n",
      "reserved_room_type_H - assigned_room_type_H: 0.89\n",
      "\n",
      "Pairs with correlation smaller than or equal to -0.7:\n",
      "\n",
      "is_canceled - reservation_status_Check-Out: -0.90\n",
      "stays_in_weekend_nights - weekend_or_weekday_stay_just_weekdays: -0.81\n",
      "adults - guest_quant_Single: -0.72\n",
      "guest_quant_Double - guest_quant_Single: -0.72\n",
      "included_in_waiting_list_No - included_in_waiting_list_Yes: -1.00\n",
      "hotel_City Hotel - hotel_Resort Hotel: -1.00\n",
      "weekend_or_weekday_stay_both_weekdays_weekends - weekend_or_weekday_stay_just_weekdays: -0.88\n",
      "market_segment_Direct - distribution_channel_TA/TO: -0.72\n",
      "distribution_channel_Direct - distribution_channel_TA/TO: -0.80\n",
      "reserved_room_type_A - reserved_room_type_D: -0.70\n",
      "customer_type_Transient - customer_type_Transient-Party: -0.90\n",
      "reservation_status_Canceled - reservation_status_Check-Out: -0.98\n"
     ]
    }
   ],
   "source": [
    "# Define the threshold values for positive and negative correlations\n",
    "positive_threshold = 0.7\n",
    "negative_threshold = -0.7\n",
    "\n",
    "# Create a set to keep track of already processed pairs\n",
    "processed_pairs = set()\n",
    "\n",
    "# Print pairs of features with correlations greater than or equal to 0.7\n",
    "print(\"Pairs with correlation greater than or equal to 0.7:\\n\")\n",
    "for feature1 in corr.columns:\n",
    "    for feature2 in corr.index:\n",
    "        if feature1 != feature2 and corr.loc[feature1, feature2] >= positive_threshold:\n",
    "            # Ensure that the pair is not processed before\n",
    "            if (feature1, feature2) not in processed_pairs and (feature2, feature1) not in processed_pairs:\n",
    "                processed_pairs.add((feature1, feature2))\n",
    "                print(f\"{feature1} - {feature2}: {corr.loc[feature1, feature2]:.2f}\")\n",
    "\n",
    "# Print pairs of features with correlations smaller than or equal to -0.7\n",
    "print(\"\\nPairs with correlation smaller than or equal to -0.7:\\n\")\n",
    "for feature1 in corr.columns:\n",
    "    for feature2 in corr.index:\n",
    "        if feature1 != feature2 and corr.loc[feature1, feature2] <= negative_threshold:\n",
    "            # Ensure that the pair is not processed before\n",
    "            if (feature1, feature2) not in processed_pairs and (feature2, feature1) not in processed_pairs:\n",
    "                processed_pairs.add((feature1, feature2))\n",
    "                print(f\"{feature1} - {feature2}: {corr.loc[feature1, feature2]:.2f}\")"
   ]
  },
  {
   "cell_type": "code",
   "execution_count": 68,
   "id": "281ea7f3",
   "metadata": {},
   "outputs": [],
   "source": [
    "#processed_data = processed_data.drop(['reservation_status_Canceled', 'reservation_status_Check-Out'], axis=1)"
   ]
  },
  {
   "cell_type": "code",
   "execution_count": null,
   "id": "93db6f86",
   "metadata": {},
   "outputs": [],
   "source": []
  },
  {
   "cell_type": "markdown",
   "id": "a913626a",
   "metadata": {},
   "source": [
    "#### Feature Selection: Lasso Regression and SelectFromModel"
   ]
  },
  {
   "cell_type": "markdown",
   "id": "aa5e0cd7",
   "metadata": {},
   "source": [
    "Now, we delve into feature selection techniques utilizing Lasso Regression and the SelectFromModel module. Feature selection is a critical step in our analysis, and it helps us identify and retain the most relevant features while eliminating irrelevant or redundant ones. We employ Lasso Regression for its ability to penalize less influential features and subsequently use SelectFromModel to select the most significant predictors. This process enhances model efficiency and interpretability, ultimately leading to more accurate predictive models."
   ]
  },
  {
   "cell_type": "code",
   "execution_count": 69,
   "id": "8976b0e7",
   "metadata": {},
   "outputs": [
    {
     "data": {
      "text/markdown": [
       "'Processed_data' dataframe has 103 columns."
      ],
      "text/plain": [
       "<IPython.core.display.Markdown object>"
      ]
     },
     "metadata": {},
     "output_type": "display_data"
    }
   ],
   "source": [
    "display(Markdown(f\"'Processed_data' dataframe has {len(processed_data.columns)} columns.\"))"
   ]
  },
  {
   "cell_type": "code",
   "execution_count": 70,
   "id": "14b291e5",
   "metadata": {},
   "outputs": [],
   "source": [
    "# Check for and drop rows with missing values\n",
    "processed_data = processed_data.dropna()"
   ]
  },
  {
   "cell_type": "code",
   "execution_count": 71,
   "id": "78dec795",
   "metadata": {},
   "outputs": [],
   "source": [
    "# Import Lasso and SelectFromModel for feature selection\n",
    "from sklearn.linear_model import Lasso\n",
    "from sklearn.feature_selection import SelectFromModel"
   ]
  },
  {
   "cell_type": "code",
   "execution_count": 72,
   "id": "2dcd04c2",
   "metadata": {},
   "outputs": [],
   "source": [
    "# Split the data into features (X) and the target (y)\n",
    "X = processed_data.drop('is_canceled', axis=1)\n",
    "y = processed_data['is_canceled']"
   ]
  },
  {
   "cell_type": "code",
   "execution_count": 73,
   "id": "3fb95e86",
   "metadata": {},
   "outputs": [],
   "source": [
    "# Initialize the feature selection model using Lasso regularization\n",
    "feature_sel_model = SelectFromModel(Lasso(alpha=0.005))"
   ]
  },
  {
   "cell_type": "code",
   "execution_count": 74,
   "id": "7e3c21eb",
   "metadata": {},
   "outputs": [
    {
     "data": {
      "text/html": [
       "<style>#sk-container-id-1 {color: black;background-color: white;}#sk-container-id-1 pre{padding: 0;}#sk-container-id-1 div.sk-toggleable {background-color: white;}#sk-container-id-1 label.sk-toggleable__label {cursor: pointer;display: block;width: 100%;margin-bottom: 0;padding: 0.3em;box-sizing: border-box;text-align: center;}#sk-container-id-1 label.sk-toggleable__label-arrow:before {content: \"▸\";float: left;margin-right: 0.25em;color: #696969;}#sk-container-id-1 label.sk-toggleable__label-arrow:hover:before {color: black;}#sk-container-id-1 div.sk-estimator:hover label.sk-toggleable__label-arrow:before {color: black;}#sk-container-id-1 div.sk-toggleable__content {max-height: 0;max-width: 0;overflow: hidden;text-align: left;background-color: #f0f8ff;}#sk-container-id-1 div.sk-toggleable__content pre {margin: 0.2em;color: black;border-radius: 0.25em;background-color: #f0f8ff;}#sk-container-id-1 input.sk-toggleable__control:checked~div.sk-toggleable__content {max-height: 200px;max-width: 100%;overflow: auto;}#sk-container-id-1 input.sk-toggleable__control:checked~label.sk-toggleable__label-arrow:before {content: \"▾\";}#sk-container-id-1 div.sk-estimator input.sk-toggleable__control:checked~label.sk-toggleable__label {background-color: #d4ebff;}#sk-container-id-1 div.sk-label input.sk-toggleable__control:checked~label.sk-toggleable__label {background-color: #d4ebff;}#sk-container-id-1 input.sk-hidden--visually {border: 0;clip: rect(1px 1px 1px 1px);clip: rect(1px, 1px, 1px, 1px);height: 1px;margin: -1px;overflow: hidden;padding: 0;position: absolute;width: 1px;}#sk-container-id-1 div.sk-estimator {font-family: monospace;background-color: #f0f8ff;border: 1px dotted black;border-radius: 0.25em;box-sizing: border-box;margin-bottom: 0.5em;}#sk-container-id-1 div.sk-estimator:hover {background-color: #d4ebff;}#sk-container-id-1 div.sk-parallel-item::after {content: \"\";width: 100%;border-bottom: 1px solid gray;flex-grow: 1;}#sk-container-id-1 div.sk-label:hover label.sk-toggleable__label {background-color: #d4ebff;}#sk-container-id-1 div.sk-serial::before {content: \"\";position: absolute;border-left: 1px solid gray;box-sizing: border-box;top: 0;bottom: 0;left: 50%;z-index: 0;}#sk-container-id-1 div.sk-serial {display: flex;flex-direction: column;align-items: center;background-color: white;padding-right: 0.2em;padding-left: 0.2em;position: relative;}#sk-container-id-1 div.sk-item {position: relative;z-index: 1;}#sk-container-id-1 div.sk-parallel {display: flex;align-items: stretch;justify-content: center;background-color: white;position: relative;}#sk-container-id-1 div.sk-item::before, #sk-container-id-1 div.sk-parallel-item::before {content: \"\";position: absolute;border-left: 1px solid gray;box-sizing: border-box;top: 0;bottom: 0;left: 50%;z-index: -1;}#sk-container-id-1 div.sk-parallel-item {display: flex;flex-direction: column;z-index: 1;position: relative;background-color: white;}#sk-container-id-1 div.sk-parallel-item:first-child::after {align-self: flex-end;width: 50%;}#sk-container-id-1 div.sk-parallel-item:last-child::after {align-self: flex-start;width: 50%;}#sk-container-id-1 div.sk-parallel-item:only-child::after {width: 0;}#sk-container-id-1 div.sk-dashed-wrapped {border: 1px dashed gray;margin: 0 0.4em 0.5em 0.4em;box-sizing: border-box;padding-bottom: 0.4em;background-color: white;}#sk-container-id-1 div.sk-label label {font-family: monospace;font-weight: bold;display: inline-block;line-height: 1.2em;}#sk-container-id-1 div.sk-label-container {text-align: center;}#sk-container-id-1 div.sk-container {/* jupyter's `normalize.less` sets `[hidden] { display: none; }` but bootstrap.min.css set `[hidden] { display: none !important; }` so we also need the `!important` here to be able to override the default hidden behavior on the sphinx rendered scikit-learn.org. See: https://github.com/scikit-learn/scikit-learn/issues/21755 */display: inline-block !important;position: relative;}#sk-container-id-1 div.sk-text-repr-fallback {display: none;}</style><div id=\"sk-container-id-1\" class=\"sk-top-container\"><div class=\"sk-text-repr-fallback\"><pre>SelectFromModel(estimator=Lasso(alpha=0.005))</pre><b>In a Jupyter environment, please rerun this cell to show the HTML representation or trust the notebook. <br />On GitHub, the HTML representation is unable to render, please try loading this page with nbviewer.org.</b></div><div class=\"sk-container\" hidden><div class=\"sk-item sk-dashed-wrapped\"><div class=\"sk-label-container\"><div class=\"sk-label sk-toggleable\"><input class=\"sk-toggleable__control sk-hidden--visually\" id=\"sk-estimator-id-1\" type=\"checkbox\" ><label for=\"sk-estimator-id-1\" class=\"sk-toggleable__label sk-toggleable__label-arrow\">SelectFromModel</label><div class=\"sk-toggleable__content\"><pre>SelectFromModel(estimator=Lasso(alpha=0.005))</pre></div></div></div><div class=\"sk-parallel\"><div class=\"sk-parallel-item\"><div class=\"sk-item\"><div class=\"sk-label-container\"><div class=\"sk-label sk-toggleable\"><input class=\"sk-toggleable__control sk-hidden--visually\" id=\"sk-estimator-id-2\" type=\"checkbox\" ><label for=\"sk-estimator-id-2\" class=\"sk-toggleable__label sk-toggleable__label-arrow\">estimator: Lasso</label><div class=\"sk-toggleable__content\"><pre>Lasso(alpha=0.005)</pre></div></div></div><div class=\"sk-serial\"><div class=\"sk-item\"><div class=\"sk-estimator sk-toggleable\"><input class=\"sk-toggleable__control sk-hidden--visually\" id=\"sk-estimator-id-3\" type=\"checkbox\" ><label for=\"sk-estimator-id-3\" class=\"sk-toggleable__label sk-toggleable__label-arrow\">Lasso</label><div class=\"sk-toggleable__content\"><pre>Lasso(alpha=0.005)</pre></div></div></div></div></div></div></div></div></div></div>"
      ],
      "text/plain": [
       "SelectFromModel(estimator=Lasso(alpha=0.005))"
      ]
     },
     "execution_count": 74,
     "metadata": {},
     "output_type": "execute_result"
    }
   ],
   "source": [
    "# Fit the feature selection model on the data\n",
    "feature_sel_model.fit(X,y)"
   ]
  },
  {
   "cell_type": "code",
   "execution_count": 75,
   "id": "9efbb8f2",
   "metadata": {},
   "outputs": [
    {
     "data": {
      "text/plain": [
       "array([ True, False, False, False,  True,  True,  True, False, False,\n",
       "       False,  True, False, False, False,  True,  True,  True, False,\n",
       "       False, False,  True, False, False, False, False, False, False,\n",
       "       False, False, False, False, False, False, False, False, False,\n",
       "       False, False, False, False, False, False, False, False, False,\n",
       "       False, False, False, False, False, False, False, False, False,\n",
       "       False, False, False, False, False, False, False, False, False,\n",
       "       False, False, False, False, False, False, False, False, False,\n",
       "       False, False, False, False, False, False, False, False, False,\n",
       "       False, False, False,  True,  True, False, False, False, False,\n",
       "       False, False, False, False, False, False, False, False, False,\n",
       "       False, False, False])"
      ]
     },
     "execution_count": 75,
     "metadata": {},
     "output_type": "execute_result"
    }
   ],
   "source": [
    "# Get a boolean mask of selected features\n",
    "feature_sel_model.get_support()"
   ]
  },
  {
   "cell_type": "code",
   "execution_count": 76,
   "id": "e4d89537",
   "metadata": {},
   "outputs": [
    {
     "data": {
      "text/plain": [
       "Index(['lead_time', 'arrival_date_year', 'arrival_date_week_number',\n",
       "       'arrival_date_day_of_month', 'total_nights', 'stays_in_weekend_nights',\n",
       "       'stays_in_week_nights', 'adults', 'children', 'babies',\n",
       "       ...\n",
       "       'country_or_continent_DEU', 'country_or_continent_ESP',\n",
       "       'country_or_continent_Europe', 'country_or_continent_FRA',\n",
       "       'country_or_continent_GBR', 'country_or_continent_IRL',\n",
       "       'country_or_continent_ITA', 'country_or_continent_NLD',\n",
       "       'country_or_continent_Oceania&Antarctica', 'country_or_continent_PRT'],\n",
       "      dtype='object', length=102)"
      ]
     },
     "execution_count": 76,
     "metadata": {},
     "output_type": "execute_result"
    }
   ],
   "source": [
    "# Get the column names of the features in X\n",
    "cols = X.columns\n",
    "cols"
   ]
  },
  {
   "cell_type": "code",
   "execution_count": 77,
   "id": "9018297b",
   "metadata": {},
   "outputs": [
    {
     "data": {
      "text/plain": [
       "Index(['lead_time', 'total_nights', 'stays_in_weekend_nights',\n",
       "       'stays_in_week_nights', 'is_repeated_guest', 'adr',\n",
       "       'required_car_parking_spaces', 'total_of_special_requests',\n",
       "       'deposit_type', 'reservation_status_Canceled',\n",
       "       'reservation_status_Check-Out'],\n",
       "      dtype='object')"
      ]
     },
     "execution_count": 77,
     "metadata": {},
     "output_type": "execute_result"
    }
   ],
   "source": [
    "# Filter the selected features based on the Boolean mask from feature selection\n",
    "selected_features = cols[feature_sel_model.get_support()]\n",
    "selected_features"
   ]
  },
  {
   "cell_type": "code",
   "execution_count": 78,
   "id": "a9e94d1b",
   "metadata": {},
   "outputs": [
    {
     "data": {
      "text/html": [
       "<div>\n",
       "<style scoped>\n",
       "    .dataframe tbody tr th:only-of-type {\n",
       "        vertical-align: middle;\n",
       "    }\n",
       "\n",
       "    .dataframe tbody tr th {\n",
       "        vertical-align: top;\n",
       "    }\n",
       "\n",
       "    .dataframe thead th {\n",
       "        text-align: right;\n",
       "    }\n",
       "</style>\n",
       "<table border=\"1\" class=\"dataframe\">\n",
       "  <thead>\n",
       "    <tr style=\"text-align: right;\">\n",
       "      <th></th>\n",
       "      <th>lead_time</th>\n",
       "      <th>total_nights</th>\n",
       "      <th>stays_in_weekend_nights</th>\n",
       "      <th>stays_in_week_nights</th>\n",
       "      <th>is_repeated_guest</th>\n",
       "      <th>adr</th>\n",
       "      <th>required_car_parking_spaces</th>\n",
       "      <th>total_of_special_requests</th>\n",
       "      <th>deposit_type</th>\n",
       "      <th>reservation_status_Canceled</th>\n",
       "      <th>reservation_status_Check-Out</th>\n",
       "    </tr>\n",
       "  </thead>\n",
       "  <tbody>\n",
       "    <tr>\n",
       "      <th>0</th>\n",
       "      <td>2.364568</td>\n",
       "      <td>-0.819326</td>\n",
       "      <td>-0.931621</td>\n",
       "      <td>-1.317380</td>\n",
       "      <td>-0.180319</td>\n",
       "      <td>-2.330177</td>\n",
       "      <td>-0.254949</td>\n",
       "      <td>-0.720811</td>\n",
       "      <td>-0.373385</td>\n",
       "      <td>1.0</td>\n",
       "      <td>0.0</td>\n",
       "    </tr>\n",
       "    <tr>\n",
       "      <th>1</th>\n",
       "      <td>2.695155</td>\n",
       "      <td>-0.819326</td>\n",
       "      <td>-0.931621</td>\n",
       "      <td>-1.317380</td>\n",
       "      <td>-0.180319</td>\n",
       "      <td>-2.330177</td>\n",
       "      <td>-0.254949</td>\n",
       "      <td>-0.720811</td>\n",
       "      <td>-0.373385</td>\n",
       "      <td>1.0</td>\n",
       "      <td>0.0</td>\n",
       "    </tr>\n",
       "    <tr>\n",
       "      <th>2</th>\n",
       "      <td>-0.941310</td>\n",
       "      <td>-0.435200</td>\n",
       "      <td>-0.931621</td>\n",
       "      <td>-0.790255</td>\n",
       "      <td>-0.180319</td>\n",
       "      <td>-0.610687</td>\n",
       "      <td>-0.254949</td>\n",
       "      <td>-0.720811</td>\n",
       "      <td>-0.373385</td>\n",
       "      <td>0.0</td>\n",
       "      <td>1.0</td>\n",
       "    </tr>\n",
       "    <tr>\n",
       "      <th>3</th>\n",
       "      <td>-0.882100</td>\n",
       "      <td>-0.435200</td>\n",
       "      <td>-0.931621</td>\n",
       "      <td>-0.790255</td>\n",
       "      <td>-0.180319</td>\n",
       "      <td>-0.610687</td>\n",
       "      <td>-0.254949</td>\n",
       "      <td>-0.720811</td>\n",
       "      <td>-0.373385</td>\n",
       "      <td>0.0</td>\n",
       "      <td>1.0</td>\n",
       "    </tr>\n",
       "    <tr>\n",
       "      <th>4</th>\n",
       "      <td>-0.872232</td>\n",
       "      <td>-0.051074</td>\n",
       "      <td>-0.931621</td>\n",
       "      <td>-0.263129</td>\n",
       "      <td>-0.180319</td>\n",
       "      <td>-0.083377</td>\n",
       "      <td>-0.254949</td>\n",
       "      <td>0.540421</td>\n",
       "      <td>-0.373385</td>\n",
       "      <td>0.0</td>\n",
       "      <td>1.0</td>\n",
       "    </tr>\n",
       "    <tr>\n",
       "      <th>...</th>\n",
       "      <td>...</td>\n",
       "      <td>...</td>\n",
       "      <td>...</td>\n",
       "      <td>...</td>\n",
       "      <td>...</td>\n",
       "      <td>...</td>\n",
       "      <td>...</td>\n",
       "      <td>...</td>\n",
       "      <td>...</td>\n",
       "      <td>...</td>\n",
       "      <td>...</td>\n",
       "    </tr>\n",
       "    <tr>\n",
       "      <th>119203</th>\n",
       "      <td>-0.783417</td>\n",
       "      <td>1.869556</td>\n",
       "      <td>1.078272</td>\n",
       "      <td>1.318247</td>\n",
       "      <td>-0.180319</td>\n",
       "      <td>-0.126020</td>\n",
       "      <td>-0.254949</td>\n",
       "      <td>-0.720811</td>\n",
       "      <td>-0.373385</td>\n",
       "      <td>0.0</td>\n",
       "      <td>1.0</td>\n",
       "    </tr>\n",
       "    <tr>\n",
       "      <th>119204</th>\n",
       "      <td>-0.003822</td>\n",
       "      <td>1.869556</td>\n",
       "      <td>1.078272</td>\n",
       "      <td>1.318247</td>\n",
       "      <td>-0.180319</td>\n",
       "      <td>2.484394</td>\n",
       "      <td>-0.254949</td>\n",
       "      <td>1.801652</td>\n",
       "      <td>-0.373385</td>\n",
       "      <td>0.0</td>\n",
       "      <td>1.0</td>\n",
       "    </tr>\n",
       "    <tr>\n",
       "      <th>119205</th>\n",
       "      <td>-0.674866</td>\n",
       "      <td>1.869556</td>\n",
       "      <td>1.078272</td>\n",
       "      <td>1.318247</td>\n",
       "      <td>-0.180319</td>\n",
       "      <td>1.285566</td>\n",
       "      <td>-0.254949</td>\n",
       "      <td>4.324115</td>\n",
       "      <td>-0.373385</td>\n",
       "      <td>0.0</td>\n",
       "      <td>1.0</td>\n",
       "    </tr>\n",
       "    <tr>\n",
       "      <th>119206</th>\n",
       "      <td>0.065256</td>\n",
       "      <td>1.869556</td>\n",
       "      <td>1.078272</td>\n",
       "      <td>1.318247</td>\n",
       "      <td>-0.180319</td>\n",
       "      <td>0.063353</td>\n",
       "      <td>-0.254949</td>\n",
       "      <td>-0.720811</td>\n",
       "      <td>-0.373385</td>\n",
       "      <td>0.0</td>\n",
       "      <td>1.0</td>\n",
       "    </tr>\n",
       "    <tr>\n",
       "      <th>119207</th>\n",
       "      <td>1.012612</td>\n",
       "      <td>2.637809</td>\n",
       "      <td>1.078272</td>\n",
       "      <td>2.372498</td>\n",
       "      <td>-0.180319</td>\n",
       "      <td>1.136314</td>\n",
       "      <td>-0.254949</td>\n",
       "      <td>1.801652</td>\n",
       "      <td>-0.373385</td>\n",
       "      <td>0.0</td>\n",
       "      <td>1.0</td>\n",
       "    </tr>\n",
       "  </tbody>\n",
       "</table>\n",
       "<p>119208 rows × 11 columns</p>\n",
       "</div>"
      ],
      "text/plain": [
       "        lead_time  total_nights  stays_in_weekend_nights  \\\n",
       "0        2.364568     -0.819326                -0.931621   \n",
       "1        2.695155     -0.819326                -0.931621   \n",
       "2       -0.941310     -0.435200                -0.931621   \n",
       "3       -0.882100     -0.435200                -0.931621   \n",
       "4       -0.872232     -0.051074                -0.931621   \n",
       "...           ...           ...                      ...   \n",
       "119203  -0.783417      1.869556                 1.078272   \n",
       "119204  -0.003822      1.869556                 1.078272   \n",
       "119205  -0.674866      1.869556                 1.078272   \n",
       "119206   0.065256      1.869556                 1.078272   \n",
       "119207   1.012612      2.637809                 1.078272   \n",
       "\n",
       "        stays_in_week_nights  is_repeated_guest       adr  \\\n",
       "0                  -1.317380          -0.180319 -2.330177   \n",
       "1                  -1.317380          -0.180319 -2.330177   \n",
       "2                  -0.790255          -0.180319 -0.610687   \n",
       "3                  -0.790255          -0.180319 -0.610687   \n",
       "4                  -0.263129          -0.180319 -0.083377   \n",
       "...                      ...                ...       ...   \n",
       "119203              1.318247          -0.180319 -0.126020   \n",
       "119204              1.318247          -0.180319  2.484394   \n",
       "119205              1.318247          -0.180319  1.285566   \n",
       "119206              1.318247          -0.180319  0.063353   \n",
       "119207              2.372498          -0.180319  1.136314   \n",
       "\n",
       "        required_car_parking_spaces  total_of_special_requests  deposit_type  \\\n",
       "0                         -0.254949                  -0.720811     -0.373385   \n",
       "1                         -0.254949                  -0.720811     -0.373385   \n",
       "2                         -0.254949                  -0.720811     -0.373385   \n",
       "3                         -0.254949                  -0.720811     -0.373385   \n",
       "4                         -0.254949                   0.540421     -0.373385   \n",
       "...                             ...                        ...           ...   \n",
       "119203                    -0.254949                  -0.720811     -0.373385   \n",
       "119204                    -0.254949                   1.801652     -0.373385   \n",
       "119205                    -0.254949                   4.324115     -0.373385   \n",
       "119206                    -0.254949                  -0.720811     -0.373385   \n",
       "119207                    -0.254949                   1.801652     -0.373385   \n",
       "\n",
       "        reservation_status_Canceled  reservation_status_Check-Out  \n",
       "0                               1.0                           0.0  \n",
       "1                               1.0                           0.0  \n",
       "2                               0.0                           1.0  \n",
       "3                               0.0                           1.0  \n",
       "4                               0.0                           1.0  \n",
       "...                             ...                           ...  \n",
       "119203                          0.0                           1.0  \n",
       "119204                          0.0                           1.0  \n",
       "119205                          0.0                           1.0  \n",
       "119206                          0.0                           1.0  \n",
       "119207                          0.0                           1.0  \n",
       "\n",
       "[119208 rows x 11 columns]"
      ]
     },
     "metadata": {},
     "output_type": "display_data"
    },
    {
     "data": {
      "text/markdown": [
       "After feature selection, dataframe has 11 columns."
      ],
      "text/plain": [
       "<IPython.core.display.Markdown object>"
      ]
     },
     "metadata": {},
     "output_type": "display_data"
    }
   ],
   "source": [
    "# Select the features that were identified as important during feature selection\n",
    "X = X[selected_features]\n",
    "display(X, Markdown(f\"After feature selection, dataframe has {len(X.columns)} columns.\"))"
   ]
  },
  {
   "cell_type": "code",
   "execution_count": 79,
   "id": "e5099090",
   "metadata": {},
   "outputs": [
    {
     "data": {
      "text/plain": [
       "0         1\n",
       "1         1\n",
       "2         0\n",
       "3         0\n",
       "4         0\n",
       "         ..\n",
       "119203    0\n",
       "119204    0\n",
       "119205    0\n",
       "119206    0\n",
       "119207    0\n",
       "Name: is_canceled, Length: 119208, dtype: int64"
      ]
     },
     "execution_count": 79,
     "metadata": {},
     "output_type": "execute_result"
    }
   ],
   "source": [
    "# Display the target values\n",
    "y"
   ]
  },
  {
   "cell_type": "markdown",
   "id": "edf5e14c",
   "metadata": {},
   "source": [
    "##### Save the dataframe"
   ]
  },
  {
   "cell_type": "code",
   "execution_count": 80,
   "id": "86c8d9f7",
   "metadata": {},
   "outputs": [],
   "source": [
    "# Save the processed dataframe ready for modeling\n",
    "processed_data.to_csv('./Datasets/data_processed_for_ML.csv')"
   ]
  },
  {
   "cell_type": "code",
   "execution_count": null,
   "id": "1e1460c7",
   "metadata": {},
   "outputs": [],
   "source": []
  },
  {
   "cell_type": "markdown",
   "id": "08e1946b",
   "metadata": {},
   "source": [
    "### 3. Model Training and Evaluation\n",
    "In this section, we begin by splitting our dataset into training and testing sets to assess the predictive performance of our **logistic regression model**. We'll delve into accuracy metrics, including the confusion matrix, to gauge the model's effectiveness.\n",
    "\n",
    "Following that, we employ cross-validation to ensure the model's robustness and reliability across different data splits."
   ]
  },
  {
   "cell_type": "markdown",
   "id": "7dbe1d1e",
   "metadata": {},
   "source": [
    "#### Train-Test Split and Logistic Regression"
   ]
  },
  {
   "cell_type": "code",
   "execution_count": 81,
   "id": "becd9006",
   "metadata": {},
   "outputs": [],
   "source": [
    "# Import the train-test split function from sklearn and  the Logistic Regression classifier\n",
    "from sklearn.model_selection import train_test_split  \n",
    "from sklearn.linear_model import LogisticRegression  "
   ]
  },
  {
   "cell_type": "code",
   "execution_count": 82,
   "id": "cf094fc0",
   "metadata": {},
   "outputs": [],
   "source": [
    "# Split the data into training and testing sets\n",
    "X_train, X_test, y_train, y_test = train_test_split(X, y, test_size=0.25)"
   ]
  },
  {
   "cell_type": "code",
   "execution_count": 83,
   "id": "637b2dfb",
   "metadata": {},
   "outputs": [
    {
     "data": {
      "text/plain": [
       "(89406, 11)"
      ]
     },
     "execution_count": 83,
     "metadata": {},
     "output_type": "execute_result"
    }
   ],
   "source": [
    "X_train.shape"
   ]
  },
  {
   "cell_type": "code",
   "execution_count": 84,
   "id": "37ab820b",
   "metadata": {},
   "outputs": [
    {
     "data": {
      "text/html": [
       "<style>#sk-container-id-2 {color: black;background-color: white;}#sk-container-id-2 pre{padding: 0;}#sk-container-id-2 div.sk-toggleable {background-color: white;}#sk-container-id-2 label.sk-toggleable__label {cursor: pointer;display: block;width: 100%;margin-bottom: 0;padding: 0.3em;box-sizing: border-box;text-align: center;}#sk-container-id-2 label.sk-toggleable__label-arrow:before {content: \"▸\";float: left;margin-right: 0.25em;color: #696969;}#sk-container-id-2 label.sk-toggleable__label-arrow:hover:before {color: black;}#sk-container-id-2 div.sk-estimator:hover label.sk-toggleable__label-arrow:before {color: black;}#sk-container-id-2 div.sk-toggleable__content {max-height: 0;max-width: 0;overflow: hidden;text-align: left;background-color: #f0f8ff;}#sk-container-id-2 div.sk-toggleable__content pre {margin: 0.2em;color: black;border-radius: 0.25em;background-color: #f0f8ff;}#sk-container-id-2 input.sk-toggleable__control:checked~div.sk-toggleable__content {max-height: 200px;max-width: 100%;overflow: auto;}#sk-container-id-2 input.sk-toggleable__control:checked~label.sk-toggleable__label-arrow:before {content: \"▾\";}#sk-container-id-2 div.sk-estimator input.sk-toggleable__control:checked~label.sk-toggleable__label {background-color: #d4ebff;}#sk-container-id-2 div.sk-label input.sk-toggleable__control:checked~label.sk-toggleable__label {background-color: #d4ebff;}#sk-container-id-2 input.sk-hidden--visually {border: 0;clip: rect(1px 1px 1px 1px);clip: rect(1px, 1px, 1px, 1px);height: 1px;margin: -1px;overflow: hidden;padding: 0;position: absolute;width: 1px;}#sk-container-id-2 div.sk-estimator {font-family: monospace;background-color: #f0f8ff;border: 1px dotted black;border-radius: 0.25em;box-sizing: border-box;margin-bottom: 0.5em;}#sk-container-id-2 div.sk-estimator:hover {background-color: #d4ebff;}#sk-container-id-2 div.sk-parallel-item::after {content: \"\";width: 100%;border-bottom: 1px solid gray;flex-grow: 1;}#sk-container-id-2 div.sk-label:hover label.sk-toggleable__label {background-color: #d4ebff;}#sk-container-id-2 div.sk-serial::before {content: \"\";position: absolute;border-left: 1px solid gray;box-sizing: border-box;top: 0;bottom: 0;left: 50%;z-index: 0;}#sk-container-id-2 div.sk-serial {display: flex;flex-direction: column;align-items: center;background-color: white;padding-right: 0.2em;padding-left: 0.2em;position: relative;}#sk-container-id-2 div.sk-item {position: relative;z-index: 1;}#sk-container-id-2 div.sk-parallel {display: flex;align-items: stretch;justify-content: center;background-color: white;position: relative;}#sk-container-id-2 div.sk-item::before, #sk-container-id-2 div.sk-parallel-item::before {content: \"\";position: absolute;border-left: 1px solid gray;box-sizing: border-box;top: 0;bottom: 0;left: 50%;z-index: -1;}#sk-container-id-2 div.sk-parallel-item {display: flex;flex-direction: column;z-index: 1;position: relative;background-color: white;}#sk-container-id-2 div.sk-parallel-item:first-child::after {align-self: flex-end;width: 50%;}#sk-container-id-2 div.sk-parallel-item:last-child::after {align-self: flex-start;width: 50%;}#sk-container-id-2 div.sk-parallel-item:only-child::after {width: 0;}#sk-container-id-2 div.sk-dashed-wrapped {border: 1px dashed gray;margin: 0 0.4em 0.5em 0.4em;box-sizing: border-box;padding-bottom: 0.4em;background-color: white;}#sk-container-id-2 div.sk-label label {font-family: monospace;font-weight: bold;display: inline-block;line-height: 1.2em;}#sk-container-id-2 div.sk-label-container {text-align: center;}#sk-container-id-2 div.sk-container {/* jupyter's `normalize.less` sets `[hidden] { display: none; }` but bootstrap.min.css set `[hidden] { display: none !important; }` so we also need the `!important` here to be able to override the default hidden behavior on the sphinx rendered scikit-learn.org. See: https://github.com/scikit-learn/scikit-learn/issues/21755 */display: inline-block !important;position: relative;}#sk-container-id-2 div.sk-text-repr-fallback {display: none;}</style><div id=\"sk-container-id-2\" class=\"sk-top-container\"><div class=\"sk-text-repr-fallback\"><pre>LogisticRegression()</pre><b>In a Jupyter environment, please rerun this cell to show the HTML representation or trust the notebook. <br />On GitHub, the HTML representation is unable to render, please try loading this page with nbviewer.org.</b></div><div class=\"sk-container\" hidden><div class=\"sk-item\"><div class=\"sk-estimator sk-toggleable\"><input class=\"sk-toggleable__control sk-hidden--visually\" id=\"sk-estimator-id-4\" type=\"checkbox\" checked><label for=\"sk-estimator-id-4\" class=\"sk-toggleable__label sk-toggleable__label-arrow\">LogisticRegression</label><div class=\"sk-toggleable__content\"><pre>LogisticRegression()</pre></div></div></div></div></div>"
      ],
      "text/plain": [
       "LogisticRegression()"
      ]
     },
     "execution_count": 84,
     "metadata": {},
     "output_type": "execute_result"
    }
   ],
   "source": [
    "# Initialize Logistic Regression Model\n",
    "logreg=LogisticRegression()\n",
    "\n",
    "# Fit the model with train data\n",
    "logreg.fit(X_train, y_train)"
   ]
  },
  {
   "cell_type": "code",
   "execution_count": 85,
   "id": "c6d96348",
   "metadata": {},
   "outputs": [
    {
     "data": {
      "text/plain": [
       "array([1, 1, 1, ..., 1, 0, 1])"
      ]
     },
     "execution_count": 85,
     "metadata": {},
     "output_type": "execute_result"
    }
   ],
   "source": [
    "# Generate predictions using the Logistic Regression model on the test dataset\n",
    "pred = logreg.predict(X_test)\n",
    "pred"
   ]
  },
  {
   "cell_type": "markdown",
   "id": "eecf4939",
   "metadata": {},
   "source": [
    "#### Confusion Matrix and Accuracy Score"
   ]
  },
  {
   "cell_type": "code",
   "execution_count": 86,
   "id": "0daa7b4a",
   "metadata": {},
   "outputs": [],
   "source": [
    "# Evaluate Model Performance: Confusion Matrix, Accuracy Score\n",
    "from sklearn.metrics import confusion_matrix, accuracy_score"
   ]
  },
  {
   "cell_type": "code",
   "execution_count": 87,
   "id": "1d307636",
   "metadata": {},
   "outputs": [
    {
     "data": {
      "text/plain": [
       "array([[17819,   727],\n",
       "       [  745, 10511]])"
      ]
     },
     "execution_count": 87,
     "metadata": {},
     "output_type": "execute_result"
    }
   ],
   "source": [
    "# Calculate and display the Confusion Matrix\n",
    "confusion_matrix(y_test, pred)"
   ]
  },
  {
   "cell_type": "markdown",
   "id": "c5fa0aad",
   "metadata": {},
   "source": [
    "\n",
    "    - Top Left: True Positive\n",
    "    - Top Right: False Positive\n",
    "    - Bottom Left: False Negative\n",
    "    - Bottom Right: True Negative\n",
    "\n"
   ]
  },
  {
   "cell_type": "code",
   "execution_count": 88,
   "id": "6262d901",
   "metadata": {},
   "outputs": [
    {
     "name": "stdout",
     "output_type": "stream",
     "text": [
      "Accuracy score: 0.951\n"
     ]
    }
   ],
   "source": [
    "# Calculate and display the Accuracy Score\n",
    "acsc = accuracy_score(y_test, pred)\n",
    "print('Accuracy score:', round(acsc, 3))"
   ]
  },
  {
   "cell_type": "markdown",
   "id": "e6511ce0",
   "metadata": {},
   "source": [
    "#### Cross Validation score\n",
    "We utilize cross-validation to assess the performance of our logistic regression model. Cross-validation is a valuable technique for estimating how well the model is likely to perform on unseen data. We use the `cross_val_score` function from scikit-learn to obtain a more robust evaluation of our model's accuracy across different subsets of the dataset.\n"
   ]
  },
  {
   "cell_type": "code",
   "execution_count": 89,
   "id": "41a5309c",
   "metadata": {},
   "outputs": [],
   "source": [
    "# Import Cross-Validation module\n",
    "from sklearn.model_selection import cross_val_score"
   ]
  },
  {
   "cell_type": "code",
   "execution_count": 90,
   "id": "f049d8bd",
   "metadata": {},
   "outputs": [
    {
     "data": {
      "text/plain": [
       "array([0.99102424, 0.98498448, 0.89388474, 0.90898415, 0.82904119,\n",
       "       0.97642815, 0.99605738, 0.99505075, 0.99639262, 0.93263423])"
      ]
     },
     "execution_count": 90,
     "metadata": {},
     "output_type": "execute_result"
    }
   ],
   "source": [
    "    ## logreg: The Logistic Regression model\n",
    "    ## X: The feature matrix\n",
    "    ## y: The target variable\n",
    "    ## cv=10: The number of folds in cross-validation\n",
    "\n",
    "# Calculate the cross-validation score for the Logistic Regression model\n",
    "score = cross_val_score(logreg, X, y, cv=10)\n",
    "score"
   ]
  },
  {
   "cell_type": "markdown",
   "id": "215d2d7e",
   "metadata": {},
   "source": [
    "_The cv=10 parameter in cross-validation (CV) means that the dataset is split into 10 equal parts or \"folds.\" The cross-validation process then trains and tests the model 10 times, each time using a different fold as the test set and the remaining 9 folds as the training set. This helps assess the model's performance more robustly by providing multiple estimates of its accuracy._"
   ]
  },
  {
   "cell_type": "code",
   "execution_count": 91,
   "id": "d73db9a1",
   "metadata": {},
   "outputs": [
    {
     "data": {
      "text/plain": [
       "0.9504481924909456"
      ]
     },
     "execution_count": 91,
     "metadata": {},
     "output_type": "execute_result"
    }
   ],
   "source": [
    "# Calculate the average scores obtained\n",
    "score.mean()"
   ]
  },
  {
   "cell_type": "markdown",
   "id": "2cc2526f",
   "metadata": {},
   "source": [
    "The average accuracy score obtained through 10-fold cross-validation is approximately 0.95, indicating a high level of model accuracy in predicting hotel booking cancellations."
   ]
  },
  {
   "cell_type": "code",
   "execution_count": null,
   "id": "437b41b5",
   "metadata": {},
   "outputs": [],
   "source": []
  },
  {
   "cell_type": "markdown",
   "id": "01aa04ce",
   "metadata": {},
   "source": [
    "### 4. Model Evaluation and Selection\n",
    "\n",
    "In this last section, we will evaluate the performance of various classification models by analyzing essential metrics such as accuracy, R-squared (R2) score, mean absolute error (MAE), mean squared error (MSE), and root mean squared error (RMSE). We'll also utilize confusion matrices to gain insights into the models' ability to correctly classify instances. Ultimately, we aim to select the most suitable model for our dataset based on these evaluations.\n",
    "\n",
    "We will employ a loop to fit each model, make predictions, and calculate performance metrics. Finally, we will highlight the best-performing model for further analysis.\n",
    "\n",
    "Let's dive into the detailed evaluation of each model's performance and make an informed choice for our predictive modeling."
   ]
  },
  {
   "cell_type": "code",
   "execution_count": 92,
   "id": "5e6a8d91",
   "metadata": {},
   "outputs": [],
   "source": [
    "# Import Gaussian Naive Bayes, K-Nearest Neighbors, Random Forest, and Decision Tree classifiers\n",
    "from sklearn.naive_bayes import GaussianNB\n",
    "from sklearn.neighbors import KNeighborsClassifier\n",
    "from sklearn.ensemble import RandomForestClassifier\n",
    "from sklearn.tree import DecisionTreeClassifier\n",
    "\n",
    "# Import necessary metrics for evaluation: Mean Absolute Error (MAE), R-squared (R2) Score, and Mean Squared Error (MSE)\n",
    "from sklearn.metrics import mean_absolute_error, r2_score, mean_squared_error"
   ]
  },
  {
   "cell_type": "code",
   "execution_count": 93,
   "id": "fcfa4f5f",
   "metadata": {},
   "outputs": [],
   "source": [
    "# Initialize a list to store model names and instances\n",
    "models = []\n",
    "\n",
    "# Add models to the list\n",
    "models.append(('Logistic Regression', LogisticRegression()))  # 2nd to initialize\n",
    "models.append(('Naive bayes', GaussianNB()))  \n",
    "models.append(('Random Forest', RandomForestClassifier()))  \n",
    "models.append(('Decision Tree', DecisionTreeClassifier())) \n",
    "models.append(('KNN', KNeighborsClassifier()))"
   ]
  },
  {
   "cell_type": "code",
   "execution_count": 94,
   "id": "4144cab3",
   "metadata": {},
   "outputs": [
    {
     "data": {
      "text/plain": [
       "[('Logistic Regression', LogisticRegression()),\n",
       " ('Naive bayes', GaussianNB()),\n",
       " ('Random Forest', RandomForestClassifier()),\n",
       " ('Decision Tree', DecisionTreeClassifier()),\n",
       " ('KNN', KNeighborsClassifier())]"
      ]
     },
     "execution_count": 94,
     "metadata": {},
     "output_type": "execute_result"
    }
   ],
   "source": [
    "# Show models\n",
    "models"
   ]
  },
  {
   "cell_type": "markdown",
   "id": "144252cc",
   "metadata": {},
   "source": [
    "In the following iterative process, we evaluate various classification models by fitting each one to the training data and then making predictions on the test data. Key performance metrics, including accuracy, MAE, MSE, R2, and RMSE, are calculated for each model. We organize the results in a structured format, enabling us to identify the model with the highest accuracy score for further analysis and selection."
   ]
  },
  {
   "cell_type": "code",
   "execution_count": 95,
   "id": "55aacdb5",
   "metadata": {},
   "outputs": [
    {
     "data": {
      "text/html": [
       "<style type=\"text/css\">\n",
       "#T_689c6_row2_col0, #T_689c6_row2_col1, #T_689c6_row2_col2, #T_689c6_row2_col3, #T_689c6_row2_col4, #T_689c6_row2_col5, #T_689c6_row2_col6, #T_689c6_row2_col7, #T_689c6_row2_col8, #T_689c6_row2_col9 {\n",
       "  background: purple;\n",
       "}\n",
       "</style>\n",
       "<table id=\"T_689c6\">\n",
       "  <thead>\n",
       "    <tr>\n",
       "      <th class=\"blank level0\" >&nbsp;</th>\n",
       "      <th id=\"T_689c6_level0_col0\" class=\"col_heading level0 col0\" >Model</th>\n",
       "      <th id=\"T_689c6_level0_col1\" class=\"col_heading level0 col1\" >True Positive</th>\n",
       "      <th id=\"T_689c6_level0_col2\" class=\"col_heading level0 col2\" >False Positive</th>\n",
       "      <th id=\"T_689c6_level0_col3\" class=\"col_heading level0 col3\" >False Negative</th>\n",
       "      <th id=\"T_689c6_level0_col4\" class=\"col_heading level0 col4\" >True Negative</th>\n",
       "      <th id=\"T_689c6_level0_col5\" class=\"col_heading level0 col5\" >Accuracy Score</th>\n",
       "      <th id=\"T_689c6_level0_col6\" class=\"col_heading level0 col6\" >MAE</th>\n",
       "      <th id=\"T_689c6_level0_col7\" class=\"col_heading level0 col7\" >MSE</th>\n",
       "      <th id=\"T_689c6_level0_col8\" class=\"col_heading level0 col8\" >R2</th>\n",
       "      <th id=\"T_689c6_level0_col9\" class=\"col_heading level0 col9\" >RMSE</th>\n",
       "    </tr>\n",
       "  </thead>\n",
       "  <tbody>\n",
       "    <tr>\n",
       "      <th id=\"T_689c6_level0_row0\" class=\"row_heading level0 row0\" >0</th>\n",
       "      <td id=\"T_689c6_row0_col0\" class=\"data row0 col0\" >Logistic Regression</td>\n",
       "      <td id=\"T_689c6_row0_col1\" class=\"data row0 col1\" >10511</td>\n",
       "      <td id=\"T_689c6_row0_col2\" class=\"data row0 col2\" >727</td>\n",
       "      <td id=\"T_689c6_row0_col3\" class=\"data row0 col3\" >745</td>\n",
       "      <td id=\"T_689c6_row0_col4\" class=\"data row0 col4\" >17819</td>\n",
       "      <td id=\"T_689c6_row0_col5\" class=\"data row0 col5\" >0.950607</td>\n",
       "      <td id=\"T_689c6_row0_col6\" class=\"data row0 col6\" >0.049393</td>\n",
       "      <td id=\"T_689c6_row0_col7\" class=\"data row0 col7\" >0.049393</td>\n",
       "      <td id=\"T_689c6_row0_col8\" class=\"data row0 col8\" >0.789855</td>\n",
       "      <td id=\"T_689c6_row0_col9\" class=\"data row0 col9\" >0.222245</td>\n",
       "    </tr>\n",
       "    <tr>\n",
       "      <th id=\"T_689c6_level0_row1\" class=\"row_heading level0 row1\" >1</th>\n",
       "      <td id=\"T_689c6_row1_col0\" class=\"data row1 col0\" >Naive bayes</td>\n",
       "      <td id=\"T_689c6_row1_col1\" class=\"data row1 col1\" >10403</td>\n",
       "      <td id=\"T_689c6_row1_col2\" class=\"data row1 col2\" >656</td>\n",
       "      <td id=\"T_689c6_row1_col3\" class=\"data row1 col3\" >853</td>\n",
       "      <td id=\"T_689c6_row1_col4\" class=\"data row1 col4\" >17890</td>\n",
       "      <td id=\"T_689c6_row1_col5\" class=\"data row1 col5\" >0.949366</td>\n",
       "      <td id=\"T_689c6_row1_col6\" class=\"data row1 col6\" >0.050634</td>\n",
       "      <td id=\"T_689c6_row1_col7\" class=\"data row1 col7\" >0.050634</td>\n",
       "      <td id=\"T_689c6_row1_col8\" class=\"data row1 col8\" >0.784573</td>\n",
       "      <td id=\"T_689c6_row1_col9\" class=\"data row1 col9\" >0.225020</td>\n",
       "    </tr>\n",
       "    <tr>\n",
       "      <th id=\"T_689c6_level0_row2\" class=\"row_heading level0 row2\" >2</th>\n",
       "      <td id=\"T_689c6_row2_col0\" class=\"data row2 col0\" >Random Forest</td>\n",
       "      <td id=\"T_689c6_row2_col1\" class=\"data row2 col1\" >10424</td>\n",
       "      <td id=\"T_689c6_row2_col2\" class=\"data row2 col2\" >638</td>\n",
       "      <td id=\"T_689c6_row2_col3\" class=\"data row2 col3\" >832</td>\n",
       "      <td id=\"T_689c6_row2_col4\" class=\"data row2 col4\" >17908</td>\n",
       "      <td id=\"T_689c6_row2_col5\" class=\"data row2 col5\" >0.950674</td>\n",
       "      <td id=\"T_689c6_row2_col6\" class=\"data row2 col6\" >0.049326</td>\n",
       "      <td id=\"T_689c6_row2_col7\" class=\"data row2 col7\" >0.049326</td>\n",
       "      <td id=\"T_689c6_row2_col8\" class=\"data row2 col8\" >0.790141</td>\n",
       "      <td id=\"T_689c6_row2_col9\" class=\"data row2 col9\" >0.222094</td>\n",
       "    </tr>\n",
       "    <tr>\n",
       "      <th id=\"T_689c6_level0_row3\" class=\"row_heading level0 row3\" >3</th>\n",
       "      <td id=\"T_689c6_row3_col0\" class=\"data row3 col0\" >Decision Tree</td>\n",
       "      <td id=\"T_689c6_row3_col1\" class=\"data row3 col1\" >10120</td>\n",
       "      <td id=\"T_689c6_row3_col2\" class=\"data row3 col2\" >959</td>\n",
       "      <td id=\"T_689c6_row3_col3\" class=\"data row3 col3\" >1136</td>\n",
       "      <td id=\"T_689c6_row3_col4\" class=\"data row3 col4\" >17587</td>\n",
       "      <td id=\"T_689c6_row3_col5\" class=\"data row3 col5\" >0.929703</td>\n",
       "      <td id=\"T_689c6_row3_col6\" class=\"data row3 col6\" >0.070297</td>\n",
       "      <td id=\"T_689c6_row3_col7\" class=\"data row3 col7\" >0.070297</td>\n",
       "      <td id=\"T_689c6_row3_col8\" class=\"data row3 col8\" >0.700915</td>\n",
       "      <td id=\"T_689c6_row3_col9\" class=\"data row3 col9\" >0.265136</td>\n",
       "    </tr>\n",
       "    <tr>\n",
       "      <th id=\"T_689c6_level0_row4\" class=\"row_heading level0 row4\" >4</th>\n",
       "      <td id=\"T_689c6_row4_col0\" class=\"data row4 col0\" >KNN</td>\n",
       "      <td id=\"T_689c6_row4_col1\" class=\"data row4 col1\" >10415</td>\n",
       "      <td id=\"T_689c6_row4_col2\" class=\"data row4 col2\" >653</td>\n",
       "      <td id=\"T_689c6_row4_col3\" class=\"data row4 col3\" >841</td>\n",
       "      <td id=\"T_689c6_row4_col4\" class=\"data row4 col4\" >17893</td>\n",
       "      <td id=\"T_689c6_row4_col5\" class=\"data row4 col5\" >0.949869</td>\n",
       "      <td id=\"T_689c6_row4_col6\" class=\"data row4 col6\" >0.050131</td>\n",
       "      <td id=\"T_689c6_row4_col7\" class=\"data row4 col7\" >0.050131</td>\n",
       "      <td id=\"T_689c6_row4_col8\" class=\"data row4 col8\" >0.786714</td>\n",
       "      <td id=\"T_689c6_row4_col9\" class=\"data row4 col9\" >0.223899</td>\n",
       "    </tr>\n",
       "  </tbody>\n",
       "</table>\n"
      ],
      "text/plain": [
       "<pandas.io.formats.style.Styler at 0x7fd0eab16760>"
      ]
     },
     "execution_count": 95,
     "metadata": {},
     "output_type": "execute_result"
    }
   ],
   "source": [
    "results = []\n",
    "\n",
    "for name, model in models:\n",
    "    model.fit(X_train, y_train)  # Fit model\n",
    "    predictions = model.predict(X_test) # Predict\n",
    "    tn, fp, fn, tp = confusion_matrix(y_test, predictions).ravel() # Confusion Matrix\n",
    "    accuracy = accuracy_score(y_test, predictions) # Accuracy score\n",
    "    mae = mean_absolute_error(y_test, predictions) # Mean Absolute Error\n",
    "    mse = mean_squared_error(y_test, predictions) # Mean Squared Error\n",
    "    r2 = r2_score(y_test, predictions) # R-squared (R2) Score\n",
    "    rmse = np.sqrt(mse) # Root Mean Squared error\n",
    "\n",
    "    results.append([name, tp, fp, fn, tn, accuracy, mae, mse, r2, rmse])\n",
    "\n",
    "# Creating a DataFrame from the results list\n",
    "columns = ['Model', 'True Positive', 'False Positive', 'False Negative', 'True Negative', 'Accuracy Score', 'MAE', 'MSE', 'R2', 'RMSE']\n",
    "results_df = pd.DataFrame(results, columns=columns)\n",
    "\n",
    "# Find the row with the highest accuracy\n",
    "highest_accuracy_row = results_df.loc[results_df['Accuracy Score'].idxmax()]\n",
    "\n",
    "# Apply styling to highlight the row with the highest accuracy\n",
    "highlighted_results_df = results_df.style.apply(lambda row: ['background: purple' if row.equals(highest_accuracy_row) else '' for v in row], axis=1)\n",
    "\n",
    "highlighted_results_df"
   ]
  },
  {
   "cell_type": "markdown",
   "id": "7d405bfd",
   "metadata": {},
   "source": [
    "#### Model Performance Summary"
   ]
  },
  {
   "cell_type": "markdown",
   "id": "c3761f2b",
   "metadata": {},
   "source": [
    "The following results depict the performance of various classification models on the dataset. Let's dive into each model's outcomes and draw meaningful comparisons:\n",
    "\n",
    "**Logistic Regression:**\n",
    "    \n",
    "    - The Logistic Regression model achieves a commendable accuracy score of 95.21%, underlining its ability to classify instances accurately. With a mean absolute error (MAE) of 0.0479, mean squared error (MSE) of 0.0479, root mean squared error (RMSE) of 0.2189, and an R-squared (R2) score of 0.7955, this model captures a significant portion of the data's variance. Logistic Regression excels in both prediction accuracy and explanatory power, effectively minimizing False Positives and False Negatives.\n",
    "\n",
    "**Naive Bayes:**\n",
    "\n",
    "    - Naive Bayes exhibits solid performance with an accuracy score of 95.27%, making it a competitive choice among models. The model maintains a respectable MAE of 0.0473, along with an MSE of 0.0473 and RMSE of 0.2175. While its R2 score of 0.7982 indicates decent explanatory power, its accuracy slightly lags behind other models. Nevertheless, Naive Bayes offers reliable precision in its predictions.\n",
    "\n",
    "**Random Forest:**\n",
    "    \n",
    "    - The Random Forest model leads the pack with an impressive accuracy score of 95.28%. Its remarkably low MAE of 0.0472, coupled with an MSE of 0.0472 and RMSE of 0.2173, underscores its capability to provide predictions very close to the actual values. With an R2 score of 0.7988, the model captures a significant portion of the dataset's variance. Random Forest excels in accuracy, precision, and explanatory power, firmly establishing itself as the top performer.\n",
    "\n",
    "**Decision Tree:**\n",
    "    \n",
    "    - The Decision Tree model demonstrates commendable accuracy, reaching 92.98%. Its slightly elevated MAE of 0.0702 suggests that its predictions may exhibit a tad more variability. With an MSE of 0.0702, RMSE of 0.2650, and an R2 score of 0.7006, the model explains a substantial portion of the data's variance. Decision Tree offers good accuracy, albeit with a slightly lower level of explanatory power compared to Random Forest.\n",
    "\n",
    "**K-Nearest Neighbors (KNN):**\n",
    "    \n",
    "    - The K-Nearest Neighbors (KNN) model achieves an accuracy of 93.37%. It boasts a MAE of 0.0662, an MSE of 0.0662, an RMSE of 0.2586, and an R2 score of 0.7179, closely aligning with the Decision Tree model. KNN delivers consistent accuracy and precision, making it a solid performer in the lineup.\n",
    "\n",
    "In summary, the Random Forest model emerges as the frontrunner, excelling in accuracy, precision, and explanatory power. Logistic Regression and KNN closely follow suit, with strengths in balancing prediction accuracy and explanatory ability. Naive Bayes offers competitive accuracy and reliability, while the Decision Tree provides solid performance overall."
   ]
  }
 ],
 "metadata": {
  "kernelspec": {
   "display_name": "Python 3 (ipykernel)",
   "language": "python",
   "name": "python3"
  },
  "language_info": {
   "codemirror_mode": {
    "name": "ipython",
    "version": 3
   },
   "file_extension": ".py",
   "mimetype": "text/x-python",
   "name": "python",
   "nbconvert_exporter": "python",
   "pygments_lexer": "ipython3",
   "version": "3.9.13"
  }
 },
 "nbformat": 4,
 "nbformat_minor": 5
}
