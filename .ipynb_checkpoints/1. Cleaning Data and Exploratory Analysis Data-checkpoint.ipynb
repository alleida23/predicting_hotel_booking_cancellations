{
 "cells": [
  {
   "cell_type": "markdown",
   "id": "905fcfae",
   "metadata": {},
   "source": [
    "# Predicting Hotel Booking Cancellations\n",
    "### Cleaning data and EDA\n",
    "\n",
    "In this project, I'll use a hotel occupancy dataset. After data cleaning and exploratory analysis, I'll build predictive models with Logistic Regression, Random Forest, Decision Tree, KNN, and Naive Bayes to determine whether a booking will be canceled or not. By comparing their accuracy, I'll identify the most effective model for this prediction task."
   ]
  },
  {
   "cell_type": "code",
   "execution_count": 1,
   "id": "7b72779b",
   "metadata": {},
   "outputs": [],
   "source": [
    "# Import necessary libraries\n",
    "import pandas as pd\n",
    "import numpy as np\n",
    "import seaborn as sns\n",
    "import matplotlib.pyplot as plt\n",
    "from IPython.display import Markdown, display"
   ]
  },
  {
   "cell_type": "markdown",
   "id": "9dd09446",
   "metadata": {},
   "source": [
    "### 1. Import data"
   ]
  },
  {
   "cell_type": "code",
   "execution_count": 2,
   "id": "aab824e2",
   "metadata": {},
   "outputs": [
    {
     "data": {
      "text/html": [
       "<div>\n",
       "<style scoped>\n",
       "    .dataframe tbody tr th:only-of-type {\n",
       "        vertical-align: middle;\n",
       "    }\n",
       "\n",
       "    .dataframe tbody tr th {\n",
       "        vertical-align: top;\n",
       "    }\n",
       "\n",
       "    .dataframe thead th {\n",
       "        text-align: right;\n",
       "    }\n",
       "</style>\n",
       "<table border=\"1\" class=\"dataframe\">\n",
       "  <thead>\n",
       "    <tr style=\"text-align: right;\">\n",
       "      <th></th>\n",
       "      <th>hotel</th>\n",
       "      <th>is_canceled</th>\n",
       "      <th>lead_time</th>\n",
       "      <th>arrival_date_year</th>\n",
       "      <th>arrival_date_month</th>\n",
       "      <th>arrival_date_week_number</th>\n",
       "      <th>arrival_date_day_of_month</th>\n",
       "      <th>stays_in_weekend_nights</th>\n",
       "      <th>stays_in_week_nights</th>\n",
       "      <th>adults</th>\n",
       "      <th>children</th>\n",
       "      <th>babies</th>\n",
       "      <th>meal</th>\n",
       "      <th>country</th>\n",
       "      <th>market_segment</th>\n",
       "      <th>distribution_channel</th>\n",
       "      <th>is_repeated_guest</th>\n",
       "      <th>previous_cancellations</th>\n",
       "      <th>previous_bookings_not_canceled</th>\n",
       "      <th>reserved_room_type</th>\n",
       "      <th>assigned_room_type</th>\n",
       "      <th>booking_changes</th>\n",
       "      <th>deposit_type</th>\n",
       "      <th>agent</th>\n",
       "      <th>company</th>\n",
       "      <th>days_in_waiting_list</th>\n",
       "      <th>customer_type</th>\n",
       "      <th>adr</th>\n",
       "      <th>required_car_parking_spaces</th>\n",
       "      <th>total_of_special_requests</th>\n",
       "      <th>reservation_status</th>\n",
       "      <th>reservation_status_date</th>\n",
       "    </tr>\n",
       "  </thead>\n",
       "  <tbody>\n",
       "    <tr>\n",
       "      <th>0</th>\n",
       "      <td>Resort Hotel</td>\n",
       "      <td>0</td>\n",
       "      <td>342</td>\n",
       "      <td>2015</td>\n",
       "      <td>July</td>\n",
       "      <td>27</td>\n",
       "      <td>1</td>\n",
       "      <td>0</td>\n",
       "      <td>0</td>\n",
       "      <td>2</td>\n",
       "      <td>0.0</td>\n",
       "      <td>0</td>\n",
       "      <td>BB</td>\n",
       "      <td>PRT</td>\n",
       "      <td>Direct</td>\n",
       "      <td>Direct</td>\n",
       "      <td>0</td>\n",
       "      <td>0</td>\n",
       "      <td>0</td>\n",
       "      <td>C</td>\n",
       "      <td>C</td>\n",
       "      <td>3</td>\n",
       "      <td>No Deposit</td>\n",
       "      <td>NaN</td>\n",
       "      <td>NaN</td>\n",
       "      <td>0</td>\n",
       "      <td>Transient</td>\n",
       "      <td>0.0</td>\n",
       "      <td>0</td>\n",
       "      <td>0</td>\n",
       "      <td>Check-Out</td>\n",
       "      <td>7/1/2015</td>\n",
       "    </tr>\n",
       "    <tr>\n",
       "      <th>1</th>\n",
       "      <td>Resort Hotel</td>\n",
       "      <td>0</td>\n",
       "      <td>737</td>\n",
       "      <td>2015</td>\n",
       "      <td>July</td>\n",
       "      <td>27</td>\n",
       "      <td>1</td>\n",
       "      <td>0</td>\n",
       "      <td>0</td>\n",
       "      <td>2</td>\n",
       "      <td>0.0</td>\n",
       "      <td>0</td>\n",
       "      <td>BB</td>\n",
       "      <td>PRT</td>\n",
       "      <td>Direct</td>\n",
       "      <td>Direct</td>\n",
       "      <td>0</td>\n",
       "      <td>0</td>\n",
       "      <td>0</td>\n",
       "      <td>C</td>\n",
       "      <td>C</td>\n",
       "      <td>4</td>\n",
       "      <td>No Deposit</td>\n",
       "      <td>NaN</td>\n",
       "      <td>NaN</td>\n",
       "      <td>0</td>\n",
       "      <td>Transient</td>\n",
       "      <td>0.0</td>\n",
       "      <td>0</td>\n",
       "      <td>0</td>\n",
       "      <td>Check-Out</td>\n",
       "      <td>7/1/2015</td>\n",
       "    </tr>\n",
       "    <tr>\n",
       "      <th>2</th>\n",
       "      <td>Resort Hotel</td>\n",
       "      <td>0</td>\n",
       "      <td>7</td>\n",
       "      <td>2015</td>\n",
       "      <td>July</td>\n",
       "      <td>27</td>\n",
       "      <td>1</td>\n",
       "      <td>0</td>\n",
       "      <td>1</td>\n",
       "      <td>1</td>\n",
       "      <td>0.0</td>\n",
       "      <td>0</td>\n",
       "      <td>BB</td>\n",
       "      <td>GBR</td>\n",
       "      <td>Direct</td>\n",
       "      <td>Direct</td>\n",
       "      <td>0</td>\n",
       "      <td>0</td>\n",
       "      <td>0</td>\n",
       "      <td>A</td>\n",
       "      <td>C</td>\n",
       "      <td>0</td>\n",
       "      <td>No Deposit</td>\n",
       "      <td>NaN</td>\n",
       "      <td>NaN</td>\n",
       "      <td>0</td>\n",
       "      <td>Transient</td>\n",
       "      <td>75.0</td>\n",
       "      <td>0</td>\n",
       "      <td>0</td>\n",
       "      <td>Check-Out</td>\n",
       "      <td>7/2/2015</td>\n",
       "    </tr>\n",
       "    <tr>\n",
       "      <th>3</th>\n",
       "      <td>Resort Hotel</td>\n",
       "      <td>0</td>\n",
       "      <td>13</td>\n",
       "      <td>2015</td>\n",
       "      <td>July</td>\n",
       "      <td>27</td>\n",
       "      <td>1</td>\n",
       "      <td>0</td>\n",
       "      <td>1</td>\n",
       "      <td>1</td>\n",
       "      <td>0.0</td>\n",
       "      <td>0</td>\n",
       "      <td>BB</td>\n",
       "      <td>GBR</td>\n",
       "      <td>Corporate</td>\n",
       "      <td>Corporate</td>\n",
       "      <td>0</td>\n",
       "      <td>0</td>\n",
       "      <td>0</td>\n",
       "      <td>A</td>\n",
       "      <td>A</td>\n",
       "      <td>0</td>\n",
       "      <td>No Deposit</td>\n",
       "      <td>304.0</td>\n",
       "      <td>NaN</td>\n",
       "      <td>0</td>\n",
       "      <td>Transient</td>\n",
       "      <td>75.0</td>\n",
       "      <td>0</td>\n",
       "      <td>0</td>\n",
       "      <td>Check-Out</td>\n",
       "      <td>7/2/2015</td>\n",
       "    </tr>\n",
       "    <tr>\n",
       "      <th>4</th>\n",
       "      <td>Resort Hotel</td>\n",
       "      <td>0</td>\n",
       "      <td>14</td>\n",
       "      <td>2015</td>\n",
       "      <td>July</td>\n",
       "      <td>27</td>\n",
       "      <td>1</td>\n",
       "      <td>0</td>\n",
       "      <td>2</td>\n",
       "      <td>2</td>\n",
       "      <td>0.0</td>\n",
       "      <td>0</td>\n",
       "      <td>BB</td>\n",
       "      <td>GBR</td>\n",
       "      <td>Online TA</td>\n",
       "      <td>TA/TO</td>\n",
       "      <td>0</td>\n",
       "      <td>0</td>\n",
       "      <td>0</td>\n",
       "      <td>A</td>\n",
       "      <td>A</td>\n",
       "      <td>0</td>\n",
       "      <td>No Deposit</td>\n",
       "      <td>240.0</td>\n",
       "      <td>NaN</td>\n",
       "      <td>0</td>\n",
       "      <td>Transient</td>\n",
       "      <td>98.0</td>\n",
       "      <td>0</td>\n",
       "      <td>1</td>\n",
       "      <td>Check-Out</td>\n",
       "      <td>7/3/2015</td>\n",
       "    </tr>\n",
       "  </tbody>\n",
       "</table>\n",
       "</div>"
      ],
      "text/plain": [
       "          hotel  is_canceled  lead_time  arrival_date_year arrival_date_month  \\\n",
       "0  Resort Hotel            0        342               2015               July   \n",
       "1  Resort Hotel            0        737               2015               July   \n",
       "2  Resort Hotel            0          7               2015               July   \n",
       "3  Resort Hotel            0         13               2015               July   \n",
       "4  Resort Hotel            0         14               2015               July   \n",
       "\n",
       "   arrival_date_week_number  arrival_date_day_of_month  \\\n",
       "0                        27                          1   \n",
       "1                        27                          1   \n",
       "2                        27                          1   \n",
       "3                        27                          1   \n",
       "4                        27                          1   \n",
       "\n",
       "   stays_in_weekend_nights  stays_in_week_nights  adults  children  babies  \\\n",
       "0                        0                     0       2       0.0       0   \n",
       "1                        0                     0       2       0.0       0   \n",
       "2                        0                     1       1       0.0       0   \n",
       "3                        0                     1       1       0.0       0   \n",
       "4                        0                     2       2       0.0       0   \n",
       "\n",
       "  meal country market_segment distribution_channel  is_repeated_guest  \\\n",
       "0   BB     PRT         Direct               Direct                  0   \n",
       "1   BB     PRT         Direct               Direct                  0   \n",
       "2   BB     GBR         Direct               Direct                  0   \n",
       "3   BB     GBR      Corporate            Corporate                  0   \n",
       "4   BB     GBR      Online TA                TA/TO                  0   \n",
       "\n",
       "   previous_cancellations  previous_bookings_not_canceled reserved_room_type  \\\n",
       "0                       0                               0                  C   \n",
       "1                       0                               0                  C   \n",
       "2                       0                               0                  A   \n",
       "3                       0                               0                  A   \n",
       "4                       0                               0                  A   \n",
       "\n",
       "  assigned_room_type  booking_changes deposit_type  agent  company  \\\n",
       "0                  C                3   No Deposit    NaN      NaN   \n",
       "1                  C                4   No Deposit    NaN      NaN   \n",
       "2                  C                0   No Deposit    NaN      NaN   \n",
       "3                  A                0   No Deposit  304.0      NaN   \n",
       "4                  A                0   No Deposit  240.0      NaN   \n",
       "\n",
       "   days_in_waiting_list customer_type   adr  required_car_parking_spaces  \\\n",
       "0                     0     Transient   0.0                            0   \n",
       "1                     0     Transient   0.0                            0   \n",
       "2                     0     Transient  75.0                            0   \n",
       "3                     0     Transient  75.0                            0   \n",
       "4                     0     Transient  98.0                            0   \n",
       "\n",
       "   total_of_special_requests reservation_status reservation_status_date  \n",
       "0                          0          Check-Out                7/1/2015  \n",
       "1                          0          Check-Out                7/1/2015  \n",
       "2                          0          Check-Out                7/2/2015  \n",
       "3                          0          Check-Out                7/2/2015  \n",
       "4                          1          Check-Out                7/3/2015  "
      ]
     },
     "metadata": {},
     "output_type": "display_data"
    },
    {
     "data": {
      "text/plain": [
       "(119390, 32)"
      ]
     },
     "metadata": {},
     "output_type": "display_data"
    },
    {
     "data": {
      "text/plain": [
       "Index(['hotel', 'is_canceled', 'lead_time', 'arrival_date_year',\n",
       "       'arrival_date_month', 'arrival_date_week_number',\n",
       "       'arrival_date_day_of_month', 'stays_in_weekend_nights',\n",
       "       'stays_in_week_nights', 'adults', 'children', 'babies', 'meal',\n",
       "       'country', 'market_segment', 'distribution_channel',\n",
       "       'is_repeated_guest', 'previous_cancellations',\n",
       "       'previous_bookings_not_canceled', 'reserved_room_type',\n",
       "       'assigned_room_type', 'booking_changes', 'deposit_type', 'agent',\n",
       "       'company', 'days_in_waiting_list', 'customer_type', 'adr',\n",
       "       'required_car_parking_spaces', 'total_of_special_requests',\n",
       "       'reservation_status', 'reservation_status_date'],\n",
       "      dtype='object')"
      ]
     },
     "metadata": {},
     "output_type": "display_data"
    }
   ],
   "source": [
    "# Import data from csv file\n",
    "df = pd.read_csv(\"./Datasets/hotel_bookings.csv\")\n",
    "\n",
    "# Set the maximum number of columns to display to None\n",
    "pd.options.display.max_columns = None\n",
    "\n",
    "display(df.head(), df.shape, df.columns)"
   ]
  },
  {
   "cell_type": "markdown",
   "id": "a406a301",
   "metadata": {},
   "source": [
    "### 2. Data Cleaning & Wrangling"
   ]
  },
  {
   "cell_type": "markdown",
   "id": "8acf80b4",
   "metadata": {},
   "source": [
    "#### Handling Missing or Null Data"
   ]
  },
  {
   "cell_type": "code",
   "execution_count": 3,
   "id": "aa94bda9",
   "metadata": {},
   "outputs": [
    {
     "data": {
      "text/plain": [
       "hotel                                  0\n",
       "is_canceled                            0\n",
       "lead_time                              0\n",
       "arrival_date_year                      0\n",
       "arrival_date_month                     0\n",
       "arrival_date_week_number               0\n",
       "arrival_date_day_of_month              0\n",
       "stays_in_weekend_nights                0\n",
       "stays_in_week_nights                   0\n",
       "adults                                 0\n",
       "children                               4\n",
       "babies                                 0\n",
       "meal                                   0\n",
       "country                              488\n",
       "market_segment                         0\n",
       "distribution_channel                   0\n",
       "is_repeated_guest                      0\n",
       "previous_cancellations                 0\n",
       "previous_bookings_not_canceled         0\n",
       "reserved_room_type                     0\n",
       "assigned_room_type                     0\n",
       "booking_changes                        0\n",
       "deposit_type                           0\n",
       "agent                              16340\n",
       "company                           112593\n",
       "days_in_waiting_list                   0\n",
       "customer_type                          0\n",
       "adr                                    0\n",
       "required_car_parking_spaces            0\n",
       "total_of_special_requests              0\n",
       "reservation_status                     0\n",
       "reservation_status_date                0\n",
       "dtype: int64"
      ]
     },
     "execution_count": 3,
     "metadata": {},
     "output_type": "execute_result"
    }
   ],
   "source": [
    "# Check for missing values in the DataFrame\n",
    "df.isnull().sum()"
   ]
  },
  {
   "cell_type": "code",
   "execution_count": 4,
   "id": "03f10edf",
   "metadata": {},
   "outputs": [
    {
     "data": {
      "text/plain": [
       "Index(['children', 'country', 'agent', 'company'], dtype='object')"
      ]
     },
     "execution_count": 4,
     "metadata": {},
     "output_type": "execute_result"
    }
   ],
   "source": [
    "# Columns with presence of null values\n",
    "cols_with_nulls = df.columns[df.isnull().sum() != 0]\n",
    "cols_with_nulls"
   ]
  },
  {
   "cell_type": "markdown",
   "id": "af33073c",
   "metadata": {},
   "source": [
    "In this section, we will address the issue of missing values using three distinct approaches:\n",
    "\n",
    "    - Removing the 'agent' and 'company' columns: These columns will be dropped from the dataset due to the high number of NaN values they contain.\n",
    "\n",
    "    - Imputing missing values in the 'children' column: We will replace the four missing values in the 'children' column with the most frequent value found in that variable.\n",
    "\n",
    "    - Utilizing a Random Forest Classifier for predicting and filling the 488 null entries in the 'country' column."
   ]
  },
  {
   "cell_type": "markdown",
   "id": "b6b82ba0",
   "metadata": {},
   "source": [
    "##### Agent & Company"
   ]
  },
  {
   "cell_type": "code",
   "execution_count": 5,
   "id": "ce706668",
   "metadata": {},
   "outputs": [],
   "source": [
    "# Drop 'agent' and 'company' columns due to high NaN counts\n",
    "df.drop(['agent', 'company'], axis=1,inplace=True)"
   ]
  },
  {
   "cell_type": "markdown",
   "id": "a0788d30",
   "metadata": {},
   "source": [
    "##### Children"
   ]
  },
  {
   "cell_type": "code",
   "execution_count": 6,
   "id": "e4f72957",
   "metadata": {},
   "outputs": [
    {
     "data": {
      "text/markdown": [
       "Value counts of 'children' column:"
      ],
      "text/plain": [
       "<IPython.core.display.Markdown object>"
      ]
     },
     "metadata": {},
     "output_type": "display_data"
    },
    {
     "data": {
      "text/plain": [
       "0.0     110796\n",
       "1.0       4861\n",
       "2.0       3652\n",
       "3.0         76\n",
       "10.0         1\n",
       "Name: children, dtype: int64"
      ]
     },
     "metadata": {},
     "output_type": "display_data"
    },
    {
     "data": {
      "text/markdown": [
       "\n",
       "Most frequent value for 'children' is: 0.0"
      ],
      "text/plain": [
       "<IPython.core.display.Markdown object>"
      ]
     },
     "metadata": {},
     "output_type": "display_data"
    }
   ],
   "source": [
    "# Display value counts of 'children' column\n",
    "display(Markdown(\"Value counts of 'children' column:\"))\n",
    "display(df['children'].value_counts())\n",
    "\n",
    "# Find and display the most frequent value in the 'children' column\n",
    "most_frequent_value = df['children'].value_counts().index[0]\n",
    "display(Markdown(f\"\\nMost frequent value for 'children' is: {most_frequent_value}\"))\n",
    "\n",
    "# Fill NaN values in 'children' column with the most frequent value\n",
    "df['children'].fillna(most_frequent_value, inplace=True)"
   ]
  },
  {
   "cell_type": "markdown",
   "id": "8af17d54",
   "metadata": {},
   "source": [
    "##### Country"
   ]
  },
  {
   "cell_type": "code",
   "execution_count": 7,
   "id": "186b5589",
   "metadata": {},
   "outputs": [
    {
     "data": {
      "text/plain": [
       "PRT    48590\n",
       "GBR    12129\n",
       "FRA    10415\n",
       "ESP     8568\n",
       "DEU     7287\n",
       "       ...  \n",
       "DJI        1\n",
       "BWA        1\n",
       "HND        1\n",
       "VGB        1\n",
       "NAM        1\n",
       "Name: country, Length: 177, dtype: int64"
      ]
     },
     "execution_count": 7,
     "metadata": {},
     "output_type": "execute_result"
    }
   ],
   "source": [
    "# Value counts for 'country' variable\n",
    "df['country'].value_counts()"
   ]
  },
  {
   "cell_type": "code",
   "execution_count": 9,
   "id": "e3146453",
   "metadata": {},
   "outputs": [],
   "source": [
    "# Import required libraries to label categorical columns, train and prepare the predicting model\n",
    "from sklearn.preprocessing import LabelEncoder\n",
    "from sklearn.model_selection import train_test_split\n",
    "from sklearn.ensemble import RandomForestClassifier"
   ]
  },
  {
   "cell_type": "code",
   "execution_count": 8,
   "id": "cc3c0430",
   "metadata": {},
   "outputs": [],
   "source": [
    "# Create a copy of the original DataFrame 'df' to preserve the original data\n",
    "df_encoded = df.copy()"
   ]
  },
  {
   "cell_type": "code",
   "execution_count": 10,
   "id": "ff11f8fc",
   "metadata": {},
   "outputs": [],
   "source": [
    "# Initialize a LabelEncoder to encode categorical columns\n",
    "label_encoder = LabelEncoder()"
   ]
  },
  {
   "cell_type": "code",
   "execution_count": 11,
   "id": "2dde1f7d",
   "metadata": {},
   "outputs": [],
   "source": [
    "# Define a lambda function to identify categorical columns\n",
    "is_categorical = lambda col: df_encoded[col].dtype == 'object'\n",
    "\n",
    "# Use the lambda function to filter and generate a list of categorical columns\n",
    "categorical_columns = [col for col in df_encoded.columns if is_categorical(col)]"
   ]
  },
  {
   "cell_type": "code",
   "execution_count": 12,
   "id": "a7f2a477",
   "metadata": {},
   "outputs": [],
   "source": [
    "# Remove 'country' variable from the list of categorical columns to prevent label encoding\n",
    "categorical_columns.remove('country')\n",
    "\n",
    "# Apply label encoding to each categorical column in the DataFrame\n",
    "for col in categorical_columns:\n",
    "    # Initialize and fit LabelEncoder for the current column\n",
    "    label_encoder.fit(df_encoded[col])\n",
    "    \n",
    "    # Transform and replace the column with encoded values\n",
    "    df_encoded[col] = label_encoder.transform(df_encoded[col])"
   ]
  },
  {
   "cell_type": "code",
   "execution_count": 13,
   "id": "600c6e2b",
   "metadata": {},
   "outputs": [
    {
     "data": {
      "text/plain": [
       "hotel                               0\n",
       "is_canceled                         0\n",
       "lead_time                           0\n",
       "arrival_date_year                   0\n",
       "arrival_date_month                  0\n",
       "arrival_date_week_number            0\n",
       "arrival_date_day_of_month           0\n",
       "stays_in_weekend_nights             0\n",
       "stays_in_week_nights                0\n",
       "adults                              0\n",
       "children                            0\n",
       "babies                              0\n",
       "meal                                0\n",
       "country                           488\n",
       "market_segment                      0\n",
       "distribution_channel                0\n",
       "is_repeated_guest                   0\n",
       "previous_cancellations              0\n",
       "previous_bookings_not_canceled      0\n",
       "reserved_room_type                  0\n",
       "assigned_room_type                  0\n",
       "booking_changes                     0\n",
       "deposit_type                        0\n",
       "days_in_waiting_list                0\n",
       "customer_type                       0\n",
       "adr                                 0\n",
       "required_car_parking_spaces         0\n",
       "total_of_special_requests           0\n",
       "reservation_status                  0\n",
       "reservation_status_date             0\n",
       "dtype: int64"
      ]
     },
     "execution_count": 13,
     "metadata": {},
     "output_type": "execute_result"
    }
   ],
   "source": [
    "# Check for missing values in the encoded DataFrame\n",
    "df_encoded.isnull().sum()"
   ]
  },
  {
   "cell_type": "code",
   "execution_count": 14,
   "id": "140fe2bc",
   "metadata": {},
   "outputs": [],
   "source": [
    "# Divide the dataset into two subsets: one with known 'country' values\n",
    "# and the other with missing or NaN 'country' values.\n",
    "known_country_data = df_encoded[df_encoded['country'].notnull()]\n",
    "unknown_country_data = df_encoded[df_encoded['country'].isnull()]"
   ]
  },
  {
   "cell_type": "code",
   "execution_count": 15,
   "id": "b3b83faf",
   "metadata": {},
   "outputs": [],
   "source": [
    "# Split the dataset with known 'country' values into features (X) and the target variable (y)\n",
    "X = known_country_data.drop('country', axis=1)\n",
    "y = known_country_data['country']"
   ]
  },
  {
   "cell_type": "code",
   "execution_count": 16,
   "id": "ffacd8c2",
   "metadata": {},
   "outputs": [],
   "source": [
    "# Split data into training and validation sets\n",
    "X_train, X_val, y_train, y_val = train_test_split(X, y, test_size=0.2, random_state=42)"
   ]
  },
  {
   "cell_type": "code",
   "execution_count": 18,
   "id": "6db96dbb",
   "metadata": {},
   "outputs": [],
   "source": [
    "# Initialize the RandomForestClassifier\n",
    "model = RandomForestClassifier()\n",
    "\n",
    "# Train the model on the known 'country' data\n",
    "model.fit(X_train, y_train)\n",
    "\n",
    "# Predict the missing 'country' values for the data with NaN values\n",
    "predicted_countries = model.predict(unknown_country_data.drop('country', axis=1))"
   ]
  },
  {
   "cell_type": "code",
   "execution_count": 20,
   "id": "54934c37",
   "metadata": {},
   "outputs": [
    {
     "name": "stdout",
     "output_type": "stream",
     "text": [
      "Country CHN: 1\n",
      "Country ESP: 6\n",
      "Country FRA: 1\n",
      "Country GBR: 8\n",
      "Country GEO: 1\n",
      "Country IRL: 5\n",
      "Country PRT: 465\n",
      "Country RUS: 1\n"
     ]
    }
   ],
   "source": [
    "# Calculate the unique predicted 'country' values and their counts\n",
    "unique_values, counts = np.unique(predicted_countries, return_counts=True)\n",
    "\n",
    "# Print the unique predicted 'country' values and their counts\n",
    "for value, count in zip(unique_values, counts):\n",
    "    print(f\"Country {value}: {count}\")"
   ]
  },
  {
   "cell_type": "code",
   "execution_count": 21,
   "id": "4244e7ab",
   "metadata": {},
   "outputs": [
    {
     "data": {
      "text/plain": [
       "True"
      ]
     },
     "execution_count": 21,
     "metadata": {},
     "output_type": "execute_result"
    }
   ],
   "source": [
    "# Check if the total count of predicted countries matches the count of null values in df['country']\n",
    "df['country'].isnull().sum() == counts.sum()"
   ]
  },
  {
   "cell_type": "code",
   "execution_count": 22,
   "id": "b767a39e",
   "metadata": {},
   "outputs": [],
   "source": [
    "# Fill the missing 'country' values in original DataFrame using the predicted countries from the model\n",
    "df.loc[df['country'].isnull(), 'country'] = predicted_countries"
   ]
  },
  {
   "cell_type": "code",
   "execution_count": 26,
   "id": "f2058b6b",
   "metadata": {},
   "outputs": [
    {
     "data": {
      "text/markdown": [
       "Missing values in the dataframe: 0"
      ],
      "text/plain": [
       "<IPython.core.display.Markdown object>"
      ]
     },
     "metadata": {},
     "output_type": "display_data"
    }
   ],
   "source": [
    "# Check if there are any remaining NaN values\n",
    "display(Markdown('Missing values in the dataframe: {}'.format(df.isnull().sum().sum())))"
   ]
  },
  {
   "cell_type": "markdown",
   "id": "cd43efc9",
   "metadata": {},
   "source": [
    "#### Inconsistent Data (I)\n",
    "In the context of hotel bookings, it's imperative to maintain data consistency. Reservations should always involve at least one guest, whether it be an adult, child, or baby. Therefore, any entries where the total count of 'Adults,' 'Children,' and 'Babies' sums to zero will be considered inconsistent and removed from the dataset to ensure data quality."
   ]
  },
  {
   "cell_type": "code",
   "execution_count": 27,
   "id": "eaee2607",
   "metadata": {},
   "outputs": [
    {
     "data": {
      "text/html": [
       "<div>\n",
       "<style scoped>\n",
       "    .dataframe tbody tr th:only-of-type {\n",
       "        vertical-align: middle;\n",
       "    }\n",
       "\n",
       "    .dataframe tbody tr th {\n",
       "        vertical-align: top;\n",
       "    }\n",
       "\n",
       "    .dataframe thead th {\n",
       "        text-align: right;\n",
       "    }\n",
       "</style>\n",
       "<table border=\"1\" class=\"dataframe\">\n",
       "  <thead>\n",
       "    <tr style=\"text-align: right;\">\n",
       "      <th></th>\n",
       "      <th>hotel</th>\n",
       "      <th>adults</th>\n",
       "      <th>children</th>\n",
       "      <th>babies</th>\n",
       "    </tr>\n",
       "  </thead>\n",
       "  <tbody>\n",
       "    <tr>\n",
       "      <th>2224</th>\n",
       "      <td>Resort Hotel</td>\n",
       "      <td>0</td>\n",
       "      <td>0.0</td>\n",
       "      <td>0</td>\n",
       "    </tr>\n",
       "    <tr>\n",
       "      <th>2409</th>\n",
       "      <td>Resort Hotel</td>\n",
       "      <td>0</td>\n",
       "      <td>0.0</td>\n",
       "      <td>0</td>\n",
       "    </tr>\n",
       "    <tr>\n",
       "      <th>3181</th>\n",
       "      <td>Resort Hotel</td>\n",
       "      <td>0</td>\n",
       "      <td>0.0</td>\n",
       "      <td>0</td>\n",
       "    </tr>\n",
       "    <tr>\n",
       "      <th>3684</th>\n",
       "      <td>Resort Hotel</td>\n",
       "      <td>0</td>\n",
       "      <td>0.0</td>\n",
       "      <td>0</td>\n",
       "    </tr>\n",
       "    <tr>\n",
       "      <th>3708</th>\n",
       "      <td>Resort Hotel</td>\n",
       "      <td>0</td>\n",
       "      <td>0.0</td>\n",
       "      <td>0</td>\n",
       "    </tr>\n",
       "  </tbody>\n",
       "</table>\n",
       "</div>"
      ],
      "text/plain": [
       "             hotel  adults  children  babies\n",
       "2224  Resort Hotel       0       0.0       0\n",
       "2409  Resort Hotel       0       0.0       0\n",
       "3181  Resort Hotel       0       0.0       0\n",
       "3684  Resort Hotel       0       0.0       0\n",
       "3708  Resort Hotel       0       0.0       0"
      ]
     },
     "metadata": {},
     "output_type": "display_data"
    },
    {
     "data": {
      "text/plain": [
       "(180, 30)"
      ]
     },
     "metadata": {},
     "output_type": "display_data"
    }
   ],
   "source": [
    "# Define filter criteria\n",
    "filter1 = (df['children']==0) & (df['adults']==0) & (df['babies']==0)\n",
    "\n",
    "# # Display relevant columns for filtered rows\n",
    "display(df[['hotel', 'adults','children','babies']][filter1].head(), df[filter1].shape)"
   ]
  },
  {
   "cell_type": "code",
   "execution_count": 28,
   "id": "60847296",
   "metadata": {},
   "outputs": [
    {
     "name": "stdout",
     "output_type": "stream",
     "text": [
      "Data shape after dropping rows with zero total customers: (119210, 30)\n"
     ]
    }
   ],
   "source": [
    "# Drop rows where the total number of customers is zero\n",
    "df = df[~filter1]\n",
    "\n",
    "# Display the updated data shape\n",
    "print('Data shape after dropping rows with zero total guests:', df.shape)"
   ]
  },
  {
   "cell_type": "markdown",
   "id": "87b8bc2f",
   "metadata": {},
   "source": [
    "#### Column types"
   ]
  },
  {
   "cell_type": "code",
   "execution_count": 29,
   "id": "b915c464",
   "metadata": {},
   "outputs": [
    {
     "data": {
      "text/plain": [
       "hotel                              object\n",
       "is_canceled                         int64\n",
       "lead_time                           int64\n",
       "arrival_date_year                   int64\n",
       "arrival_date_month                 object\n",
       "arrival_date_week_number            int64\n",
       "arrival_date_day_of_month           int64\n",
       "stays_in_weekend_nights             int64\n",
       "stays_in_week_nights                int64\n",
       "adults                              int64\n",
       "children                          float64\n",
       "babies                              int64\n",
       "meal                               object\n",
       "country                            object\n",
       "market_segment                     object\n",
       "distribution_channel               object\n",
       "is_repeated_guest                   int64\n",
       "previous_cancellations              int64\n",
       "previous_bookings_not_canceled      int64\n",
       "reserved_room_type                 object\n",
       "assigned_room_type                 object\n",
       "booking_changes                     int64\n",
       "deposit_type                       object\n",
       "days_in_waiting_list                int64\n",
       "customer_type                      object\n",
       "adr                               float64\n",
       "required_car_parking_spaces         int64\n",
       "total_of_special_requests           int64\n",
       "reservation_status                 object\n",
       "reservation_status_date            object\n",
       "dtype: object"
      ]
     },
     "execution_count": 29,
     "metadata": {},
     "output_type": "execute_result"
    }
   ],
   "source": [
    "# Check the data types of each column in the DataFrame\n",
    "df.dtypes"
   ]
  },
  {
   "cell_type": "markdown",
   "id": "ab7648f8",
   "metadata": {},
   "source": [
    "##### Is canceled\n",
    "To enhance visualization during exploratory data analysis, we will now convert the 'is_canceled' column into categorical values, specifically 'No' and 'Yes.'"
   ]
  },
  {
   "cell_type": "code",
   "execution_count": 30,
   "id": "657af974",
   "metadata": {},
   "outputs": [
    {
     "data": {
      "text/markdown": [
       "Updated 'is_canceled' column:"
      ],
      "text/plain": [
       "<IPython.core.display.Markdown object>"
      ]
     },
     "metadata": {},
     "output_type": "display_data"
    },
    {
     "data": {
      "text/plain": [
       "0    No\n",
       "1    No\n",
       "2    No\n",
       "3    No\n",
       "4    No\n",
       "Name: is_canceled, dtype: object"
      ]
     },
     "metadata": {},
     "output_type": "display_data"
    },
    {
     "data": {
      "text/plain": [
       "dtype('O')"
      ]
     },
     "metadata": {},
     "output_type": "display_data"
    }
   ],
   "source": [
    "# Define a mapping dictionary: Map 0 to 'No' and 1 to 'Yes' \n",
    "is_canceled_mapping = {0: 'No', 1: 'Yes'}\n",
    "\n",
    "# Replace values in the 'is_canceled' column using the defined mapping\n",
    "df['is_canceled'] = df['is_canceled'].map(is_canceled_mapping)\n",
    "\n",
    "# Display the first few rows of the 'is_canceled' column and its data type\n",
    "display(Markdown(\"Updated 'is_canceled' column:\"))\n",
    "display(df['is_canceled'].head(), df['is_canceled'].dtype)"
   ]
  },
  {
   "cell_type": "markdown",
   "id": "ec753726",
   "metadata": {},
   "source": [
    "##### Children"
   ]
  },
  {
   "cell_type": "code",
   "execution_count": 31,
   "id": "cf18a87e",
   "metadata": {},
   "outputs": [
    {
     "data": {
      "text/plain": [
       "dtype('int64')"
      ]
     },
     "execution_count": 31,
     "metadata": {},
     "output_type": "execute_result"
    }
   ],
   "source": [
    "# Change data type of 'children' column to integer\n",
    "df['children'] = df['children'].astype(int)\n",
    "\n",
    "# Check the updated data type of the 'children' column\n",
    "df['children'].dtypes"
   ]
  },
  {
   "cell_type": "markdown",
   "id": "574ded17",
   "metadata": {},
   "source": [
    "##### Reservation Status Date"
   ]
  },
  {
   "cell_type": "code",
   "execution_count": 32,
   "id": "ae3bf52b",
   "metadata": {},
   "outputs": [
    {
     "data": {
      "text/plain": [
       "dtype('<M8[ns]')"
      ]
     },
     "execution_count": 32,
     "metadata": {},
     "output_type": "execute_result"
    }
   ],
   "source": [
    "# Convert 'reservation_status_date' to datetime format\n",
    "df['reservation_status_date'] = pd.to_datetime(df['reservation_status_date'], format='%m/%d/%Y')\n",
    "\n",
    "# Check the updated data type of the 'reservation_status_date' column\n",
    "df['reservation_status_date'].dtypes"
   ]
  },
  {
   "cell_type": "markdown",
   "id": "acbc0b0f",
   "metadata": {},
   "source": [
    "#### New columns: 'Arrival Date Month Num', 'Check-in date', 'Total Guests' and 'Total Nights'\n",
    "To expand our dataset, we're introducing additional columns that provide extra insights beyond the original dataframe."
   ]
  },
  {
   "cell_type": "markdown",
   "id": "1fb4b19d",
   "metadata": {},
   "source": [
    "##### Arrival Date Month Num"
   ]
  },
  {
   "cell_type": "code",
   "execution_count": 33,
   "id": "32888237",
   "metadata": {},
   "outputs": [],
   "source": [
    "# Define the mapping from month names to numbers\n",
    "month_mapping = {\n",
    "    'January': 1, 'February': 2, 'March': 3, 'April': 4, 'May': 5, 'June': 6,\n",
    "    'July': 7, 'August': 8, 'September': 9, 'October': 10, 'November': 11, 'December': 12\n",
    "}\n",
    "\n",
    "# Replace values in the 'arrival_date_month' column with corresponding numeric values\n",
    "df['arrival_date_month_num'] = df['arrival_date_month'].map(month_mapping)"
   ]
  },
  {
   "cell_type": "markdown",
   "id": "04bc76d8",
   "metadata": {},
   "source": [
    "##### Check-in Date"
   ]
  },
  {
   "cell_type": "code",
   "execution_count": 34,
   "id": "80024efe",
   "metadata": {},
   "outputs": [],
   "source": [
    "# Concatenate the date components (year, month, and day) into a single string column\n",
    "date_components = df['arrival_date_year'].astype(str) + '-' + df['arrival_date_month_num'].astype(str) + '-' + df['arrival_date_day_of_month'].astype(str)\n",
    "\n",
    "# Convert the concatenated column to datetime format\n",
    "df['check_in_date'] = pd.to_datetime(date_components, format='%Y-%m-%d')\n",
    "\n",
    "# Optionally, you can convert 'check_in_date' to a different datetime format if needed\n",
    "# df['check_in_date'] = df['check_in_date'].dt.strftime('%m/%d/%Y')"
   ]
  },
  {
   "cell_type": "markdown",
   "id": "6e4fc11e",
   "metadata": {},
   "source": [
    "##### Total Guests"
   ]
  },
  {
   "cell_type": "code",
   "execution_count": 35,
   "id": "ae65d2df",
   "metadata": {},
   "outputs": [],
   "source": [
    "# Create a new column 'total_guests' by summing up the number of adults, children, and babies\n",
    "df['total_guests'] = df['adults'] + df['children'] + df['babies']"
   ]
  },
  {
   "cell_type": "markdown",
   "id": "dd0c0568",
   "metadata": {},
   "source": [
    "##### Total Nights"
   ]
  },
  {
   "cell_type": "code",
   "execution_count": 36,
   "id": "41937dbb",
   "metadata": {},
   "outputs": [],
   "source": [
    "# Create a new column 'total_nights' to represent the length of stay for each booking\n",
    "total_nights_list = []\n",
    "\n",
    "# Iterate through each booking in the DataFrame\n",
    "for index, row in df.iterrows():\n",
    "    # If the booking was canceled or marked as a no-show, assign 0 for the total nights\n",
    "    if (row['reservation_status'] == 'Canceled') or (row['reservation_status'] == 'No-Show'):\n",
    "        total_nights_list.append(0)\n",
    "    else:\n",
    "        # If not, calculate the number of nights stayed by subtracting the check-in date from the reservation status date\n",
    "        total_nights_list.append((row['reservation_status_date'] - row['check_in_date']).days)\n",
    "\n",
    "# Assign the list as a new column 'total_nights' in the DataFrame\n",
    "df['total_nights'] = total_nights_list"
   ]
  },
  {
   "cell_type": "code",
   "execution_count": 37,
   "id": "edb2df99",
   "metadata": {},
   "outputs": [
    {
     "data": {
      "text/html": [
       "<div>\n",
       "<style scoped>\n",
       "    .dataframe tbody tr th:only-of-type {\n",
       "        vertical-align: middle;\n",
       "    }\n",
       "\n",
       "    .dataframe tbody tr th {\n",
       "        vertical-align: top;\n",
       "    }\n",
       "\n",
       "    .dataframe thead th {\n",
       "        text-align: right;\n",
       "    }\n",
       "</style>\n",
       "<table border=\"1\" class=\"dataframe\">\n",
       "  <thead>\n",
       "    <tr style=\"text-align: right;\">\n",
       "      <th></th>\n",
       "      <th>arrival_date_month_num</th>\n",
       "      <th>check_in_date</th>\n",
       "      <th>total_guests</th>\n",
       "      <th>total_nights</th>\n",
       "    </tr>\n",
       "  </thead>\n",
       "  <tbody>\n",
       "    <tr>\n",
       "      <th>0</th>\n",
       "      <td>7</td>\n",
       "      <td>2015-07-01</td>\n",
       "      <td>2</td>\n",
       "      <td>0</td>\n",
       "    </tr>\n",
       "    <tr>\n",
       "      <th>1</th>\n",
       "      <td>7</td>\n",
       "      <td>2015-07-01</td>\n",
       "      <td>2</td>\n",
       "      <td>0</td>\n",
       "    </tr>\n",
       "    <tr>\n",
       "      <th>2</th>\n",
       "      <td>7</td>\n",
       "      <td>2015-07-01</td>\n",
       "      <td>1</td>\n",
       "      <td>1</td>\n",
       "    </tr>\n",
       "    <tr>\n",
       "      <th>3</th>\n",
       "      <td>7</td>\n",
       "      <td>2015-07-01</td>\n",
       "      <td>1</td>\n",
       "      <td>1</td>\n",
       "    </tr>\n",
       "    <tr>\n",
       "      <th>4</th>\n",
       "      <td>7</td>\n",
       "      <td>2015-07-01</td>\n",
       "      <td>2</td>\n",
       "      <td>2</td>\n",
       "    </tr>\n",
       "  </tbody>\n",
       "</table>\n",
       "</div>"
      ],
      "text/plain": [
       "   arrival_date_month_num check_in_date  total_guests  total_nights\n",
       "0                       7    2015-07-01             2             0\n",
       "1                       7    2015-07-01             2             0\n",
       "2                       7    2015-07-01             1             1\n",
       "3                       7    2015-07-01             1             1\n",
       "4                       7    2015-07-01             2             2"
      ]
     },
     "execution_count": 37,
     "metadata": {},
     "output_type": "execute_result"
    }
   ],
   "source": [
    "# # Display the first few rows of the new columns: 'arrival_date_month_num', 'check_in_date', 'total_guests', and 'total_nights'\n",
    "df[['arrival_date_month_num', 'check_in_date', 'total_guests', 'total_nights']].head()"
   ]
  },
  {
   "cell_type": "markdown",
   "id": "fbd4ed56",
   "metadata": {},
   "source": [
    "#### Inconsistent Data (II):\n",
    "\n",
    "In this section, we address cases where bookings are marked as 'not canceled' ('is_canceled' = 'No'), but inconsistencies arise. There are two scenarios:\n",
    "\n",
    "1. In 627 cases, bookings lack values for both 'stays_in_(week/weekend)_nights' and 'total_nights,' despite having 'reservation_status' marked as 'Check-Out'.\n",
    "    - In these scenarios, we will adjust the 'is_canceled' value to 'Yes' and change 'reservation_status' to 'Canceled.'\n",
    "\n",
    "2. In 20 cases, 'stays_in_(week/weekend)_nights' holds a value other than 0, while 'total_nights' remains 0. This discrepancy occurs when 'reservation_status_date' (the check-out date) matches 'check_in_date'.\n",
    "    - For these cases, we will sum the 'stays_in_(week/weekend)_nights' values, subtract that count from the 'check_in_date,' and update 'total_nights' accordingly.\n",
    "\n",
    "This approach aims to rectify the inconsistencies in the data, ensuring accurate information for analysis.\n"
   ]
  },
  {
   "cell_type": "code",
   "execution_count": 38,
   "id": "a3469d3a",
   "metadata": {},
   "outputs": [
    {
     "data": {
      "text/html": [
       "<div>\n",
       "<style scoped>\n",
       "    .dataframe tbody tr th:only-of-type {\n",
       "        vertical-align: middle;\n",
       "    }\n",
       "\n",
       "    .dataframe tbody tr th {\n",
       "        vertical-align: top;\n",
       "    }\n",
       "\n",
       "    .dataframe thead th {\n",
       "        text-align: right;\n",
       "    }\n",
       "</style>\n",
       "<table border=\"1\" class=\"dataframe\">\n",
       "  <thead>\n",
       "    <tr style=\"text-align: right;\">\n",
       "      <th></th>\n",
       "      <th>is_canceled</th>\n",
       "      <th>stays_in_weekend_nights</th>\n",
       "      <th>stays_in_week_nights</th>\n",
       "      <th>reservation_status</th>\n",
       "      <th>reservation_status_date</th>\n",
       "      <th>total_nights</th>\n",
       "    </tr>\n",
       "  </thead>\n",
       "  <tbody>\n",
       "    <tr>\n",
       "      <th>0</th>\n",
       "      <td>No</td>\n",
       "      <td>0</td>\n",
       "      <td>0</td>\n",
       "      <td>Check-Out</td>\n",
       "      <td>2015-07-01</td>\n",
       "      <td>0</td>\n",
       "    </tr>\n",
       "    <tr>\n",
       "      <th>1</th>\n",
       "      <td>No</td>\n",
       "      <td>0</td>\n",
       "      <td>0</td>\n",
       "      <td>Check-Out</td>\n",
       "      <td>2015-07-01</td>\n",
       "      <td>0</td>\n",
       "    </tr>\n",
       "    <tr>\n",
       "      <th>24</th>\n",
       "      <td>No</td>\n",
       "      <td>2</td>\n",
       "      <td>5</td>\n",
       "      <td>Check-Out</td>\n",
       "      <td>2015-07-01</td>\n",
       "      <td>0</td>\n",
       "    </tr>\n",
       "    <tr>\n",
       "      <th>167</th>\n",
       "      <td>No</td>\n",
       "      <td>0</td>\n",
       "      <td>0</td>\n",
       "      <td>Check-Out</td>\n",
       "      <td>2015-07-06</td>\n",
       "      <td>0</td>\n",
       "    </tr>\n",
       "    <tr>\n",
       "      <th>168</th>\n",
       "      <td>No</td>\n",
       "      <td>0</td>\n",
       "      <td>0</td>\n",
       "      <td>Check-Out</td>\n",
       "      <td>2015-07-06</td>\n",
       "      <td>0</td>\n",
       "    </tr>\n",
       "  </tbody>\n",
       "</table>\n",
       "</div>"
      ],
      "text/plain": [
       "    is_canceled  stays_in_weekend_nights  stays_in_week_nights  \\\n",
       "0            No                        0                     0   \n",
       "1            No                        0                     0   \n",
       "24           No                        2                     5   \n",
       "167          No                        0                     0   \n",
       "168          No                        0                     0   \n",
       "\n",
       "    reservation_status reservation_status_date  total_nights  \n",
       "0            Check-Out              2015-07-01             0  \n",
       "1            Check-Out              2015-07-01             0  \n",
       "24           Check-Out              2015-07-01             0  \n",
       "167          Check-Out              2015-07-06             0  \n",
       "168          Check-Out              2015-07-06             0  "
      ]
     },
     "metadata": {},
     "output_type": "display_data"
    },
    {
     "data": {
      "text/plain": [
       "(647, 34)"
      ]
     },
     "metadata": {},
     "output_type": "display_data"
    }
   ],
   "source": [
    "# Filter for first type of cases\n",
    "cancelled_mask = (df['is_canceled'] == 'No') & (df['reservation_status'] == 'Check-Out') & (df['total_nights'] == 0)\n",
    "filtered_df = df[cancelled_mask]\n",
    "\n",
    "# Display the filtered data along with its shape\n",
    "display(filtered_df[['is_canceled', 'stays_in_weekend_nights', 'stays_in_week_nights', 'reservation_status','reservation_status_date','total_nights']].head(5),\n",
    "        filtered_df.shape)"
   ]
  },
  {
   "cell_type": "code",
   "execution_count": 39,
   "id": "ba47d469",
   "metadata": {},
   "outputs": [
    {
     "data": {
      "text/html": [
       "<div>\n",
       "<style scoped>\n",
       "    .dataframe tbody tr th:only-of-type {\n",
       "        vertical-align: middle;\n",
       "    }\n",
       "\n",
       "    .dataframe tbody tr th {\n",
       "        vertical-align: top;\n",
       "    }\n",
       "\n",
       "    .dataframe thead th {\n",
       "        text-align: right;\n",
       "    }\n",
       "</style>\n",
       "<table border=\"1\" class=\"dataframe\">\n",
       "  <thead>\n",
       "    <tr style=\"text-align: right;\">\n",
       "      <th></th>\n",
       "      <th>is_canceled</th>\n",
       "      <th>stays_in_weekend_nights</th>\n",
       "      <th>stays_in_week_nights</th>\n",
       "      <th>reservation_status</th>\n",
       "      <th>reservation_status_date</th>\n",
       "      <th>check_in_date</th>\n",
       "      <th>total_nights</th>\n",
       "    </tr>\n",
       "  </thead>\n",
       "  <tbody>\n",
       "    <tr>\n",
       "      <th>24</th>\n",
       "      <td>No</td>\n",
       "      <td>2</td>\n",
       "      <td>5</td>\n",
       "      <td>Check-Out</td>\n",
       "      <td>2015-07-01</td>\n",
       "      <td>2015-07-01</td>\n",
       "      <td>0</td>\n",
       "    </tr>\n",
       "    <tr>\n",
       "      <th>313</th>\n",
       "      <td>No</td>\n",
       "      <td>2</td>\n",
       "      <td>5</td>\n",
       "      <td>Check-Out</td>\n",
       "      <td>2015-07-12</td>\n",
       "      <td>2015-07-12</td>\n",
       "      <td>0</td>\n",
       "    </tr>\n",
       "    <tr>\n",
       "      <th>1657</th>\n",
       "      <td>No</td>\n",
       "      <td>3</td>\n",
       "      <td>7</td>\n",
       "      <td>Check-Out</td>\n",
       "      <td>2015-09-07</td>\n",
       "      <td>2015-09-07</td>\n",
       "      <td>0</td>\n",
       "    </tr>\n",
       "    <tr>\n",
       "      <th>2345</th>\n",
       "      <td>No</td>\n",
       "      <td>2</td>\n",
       "      <td>5</td>\n",
       "      <td>Check-Out</td>\n",
       "      <td>2015-10-09</td>\n",
       "      <td>2015-10-09</td>\n",
       "      <td>0</td>\n",
       "    </tr>\n",
       "    <tr>\n",
       "      <th>2407</th>\n",
       "      <td>No</td>\n",
       "      <td>4</td>\n",
       "      <td>5</td>\n",
       "      <td>Check-Out</td>\n",
       "      <td>2015-10-11</td>\n",
       "      <td>2015-10-11</td>\n",
       "      <td>0</td>\n",
       "    </tr>\n",
       "  </tbody>\n",
       "</table>\n",
       "</div>"
      ],
      "text/plain": [
       "     is_canceled  stays_in_weekend_nights  stays_in_week_nights  \\\n",
       "24            No                        2                     5   \n",
       "313           No                        2                     5   \n",
       "1657          No                        3                     7   \n",
       "2345          No                        2                     5   \n",
       "2407          No                        4                     5   \n",
       "\n",
       "     reservation_status reservation_status_date check_in_date  total_nights  \n",
       "24            Check-Out              2015-07-01    2015-07-01             0  \n",
       "313           Check-Out              2015-07-12    2015-07-12             0  \n",
       "1657          Check-Out              2015-09-07    2015-09-07             0  \n",
       "2345          Check-Out              2015-10-09    2015-10-09             0  \n",
       "2407          Check-Out              2015-10-11    2015-10-11             0  "
      ]
     },
     "metadata": {},
     "output_type": "display_data"
    },
    {
     "data": {
      "text/plain": [
       "(None, 20)"
      ]
     },
     "execution_count": 39,
     "metadata": {},
     "output_type": "execute_result"
    }
   ],
   "source": [
    "# Filter for the second kind of cases\n",
    "weekend_nights_mask = (filtered_df['stays_in_weekend_nights'] != 0) | (filtered_df['stays_in_weekend_nights'] != 0)\n",
    "filtered_weekend_df = filtered_df[weekend_nights_mask]\n",
    "\n",
    "# Display the filtered data along with its length\n",
    "display(filtered_weekend_df[['is_canceled', 'stays_in_weekend_nights', 'stays_in_week_nights', 'reservation_status','reservation_status_date','check_in_date','total_nights']].head(5)), len(filtered_weekend_df)"
   ]
  },
  {
   "cell_type": "code",
   "execution_count": 40,
   "id": "2a6569ae",
   "metadata": {},
   "outputs": [
    {
     "data": {
      "text/plain": [
       "24       True\n",
       "313      True\n",
       "1657     True\n",
       "2345     True\n",
       "2407     True\n",
       "2420     True\n",
       "5957     True\n",
       "6755     True\n",
       "6756     True\n",
       "6800     True\n",
       "6833     True\n",
       "6835     True\n",
       "7865     True\n",
       "7877     True\n",
       "7886     True\n",
       "7923     True\n",
       "7929     True\n",
       "7932     True\n",
       "8148     True\n",
       "40294    True\n",
       "dtype: bool"
      ]
     },
     "execution_count": 40,
     "metadata": {},
     "output_type": "execute_result"
    }
   ],
   "source": [
    "# Check if all dates of 'reservation_status_date' and 'check_in_date' are equal\n",
    "filtered_weekend_df['reservation_status_date'] == filtered_weekend_df['check_in_date']"
   ]
  },
  {
   "cell_type": "markdown",
   "id": "447b6eaf",
   "metadata": {},
   "source": [
    "##### Second type cases"
   ]
  },
  {
   "cell_type": "code",
   "execution_count": 41,
   "id": "b2e8d882",
   "metadata": {},
   "outputs": [],
   "source": [
    "# Iterate through each row in the df\n",
    "for index, row in df.iterrows():\n",
    "    # Check if the index is present in the filtered_weekend_df index\n",
    "    if index in filtered_weekend_df.index:\n",
    "        # Calculate the total nights that include weekends\n",
    "        weekend_nights = row['stays_in_weekend_nights'] + row['stays_in_week_nights']\n",
    "        \n",
    "        # Subtract the weekend nights from the original check-in date\n",
    "        updated_check_in_date = row['check_in_date'] - pd.Timedelta(days=weekend_nights)\n",
    "        \n",
    "        # Update the total nights and check-in date in the df\n",
    "        df.at[index, 'total_nights'] += weekend_nights\n",
    "        df.at[index, 'check_in_date'] = pd.to_datetime(updated_check_in_date, format='%Y-%m-%d')"
   ]
  },
  {
   "cell_type": "code",
   "execution_count": 42,
   "id": "1bc1f5db",
   "metadata": {},
   "outputs": [
    {
     "data": {
      "text/plain": [
       "is_canceled                                 No\n",
       "stays_in_weekend_nights                      2\n",
       "stays_in_week_nights                         5\n",
       "reservation_status                   Check-Out\n",
       "reservation_status_date    2015-07-01 00:00:00\n",
       "check_in_date              2015-06-24 00:00:00\n",
       "total_nights                                 7\n",
       "Name: 24, dtype: object"
      ]
     },
     "execution_count": 42,
     "metadata": {},
     "output_type": "execute_result"
    }
   ],
   "source": [
    "# Review changes for a specific row (Row 24)\n",
    "df.loc[24,['is_canceled', 'stays_in_weekend_nights',\n",
    "           'stays_in_week_nights', 'reservation_status',\n",
    "           'reservation_status_date','check_in_date','total_nights']]"
   ]
  },
  {
   "cell_type": "markdown",
   "id": "9db82047",
   "metadata": {},
   "source": [
    "##### First type cases"
   ]
  },
  {
   "cell_type": "code",
   "execution_count": 43,
   "id": "e7b5cc96",
   "metadata": {},
   "outputs": [
    {
     "data": {
      "text/html": [
       "<div>\n",
       "<style scoped>\n",
       "    .dataframe tbody tr th:only-of-type {\n",
       "        vertical-align: middle;\n",
       "    }\n",
       "\n",
       "    .dataframe tbody tr th {\n",
       "        vertical-align: top;\n",
       "    }\n",
       "\n",
       "    .dataframe thead th {\n",
       "        text-align: right;\n",
       "    }\n",
       "</style>\n",
       "<table border=\"1\" class=\"dataframe\">\n",
       "  <thead>\n",
       "    <tr style=\"text-align: right;\">\n",
       "      <th></th>\n",
       "      <th>is_canceled</th>\n",
       "      <th>stays_in_weekend_nights</th>\n",
       "      <th>stays_in_week_nights</th>\n",
       "      <th>reservation_status</th>\n",
       "      <th>reservation_status_date</th>\n",
       "      <th>total_nights</th>\n",
       "    </tr>\n",
       "  </thead>\n",
       "  <tbody>\n",
       "    <tr>\n",
       "      <th>0</th>\n",
       "      <td>No</td>\n",
       "      <td>0</td>\n",
       "      <td>0</td>\n",
       "      <td>Check-Out</td>\n",
       "      <td>2015-07-01</td>\n",
       "      <td>0</td>\n",
       "    </tr>\n",
       "    <tr>\n",
       "      <th>1</th>\n",
       "      <td>No</td>\n",
       "      <td>0</td>\n",
       "      <td>0</td>\n",
       "      <td>Check-Out</td>\n",
       "      <td>2015-07-01</td>\n",
       "      <td>0</td>\n",
       "    </tr>\n",
       "    <tr>\n",
       "      <th>167</th>\n",
       "      <td>No</td>\n",
       "      <td>0</td>\n",
       "      <td>0</td>\n",
       "      <td>Check-Out</td>\n",
       "      <td>2015-07-06</td>\n",
       "      <td>0</td>\n",
       "    </tr>\n",
       "    <tr>\n",
       "      <th>168</th>\n",
       "      <td>No</td>\n",
       "      <td>0</td>\n",
       "      <td>0</td>\n",
       "      <td>Check-Out</td>\n",
       "      <td>2015-07-06</td>\n",
       "      <td>0</td>\n",
       "    </tr>\n",
       "    <tr>\n",
       "      <th>196</th>\n",
       "      <td>No</td>\n",
       "      <td>0</td>\n",
       "      <td>0</td>\n",
       "      <td>Check-Out</td>\n",
       "      <td>2015-07-07</td>\n",
       "      <td>0</td>\n",
       "    </tr>\n",
       "  </tbody>\n",
       "</table>\n",
       "</div>"
      ],
      "text/plain": [
       "    is_canceled  stays_in_weekend_nights  stays_in_week_nights  \\\n",
       "0            No                        0                     0   \n",
       "1            No                        0                     0   \n",
       "167          No                        0                     0   \n",
       "168          No                        0                     0   \n",
       "196          No                        0                     0   \n",
       "\n",
       "    reservation_status reservation_status_date  total_nights  \n",
       "0            Check-Out              2015-07-01             0  \n",
       "1            Check-Out              2015-07-01             0  \n",
       "167          Check-Out              2015-07-06             0  \n",
       "168          Check-Out              2015-07-06             0  \n",
       "196          Check-Out              2015-07-07             0  "
      ]
     },
     "metadata": {},
     "output_type": "display_data"
    },
    {
     "data": {
      "text/plain": [
       "'New Length: '"
      ]
     },
     "metadata": {},
     "output_type": "display_data"
    },
    {
     "data": {
      "text/plain": [
       "(627, 34)"
      ]
     },
     "metadata": {},
     "output_type": "display_data"
    }
   ],
   "source": [
    "# Refreshing the filter to identify bookings with inconsistencies (627)\n",
    "# These are cases where reservations are marked as 'Check-Out' but have a total nights count of 0,\n",
    "# and the 'is_canceled' status is 'No.'\n",
    "cancelled_mask = (df['is_canceled'] == 'No') & (df['reservation_status'] == 'Check-Out') & (df['total_nights'] == 0)\n",
    "\n",
    "# Apply the refreshed filter\n",
    "filtered_df = df[cancelled_mask]\n",
    "\n",
    "# Display the filtered DataFrame\n",
    "display(filtered_df[['is_canceled', 'stays_in_weekend_nights', 'stays_in_week_nights', 'reservation_status','reservation_status_date','total_nights']].head(5),\n",
    "        'New Length: ', filtered_df.shape)"
   ]
  },
  {
   "cell_type": "code",
   "execution_count": 44,
   "id": "7b31fefa",
   "metadata": {},
   "outputs": [],
   "source": [
    "# Iterate through each row in the df\n",
    "for index, row in df.iterrows():\n",
    "    # Check if the index is present in the filtered_df index\n",
    "    if index in filtered_df.index:\n",
    "        # Update the 'is_canceled' and 'reservation_status' values to 'Yes' and 'Canceled,' respectively\n",
    "        df.at[index, 'is_canceled'] = 'Yes'\n",
    "        df.at[index, 'reservation_status'] = 'Canceled'"
   ]
  },
  {
   "cell_type": "code",
   "execution_count": 45,
   "id": "69deffc8",
   "metadata": {},
   "outputs": [
    {
     "data": {
      "text/html": [
       "<div>\n",
       "<style scoped>\n",
       "    .dataframe tbody tr th:only-of-type {\n",
       "        vertical-align: middle;\n",
       "    }\n",
       "\n",
       "    .dataframe tbody tr th {\n",
       "        vertical-align: top;\n",
       "    }\n",
       "\n",
       "    .dataframe thead th {\n",
       "        text-align: right;\n",
       "    }\n",
       "</style>\n",
       "<table border=\"1\" class=\"dataframe\">\n",
       "  <thead>\n",
       "    <tr style=\"text-align: right;\">\n",
       "      <th></th>\n",
       "      <th>is_canceled</th>\n",
       "      <th>stays_in_weekend_nights</th>\n",
       "      <th>stays_in_week_nights</th>\n",
       "      <th>reservation_status</th>\n",
       "      <th>reservation_status_date</th>\n",
       "      <th>total_nights</th>\n",
       "    </tr>\n",
       "  </thead>\n",
       "  <tbody>\n",
       "  </tbody>\n",
       "</table>\n",
       "</div>"
      ],
      "text/plain": [
       "Empty DataFrame\n",
       "Columns: [is_canceled, stays_in_weekend_nights, stays_in_week_nights, reservation_status, reservation_status_date, total_nights]\n",
       "Index: []"
      ]
     },
     "metadata": {},
     "output_type": "display_data"
    },
    {
     "data": {
      "text/plain": [
       "'New Length: '"
      ]
     },
     "metadata": {},
     "output_type": "display_data"
    },
    {
     "data": {
      "text/plain": [
       "(0, 34)"
      ]
     },
     "metadata": {},
     "output_type": "display_data"
    }
   ],
   "source": [
    "# Check again if all changes were properly done\n",
    "cancelled_mask = (df['is_canceled'] == 'No') & (df['reservation_status'] == 'Check-Out') & (df['total_nights'] == 0)\n",
    "filtered_df = df[cancelled_mask]\n",
    "\n",
    "display(filtered_df[['is_canceled', 'stays_in_weekend_nights', 'stays_in_week_nights', 'reservation_status','reservation_status_date','total_nights']].head(5),\n",
    "        'New Length: ', filtered_df.shape)"
   ]
  },
  {
   "cell_type": "markdown",
   "id": "9b36fb01",
   "metadata": {},
   "source": [
    "#### Categorizing Night Stays: Creating a New Feature\n",
    "We will develop a function to classify night stays as either occurring during weekdays, weekends, or both. The outcomes will be saved in a new 'weekend_or_weekday' column."
   ]
  },
  {
   "cell_type": "code",
   "execution_count": 46,
   "id": "8e637e50",
   "metadata": {},
   "outputs": [
    {
     "data": {
      "text/html": [
       "<div>\n",
       "<style scoped>\n",
       "    .dataframe tbody tr th:only-of-type {\n",
       "        vertical-align: middle;\n",
       "    }\n",
       "\n",
       "    .dataframe tbody tr th {\n",
       "        vertical-align: top;\n",
       "    }\n",
       "\n",
       "    .dataframe thead th {\n",
       "        text-align: right;\n",
       "    }\n",
       "</style>\n",
       "<table border=\"1\" class=\"dataframe\">\n",
       "  <thead>\n",
       "    <tr style=\"text-align: right;\">\n",
       "      <th></th>\n",
       "      <th>stays_in_weekend_nights</th>\n",
       "      <th>stays_in_week_nights</th>\n",
       "      <th>total_nights</th>\n",
       "    </tr>\n",
       "  </thead>\n",
       "  <tbody>\n",
       "    <tr>\n",
       "      <th>0</th>\n",
       "      <td>0</td>\n",
       "      <td>0</td>\n",
       "      <td>0</td>\n",
       "    </tr>\n",
       "    <tr>\n",
       "      <th>1</th>\n",
       "      <td>0</td>\n",
       "      <td>0</td>\n",
       "      <td>0</td>\n",
       "    </tr>\n",
       "    <tr>\n",
       "      <th>2</th>\n",
       "      <td>0</td>\n",
       "      <td>1</td>\n",
       "      <td>1</td>\n",
       "    </tr>\n",
       "    <tr>\n",
       "      <th>3</th>\n",
       "      <td>0</td>\n",
       "      <td>1</td>\n",
       "      <td>1</td>\n",
       "    </tr>\n",
       "    <tr>\n",
       "      <th>4</th>\n",
       "      <td>0</td>\n",
       "      <td>2</td>\n",
       "      <td>2</td>\n",
       "    </tr>\n",
       "  </tbody>\n",
       "</table>\n",
       "</div>"
      ],
      "text/plain": [
       "   stays_in_weekend_nights  stays_in_week_nights  total_nights\n",
       "0                        0                     0             0\n",
       "1                        0                     0             0\n",
       "2                        0                     1             1\n",
       "3                        0                     1             1\n",
       "4                        0                     2             2"
      ]
     },
     "execution_count": 46,
     "metadata": {},
     "output_type": "execute_result"
    }
   ],
   "source": [
    "# Display the first few rows of the selected columns\n",
    "df[['stays_in_weekend_nights','stays_in_week_nights', 'total_nights']].head()"
   ]
  },
  {
   "cell_type": "code",
   "execution_count": 47,
   "id": "ded7ffd9",
   "metadata": {},
   "outputs": [],
   "source": [
    "# Create a function to determine the type of stay (weekdays, weekends, or both)\n",
    "# and assign values to a new column.\n",
    "\n",
    "def week_function(row):\n",
    "    \n",
    "    \"\"\"Function to create values for a new column to determine whether the booking\n",
    "    includes week nights, weekend nights, or both types.\"\"\"\n",
    "    \n",
    "    # Define the features/columns to be used\n",
    "    feature1 = 'stays_in_weekend_nights'\n",
    "    feature2 = 'stays_in_week_nights'\n",
    "    \n",
    "    # Check if the stay includes only weekend nights\n",
    "    if row[feature2] == 0 and row[feature1] > 0:\n",
    "        return 'stay_just_weekend'\n",
    "    \n",
    "    # Check if the stay includes only weekdays\n",
    "    elif row[feature2] > 0 and row[feature1] == 0:\n",
    "        return 'stay_just_weekdays'\n",
    "    \n",
    "    # Check if the stay includes both weekdays and weekend nights\n",
    "    elif row[feature2] > 0 and row[feature1] > 0:\n",
    "        return 'stay_both_weekdays_weekends'\n",
    "        \n",
    "    # Handle cases with undefined data\n",
    "    else:\n",
    "        return 'undefined_data'\n"
   ]
  },
  {
   "cell_type": "code",
   "execution_count": 49,
   "id": "4b6c211d",
   "metadata": {},
   "outputs": [],
   "source": [
    "# Call the function\n",
    "df['weekend_or_weekday']=df.apply(week_function, axis=1)"
   ]
  },
  {
   "cell_type": "code",
   "execution_count": 50,
   "id": "9df3da04",
   "metadata": {},
   "outputs": [
    {
     "data": {
      "text/plain": [
       "stay_both_weekdays_weekends    60388\n",
       "stay_just_weekdays             51250\n",
       "stay_just_weekend               6927\n",
       "undefined_data                   645\n",
       "Name: weekend_or_weekday, dtype: int64"
      ]
     },
     "execution_count": 50,
     "metadata": {},
     "output_type": "execute_result"
    }
   ],
   "source": [
    "# Check value counts for the new column\n",
    "df['weekend_or_weekday'].value_counts()"
   ]
  },
  {
   "cell_type": "code",
   "execution_count": 51,
   "id": "78f94a77",
   "metadata": {},
   "outputs": [
    {
     "data": {
      "text/html": [
       "<div>\n",
       "<style scoped>\n",
       "    .dataframe tbody tr th:only-of-type {\n",
       "        vertical-align: middle;\n",
       "    }\n",
       "\n",
       "    .dataframe tbody tr th {\n",
       "        vertical-align: top;\n",
       "    }\n",
       "\n",
       "    .dataframe thead th {\n",
       "        text-align: right;\n",
       "    }\n",
       "</style>\n",
       "<table border=\"1\" class=\"dataframe\">\n",
       "  <thead>\n",
       "    <tr style=\"text-align: right;\">\n",
       "      <th></th>\n",
       "      <th>is_canceled</th>\n",
       "      <th>stays_in_weekend_nights</th>\n",
       "      <th>stays_in_week_nights</th>\n",
       "      <th>total_nights</th>\n",
       "    </tr>\n",
       "  </thead>\n",
       "  <tbody>\n",
       "    <tr>\n",
       "      <th>0</th>\n",
       "      <td>Yes</td>\n",
       "      <td>0</td>\n",
       "      <td>0</td>\n",
       "      <td>0</td>\n",
       "    </tr>\n",
       "    <tr>\n",
       "      <th>1</th>\n",
       "      <td>Yes</td>\n",
       "      <td>0</td>\n",
       "      <td>0</td>\n",
       "      <td>0</td>\n",
       "    </tr>\n",
       "    <tr>\n",
       "      <th>167</th>\n",
       "      <td>Yes</td>\n",
       "      <td>0</td>\n",
       "      <td>0</td>\n",
       "      <td>0</td>\n",
       "    </tr>\n",
       "    <tr>\n",
       "      <th>168</th>\n",
       "      <td>Yes</td>\n",
       "      <td>0</td>\n",
       "      <td>0</td>\n",
       "      <td>0</td>\n",
       "    </tr>\n",
       "    <tr>\n",
       "      <th>196</th>\n",
       "      <td>Yes</td>\n",
       "      <td>0</td>\n",
       "      <td>0</td>\n",
       "      <td>0</td>\n",
       "    </tr>\n",
       "  </tbody>\n",
       "</table>\n",
       "</div>"
      ],
      "text/plain": [
       "    is_canceled  stays_in_weekend_nights  stays_in_week_nights  total_nights\n",
       "0           Yes                        0                     0             0\n",
       "1           Yes                        0                     0             0\n",
       "167         Yes                        0                     0             0\n",
       "168         Yes                        0                     0             0\n",
       "196         Yes                        0                     0             0"
      ]
     },
     "metadata": {},
     "output_type": "display_data"
    },
    {
     "data": {
      "text/plain": [
       "(645, 4)"
      ]
     },
     "metadata": {},
     "output_type": "display_data"
    }
   ],
   "source": [
    "# Review all entries with undefined night stay data\n",
    "undefined_night_data = df[['is_canceled','stays_in_weekend_nights','stays_in_week_nights','total_nights']][df['weekend_or_weekday']=='undefined_data']\n",
    "\n",
    "# Display the first few rows and the shape of the filtered data\n",
    "display(undefined_night_data.head(), undefined_night_data.shape)"
   ]
  },
  {
   "cell_type": "code",
   "execution_count": 52,
   "id": "6cb76616",
   "metadata": {},
   "outputs": [
    {
     "data": {
      "text/markdown": [
       "There are 0 confirmed bookings with undefined night data"
      ],
      "text/plain": [
       "<IPython.core.display.Markdown object>"
      ]
     },
     "metadata": {},
     "output_type": "display_data"
    }
   ],
   "source": [
    "# Check if there are any confirmed bookings included in undefined_data or if all are canceled cases\n",
    "confirm_book_no_night_data = len(undefined_night_data[undefined_night_data['is_canceled'] == 'No'])\n",
    "\n",
    "display(Markdown(f\"There are {confirm_book_no_night_data} confirmed bookings with undefined night data\"))"
   ]
  },
  {
   "cell_type": "markdown",
   "id": "a5450598",
   "metadata": {},
   "source": [
    "#### Inconsistent Data (III):\n",
    "\n",
    "Now, let's focus on cases where bookings are labeled with 'is_canceled' as 'No,' but they possess an 'adr' (Average Daily Rate) value of 0.\n",
    "\n",
    "    - In such situations, we will update the booking status to 'canceled,' and, if required, eliminate any associated night stay data.\n"
   ]
  },
  {
   "cell_type": "code",
   "execution_count": 53,
   "id": "613e06f8",
   "metadata": {},
   "outputs": [
    {
     "data": {
      "text/html": [
       "<div>\n",
       "<style scoped>\n",
       "    .dataframe tbody tr th:only-of-type {\n",
       "        vertical-align: middle;\n",
       "    }\n",
       "\n",
       "    .dataframe tbody tr th {\n",
       "        vertical-align: top;\n",
       "    }\n",
       "\n",
       "    .dataframe thead th {\n",
       "        text-align: right;\n",
       "    }\n",
       "</style>\n",
       "<table border=\"1\" class=\"dataframe\">\n",
       "  <thead>\n",
       "    <tr style=\"text-align: right;\">\n",
       "      <th></th>\n",
       "      <th>is_canceled</th>\n",
       "      <th>assigned_room_type</th>\n",
       "      <th>adr</th>\n",
       "      <th>reservation_status</th>\n",
       "      <th>total_nights</th>\n",
       "    </tr>\n",
       "  </thead>\n",
       "  <tbody>\n",
       "    <tr>\n",
       "      <th>125</th>\n",
       "      <td>No</td>\n",
       "      <td>H</td>\n",
       "      <td>0.0</td>\n",
       "      <td>Check-Out</td>\n",
       "      <td>1</td>\n",
       "    </tr>\n",
       "    <tr>\n",
       "      <th>428</th>\n",
       "      <td>No</td>\n",
       "      <td>A</td>\n",
       "      <td>0.0</td>\n",
       "      <td>Check-Out</td>\n",
       "      <td>2</td>\n",
       "    </tr>\n",
       "    <tr>\n",
       "      <th>1655</th>\n",
       "      <td>No</td>\n",
       "      <td>I</td>\n",
       "      <td>0.0</td>\n",
       "      <td>Check-Out</td>\n",
       "      <td>46</td>\n",
       "    </tr>\n",
       "    <tr>\n",
       "      <th>1705</th>\n",
       "      <td>No</td>\n",
       "      <td>H</td>\n",
       "      <td>0.0</td>\n",
       "      <td>Check-Out</td>\n",
       "      <td>1</td>\n",
       "    </tr>\n",
       "    <tr>\n",
       "      <th>2114</th>\n",
       "      <td>No</td>\n",
       "      <td>H</td>\n",
       "      <td>0.0</td>\n",
       "      <td>Check-Out</td>\n",
       "      <td>2</td>\n",
       "    </tr>\n",
       "  </tbody>\n",
       "</table>\n",
       "</div>"
      ],
      "text/plain": [
       "     is_canceled assigned_room_type  adr reservation_status  total_nights\n",
       "125           No                  H  0.0          Check-Out             1\n",
       "428           No                  A  0.0          Check-Out             2\n",
       "1655          No                  I  0.0          Check-Out            46\n",
       "1705          No                  H  0.0          Check-Out             1\n",
       "2114          No                  H  0.0          Check-Out             2"
      ]
     },
     "metadata": {},
     "output_type": "display_data"
    },
    {
     "data": {
      "text/markdown": [
       "There are 1000 confirmed bookings whose 'adr' value is 0."
      ],
      "text/plain": [
       "<IPython.core.display.Markdown object>"
      ]
     },
     "metadata": {},
     "output_type": "display_data"
    }
   ],
   "source": [
    "# Filter for confirmed bookings where 'is_canceled' is 'No' and 'adr' is 0\n",
    "confirmed_bookings_0_adr = df[(df['is_canceled'] == 'No') & (df['adr'] == 0)]\n",
    "\n",
    "# Display the selected columns\n",
    "display(\n",
    "    confirmed_bookings_0_adr[['is_canceled', 'assigned_room_type', 'adr', 'reservation_status', 'total_nights']].head(), \n",
    "    Markdown(f\"There are {len(confirmed_bookings_0_adr)} confirmed bookings whose 'adr' value is 0.\")\n",
    ")"
   ]
  },
  {
   "cell_type": "code",
   "execution_count": 54,
   "id": "3bc605fa",
   "metadata": {},
   "outputs": [
    {
     "data": {
      "text/html": [
       "<div>\n",
       "<style scoped>\n",
       "    .dataframe tbody tr th:only-of-type {\n",
       "        vertical-align: middle;\n",
       "    }\n",
       "\n",
       "    .dataframe tbody tr th {\n",
       "        vertical-align: top;\n",
       "    }\n",
       "\n",
       "    .dataframe thead th {\n",
       "        text-align: right;\n",
       "    }\n",
       "</style>\n",
       "<table border=\"1\" class=\"dataframe\">\n",
       "  <thead>\n",
       "    <tr style=\"text-align: right;\">\n",
       "      <th></th>\n",
       "      <th></th>\n",
       "      <th>mean</th>\n",
       "      <th>median</th>\n",
       "    </tr>\n",
       "    <tr>\n",
       "      <th>hotel</th>\n",
       "      <th>assigned_room_type</th>\n",
       "      <th></th>\n",
       "      <th></th>\n",
       "    </tr>\n",
       "  </thead>\n",
       "  <tbody>\n",
       "    <tr>\n",
       "      <th rowspan=\"8\" valign=\"top\">City Hotel</th>\n",
       "      <th>A</th>\n",
       "      <td>99.08</td>\n",
       "      <td>95.00</td>\n",
       "    </tr>\n",
       "    <tr>\n",
       "      <th>B</th>\n",
       "      <td>97.52</td>\n",
       "      <td>93.64</td>\n",
       "    </tr>\n",
       "    <tr>\n",
       "      <th>C</th>\n",
       "      <td>110.42</td>\n",
       "      <td>108.00</td>\n",
       "    </tr>\n",
       "    <tr>\n",
       "      <th>D</th>\n",
       "      <td>117.91</td>\n",
       "      <td>115.28</td>\n",
       "    </tr>\n",
       "    <tr>\n",
       "      <th>E</th>\n",
       "      <td>142.22</td>\n",
       "      <td>140.26</td>\n",
       "    </tr>\n",
       "    <tr>\n",
       "      <th>F</th>\n",
       "      <td>178.09</td>\n",
       "      <td>179.30</td>\n",
       "    </tr>\n",
       "    <tr>\n",
       "      <th>G</th>\n",
       "      <td>196.60</td>\n",
       "      <td>204.82</td>\n",
       "    </tr>\n",
       "    <tr>\n",
       "      <th>K</th>\n",
       "      <td>112.77</td>\n",
       "      <td>108.00</td>\n",
       "    </tr>\n",
       "    <tr>\n",
       "      <th rowspan=\"9\" valign=\"top\">Resort Hotel</th>\n",
       "      <th>A</th>\n",
       "      <td>81.31</td>\n",
       "      <td>65.00</td>\n",
       "    </tr>\n",
       "    <tr>\n",
       "      <th>B</th>\n",
       "      <td>105.82</td>\n",
       "      <td>95.00</td>\n",
       "    </tr>\n",
       "    <tr>\n",
       "      <th>C</th>\n",
       "      <td>108.82</td>\n",
       "      <td>87.00</td>\n",
       "    </tr>\n",
       "    <tr>\n",
       "      <th>D</th>\n",
       "      <td>82.43</td>\n",
       "      <td>65.00</td>\n",
       "    </tr>\n",
       "    <tr>\n",
       "      <th>E</th>\n",
       "      <td>102.46</td>\n",
       "      <td>85.50</td>\n",
       "    </tr>\n",
       "    <tr>\n",
       "      <th>F</th>\n",
       "      <td>120.39</td>\n",
       "      <td>102.00</td>\n",
       "    </tr>\n",
       "    <tr>\n",
       "      <th>G</th>\n",
       "      <td>153.18</td>\n",
       "      <td>139.00</td>\n",
       "    </tr>\n",
       "    <tr>\n",
       "      <th>H</th>\n",
       "      <td>161.82</td>\n",
       "      <td>150.12</td>\n",
       "    </tr>\n",
       "    <tr>\n",
       "      <th>I</th>\n",
       "      <td>90.87</td>\n",
       "      <td>70.20</td>\n",
       "    </tr>\n",
       "  </tbody>\n",
       "</table>\n",
       "</div>"
      ],
      "text/plain": [
       "                                   mean  median\n",
       "hotel        assigned_room_type                \n",
       "City Hotel   A                    99.08   95.00\n",
       "             B                    97.52   93.64\n",
       "             C                   110.42  108.00\n",
       "             D                   117.91  115.28\n",
       "             E                   142.22  140.26\n",
       "             F                   178.09  179.30\n",
       "             G                   196.60  204.82\n",
       "             K                   112.77  108.00\n",
       "Resort Hotel A                    81.31   65.00\n",
       "             B                   105.82   95.00\n",
       "             C                   108.82   87.00\n",
       "             D                    82.43   65.00\n",
       "             E                   102.46   85.50\n",
       "             F                   120.39  102.00\n",
       "             G                   153.18  139.00\n",
       "             H                   161.82  150.12\n",
       "             I                    90.87   70.20"
      ]
     },
     "execution_count": 54,
     "metadata": {},
     "output_type": "execute_result"
    }
   ],
   "source": [
    "# Check mean and median 'adr' for each type of room and hotel with confirmed bookings and 'adr' value different than 0\n",
    "confirmed_bookings_not_0_adr = df[(df['is_canceled'] == 'No') & (df['adr'] != 0)].groupby(['hotel', 'assigned_room_type'])['adr'].agg(['mean', 'median'])\n",
    "\n",
    "# Round the mean and median values to 2 decimals\n",
    "confirmed_bookings_not_0_adr = confirmed_bookings_not_0_adr.round(2)\n",
    "\n",
    "# Display the mean and median 'adr' values for each room type and hotel\n",
    "confirmed_bookings_not_0_adr"
   ]
  },
  {
   "cell_type": "code",
   "execution_count": 55,
   "id": "bf198a94",
   "metadata": {},
   "outputs": [],
   "source": [
    "# Filter the data for confirmed bookings with 'adr' values different than 0\n",
    "filtered_data = df[(df['is_canceled'] == 'No') & (df['adr'] != 0)]"
   ]
  },
  {
   "cell_type": "code",
   "execution_count": null,
   "id": "d2b54f8d",
   "metadata": {},
   "outputs": [],
   "source": [
    "# Create a 1x2 subplot grid\n",
    "fig, axes = plt.subplots(1, 2, figsize=(14, 10))\n",
    "\n",
    "# Plot ADR for 'Resort Hotel' by assigned room type\n",
    "sns.boxplot(x='assigned_room_type', y='adr', data=filtered_data[filtered_data['hotel'] == 'Resort Hotel'], ax=axes[0])\n",
    "axes[0].set_xlabel('Assigned Room Type')\n",
    "axes[0].set_ylabel('Mean ADR')\n",
    "axes[0].set_title('Resort Hotel - ADR by Room Type')\n",
    "\n",
    "# Plot ADR for 'City Hotel' by assigned room type\n",
    "sns.boxplot(x='assigned_room_type', y='adr', data=filtered_data[filtered_data['hotel'] == 'City Hotel'], ax=axes[1])\n",
    "axes[1].set_xlabel('Assigned Room Type')\n",
    "axes[1].set_ylabel('Mean ADR')\n",
    "axes[1].set_title('City Hotel - ADR by Room Type')\n",
    "\n",
    "# Adjust spacing between subplots\n",
    "plt.tight_layout()\n",
    "\n",
    "# Show the plot\n",
    "plt.show()"
   ]
  },
  {
   "cell_type": "markdown",
   "id": "d462d051",
   "metadata": {},
   "source": [
    "In order to mitigate the impact of outliers in the 'adr' distribution, I will impute the **median 'adr'** value for confirmed bookings with an 'adr' value of '0', considering the assigned room type and hotel."
   ]
  },
  {
   "cell_type": "code",
   "execution_count": null,
   "id": "f5dcdcbe",
   "metadata": {},
   "outputs": [],
   "source": [
    "# Reset the index of confirmed_bookings_not_0_adr to obtain a DataFrame\n",
    "# with columns 'hotel', 'assigned_room_type', 'mean', and 'median'\n",
    "confirmed_bookings_not_0_adr_reset = confirmed_bookings_not_0_adr.reset_index()\n",
    "\n",
    "# Display the output (median)\n",
    "confirmed_bookings_not_0_adr_reset[['hotel','assigned_room_type','median']]"
   ]
  },
  {
   "cell_type": "code",
   "execution_count": null,
   "id": "243e4dc3",
   "metadata": {},
   "outputs": [],
   "source": [
    "# Iterate through each case in confirmed_bookings_0_adr\n",
    "for index, row in confirmed_bookings_0_adr.iterrows():\n",
    "    # Extract 'hotel' and 'assigned_room_type'\n",
    "    hotel = row['hotel']\n",
    "    room_type = row['assigned_room_type']\n",
    "    \n",
    "    # Find the corresponding median 'adr' value from confirmed_bookings_not_0_adr_reset\n",
    "    median_adr = confirmed_bookings_not_0_adr_reset[\n",
    "        (confirmed_bookings_not_0_adr_reset['hotel'] == hotel) &\n",
    "        (confirmed_bookings_not_0_adr_reset['assigned_room_type'] == room_type)]['median'].values[0]  # Extract the median value\n",
    "    \n",
    "    # Update the 'adr' value in the original DataFrame\n",
    "    df.at[index, 'adr'] = median_adr"
   ]
  },
  {
   "cell_type": "code",
   "execution_count": null,
   "id": "33ea697f",
   "metadata": {},
   "outputs": [],
   "source": [
    "# Check changes\n",
    "confirmed_bookings_0_adr = df[(df['is_canceled'] == 'No') & (df['adr'] == 0)]\n",
    "\n",
    "display(Markdown(f\"Now, there are {len(confirmed_bookings_0_adr)} confirmed bookings with an 'adr' value of 0.\"))"
   ]
  },
  {
   "cell_type": "code",
   "execution_count": null,
   "id": "69d51c4a",
   "metadata": {},
   "outputs": [],
   "source": [
    "# Check impact on new average values\n",
    "new_mean = df[df['is_canceled'] == 'No'].groupby(['hotel', 'assigned_room_type'])['adr'].agg(['mean'])\n",
    "\n",
    "# Round the mean and median values to 2 decimals\n",
    "new_mean = new_mean.round(2)\n",
    "\n",
    "# Change column name\n",
    "new_mean = new_mean.rename(columns={'mean': 'new_mean'})\n",
    "confirmed_bookings_not_0_adr_reset = confirmed_bookings_not_0_adr_reset.rename(columns={'mean':'original_mean'})\n",
    "\n",
    "# Reset the index\n",
    "new_mean = new_mean.reset_index()\n",
    "\n",
    "# Concatenate to previous median data\n",
    "mean_changes = pd.concat([confirmed_bookings_not_0_adr_reset[['hotel','assigned_room_type','median','original_mean']], new_mean['new_mean']], axis=1, join='inner')\n",
    "\n",
    "# Calculate mean difference\n",
    "mean_changes['mean_difference'] = mean_changes['original_mean']-mean_changes['new_mean']\n",
    "\n",
    "mean_changes\n"
   ]
  },
  {
   "cell_type": "markdown",
   "id": "725c9b29",
   "metadata": {},
   "source": [
    "#### Reorder columns"
   ]
  },
  {
   "cell_type": "code",
   "execution_count": null,
   "id": "2a61bedd",
   "metadata": {},
   "outputs": [],
   "source": [
    "df.columns"
   ]
  },
  {
   "cell_type": "code",
   "execution_count": null,
   "id": "64250d48",
   "metadata": {},
   "outputs": [],
   "source": [
    "# Specify new order of columns\n",
    "new_order = [\n",
    "    'hotel', 'is_canceled', 'lead_time', 'arrival_date_year',\n",
    "    'arrival_date_month', 'arrival_date_month_num', 'arrival_date_week_number',\n",
    "    'arrival_date_day_of_month',\n",
    "    'check_in_date', 'total_nights','stays_in_weekend_nights',\n",
    "    'stays_in_week_nights', 'weekend_or_weekday', 'adults', 'children', 'babies',\n",
    "    'total_guests','country', 'meal', 'market_segment', 'distribution_channel',\n",
    "    'is_repeated_guest', 'previous_cancellations',\n",
    "    'previous_bookings_not_canceled', 'reserved_room_type',\n",
    "    'assigned_room_type', 'booking_changes', 'deposit_type',\n",
    "    'days_in_waiting_list', 'customer_type', 'adr',\n",
    "    'required_car_parking_spaces', 'total_of_special_requests',\n",
    "    'reservation_status', 'reservation_status_date'\n",
    "]"
   ]
  },
  {
   "cell_type": "code",
   "execution_count": null,
   "id": "02478115",
   "metadata": {},
   "outputs": [],
   "source": [
    "# Calculate number of columns in original dataframe and in new_order list\n",
    "len_cols_df = len(df.columns)\n",
    "len_cols_new_order = len(new_order)\n",
    "\n",
    "# Check if the columns in the DataFrame exactly match the columns in the new_order list (regardless of order)\n",
    "check_columns_match = set(df.columns) == set(new_order)\n",
    "check_columns_match"
   ]
  },
  {
   "cell_type": "code",
   "execution_count": null,
   "id": "6534c50a",
   "metadata": {},
   "outputs": [],
   "source": [
    "# Reorder the columns\n",
    "df = df[new_order]\n",
    "\n",
    "df.head()"
   ]
  },
  {
   "cell_type": "code",
   "execution_count": null,
   "id": "d4681f62",
   "metadata": {},
   "outputs": [],
   "source": [
    "df.info()"
   ]
  },
  {
   "cell_type": "markdown",
   "id": "871da813",
   "metadata": {},
   "source": [
    "#### Save dataset prepared for EDA"
   ]
  },
  {
   "cell_type": "code",
   "execution_count": null,
   "id": "f03a8522",
   "metadata": {},
   "outputs": [],
   "source": [
    "df.to_csv('./Datasets/clean_EDA_data.csv', index = False)"
   ]
  },
  {
   "cell_type": "code",
   "execution_count": null,
   "id": "d2a0665d",
   "metadata": {},
   "outputs": [],
   "source": []
  },
  {
   "cell_type": "code",
   "execution_count": null,
   "id": "3052b080",
   "metadata": {},
   "outputs": [],
   "source": []
  },
  {
   "cell_type": "markdown",
   "id": "a4a384e4",
   "metadata": {},
   "source": [
    "### 3. EDA: Analyzing Hotel Demand"
   ]
  },
  {
   "cell_type": "code",
   "execution_count": null,
   "id": "f1f6be2a",
   "metadata": {},
   "outputs": [],
   "source": [
    "data = pd.read_csv('./Datasets/clean_EDA_data.csv')\n",
    "display(data.head(), data.shape)"
   ]
  },
  {
   "cell_type": "markdown",
   "id": "157555d6",
   "metadata": {},
   "source": [
    "What are the countries of origin for the guests?"
   ]
  },
  {
   "cell_type": "code",
   "execution_count": null,
   "id": "d6215f00",
   "metadata": {},
   "outputs": [],
   "source": [
    "# First, filter for those bookings not canceled\n",
    "confirmed_bookings = data[data['is_canceled']=='No']\n",
    "\n",
    "len_not_canceled = len(confirmed_bookings)\n",
    "len_not_canceled"
   ]
  },
  {
   "cell_type": "code",
   "execution_count": null,
   "id": "a68cc03d",
   "metadata": {},
   "outputs": [],
   "source": [
    "# Get % of BOOKINGS of each country\n",
    "confirmed_bookings['country'].value_counts()/len_not_canceled"
   ]
  },
  {
   "cell_type": "code",
   "execution_count": null,
   "id": "a42862e8",
   "metadata": {},
   "outputs": [],
   "source": [
    "# Group by 'country' to get 'total_guests' count for each one\n",
    "country_wise_data = confirmed_bookings.groupby('country')['total_guests'].sum().reset_index()\n",
    "\n",
    "# Modify cols name\n",
    "country_wise_data.columns=['country','no_of_guests']\n",
    "\n",
    "# Add column (%)\n",
    "country_wise_data['total_%'] = round((country_wise_data['no_of_guests']/country_wise_data['no_of_guests'].sum())*100,2)\n",
    "\n",
    "# Sort in descending order\n",
    "country_wise_data = country_wise_data.sort_values(by='no_of_guests', ascending=False)\n",
    "\n",
    "# Reset index\n",
    "country_wise_data = country_wise_data.reset_index()\n",
    "\n",
    "country_wise_data.head(10)"
   ]
  },
  {
   "cell_type": "code",
   "execution_count": null,
   "id": "f8154b86",
   "metadata": {},
   "outputs": [],
   "source": [
    "import plotly\n",
    "import chart_studio.plotly as py\n",
    "from plotly.offline import download_plotlyjs, init_notebook_mode, plot, iplot\n",
    "init_notebook_mode(connected = True)\n",
    "import plotly.express as px"
   ]
  },
  {
   "cell_type": "code",
   "execution_count": null,
   "id": "afa502fa",
   "metadata": {},
   "outputs": [],
   "source": [
    "# Plot a choropleth to check the distribution of guests' countries of origin.\n",
    "map_guest = px.choropleth(country_wise_data,\n",
    "                          locations=country_wise_data['country'],\n",
    "                          color=country_wise_data['no_of_guests'],\n",
    "                          hover_name=country_wise_data['country'])\n",
    "\n",
    "# Center title\n",
    "map_guest.update_layout(\n",
    "    title={'text': \"Guest's Home Country (confirmed bookings)\", 'x': 0.5}\n",
    ")\n",
    "\n",
    "map_guest.show()"
   ]
  },
  {
   "cell_type": "code",
   "execution_count": null,
   "id": "1a7c58d1",
   "metadata": {},
   "outputs": [],
   "source": [
    "display(Markdown(f\"**{country_wise_data['country'][0]}** is the home country of the majority of the hotel's guests, accounting for {country_wise_data['total_%'][0]}% of the total. It is followed by **{country_wise_data['country'][1]}** at {country_wise_data['total_%'][1]}% and **{country_wise_data['country'][2]}** at {country_wise_data['total_%'][2]}%.\"))"
   ]
  },
  {
   "cell_type": "markdown",
   "id": "409064ea",
   "metadata": {},
   "source": [
    "Are these countries the same for both hotels?"
   ]
  },
  {
   "cell_type": "code",
   "execution_count": null,
   "id": "d6764a47",
   "metadata": {},
   "outputs": [],
   "source": [
    "# Hotels included in the dataset: 2\n",
    "data['hotel'].unique()"
   ]
  },
  {
   "cell_type": "code",
   "execution_count": null,
   "id": "88ec7a22",
   "metadata": {},
   "outputs": [],
   "source": [
    "# Calculate the percentage of customers for each country, grouped by unique values of 'hotels'\n",
    "country_percentage_by_hotel = confirmed_bookings.groupby(['hotel', 'country'])['country'].count() / len_not_canceled * 100\n",
    "\n",
    "# Convert the calculated percentages to a df and round the 'total_%' column\n",
    "df_country_percentage_by_hotel = country_percentage_by_hotel.reset_index(name='total_%')\n",
    "df_country_percentage_by_hotel['total_%'] = df_country_percentage_by_hotel['total_%'].round(2)\n",
    "\n",
    "# Top 5 countries with the highest total percentages for each hotel\n",
    "top_countries_by_hotel = df_country_percentage_by_hotel.groupby('hotel').apply(lambda x: x.nlargest(5, 'total_%')).reset_index(drop=True)\n",
    "\n",
    "# Split the dataframe\n",
    "top_countries_city = top_countries_by_hotel[top_countries_by_hotel['hotel'] == 'City Hotel'].reset_index(drop=True)\n",
    "top_countries_resort = top_countries_by_hotel[top_countries_by_hotel['hotel'] == 'Resort Hotel'].reset_index(drop=True)"
   ]
  },
  {
   "cell_type": "code",
   "execution_count": null,
   "id": "d885e49a",
   "metadata": {},
   "outputs": [],
   "source": [
    "# Create a figure with two subplots side by side\n",
    "fig, axes = plt.subplots(1, 2, figsize=(12, 6))\n",
    "\n",
    "# Plot for 'City Hotel'\n",
    "sns.barplot(x='total_%', y='country', data=top_countries_city, ax=axes[0], color='skyblue')\n",
    "axes[0].set_xlabel('Percentage (%)')\n",
    "axes[0].set_ylabel('Country')\n",
    "axes[0].set_title('Top Countries for City Hotel')\n",
    "\n",
    "# Plot for 'Resort Hotel'\n",
    "sns.barplot(x='total_%', y='country', data=top_countries_resort, ax=axes[1], color='lightgreen')\n",
    "axes[1].set_xlabel('Percentage (%)')\n",
    "axes[1].set_ylabel('Country')\n",
    "axes[1].set_title('Top Countries for Resort Hotel')\n",
    "\n",
    "# Adjust spacing between subplots\n",
    "plt.tight_layout()\n",
    "\n",
    "# Show the plot\n",
    "plt.show()"
   ]
  },
  {
   "cell_type": "markdown",
   "id": "47ac8236",
   "metadata": {},
   "source": [
    "What is the average cost that guests pay for a room per night?"
   ]
  },
  {
   "cell_type": "code",
   "execution_count": null,
   "id": "8a40b4b7",
   "metadata": {},
   "outputs": [],
   "source": [
    "plt.figure(figsize=(12,8))\n",
    "sns.boxplot(x='reserved_room_type',y='adr', hue='hotel',data=confirmed_bookings)\n",
    "plt.title('Room Price per Night and Person')\n",
    "plt.xlabel('room types')\n",
    "plt.ylabel('price (EUR)')"
   ]
  },
  {
   "cell_type": "code",
   "execution_count": null,
   "id": "e9380e3d",
   "metadata": {},
   "outputs": [],
   "source": [
    "# Calculate the median 'adr' grouped by 'hotel' and 'reserved_room_type'\n",
    "median_adr_by_room_type = confirmed_bookings.groupby(['hotel', 'reserved_room_type'])['adr'].median().reset_index()\n",
    "\n",
    "# Pivot the data to get the desired format\n",
    "pivot_df = median_adr_by_room_type.pivot(index='reserved_room_type', columns='hotel', values='adr')\n",
    "\n",
    "# Find rooms with highest median rate for each hotel\n",
    "max_CH = pivot_df['City Hotel'].idxmax()\n",
    "max_RH = pivot_df['Resort Hotel'].idxmax()\n",
    "\n",
    "# Print results\n",
    "display(pivot_df, Markdown(f\"For the **City Hotel**, the room with the highest median ADR is **{max_CH}**, and for the **Resort Hotel**, it is **{max_RH}**.\"))"
   ]
  },
  {
   "cell_type": "markdown",
   "id": "17722281",
   "metadata": {},
   "source": [
    "Which months demonstrate the highest hotel occupancy rates based on the monthly number of bookings?"
   ]
  },
  {
   "cell_type": "code",
   "execution_count": null,
   "id": "47a211cc",
   "metadata": {},
   "outputs": [],
   "source": [
    "# Split data into Resort and City data (confirmed bookings)\n",
    "data_resort = confirmed_bookings[confirmed_bookings['hotel'] == 'Resort Hotel']\n",
    "data_city = confirmed_bookings[confirmed_bookings['hotel'] == 'City Hotel']\n",
    "\n",
    "print('Resort Hotel data shape: ', data_resort.shape)\n",
    "print('City Hotel data shape: ', data_city.shape)"
   ]
  },
  {
   "cell_type": "code",
   "execution_count": null,
   "id": "d0c9aec5",
   "metadata": {},
   "outputs": [],
   "source": [
    "# Count monthly bookings for each hotel\n",
    "\n",
    "# Resort\n",
    "rush_resort = data_resort['arrival_date_month'].value_counts().reset_index()\n",
    "rush_resort.columns=['month', 'no_of_bookings']\n",
    "\n",
    "# City\n",
    "rush_city = data_city['arrival_date_month'].value_counts().reset_index()\n",
    "rush_city.columns=['month', 'no_of_bookings']\n",
    "\n",
    "# Merge\n",
    "final_rush = rush_resort.merge(rush_city, on='month')\n",
    "final_rush.columns=['month', 'bookings_resort', 'bookings_city']\n",
    "final_rush"
   ]
  },
  {
   "cell_type": "code",
   "execution_count": null,
   "id": "5957873a",
   "metadata": {},
   "outputs": [],
   "source": [
    "# Import library to sort months (textual) in proper order\n",
    "import sort_dataframeby_monthorweek as sd\n",
    "\n",
    "# Sorting by monthly order\n",
    "final_rush = sd.Sort_Dataframeby_Month(final_rush, 'month')\n",
    "final_rush"
   ]
  },
  {
   "cell_type": "code",
   "execution_count": null,
   "id": "57b88c83",
   "metadata": {},
   "outputs": [],
   "source": [
    "# Selecting 3 top months for each hotel\n",
    "top_3_resort = final_rush.nlargest(3, 'bookings_resort')['month']\n",
    "top_3_city = final_rush.nlargest(3, 'bookings_city')['month']\n",
    "\n",
    "# Convert the top months to a comma-separated string\n",
    "top_3_resort_str = ', '.join(top_3_resort)\n",
    "top_3_city_str = ', '.join(top_3_city)\n",
    "\n",
    "# Display the results\n",
    "display(Markdown(f\"For the **Resort Hotel**, the top 3 months with the maximum bookings are **{top_3_resort_str}**, while for the **City Hotel**, they are **{top_3_city_str}**.\"))"
   ]
  },
  {
   "cell_type": "code",
   "execution_count": null,
   "id": "ed05ff20",
   "metadata": {},
   "outputs": [],
   "source": [
    "# Plot data\n",
    "px.line(data_frame=final_rush,\n",
    "       x='month',\n",
    "       y=['bookings_resort', 'bookings_city'],\n",
    "       title = 'Number of bookings by month')"
   ]
  },
  {
   "cell_type": "markdown",
   "id": "4492e197",
   "metadata": {},
   "source": [
    "Which month has the highest average daily rate (ADR)?"
   ]
  },
  {
   "cell_type": "code",
   "execution_count": null,
   "id": "d1fe9918",
   "metadata": {},
   "outputs": [],
   "source": [
    "# Sort confirmed_bookings by month\n",
    "confirmed_bookings = sd.Sort_Dataframeby_Month(confirmed_bookings, 'arrival_date_month')"
   ]
  },
  {
   "cell_type": "code",
   "execution_count": null,
   "id": "d7af2a5f",
   "metadata": {},
   "outputs": [],
   "source": [
    "display(confirmed_bookings[['hotel', 'arrival_date_month']].head(2), confirmed_bookings[['hotel', 'arrival_date_month']].tail(2))"
   ]
  },
  {
   "cell_type": "code",
   "execution_count": null,
   "id": "001c6f89",
   "metadata": {},
   "outputs": [],
   "source": [
    "# Set up the figure and subplots\n",
    "fig, axes = plt.subplots(1, 2, figsize=(12, 5))\n",
    "\n",
    "# Plot ADR for not cancelled bookings in the first subplot by Hotel\n",
    "sns.barplot(x='arrival_date_month', y='adr', data=confirmed_bookings, hue='hotel', ax=axes[0])\n",
    "axes[0].set_title('ADR for Confirmed Bookings (by Hotel)')\n",
    "axes[0].set_xticklabels(confirmed_bookings['arrival_date_month'].unique(), rotation=45, ha='right')\n",
    "\n",
    "# Plot ADR for not cancelled bookings in the second subplot\n",
    "sns.barplot(x='arrival_date_month', y='adr', data=confirmed_bookings, ax=axes[1])\n",
    "axes[1].set_title('ADR for Confirmed Bookings')\n",
    "axes[1].set_xticklabels(confirmed_bookings['arrival_date_month'].unique(), rotation=45, ha='right')\n",
    "\n",
    "# Adjust spacing between subplots\n",
    "plt.tight_layout()\n",
    "\n",
    "plt.show()"
   ]
  },
  {
   "cell_type": "code",
   "execution_count": null,
   "id": "c0ed7065",
   "metadata": {},
   "outputs": [],
   "source": [
    "# Plot 'adr' boxplot for confirmed bookings (by hotel)\n",
    "plt.figure(figsize=(10,6))\n",
    "sns.boxplot(x='arrival_date_month', y='adr', data=confirmed_bookings, hue='hotel')\n",
    "plt.xticks(rotation='vertical')\n",
    "plt.title('ADR Distribution for Confirmed Bookings (by Hotel)')\n",
    "plt.show()"
   ]
  },
  {
   "cell_type": "code",
   "execution_count": null,
   "id": "582054fc",
   "metadata": {},
   "outputs": [],
   "source": [
    "# Plot 'adr' boxplot for confirmed bookings\n",
    "plt.figure(figsize=(10,6))\n",
    "sns.boxplot(x='arrival_date_month', y='adr', data=confirmed_bookings)\n",
    "plt.xticks(rotation='vertical')\n",
    "plt.title('ADR Distribution for Confirmed Bookings')\n",
    "plt.show()"
   ]
  },
  {
   "cell_type": "markdown",
   "id": "4683b5e6",
   "metadata": {},
   "source": [
    "Were the bookings made only for weekdays, only for weekends, or for both?"
   ]
  },
  {
   "cell_type": "code",
   "execution_count": null,
   "id": "ef27e7c3",
   "metadata": {},
   "outputs": [],
   "source": [
    "pd.crosstab(index=confirmed_bookings['stays_in_weekend_nights'],columns=confirmed_bookings['stays_in_week_nights'])"
   ]
  },
  {
   "cell_type": "code",
   "execution_count": null,
   "id": "e1f56898",
   "metadata": {},
   "outputs": [],
   "source": [
    "# Total count\n",
    "confirmed_bookings['weekend_or_weekday'].value_counts()"
   ]
  },
  {
   "cell_type": "code",
   "execution_count": null,
   "id": "14f7ab41",
   "metadata": {},
   "outputs": [],
   "source": [
    "# Group data by month and week/weekend nights\n",
    "group_data = confirmed_bookings.groupby(['arrival_date_month', 'weekend_or_weekday']).size().unstack().reset_index()\n",
    "\n",
    "# Sort data by month\n",
    "sorted_data = sd.Sort_Dataframeby_Month(group_data,'arrival_date_month')\n",
    "\n",
    "# Set 'arrival_date_month' as index\n",
    "sorted_data.set_index('arrival_date_month', inplace=True)\n",
    "\n",
    "sorted_data"
   ]
  },
  {
   "cell_type": "code",
   "execution_count": null,
   "id": "d4b764bd",
   "metadata": {},
   "outputs": [],
   "source": [
    "# Plot\n",
    "sorted_data.plot(kind='bar', stacked=True, figsize=(15,10))"
   ]
  },
  {
   "cell_type": "code",
   "execution_count": null,
   "id": "2586a20f",
   "metadata": {},
   "outputs": [],
   "source": [
    "# Plot  a 100% stacked barplot\n",
    "import plotly.graph_objects as go\n",
    "\n",
    "# Calculate percentages for each category within each month\n",
    "total_stays = sorted_data.sum(axis=1)\n",
    "sorted_data_percent = sorted_data.divide(total_stays, axis=0) * 100\n",
    "\n",
    "# Create a 100% stacked barplot\n",
    "fig = go.Figure()\n",
    "\n",
    "for col in sorted_data_percent.columns:\n",
    "    fig.add_trace(go.Bar(\n",
    "        x=sorted_data_percent.index,\n",
    "        y=sorted_data_percent[col],\n",
    "        name=col,\n",
    "        hovertemplate='%{y:.2f}%',\n",
    "    ))\n",
    "\n",
    "# Customize the layout\n",
    "fig.update_layout(\n",
    "    title='100% Stacked Barplot of Stays by Month and Category',\n",
    "    xaxis_title='Month',\n",
    "    yaxis_title='Percentage (%)',\n",
    "    barmode='relative',\n",
    "    height=400,\n",
    "    legend=dict(\n",
    "        title='',\n",
    "        orientation='h',  # Horizontal legend\n",
    "        yanchor='bottom',\n",
    "        y=1.00,  # Adjust the y position for label placement\n",
    "        xanchor='right',\n",
    "        x=0.9,\n",
    "    ),\n",
    ")\n",
    "\n",
    "# Show the plot\n",
    "fig.show()\n"
   ]
  },
  {
   "cell_type": "markdown",
   "id": "3f6672aa",
   "metadata": {},
   "source": [
    "After completing the EDA, I'll revert the values of the 'is_canceled' variable back to 1 and 0. This is due to the fact that I'll be using regression models for prediction."
   ]
  },
  {
   "cell_type": "code",
   "execution_count": null,
   "id": "a37646f5",
   "metadata": {},
   "outputs": [],
   "source": [
    "data['is_canceled'] = data['is_canceled'].replace({'No': 0, 'Yes': 1})"
   ]
  },
  {
   "cell_type": "code",
   "execution_count": null,
   "id": "05e482b0",
   "metadata": {},
   "outputs": [],
   "source": [
    "data.head()"
   ]
  },
  {
   "cell_type": "code",
   "execution_count": null,
   "id": "2dd72e30",
   "metadata": {},
   "outputs": [],
   "source": [
    "# Save the dataframe\n",
    "data.to_csv('./Datasets/clean_EDA_data.csv', index = False)"
   ]
  },
  {
   "cell_type": "code",
   "execution_count": null,
   "id": "1e86814e",
   "metadata": {},
   "outputs": [],
   "source": []
  }
 ],
 "metadata": {
  "kernelspec": {
   "display_name": "Python 3 (ipykernel)",
   "language": "python",
   "name": "python3"
  },
  "language_info": {
   "codemirror_mode": {
    "name": "ipython",
    "version": 3
   },
   "file_extension": ".py",
   "mimetype": "text/x-python",
   "name": "python",
   "nbconvert_exporter": "python",
   "pygments_lexer": "ipython3",
   "version": "3.9.13"
  }
 },
 "nbformat": 4,
 "nbformat_minor": 5
}
