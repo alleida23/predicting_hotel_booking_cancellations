{
 "cells": [
  {
   "cell_type": "markdown",
   "id": "4720d893",
   "metadata": {},
   "source": [
    "# Predicting Hotel Booking Cancellations"
   ]
  },
  {
   "cell_type": "markdown",
   "id": "44cb5eeb",
   "metadata": {},
   "source": [
    "In this project, I'll use a hotel occupancy dataset. After data cleaning and exploratory analysis, I'll build predictive models with Logistic Regression, Random Forest, Decision Tree, KNN, and Naive Bayes to determine whether a booking will be canceled or not. By comparing their accuracy, I'll identify the most effective model for this prediction task."
   ]
  },
  {
   "cell_type": "markdown",
   "id": "05f11968",
   "metadata": {},
   "source": [
    "### Import libraries"
   ]
  },
  {
   "cell_type": "code",
   "execution_count": 1,
   "id": "a79b9648",
   "metadata": {},
   "outputs": [],
   "source": [
    "import pandas as pd\n",
    "import numpy as np\n",
    "import seaborn as sns\n",
    "import matplotlib.pyplot as plt"
   ]
  },
  {
   "cell_type": "markdown",
   "id": "87fda9db",
   "metadata": {},
   "source": [
    "### Import data"
   ]
  },
  {
   "cell_type": "code",
   "execution_count": 2,
   "id": "9912fd34",
   "metadata": {},
   "outputs": [
    {
     "data": {
      "text/html": [
       "<div>\n",
       "<style scoped>\n",
       "    .dataframe tbody tr th:only-of-type {\n",
       "        vertical-align: middle;\n",
       "    }\n",
       "\n",
       "    .dataframe tbody tr th {\n",
       "        vertical-align: top;\n",
       "    }\n",
       "\n",
       "    .dataframe thead th {\n",
       "        text-align: right;\n",
       "    }\n",
       "</style>\n",
       "<table border=\"1\" class=\"dataframe\">\n",
       "  <thead>\n",
       "    <tr style=\"text-align: right;\">\n",
       "      <th></th>\n",
       "      <th>hotel</th>\n",
       "      <th>is_canceled</th>\n",
       "      <th>lead_time</th>\n",
       "      <th>arrival_date_year</th>\n",
       "      <th>arrival_date_month</th>\n",
       "      <th>arrival_date_week_number</th>\n",
       "      <th>arrival_date_day_of_month</th>\n",
       "      <th>stays_in_weekend_nights</th>\n",
       "      <th>stays_in_week_nights</th>\n",
       "      <th>adults</th>\n",
       "      <th>...</th>\n",
       "      <th>deposit_type</th>\n",
       "      <th>agent</th>\n",
       "      <th>company</th>\n",
       "      <th>days_in_waiting_list</th>\n",
       "      <th>customer_type</th>\n",
       "      <th>adr</th>\n",
       "      <th>required_car_parking_spaces</th>\n",
       "      <th>total_of_special_requests</th>\n",
       "      <th>reservation_status</th>\n",
       "      <th>reservation_status_date</th>\n",
       "    </tr>\n",
       "  </thead>\n",
       "  <tbody>\n",
       "    <tr>\n",
       "      <th>0</th>\n",
       "      <td>Resort Hotel</td>\n",
       "      <td>0</td>\n",
       "      <td>342</td>\n",
       "      <td>2015</td>\n",
       "      <td>July</td>\n",
       "      <td>27</td>\n",
       "      <td>1</td>\n",
       "      <td>0</td>\n",
       "      <td>0</td>\n",
       "      <td>2</td>\n",
       "      <td>...</td>\n",
       "      <td>No Deposit</td>\n",
       "      <td>NaN</td>\n",
       "      <td>NaN</td>\n",
       "      <td>0</td>\n",
       "      <td>Transient</td>\n",
       "      <td>0.0</td>\n",
       "      <td>0</td>\n",
       "      <td>0</td>\n",
       "      <td>Check-Out</td>\n",
       "      <td>7/1/2015</td>\n",
       "    </tr>\n",
       "    <tr>\n",
       "      <th>1</th>\n",
       "      <td>Resort Hotel</td>\n",
       "      <td>0</td>\n",
       "      <td>737</td>\n",
       "      <td>2015</td>\n",
       "      <td>July</td>\n",
       "      <td>27</td>\n",
       "      <td>1</td>\n",
       "      <td>0</td>\n",
       "      <td>0</td>\n",
       "      <td>2</td>\n",
       "      <td>...</td>\n",
       "      <td>No Deposit</td>\n",
       "      <td>NaN</td>\n",
       "      <td>NaN</td>\n",
       "      <td>0</td>\n",
       "      <td>Transient</td>\n",
       "      <td>0.0</td>\n",
       "      <td>0</td>\n",
       "      <td>0</td>\n",
       "      <td>Check-Out</td>\n",
       "      <td>7/1/2015</td>\n",
       "    </tr>\n",
       "    <tr>\n",
       "      <th>2</th>\n",
       "      <td>Resort Hotel</td>\n",
       "      <td>0</td>\n",
       "      <td>7</td>\n",
       "      <td>2015</td>\n",
       "      <td>July</td>\n",
       "      <td>27</td>\n",
       "      <td>1</td>\n",
       "      <td>0</td>\n",
       "      <td>1</td>\n",
       "      <td>1</td>\n",
       "      <td>...</td>\n",
       "      <td>No Deposit</td>\n",
       "      <td>NaN</td>\n",
       "      <td>NaN</td>\n",
       "      <td>0</td>\n",
       "      <td>Transient</td>\n",
       "      <td>75.0</td>\n",
       "      <td>0</td>\n",
       "      <td>0</td>\n",
       "      <td>Check-Out</td>\n",
       "      <td>7/2/2015</td>\n",
       "    </tr>\n",
       "    <tr>\n",
       "      <th>3</th>\n",
       "      <td>Resort Hotel</td>\n",
       "      <td>0</td>\n",
       "      <td>13</td>\n",
       "      <td>2015</td>\n",
       "      <td>July</td>\n",
       "      <td>27</td>\n",
       "      <td>1</td>\n",
       "      <td>0</td>\n",
       "      <td>1</td>\n",
       "      <td>1</td>\n",
       "      <td>...</td>\n",
       "      <td>No Deposit</td>\n",
       "      <td>304.0</td>\n",
       "      <td>NaN</td>\n",
       "      <td>0</td>\n",
       "      <td>Transient</td>\n",
       "      <td>75.0</td>\n",
       "      <td>0</td>\n",
       "      <td>0</td>\n",
       "      <td>Check-Out</td>\n",
       "      <td>7/2/2015</td>\n",
       "    </tr>\n",
       "    <tr>\n",
       "      <th>4</th>\n",
       "      <td>Resort Hotel</td>\n",
       "      <td>0</td>\n",
       "      <td>14</td>\n",
       "      <td>2015</td>\n",
       "      <td>July</td>\n",
       "      <td>27</td>\n",
       "      <td>1</td>\n",
       "      <td>0</td>\n",
       "      <td>2</td>\n",
       "      <td>2</td>\n",
       "      <td>...</td>\n",
       "      <td>No Deposit</td>\n",
       "      <td>240.0</td>\n",
       "      <td>NaN</td>\n",
       "      <td>0</td>\n",
       "      <td>Transient</td>\n",
       "      <td>98.0</td>\n",
       "      <td>0</td>\n",
       "      <td>1</td>\n",
       "      <td>Check-Out</td>\n",
       "      <td>7/3/2015</td>\n",
       "    </tr>\n",
       "  </tbody>\n",
       "</table>\n",
       "<p>5 rows × 32 columns</p>\n",
       "</div>"
      ],
      "text/plain": [
       "          hotel  is_canceled  lead_time  arrival_date_year arrival_date_month  \\\n",
       "0  Resort Hotel            0        342               2015               July   \n",
       "1  Resort Hotel            0        737               2015               July   \n",
       "2  Resort Hotel            0          7               2015               July   \n",
       "3  Resort Hotel            0         13               2015               July   \n",
       "4  Resort Hotel            0         14               2015               July   \n",
       "\n",
       "   arrival_date_week_number  arrival_date_day_of_month  \\\n",
       "0                        27                          1   \n",
       "1                        27                          1   \n",
       "2                        27                          1   \n",
       "3                        27                          1   \n",
       "4                        27                          1   \n",
       "\n",
       "   stays_in_weekend_nights  stays_in_week_nights  adults  ...  deposit_type  \\\n",
       "0                        0                     0       2  ...    No Deposit   \n",
       "1                        0                     0       2  ...    No Deposit   \n",
       "2                        0                     1       1  ...    No Deposit   \n",
       "3                        0                     1       1  ...    No Deposit   \n",
       "4                        0                     2       2  ...    No Deposit   \n",
       "\n",
       "   agent company days_in_waiting_list customer_type   adr  \\\n",
       "0    NaN     NaN                    0     Transient   0.0   \n",
       "1    NaN     NaN                    0     Transient   0.0   \n",
       "2    NaN     NaN                    0     Transient  75.0   \n",
       "3  304.0     NaN                    0     Transient  75.0   \n",
       "4  240.0     NaN                    0     Transient  98.0   \n",
       "\n",
       "   required_car_parking_spaces  total_of_special_requests  reservation_status  \\\n",
       "0                            0                          0           Check-Out   \n",
       "1                            0                          0           Check-Out   \n",
       "2                            0                          0           Check-Out   \n",
       "3                            0                          0           Check-Out   \n",
       "4                            0                          1           Check-Out   \n",
       "\n",
       "  reservation_status_date  \n",
       "0                7/1/2015  \n",
       "1                7/1/2015  \n",
       "2                7/2/2015  \n",
       "3                7/2/2015  \n",
       "4                7/3/2015  \n",
       "\n",
       "[5 rows x 32 columns]"
      ]
     },
     "metadata": {},
     "output_type": "display_data"
    },
    {
     "data": {
      "text/plain": [
       "(119390, 32)"
      ]
     },
     "metadata": {},
     "output_type": "display_data"
    }
   ],
   "source": [
    "df = pd.read_csv(\"./Datasets/hotel_bookings.csv\")\n",
    "display(df.head(), df.shape)"
   ]
  },
  {
   "cell_type": "markdown",
   "id": "1bd8eee7",
   "metadata": {},
   "source": [
    "### Data Cleaning"
   ]
  },
  {
   "cell_type": "code",
   "execution_count": 3,
   "id": "1cc967a1",
   "metadata": {},
   "outputs": [
    {
     "data": {
      "text/plain": [
       "hotel                                  0\n",
       "is_canceled                            0\n",
       "lead_time                              0\n",
       "arrival_date_year                      0\n",
       "arrival_date_month                     0\n",
       "arrival_date_week_number               0\n",
       "arrival_date_day_of_month              0\n",
       "stays_in_weekend_nights                0\n",
       "stays_in_week_nights                   0\n",
       "adults                                 0\n",
       "children                               4\n",
       "babies                                 0\n",
       "meal                                   0\n",
       "country                              488\n",
       "market_segment                         0\n",
       "distribution_channel                   0\n",
       "is_repeated_guest                      0\n",
       "previous_cancellations                 0\n",
       "previous_bookings_not_canceled         0\n",
       "reserved_room_type                     0\n",
       "assigned_room_type                     0\n",
       "booking_changes                        0\n",
       "deposit_type                           0\n",
       "agent                              16340\n",
       "company                           112593\n",
       "days_in_waiting_list                   0\n",
       "customer_type                          0\n",
       "adr                                    0\n",
       "required_car_parking_spaces            0\n",
       "total_of_special_requests              0\n",
       "reservation_status                     0\n",
       "reservation_status_date                0\n",
       "dtype: int64"
      ]
     },
     "execution_count": 3,
     "metadata": {},
     "output_type": "execute_result"
    }
   ],
   "source": [
    "# Check missing/null data\n",
    "df.isnull().sum()"
   ]
  },
  {
   "cell_type": "markdown",
   "id": "27768651",
   "metadata": {},
   "source": [
    "Dealing with 'Agent', 'Company' and 'Country' null values"
   ]
  },
  {
   "cell_type": "code",
   "execution_count": 5,
   "id": "c1dc8774",
   "metadata": {},
   "outputs": [],
   "source": [
    "# Drop 'Agent' and 'Company' as they hold to many NaN values.\n",
    "df.drop(['agent', 'company'], axis=1,inplace=True)"
   ]
  },
  {
   "cell_type": "code",
   "execution_count": 4,
   "id": "576f0ba6",
   "metadata": {},
   "outputs": [
    {
     "data": {
      "text/plain": [
       "PRT    48590\n",
       "GBR    12129\n",
       "FRA    10415\n",
       "ESP     8568\n",
       "DEU     7287\n",
       "       ...  \n",
       "DJI        1\n",
       "BWA        1\n",
       "HND        1\n",
       "VGB        1\n",
       "NAM        1\n",
       "Name: country, Length: 177, dtype: int64"
      ]
     },
     "execution_count": 4,
     "metadata": {},
     "output_type": "execute_result"
    }
   ],
   "source": [
    "# For 'Country' column, check the most frequent value to fill NaN values.\n",
    "df['country'].value_counts()"
   ]
  },
  {
   "cell_type": "code",
   "execution_count": null,
   "id": "d359749a",
   "metadata": {},
   "outputs": [],
   "source": [
    "# Our most frequent value for 'Country'\n",
    "df['country'].value_counts().index[0]"
   ]
  },
  {
   "cell_type": "code",
   "execution_count": null,
   "id": "fb67857e",
   "metadata": {},
   "outputs": [],
   "source": [
    "# Fill 'Country' NaN values with the most frequent 'Country'\n",
    "df['country'].fillna(df['country'].value_counts().index[0], inplace=True)"
   ]
  },
  {
   "cell_type": "code",
   "execution_count": null,
   "id": "a7902116",
   "metadata": {},
   "outputs": [],
   "source": [
    "# Fill extra NaN with 0\n",
    "df.fillna(0, inplace=True)"
   ]
  },
  {
   "cell_type": "code",
   "execution_count": null,
   "id": "2b5285ea",
   "metadata": {},
   "outputs": [],
   "source": [
    "# Check if there are any remaining NaN values\n",
    "print('Missing values in our df: ', df.isnull().sum().sum())"
   ]
  },
  {
   "cell_type": "markdown",
   "id": "7f014db4",
   "metadata": {},
   "source": [
    "- Irrelevant data"
   ]
  },
  {
   "cell_type": "markdown",
   "id": "668874a2",
   "metadata": {},
   "source": [
    "Adults, Children & Babies cannot be 0 at the same time"
   ]
  },
  {
   "cell_type": "code",
   "execution_count": null,
   "id": "7c5fbfd2",
   "metadata": {},
   "outputs": [],
   "source": [
    "df[df['children']==0].head()"
   ]
  },
  {
   "cell_type": "code",
   "execution_count": null,
   "id": "9190c05d",
   "metadata": {},
   "outputs": [],
   "source": [
    "filter1 = (df['children']==0) & (df['adults']==0) & (df['babies']==0)\n",
    "display(df[filter1].head(), df[filter1].shape)"
   ]
  },
  {
   "cell_type": "code",
   "execution_count": null,
   "id": "89fa097b",
   "metadata": {},
   "outputs": [],
   "source": [
    "# Droping those 180 rows and saving into new dataframe\n",
    "data = df[~filter1]\n",
    "print('Original data shape: ', df.shape)\n",
    "print('New data shape: ', data.shape)"
   ]
  },
  {
   "cell_type": "code",
   "execution_count": null,
   "id": "f55dc0f7",
   "metadata": {},
   "outputs": [],
   "source": []
  },
  {
   "cell_type": "markdown",
   "id": "163b8fc3",
   "metadata": {},
   "source": [
    "### Analyse Demand of Hotels"
   ]
  },
  {
   "cell_type": "markdown",
   "id": "fb7ede8f",
   "metadata": {},
   "source": [
    "Where do the guests come from?"
   ]
  },
  {
   "cell_type": "code",
   "execution_count": null,
   "id": "1f7df0e2",
   "metadata": {},
   "outputs": [],
   "source": [
    "data['is_canceled'].unique()"
   ]
  },
  {
   "cell_type": "markdown",
   "id": "07f8740b",
   "metadata": {},
   "source": [
    "0 is not canceled, 1 means canceled"
   ]
  },
  {
   "cell_type": "code",
   "execution_count": null,
   "id": "d9d4bd0f",
   "metadata": {},
   "outputs": [],
   "source": [
    "# Not canceled data\n",
    "data[data['is_canceled']==0].head()"
   ]
  },
  {
   "cell_type": "code",
   "execution_count": null,
   "id": "295afa11",
   "metadata": {},
   "outputs": [],
   "source": [
    "len_not_canceled = len(data[data['is_canceled']==0])"
   ]
  },
  {
   "cell_type": "code",
   "execution_count": null,
   "id": "0d33024b",
   "metadata": {},
   "outputs": [],
   "source": [
    "# Get % of customers of each country\n",
    "data[data['is_canceled']==0]['country'].value_counts()/len_not_canceled"
   ]
  },
  {
   "cell_type": "code",
   "execution_count": null,
   "id": "9e30e030",
   "metadata": {},
   "outputs": [],
   "source": [
    "country_wise_data = data[data['is_canceled']==0]['country'].value_counts().reset_index()\n",
    "# Modify cols name\n",
    "country_wise_data.columns=['country','no_of_guests']\n",
    "country_wise_data"
   ]
  },
  {
   "cell_type": "code",
   "execution_count": null,
   "id": "64e87dae",
   "metadata": {},
   "outputs": [],
   "source": [
    "# pip install plotly\n",
    "# pip install chart_studio"
   ]
  },
  {
   "cell_type": "code",
   "execution_count": null,
   "id": "227c9d88",
   "metadata": {},
   "outputs": [],
   "source": [
    "import plotly\n",
    "import chart_studio.plotly as py\n",
    "from plotly.offline import download_plotlyjs, init_notebook_mode, plot, iplot\n",
    "init_notebook_mode(connected = True)"
   ]
  },
  {
   "cell_type": "code",
   "execution_count": null,
   "id": "cad2f621",
   "metadata": {},
   "outputs": [],
   "source": [
    "import plotly.express as px"
   ]
  },
  {
   "cell_type": "code",
   "execution_count": null,
   "id": "b562f568",
   "metadata": {},
   "outputs": [],
   "source": [
    "map_guest = px.choropleth(country_wise_data,\n",
    "                          locations=country_wise_data['country'],\n",
    "                          color=country_wise_data['no_of_guests'],\n",
    "                          hover_name = country_wise_data['country'],\n",
    "                          title= 'home country of guests')\n",
    "\n",
    "map_guest.show()"
   ]
  },
  {
   "cell_type": "code",
   "execution_count": null,
   "id": "6d7174ab",
   "metadata": {},
   "outputs": [],
   "source": []
  },
  {
   "cell_type": "markdown",
   "id": "465b3f54",
   "metadata": {},
   "source": [
    "### Analyse Price of Hotel across year"
   ]
  },
  {
   "cell_type": "markdown",
   "id": "955e1e59",
   "metadata": {},
   "source": [
    "How much do guests pay for a room per night?"
   ]
  },
  {
   "cell_type": "markdown",
   "id": "d8158c25",
   "metadata": {},
   "source": [
    "- Avg/Mean (if there is no presence of outliers) Vs Median"
   ]
  },
  {
   "cell_type": "markdown",
   "id": "48631ee4",
   "metadata": {},
   "source": [
    "- Quantiles (q1 to 25h, 50th = Median, q3 to 75th) --> boxplot"
   ]
  },
  {
   "cell_type": "code",
   "execution_count": null,
   "id": "72e41692",
   "metadata": {},
   "outputs": [],
   "source": [
    "# Not canceled bookings\n",
    "data2 = data[data['is_canceled']==0]"
   ]
  },
  {
   "cell_type": "code",
   "execution_count": null,
   "id": "6266ecb5",
   "metadata": {},
   "outputs": [],
   "source": [
    "data2.columns"
   ]
  },
  {
   "cell_type": "code",
   "execution_count": null,
   "id": "6d0487fe",
   "metadata": {},
   "outputs": [],
   "source": [
    "plt.figure(figsize=(12,8))\n",
    "sns.boxplot(x='reserved_room_type',y='adr', hue='hotel',data=data2)\n",
    "plt.title('Price of room per night and person')\n",
    "plt.xlabel('room types')\n",
    "plt.ylabel('price (EUR)')"
   ]
  },
  {
   "cell_type": "code",
   "execution_count": null,
   "id": "a2248fe1",
   "metadata": {},
   "outputs": [],
   "source": [
    "# Upper dots = positive-high outliers\n",
    "# Bottom dots = low outliers\n",
    "# Line innside the box = Median or Q2\n",
    "# Bottom box line = Q1\n",
    "# Bottom top line = Q3\n",
    "# Upper & Down Fence -- aprox 90th and 10th data"
   ]
  },
  {
   "cell_type": "markdown",
   "id": "4994e1bb",
   "metadata": {},
   "source": [
    "City Hotel room type G has the highest median value, whereas it's type H room for Resort Hotel."
   ]
  },
  {
   "cell_type": "code",
   "execution_count": null,
   "id": "70422289",
   "metadata": {},
   "outputs": [],
   "source": []
  },
  {
   "cell_type": "markdown",
   "id": "92e4f182",
   "metadata": {},
   "source": [
    "### Analyse Demand of Hotels"
   ]
  },
  {
   "cell_type": "markdown",
   "id": "dc488bc5",
   "metadata": {},
   "source": [
    "Which are the most busy months?"
   ]
  },
  {
   "cell_type": "code",
   "execution_count": null,
   "id": "966f671d",
   "metadata": {},
   "outputs": [],
   "source": [
    "data['hotel'].unique()"
   ]
  },
  {
   "cell_type": "code",
   "execution_count": null,
   "id": "ce269a44",
   "metadata": {},
   "outputs": [],
   "source": [
    "# Distinct dfs for Resort and City hotel\n",
    "data_resort= data[(data['hotel']=='Resort Hotel')&(data['is_canceled']==0)]\n",
    "data_city= data[(data['hotel']=='City Hotel')&(data['is_canceled']==0)]"
   ]
  },
  {
   "cell_type": "code",
   "execution_count": null,
   "id": "2930518a",
   "metadata": {},
   "outputs": [],
   "source": [
    "print('Resort Hotel data shape: ', data_resort.shape)\n",
    "print('City Hotel data shape: ', data_city.shape)"
   ]
  },
  {
   "cell_type": "code",
   "execution_count": null,
   "id": "58c8ee5a",
   "metadata": {},
   "outputs": [],
   "source": [
    "# Resort\n",
    "rush_resort = data_resort['arrival_date_month'].value_counts().reset_index()\n",
    "rush_resort.columns=['month', 'no_of_guests']\n",
    "\n",
    "# City\n",
    "rush_city = data_city['arrival_date_month'].value_counts().reset_index()\n",
    "rush_city.columns=['month', 'no_of_guests']\n",
    "\n",
    "display(rush_resort, rush_city)"
   ]
  },
  {
   "cell_type": "code",
   "execution_count": null,
   "id": "c8bd7f22",
   "metadata": {},
   "outputs": [],
   "source": [
    "# Merge\n",
    "final_rush = rush_resort.merge(rush_city, on='month')\n",
    "final_rush.columns=['month', 'guests_resort', 'guests_city']\n",
    "final_rush"
   ]
  },
  {
   "cell_type": "code",
   "execution_count": null,
   "id": "058dcd38",
   "metadata": {},
   "outputs": [],
   "source": [
    "# pip install sorted-months-weekdays\n",
    "# pip install sort_dataframeby_monthorweek"
   ]
  },
  {
   "cell_type": "code",
   "execution_count": null,
   "id": "f37d629a",
   "metadata": {},
   "outputs": [],
   "source": [
    "import sort_dataframeby_monthorweek as sd"
   ]
  },
  {
   "cell_type": "code",
   "execution_count": null,
   "id": "e3c5ab8a",
   "metadata": {},
   "outputs": [],
   "source": [
    "final_rush = sd.Sort_Dataframeby_Month(final_rush, 'month')\n",
    "final_rush"
   ]
  },
  {
   "cell_type": "code",
   "execution_count": null,
   "id": "522993aa",
   "metadata": {},
   "outputs": [],
   "source": [
    "final_rush.columns"
   ]
  },
  {
   "cell_type": "code",
   "execution_count": null,
   "id": "2a572956",
   "metadata": {},
   "outputs": [],
   "source": [
    "px.line(data_frame=final_rush,\n",
    "       x='month',\n",
    "       y=['guests_resort', 'guests_city'],\n",
    "       title = 'Number of guests by month')"
   ]
  },
  {
   "cell_type": "code",
   "execution_count": null,
   "id": "febe3c71",
   "metadata": {},
   "outputs": [],
   "source": []
  },
  {
   "cell_type": "markdown",
   "id": "c6aa2ccd",
   "metadata": {},
   "source": [
    "### Which month has the highest avg daily rate (adr)?"
   ]
  },
  {
   "cell_type": "code",
   "execution_count": null,
   "id": "62adc438",
   "metadata": {},
   "outputs": [],
   "source": [
    "data = sd.Sort_Dataframeby_Month(data, 'arrival_date_month')"
   ]
  },
  {
   "cell_type": "code",
   "execution_count": null,
   "id": "5b5e10bb",
   "metadata": {},
   "outputs": [],
   "source": [
    "sns.barplot(x='arrival_date_month', y='adr', data=data, hue='is_canceled')\n",
    "plt.xticks(rotation='vertical')\n",
    "plt.show()"
   ]
  },
  {
   "cell_type": "code",
   "execution_count": null,
   "id": "0ff5a90d",
   "metadata": {},
   "outputs": [],
   "source": [
    "plt.figure(figsize=(12,8))\n",
    "sns.boxplot(x='arrival_date_month', y='adr', data=data, hue='is_canceled')\n",
    "plt.xticks(rotation='vertical')\n",
    "plt.show()"
   ]
  },
  {
   "cell_type": "markdown",
   "id": "d87bbb01",
   "metadata": {},
   "source": [
    "As there is a extreme outlier, let's limit the plot"
   ]
  },
  {
   "cell_type": "code",
   "execution_count": null,
   "id": "b678ee97",
   "metadata": {},
   "outputs": [],
   "source": [
    "plt.figure(figsize=(12,8))\n",
    "sns.boxplot(x='arrival_date_month', y='adr', data=data, hue='is_canceled')\n",
    "plt.xticks(rotation='vertical')\n",
    "plt.ylim(0,800) # new limit\n",
    "plt.show()"
   ]
  },
  {
   "cell_type": "code",
   "execution_count": null,
   "id": "2b3d9ef8",
   "metadata": {},
   "outputs": [],
   "source": []
  },
  {
   "cell_type": "markdown",
   "id": "8cb90ba8",
   "metadata": {},
   "source": [
    "### More Analysis"
   ]
  },
  {
   "cell_type": "markdown",
   "id": "21080558",
   "metadata": {},
   "source": [
    "Analyse wether bookings were made only for weekdays or for weekends or for both?"
   ]
  },
  {
   "cell_type": "code",
   "execution_count": null,
   "id": "836f69c3",
   "metadata": {},
   "outputs": [],
   "source": [
    "pd.crosstab(index=data['stays_in_weekend_nights'],columns=data['stays_in_week_nights'])"
   ]
  },
  {
   "cell_type": "markdown",
   "id": "2a4e902f",
   "metadata": {},
   "source": [
    "Examples:\n",
    "- 16436 guests have stayed 1 weeknight and 0 weekend nights.\n",
    "- 6531 guests have stayed 1 weeknight and 2 weekend nights."
   ]
  },
  {
   "cell_type": "markdown",
   "id": "2d9abc1a",
   "metadata": {},
   "source": [
    "But what about the first cell 645 guests (0 nights) ?"
   ]
  },
  {
   "cell_type": "code",
   "execution_count": null,
   "id": "ec4c797e",
   "metadata": {},
   "outputs": [],
   "source": [
    "def week_function(row):\n",
    "    feature1 = 'stays_in_weekend_nights'\n",
    "    feature2 = 'stays_in_week_nights'\n",
    "    \n",
    "    if row[feature2]== 0 and row[feature1] >0:\n",
    "        return 'stay_just_weekend'\n",
    "    \n",
    "    elif row[feature2] >0 and row[feature1]== 0:\n",
    "        return 'stay_just_weekdays'\n",
    "    \n",
    "    elif row[feature2] >0 and row[feature1] >0:\n",
    "        return 'stay_both_weekdays_weekends'\n",
    "        \n",
    "    else:\n",
    "        return 'undefined_data'"
   ]
  },
  {
   "cell_type": "code",
   "execution_count": null,
   "id": "d7057260",
   "metadata": {},
   "outputs": [],
   "source": [
    "data2['weekend_or_weekday']=data2.apply(week_function, axis=1)\n",
    "data2.head()"
   ]
  },
  {
   "cell_type": "code",
   "execution_count": null,
   "id": "2691f0d5",
   "metadata": {},
   "outputs": [],
   "source": [
    "data2['weekend_or_weekday'].value_counts()"
   ]
  },
  {
   "cell_type": "code",
   "execution_count": null,
   "id": "b8ac90f2",
   "metadata": {},
   "outputs": [],
   "source": [
    "data2 = sd.Sort_Dataframeby_Month(data2,'arrival_date_month')"
   ]
  },
  {
   "cell_type": "code",
   "execution_count": null,
   "id": "6b071163",
   "metadata": {},
   "outputs": [],
   "source": [
    "# Won't be sorted as it's not a df\n",
    "data2.groupby(['arrival_date_month', 'weekend_or_weekday']).size()"
   ]
  },
  {
   "cell_type": "code",
   "execution_count": null,
   "id": "a1df53ab",
   "metadata": {},
   "outputs": [],
   "source": [
    "group_data = data2.groupby(['arrival_date_month', 'weekend_or_weekday']).size().unstack().reset_index()"
   ]
  },
  {
   "cell_type": "code",
   "execution_count": null,
   "id": "e40e994a",
   "metadata": {},
   "outputs": [],
   "source": [
    "sorted_data = sd.Sort_Dataframeby_Month(group_data,'arrival_date_month')\n",
    "sorted_data"
   ]
  },
  {
   "cell_type": "code",
   "execution_count": null,
   "id": "5a9cb0f4",
   "metadata": {},
   "outputs": [],
   "source": [
    "sorted_data.set_index('arrival_date_month', inplace=True)\n",
    "sorted_data"
   ]
  },
  {
   "cell_type": "code",
   "execution_count": null,
   "id": "f6664708",
   "metadata": {},
   "outputs": [],
   "source": [
    "sorted_data.plot(kind='bar', stacked=True, figsize=(15,10))"
   ]
  },
  {
   "cell_type": "code",
   "execution_count": null,
   "id": "201287d1",
   "metadata": {},
   "outputs": [],
   "source": []
  },
  {
   "cell_type": "markdown",
   "id": "29c9993a",
   "metadata": {},
   "source": [
    "### Features for Machine Learning models"
   ]
  },
  {
   "cell_type": "markdown",
   "id": "83d81154",
   "metadata": {},
   "source": [
    "Creating / reduce features to improve our models"
   ]
  },
  {
   "cell_type": "code",
   "execution_count": null,
   "id": "11797800",
   "metadata": {},
   "outputs": [],
   "source": [
    "data2.columns"
   ]
  },
  {
   "cell_type": "markdown",
   "id": "beb55cde",
   "metadata": {},
   "source": [
    "Example: \"family\": \"adults\" & (\"children\" or \"babies\")"
   ]
  },
  {
   "cell_type": "code",
   "execution_count": null,
   "id": "53e39b56",
   "metadata": {},
   "outputs": [],
   "source": [
    "def family(row):\n",
    "    \n",
    "    if(row['adults']>0)& (row['children']>0 or row['babies']>0):\n",
    "        return 1 #if this condition is true: is family\n",
    "    else:\n",
    "        return 0"
   ]
  },
  {
   "cell_type": "code",
   "execution_count": null,
   "id": "3974ae9e",
   "metadata": {},
   "outputs": [],
   "source": [
    "data['is_family'] = data.apply(family, axis=1)"
   ]
  },
  {
   "cell_type": "code",
   "execution_count": null,
   "id": "732d47b5",
   "metadata": {},
   "outputs": [],
   "source": [
    "data['total_customers'] = data['adults'] + data['children'] + data['babies']"
   ]
  },
  {
   "cell_type": "code",
   "execution_count": null,
   "id": "2f8affcf",
   "metadata": {},
   "outputs": [],
   "source": [
    "data['total_nights'] = data['stays_in_week_nights'] + data['stays_in_week_nights']"
   ]
  },
  {
   "cell_type": "code",
   "execution_count": null,
   "id": "5a73daf6",
   "metadata": {},
   "outputs": [],
   "source": [
    "data.head(3)"
   ]
  },
  {
   "cell_type": "markdown",
   "id": "5c0355a8",
   "metadata": {},
   "source": [
    "\"Deposit_type\": if refundable deposit won't exist"
   ]
  },
  {
   "cell_type": "code",
   "execution_count": null,
   "id": "0882fbab",
   "metadata": {},
   "outputs": [],
   "source": [
    "data['deposit_type'].unique()"
   ]
  },
  {
   "cell_type": "code",
   "execution_count": null,
   "id": "f3845605",
   "metadata": {},
   "outputs": [],
   "source": [
    "# Dictionary approach\n",
    "dict1={'No Deposit': 0, 'Non Refund': 1, 'Refundable': 0}"
   ]
  },
  {
   "cell_type": "code",
   "execution_count": null,
   "id": "3d55e247",
   "metadata": {},
   "outputs": [],
   "source": [
    "# Map the dictionary\n",
    "data['deposit_given'] = data['deposit_type'].map(dict1)\n",
    "\n",
    "data['deposit_given']"
   ]
  },
  {
   "cell_type": "code",
   "execution_count": null,
   "id": "2b1e6985",
   "metadata": {},
   "outputs": [],
   "source": [
    "data.columns"
   ]
  },
  {
   "cell_type": "code",
   "execution_count": null,
   "id": "eaf6500b",
   "metadata": {},
   "outputs": [],
   "source": [
    "# Drop columns\n",
    "data.drop(['adults', 'children', 'babies','deposit_type'], axis=1, inplace=True)"
   ]
  },
  {
   "cell_type": "code",
   "execution_count": null,
   "id": "89c57238",
   "metadata": {},
   "outputs": [],
   "source": [
    "data.columns"
   ]
  },
  {
   "cell_type": "code",
   "execution_count": null,
   "id": "d028b546",
   "metadata": {},
   "outputs": [],
   "source": [
    "data.head()"
   ]
  },
  {
   "cell_type": "markdown",
   "id": "0a84acba",
   "metadata": {},
   "source": [
    "### Encoding categorical data"
   ]
  },
  {
   "cell_type": "markdown",
   "id": "8a8b0f1a",
   "metadata": {},
   "source": [
    "Mean encoding: "
   ]
  },
  {
   "cell_type": "code",
   "execution_count": null,
   "id": "02eda5da",
   "metadata": {},
   "outputs": [],
   "source": [
    "# List comprehension to get categorical columns\n",
    "cate_features =[col for col in data.columns if data[col].dtype == 'object']\n",
    "\n",
    "cate_features"
   ]
  },
  {
   "cell_type": "code",
   "execution_count": null,
   "id": "0016b365",
   "metadata": {},
   "outputs": [],
   "source": [
    "data_cat = data[cate_features]\n",
    "data_cat.head()"
   ]
  },
  {
   "cell_type": "code",
   "execution_count": null,
   "id": "b5e87371",
   "metadata": {},
   "outputs": [],
   "source": [
    "# List comprehension to get numerical columns\n",
    "num_features =[col for col in data.columns if data[col].dtype != 'object']\n",
    "\n",
    "data[num_features].head()"
   ]
  },
  {
   "cell_type": "code",
   "execution_count": null,
   "id": "31b0832e",
   "metadata": {},
   "outputs": [],
   "source": [
    "data.groupby(['hotel'])['is_canceled'].mean()"
   ]
  },
  {
   "cell_type": "markdown",
   "id": "0d5f27f7",
   "metadata": {},
   "source": [
    "Mean encoding:\n",
    "\n",
    "For each hotel, if mean < 0.5 means there are more 0 than 1:\n",
    "\n",
    "- City Hotel = count(1) < count(0)\n",
    "- Resort Hotel = count(1) < count(0)\n",
    "\n",
    "Now we can replace values for each corresponding mean."
   ]
  },
  {
   "cell_type": "code",
   "execution_count": null,
   "id": "a7bafbc4",
   "metadata": {},
   "outputs": [],
   "source": [
    "import warnings\n",
    "from warnings import filterwarnings\n",
    "filterwarnings('ignore')"
   ]
  },
  {
   "cell_type": "code",
   "execution_count": null,
   "id": "25c20651",
   "metadata": {},
   "outputs": [],
   "source": [
    "data_cat['cancellation'] = data['is_canceled']"
   ]
  },
  {
   "cell_type": "code",
   "execution_count": null,
   "id": "c55a77d0",
   "metadata": {},
   "outputs": [],
   "source": [
    "data_cat.head()"
   ]
  },
  {
   "cell_type": "code",
   "execution_count": null,
   "id": "fafc19ad",
   "metadata": {},
   "outputs": [],
   "source": [
    "cols=data_cat.columns\n",
    "cols"
   ]
  },
  {
   "cell_type": "code",
   "execution_count": null,
   "id": "d8c67283",
   "metadata": {},
   "outputs": [],
   "source": [
    "# Get all columns but 'cancellation'\n",
    "cols=cols[0:-1]\n",
    "cols"
   ]
  },
  {
   "cell_type": "code",
   "execution_count": null,
   "id": "602eab97",
   "metadata": {},
   "outputs": [],
   "source": [
    "# Apply Mean Encoding (using own code instead of packages)\n",
    "for col in cols:\n",
    "    dict2 = data_cat.groupby([col])['cancellation'].mean().to_dict() # newdict\n",
    "    data_cat[col]= data_cat[col].map(dict2)"
   ]
  },
  {
   "cell_type": "code",
   "execution_count": null,
   "id": "335033f6",
   "metadata": {},
   "outputs": [],
   "source": [
    "data_cat.head()"
   ]
  },
  {
   "cell_type": "markdown",
   "id": "9f01b213",
   "metadata": {},
   "source": [
    "### Handle Outliers"
   ]
  },
  {
   "cell_type": "code",
   "execution_count": null,
   "id": "65e81fc9",
   "metadata": {},
   "outputs": [],
   "source": [
    "data[num_features].head()"
   ]
  },
  {
   "cell_type": "code",
   "execution_count": null,
   "id": "dd015eb6",
   "metadata": {},
   "outputs": [],
   "source": [
    "# Merge cat & num dfs\n",
    "dataframe = pd.concat([data_cat, data[num_features]], axis=1)\n",
    "dataframe"
   ]
  },
  {
   "cell_type": "code",
   "execution_count": null,
   "id": "8a210cd7",
   "metadata": {},
   "outputs": [],
   "source": [
    "# Remove duplicate info: 'is_canceled' and 'cancellations'\n",
    "dataframe.drop(['cancellation'], axis=1, inplace=True)\n",
    "dataframe.shape"
   ]
  },
  {
   "cell_type": "code",
   "execution_count": null,
   "id": "04342145",
   "metadata": {},
   "outputs": [],
   "source": [
    "# Normal Distribution / Gaussian --> Best for ML\n",
    "# Left/Right skeweness --> low/high outliers --> logtransformation"
   ]
  },
  {
   "cell_type": "code",
   "execution_count": null,
   "id": "1b6f0b23",
   "metadata": {},
   "outputs": [],
   "source": [
    "sns.distplot(dataframe['lead_time'])"
   ]
  },
  {
   "cell_type": "code",
   "execution_count": null,
   "id": "90a5fe2d",
   "metadata": {},
   "outputs": [],
   "source": [
    "#log1p (issue with negative values)\n",
    "def handle_outlier(col):\n",
    "    dataframe[col] = np.log1p(dataframe[col])"
   ]
  },
  {
   "cell_type": "code",
   "execution_count": null,
   "id": "a3259826",
   "metadata": {},
   "outputs": [],
   "source": [
    "handle_outlier('lead_time')"
   ]
  },
  {
   "cell_type": "code",
   "execution_count": null,
   "id": "bb6852e4",
   "metadata": {},
   "outputs": [],
   "source": [
    "sns.distplot(dataframe['lead_time'])"
   ]
  },
  {
   "cell_type": "code",
   "execution_count": null,
   "id": "246ba475",
   "metadata": {},
   "outputs": [],
   "source": []
  },
  {
   "cell_type": "code",
   "execution_count": null,
   "id": "252235ea",
   "metadata": {},
   "outputs": [],
   "source": [
    "# ADR\n",
    "sns.distplot(dataframe['adr'])"
   ]
  },
  {
   "cell_type": "code",
   "execution_count": null,
   "id": "73d76b17",
   "metadata": {},
   "outputs": [],
   "source": [
    "# Filter: negative values (adr)\n",
    "dataframe[dataframe['adr']<0]"
   ]
  },
  {
   "cell_type": "code",
   "execution_count": null,
   "id": "39ef916d",
   "metadata": {},
   "outputs": [],
   "source": [
    "# Apply function\n",
    "handle_outlier('adr')"
   ]
  },
  {
   "cell_type": "code",
   "execution_count": null,
   "id": "f9b0241b",
   "metadata": {},
   "outputs": [],
   "source": [
    "# 1 missing value: negative value cannot be handled by a log operation.\n",
    "dataframe['adr'].isnull().sum()"
   ]
  },
  {
   "cell_type": "code",
   "execution_count": null,
   "id": "a87ec60a",
   "metadata": {},
   "outputs": [],
   "source": [
    "# Plot and drop negative value\n",
    "sns.distplot(dataframe['adr'].dropna())"
   ]
  },
  {
   "cell_type": "code",
   "execution_count": null,
   "id": "aaf44d77",
   "metadata": {},
   "outputs": [],
   "source": []
  },
  {
   "cell_type": "markdown",
   "id": "b5f92b02",
   "metadata": {},
   "source": [
    "### Important features using co-relation & univariate analysis"
   ]
  },
  {
   "cell_type": "markdown",
   "id": "d59fefe3",
   "metadata": {},
   "source": [
    "Univariate Distribution Example:\n",
    "    \n",
    "For 'lead_time':\n",
    "\n",
    "    - find distribution when 'is_canceled' == 0\n",
    "    - find distribution when 'is_canceled' == 1\n",
    "    \n",
    "Rule of thumb: the less overlapping between both distributions, the better for ML."
   ]
  },
  {
   "cell_type": "code",
   "execution_count": null,
   "id": "6f45be2e",
   "metadata": {},
   "outputs": [],
   "source": [
    "sns.FacetGrid(data, hue='is_canceled', xlim=(0,500)).map(sns.kdeplot, 'lead_time',shade=True).add_legend()"
   ]
  },
  {
   "cell_type": "markdown",
   "id": "8b9dc869",
   "metadata": {},
   "source": [
    "sns.FacetGrid(data, hue='is_canceled', xlim=(0, 500)):\n",
    "\n",
    "    - data: The input DataFrame or data source.\n",
    "    - hue: Categorical variable in the data that will be used for color-mapping. In this case, it is used to distinguish between different levels of the 'is_canceled' variable.\n",
    "    - xlim: A tuple specifying the limits of the x-axis in the plot. It sets the minimum and maximum values displayed on the x-axis, in this case, from 0 to 500.\n",
    "\n",
    "\n",
    ".map(sns.kdeplot, 'lead_time', shade=True):\n",
    "\n",
    "    - .map(): This function is used to apply the sns.kdeplot function to the data in the FacetGrid.\n",
    "    - sns.kdeplot: This is the kernel density estimation plot function, which estimates the probability density function of a continuous random variable (in this case, 'lead_time').\n",
    "    - 'lead_time': The column name in the data DataFrame that will be plotted on the x-axis.\n",
    "    - shade=True: This parameter enables shading under the KDE curve, creating a filled area that helps visualize the distribution better.\n",
    "    - .add_legend(): This function adds a legend to the plot, which helps interpret the different hues (colors) used to represent the levels of the 'is_canceled' variable.\n",
    "\n",
    "\n",
    "\n",
    "So, the code creates a FacetGrid plot using seaborn, where the 'lead_time' column from the data DataFrame is represented by a kernel density estimation plot. The plot is colored based on the 'is_canceled' variable. The x-axis limits are set from 0 to 500, and the KDE curve is shaded. Finally, a legend is added to explain the colors used for different cancellation levels."
   ]
  },
  {
   "cell_type": "markdown",
   "id": "804c09e6",
   "metadata": {},
   "source": [
    "Up to some extent, this feature will play an important role."
   ]
  },
  {
   "cell_type": "code",
   "execution_count": null,
   "id": "b060ca9b",
   "metadata": {},
   "outputs": [],
   "source": []
  },
  {
   "cell_type": "markdown",
   "id": "c2a303ce",
   "metadata": {},
   "source": [
    "Important features using correlation"
   ]
  },
  {
   "cell_type": "code",
   "execution_count": null,
   "id": "333f954b",
   "metadata": {},
   "outputs": [],
   "source": [
    "corr = dataframe.corr()\n",
    "corr"
   ]
  },
  {
   "cell_type": "code",
   "execution_count": null,
   "id": "08b8651e",
   "metadata": {},
   "outputs": [],
   "source": [
    "corr['is_canceled'].sort_values(ascending=False)"
   ]
  },
  {
   "cell_type": "markdown",
   "id": "0001fe19",
   "metadata": {},
   "source": [
    "Whenever 2 features have a high correlation (close to 1 or -1) we must drop those to avoid overfitting. Same with those who have 0 correlation.\n",
    "\n",
    "    - reservation_status: 1.000\n",
    "    - arrival_date_year: 0.016\n",
    "    - arrival_date_week_number: 0.008\n",
    "    - stays_in_weekend_nights: -0.001\n",
    "    - arrival_date_day_of_month: -0.005\n",
    "    \n",
    "As long as we drop 'reservation_status', we can also drop 'reservation_status_date'.\n",
    "\n",
    "'is_canceled' will be our target feature."
   ]
  },
  {
   "cell_type": "code",
   "execution_count": null,
   "id": "aee036d7",
   "metadata": {},
   "outputs": [],
   "source": [
    "corr['is_canceled'].sort_values(ascending=False).index"
   ]
  },
  {
   "cell_type": "code",
   "execution_count": null,
   "id": "59c63ebb",
   "metadata": {},
   "outputs": [],
   "source": [
    "features_to_drop = ['reservation_status', 'reservation_status_date',\n",
    "                    'arrival_date_year', 'arrival_date_week_number',\n",
    "                    'stays_in_weekend_nights','arrival_date_day_of_month']"
   ]
  },
  {
   "cell_type": "code",
   "execution_count": null,
   "id": "5ddcafe4",
   "metadata": {},
   "outputs": [],
   "source": [
    "dataframe.drop(features_to_drop, axis=1, inplace=True)"
   ]
  },
  {
   "cell_type": "code",
   "execution_count": null,
   "id": "886e9930",
   "metadata": {},
   "outputs": [],
   "source": [
    "# 24 features\n",
    "dataframe.shape"
   ]
  },
  {
   "cell_type": "code",
   "execution_count": null,
   "id": "d584c28a",
   "metadata": {},
   "outputs": [],
   "source": []
  },
  {
   "cell_type": "markdown",
   "id": "77457ae0",
   "metadata": {},
   "source": [
    "### Techniques of Feature Importance (for model building)"
   ]
  },
  {
   "cell_type": "markdown",
   "id": "d3bddfe4",
   "metadata": {},
   "source": [
    "Feature selection"
   ]
  },
  {
   "cell_type": "code",
   "execution_count": null,
   "id": "720c01eb",
   "metadata": {},
   "outputs": [],
   "source": [
    "dataframe.head(2)"
   ]
  },
  {
   "cell_type": "code",
   "execution_count": null,
   "id": "b1756fe9",
   "metadata": {},
   "outputs": [],
   "source": [
    "# Check null values first\n",
    "dataframe.isnull().sum()"
   ]
  },
  {
   "cell_type": "code",
   "execution_count": null,
   "id": "30241d5b",
   "metadata": {},
   "outputs": [],
   "source": [
    "# Drop null values\n",
    "dataframe.dropna(inplace=True)"
   ]
  },
  {
   "cell_type": "code",
   "execution_count": null,
   "id": "cc55a369",
   "metadata": {},
   "outputs": [],
   "source": [
    "# Drop target feature\n",
    "x = dataframe.drop('is_canceled', axis=1) # do not update, 'inplace=True'"
   ]
  },
  {
   "cell_type": "code",
   "execution_count": null,
   "id": "8f69ce2f",
   "metadata": {},
   "outputs": [],
   "source": [
    "y= dataframe['is_canceled']"
   ]
  },
  {
   "cell_type": "code",
   "execution_count": null,
   "id": "abb55355",
   "metadata": {},
   "outputs": [],
   "source": [
    "from sklearn.linear_model import Lasso\n",
    "from sklearn.feature_selection import SelectFromModel"
   ]
  },
  {
   "cell_type": "code",
   "execution_count": null,
   "id": "311ee0a2",
   "metadata": {},
   "outputs": [],
   "source": [
    "# Initialize Lasso\n",
    "## Lasso(alpha=0.005)\n",
    "# penalty paramater (the bigger the alpha value, the less features this model will select)"
   ]
  },
  {
   "cell_type": "code",
   "execution_count": null,
   "id": "672909e3",
   "metadata": {},
   "outputs": [],
   "source": [
    "feature_sel_model = SelectFromModel(Lasso(alpha=0.005))"
   ]
  },
  {
   "cell_type": "code",
   "execution_count": null,
   "id": "9e7b1514",
   "metadata": {},
   "outputs": [],
   "source": [
    "feature_sel_model.fit(x,y)"
   ]
  },
  {
   "cell_type": "code",
   "execution_count": null,
   "id": "f5a1941f",
   "metadata": {},
   "outputs": [],
   "source": [
    "feature_sel_model.get_support()"
   ]
  },
  {
   "cell_type": "markdown",
   "id": "99c9fd29",
   "metadata": {},
   "source": [
    "    - False = not selected\n",
    "    - True = selected"
   ]
  },
  {
   "cell_type": "code",
   "execution_count": null,
   "id": "0f79bd44",
   "metadata": {},
   "outputs": [],
   "source": [
    "cols = x.columns\n",
    "cols"
   ]
  },
  {
   "cell_type": "code",
   "execution_count": null,
   "id": "5dee9d08",
   "metadata": {},
   "outputs": [],
   "source": [
    "# Filter: selected features\n",
    "selected_feature = cols[feature_sel_model.get_support()]\n",
    "selected_feature"
   ]
  },
  {
   "cell_type": "code",
   "execution_count": null,
   "id": "60fd5f4d",
   "metadata": {},
   "outputs": [],
   "source": [
    "x = x[selected_feature]\n",
    "x"
   ]
  },
  {
   "cell_type": "code",
   "execution_count": null,
   "id": "6eb88d8e",
   "metadata": {},
   "outputs": [],
   "source": [
    "# Those features from X will be the ones used to predict 'is_canceled' (y)\n",
    "y"
   ]
  },
  {
   "cell_type": "code",
   "execution_count": null,
   "id": "bd9b2142",
   "metadata": {},
   "outputs": [],
   "source": []
  },
  {
   "cell_type": "markdown",
   "id": "5347310c",
   "metadata": {},
   "source": [
    "### Building Machine Learning Model: Logistic Regression"
   ]
  },
  {
   "cell_type": "markdown",
   "id": "2a4a3a50",
   "metadata": {},
   "source": [
    "Regression, **Classification**, Clustering model\n",
    "\n",
    "\n",
    "For Classification cases:\n",
    "\n",
    "    - Logistic Regression\n",
    "    - Random Forest\n",
    "    - Decision Tree\n",
    "    - KNN\n",
    "    - Boosting"
   ]
  },
  {
   "cell_type": "code",
   "execution_count": null,
   "id": "0d0793b4",
   "metadata": {},
   "outputs": [],
   "source": [
    "from sklearn.model_selection import train_test_split"
   ]
  },
  {
   "cell_type": "code",
   "execution_count": null,
   "id": "a37760e0",
   "metadata": {},
   "outputs": [],
   "source": [
    "X_train, X_test, y_train, y_test = train_test_split(x, y, test_size=0.25)"
   ]
  },
  {
   "cell_type": "code",
   "execution_count": null,
   "id": "50897991",
   "metadata": {},
   "outputs": [],
   "source": [
    "X_train.shape"
   ]
  },
  {
   "cell_type": "code",
   "execution_count": null,
   "id": "29f451f7",
   "metadata": {},
   "outputs": [],
   "source": [
    "from sklearn.linear_model import LogisticRegression"
   ]
  },
  {
   "cell_type": "code",
   "execution_count": null,
   "id": "6bebae60",
   "metadata": {},
   "outputs": [],
   "source": [
    "# Initialize Logistic Regression Model\n",
    "logreg=LogisticRegression()"
   ]
  },
  {
   "cell_type": "code",
   "execution_count": null,
   "id": "10e46eda",
   "metadata": {},
   "outputs": [],
   "source": [
    "# Fit the model with train data\n",
    "logreg.fit(X_train, y_train)"
   ]
  },
  {
   "cell_type": "code",
   "execution_count": null,
   "id": "47eb8bb9",
   "metadata": {},
   "outputs": [],
   "source": [
    "# Predict array\n",
    "pred=logreg.predict(X_test)\n",
    "pred"
   ]
  },
  {
   "cell_type": "markdown",
   "id": "cdf00020",
   "metadata": {},
   "source": [
    "#### Evaluate: Confusion Matrix, Accuracy Score, Classification Report..."
   ]
  },
  {
   "cell_type": "code",
   "execution_count": null,
   "id": "758f0bac",
   "metadata": {},
   "outputs": [],
   "source": [
    "from sklearn.metrics import confusion_matrix, accuracy_score"
   ]
  },
  {
   "cell_type": "code",
   "execution_count": null,
   "id": "baa623b8",
   "metadata": {},
   "outputs": [],
   "source": [
    "# Confusion Matrix\n",
    "confusion_matrix(y_test, pred)"
   ]
  },
  {
   "cell_type": "markdown",
   "id": "4e2817ed",
   "metadata": {},
   "source": [
    "    - Top Left: True Positive\n",
    "    - Top Right: False Positive\n",
    "    - Bottom Left: False Negative\n",
    "    - Bottom Right: True Negative"
   ]
  },
  {
   "cell_type": "code",
   "execution_count": null,
   "id": "0cb5e188",
   "metadata": {},
   "outputs": [],
   "source": [
    "# Accuracy score\n",
    "acsc= accuracy_score(y_test, pred)\n",
    "print('Accuracy score: ', round(acsc,3))"
   ]
  },
  {
   "cell_type": "code",
   "execution_count": null,
   "id": "fca9f77b",
   "metadata": {},
   "outputs": [],
   "source": []
  },
  {
   "cell_type": "markdown",
   "id": "6debddf0",
   "metadata": {},
   "source": [
    "### Cross Validation"
   ]
  },
  {
   "cell_type": "markdown",
   "id": "587990bd",
   "metadata": {},
   "source": [
    "Cross validation increases accuracy (Kfold, GridSearch, RandomizedSearch, Genetic Algo...)"
   ]
  },
  {
   "cell_type": "markdown",
   "id": "bc7a01fa",
   "metadata": {},
   "source": [
    "Example (specific random_state?):\n",
    "    \n",
    "    - Cross Validation (CV) = 5\n",
    "        - CV of data 5 times, imagine 1000 records;\n",
    "            - 1 CV (last 20% of data as test / rest 80% train)\n",
    "            - 2 CV (data from 60 to 80% as test / 0 to 60 and 80 to 100% as train)\n",
    "            - 3 CV (data from 40 to 60% as test / 0 to 40 and 60 to 100% as train)\n",
    "            - 4 CV (data from 20 to 40 as test / 0 to 20 and 40 to 100% as train)\n",
    "            - 5 CV (first 20% of data as test / rest 80% train)\n",
    "\n",
    "Accuracy: \n",
    "    - Mean of {1 CV, 2 CV... 5 CV} --> final accuracy --> Cross Validate"
   ]
  },
  {
   "cell_type": "markdown",
   "id": "db2cd785",
   "metadata": {},
   "source": [
    "ML Algorithm (both reg/class). Ex Random Forest Regressor/Classifier.\n",
    "\n",
    "Parameters (default):\n",
    "\n",
    "    - n_estimators\n",
    "    - max_features\n",
    "    - max_depth\n",
    "    \n",
    "How to optimize our hyperparameters / model?"
   ]
  },
  {
   "cell_type": "markdown",
   "id": "7470608f",
   "metadata": {},
   "source": [
    "GridSearchCV:\n",
    "\n",
    "    - Define Dict:\n",
    "        'n_estimatators' = [100, 200, 300]\n",
    "        'max_features' = ['auto', log2, sqrt]\n",
    "        'max_depth' = [.   ]\n",
    "        \n",
    "    - Then pass the Dict to GridSearchCH()\n",
    "        - It will perfom every and each combination determined in the Dict\n",
    "        - It will return the best model / parameters (highest accuracy)\n",
    "        \n",
    " RandomizedSearchCV:\n",
    " \n",
    "     - It will pick random parameters and check which has higher accuracy"
   ]
  },
  {
   "cell_type": "code",
   "execution_count": null,
   "id": "55a99991",
   "metadata": {},
   "outputs": [],
   "source": [
    "from sklearn.model_selection import cross_val_score"
   ]
  },
  {
   "cell_type": "code",
   "execution_count": null,
   "id": "db3cc694",
   "metadata": {},
   "outputs": [],
   "source": [
    "score = cross_val_score(logreg, x, y, cv=10)\n",
    "score"
   ]
  },
  {
   "cell_type": "code",
   "execution_count": null,
   "id": "a923990c",
   "metadata": {},
   "outputs": [],
   "source": [
    "score.mean()"
   ]
  },
  {
   "cell_type": "markdown",
   "id": "27349885",
   "metadata": {},
   "source": [
    "Decision Tree:\n",
    "\n",
    "    - From the decision tree, which feature will be selected as the main \"road\"\n",
    "    - Entropy, Information Gain\n",
    "    - Gini (?) Index, Impurity\n",
    "    - Pre-prunny & Post --> if overfitting, high accuracy in Train data, low in Test Data\n",
    " \n",
    "Entropy:\n",
    "\n",
    "    - How random the data is?\n",
    "    - Probability of occurence\n",
    "    - Impurity\n",
    "    \n",
    "Information gain:\n",
    "\n",
    "    - Based on entropy, which feature will provide the highest info gain (parent node)?\n",
    "    \n",
    "Gini (Impurity) Index:\n",
    "\n",
    "    - ..."
   ]
  },
  {
   "cell_type": "markdown",
   "id": "4696c0db",
   "metadata": {},
   "source": [
    "### Applying multiple algorithms and check on accuracy"
   ]
  },
  {
   "cell_type": "code",
   "execution_count": null,
   "id": "68dae324",
   "metadata": {},
   "outputs": [],
   "source": [
    "score.mean()"
   ]
  },
  {
   "cell_type": "code",
   "execution_count": null,
   "id": "bb586416",
   "metadata": {},
   "outputs": [],
   "source": [
    "from sklearn.naive_bayes import GaussianNB\n",
    "from sklearn.linear_model import LogisticRegression\n",
    "from sklearn.neighbors import KNeighborsClassifier\n",
    "from sklearn.ensemble import RandomForestClassifier\n",
    "from sklearn.tree import DecisionTreeClassifier"
   ]
  },
  {
   "cell_type": "code",
   "execution_count": null,
   "id": "54182e6e",
   "metadata": {},
   "outputs": [],
   "source": [
    "models = []\n",
    "models.append(('Logistic Regression', LogisticRegression()))  # 2nd to initialize\n",
    "models.append(('Naive bayes', GaussianNB()))  \n",
    "models.append(('Random Forest', RandomForestClassifier()))  \n",
    "models.append(('Decision Tree', DecisionTreeClassifier())) \n",
    "models.append(('KNN', KNeighborsClassifier()))"
   ]
  },
  {
   "cell_type": "code",
   "execution_count": null,
   "id": "88682d99",
   "metadata": {},
   "outputs": [],
   "source": [
    "models"
   ]
  },
  {
   "cell_type": "code",
   "execution_count": null,
   "id": "5526dc76",
   "metadata": {},
   "outputs": [],
   "source": [
    "for name, model in models:\n",
    "    print(name)\n",
    "    model.fit(X_train, y_train) # fit models\n",
    "    \n",
    "    predictions = model.predict(X_test) # prediciton\n",
    "    \n",
    "    from sklearn.metrics import confusion_matrix, accuracy_score\n",
    "    print(confusion_matrix(predictions, y_test))\n",
    "    print('\\n')\n",
    "    print(accuracy_score(predictions, y_test))\n",
    "    print('\\n')"
   ]
  },
  {
   "cell_type": "code",
   "execution_count": null,
   "id": "9347e273",
   "metadata": {},
   "outputs": [],
   "source": [
    "results = []\n",
    "\n",
    "for name, model in models:\n",
    "    model.fit(X_train, y_train)  # fit model\n",
    "    predictions = model.predict(X_test)  # prediction\n",
    "    tn, fp, fn, tp = confusion_matrix(y_test, predictions).ravel()\n",
    "    accuracy = accuracy_score(y_test, predictions)\n",
    "\n",
    "    results.append([name, tp, fp, fn, tn, accuracy])\n",
    "\n",
    "# Creating a DataFrame from the results list\n",
    "columns = ['Model', 'True Positive', 'False Positive', 'False Negative', 'True Negative', 'Accuracy Score']\n",
    "results_df = pd.DataFrame(results, columns=columns)\n",
    "\n",
    "results_df"
   ]
  },
  {
   "cell_type": "code",
   "execution_count": null,
   "id": "05ac5588",
   "metadata": {},
   "outputs": [],
   "source": [
    "results = []\n",
    "\n",
    "for name, model in models:\n",
    "    model.fit(X_train, y_train)  # fit model\n",
    "    predictions = model.predict(X_test)  # prediction\n",
    "    tn, fp, fn, tp = confusion_matrix(y_test, predictions).ravel()\n",
    "    accuracy = accuracy_score(y_test, predictions)\n",
    "\n",
    "    results.append([name, tp, fp, fn, tn, accuracy])\n",
    "\n",
    "# Creating a DataFrame from the results list\n",
    "columns = ['Model', 'True Positive', 'False Positive', 'False Negative', 'True Negative', 'Accuracy Score']\n",
    "results_df = pd.DataFrame(results, columns=columns)\n",
    "\n",
    "# Find the row with the highest accuracy\n",
    "highest_accuracy_row = results_df.loc[results_df['Accuracy Score'].idxmax()]\n",
    "\n",
    "# Apply styling to highlight the row with the highest accuracy\n",
    "highlighted_results_df = results_df.style.apply(lambda row: ['background: purple' if row.equals(highest_accuracy_row) else '' for v in row], axis=1)\n",
    "\n",
    "highlighted_results_df"
   ]
  },
  {
   "cell_type": "code",
   "execution_count": null,
   "id": "e2897a1b",
   "metadata": {},
   "outputs": [],
   "source": []
  },
  {
   "cell_type": "code",
   "execution_count": null,
   "id": "18cef439",
   "metadata": {},
   "outputs": [],
   "source": []
  }
 ],
 "metadata": {
  "kernelspec": {
   "display_name": "Python 3 (ipykernel)",
   "language": "python",
   "name": "python3"
  },
  "language_info": {
   "codemirror_mode": {
    "name": "ipython",
    "version": 3
   },
   "file_extension": ".py",
   "mimetype": "text/x-python",
   "name": "python",
   "nbconvert_exporter": "python",
   "pygments_lexer": "ipython3",
   "version": "3.9.13"
  }
 },
 "nbformat": 4,
 "nbformat_minor": 5
}
